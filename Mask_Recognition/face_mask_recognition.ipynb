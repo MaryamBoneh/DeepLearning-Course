{
  "nbformat": 4,
  "nbformat_minor": 0,
  "metadata": {
    "colab": {
      "name": "face-mask-recognition.ipynb",
      "provenance": []
    },
    "kernelspec": {
      "name": "python3",
      "display_name": "Python 3"
    },
    "language_info": {
      "name": "python"
    },
    "accelerator": "GPU"
  },
  "cells": [
    {
      "cell_type": "code",
      "metadata": {
        "id": "kSNpXSpkdpP3"
      },
      "source": [
        "!pip install kaggle"
      ],
      "execution_count": null,
      "outputs": []
    },
    {
      "cell_type": "code",
      "metadata": {
        "id": "-rVTO3ylktzC"
      },
      "source": [
        "!pip3 install wandb"
      ],
      "execution_count": null,
      "outputs": []
    },
    {
      "cell_type": "code",
      "metadata": {
        "id": "XBsT9h-1d5dt"
      },
      "source": [
        "!mkdir ~/.kaggle\n",
        "!cp kaggle.json ~/.kaggle"
      ],
      "execution_count": null,
      "outputs": []
    },
    {
      "cell_type": "code",
      "metadata": {
        "colab": {
          "base_uri": "https://localhost:8080/"
        },
        "id": "OJITp9QhfIYo",
        "outputId": "0ae54ba0-555a-46aa-931c-d35769600d5f"
      },
      "source": [
        "!kaggle datasets download -d ashishjangra27/face-mask-12k-images-dataset"
      ],
      "execution_count": 8,
      "outputs": [
        {
          "output_type": "stream",
          "name": "stdout",
          "text": [
            "Warning: Your Kaggle API key is readable by other users on this system! To fix this, you can run 'chmod 600 /root/.kaggle/kaggle.json'\n",
            "Downloading face-mask-12k-images-dataset.zip to /content\n",
            " 98% 325M/330M [00:02<00:00, 141MB/s]\n",
            "100% 330M/330M [00:02<00:00, 147MB/s]\n"
          ]
        }
      ]
    },
    {
      "cell_type": "code",
      "metadata": {
        "id": "iVnwpVK8g6IV"
      },
      "source": [
        "!unzip -qq face-mask-12k-images-dataset.zip"
      ],
      "execution_count": 9,
      "outputs": []
    },
    {
      "cell_type": "code",
      "metadata": {
        "id": "y4UvYHeSja0E"
      },
      "source": [
        "import wandb\n",
        "import numpy as np\n",
        "import cv2\n",
        "import tensorflow as tf\n",
        "from wandb.keras import WandbCallback\n",
        "from tensorflow.keras.preprocessing.image import ImageDataGenerator\n",
        "from matplotlib import pyplot as plt\n",
        "from tensorflow.keras.layers import Dense, MaxPool2D, Conv2D, Flatten, BatchNormalization, MaxPooling2D, Dropout\n",
        "from tensorflow.keras.optimizers import SGD, Adam\n",
        "from sklearn.metrics import classification_report, confusion_matrix"
      ],
      "execution_count": 10,
      "outputs": []
    },
    {
      "cell_type": "code",
      "metadata": {
        "id": "pjt7f37WeJo0"
      },
      "source": [
        "wandb.init(project='face-mask-recognition')"
      ],
      "execution_count": null,
      "outputs": []
    },
    {
      "cell_type": "code",
      "metadata": {
        "id": "LCB1QV0mlto0"
      },
      "source": [
        "batch_size = 256\n",
        "lr = 0.001\n",
        "epoch = 40\n",
        "width = height = 64"
      ],
      "execution_count": 13,
      "outputs": []
    },
    {
      "cell_type": "code",
      "metadata": {
        "colab": {
          "base_uri": "https://localhost:8080/"
        },
        "id": "92cGa_ztkvDB",
        "outputId": "19e812d0-fede-47ee-f587-611b9b7a1a3f"
      },
      "source": [
        "data_generator = ImageDataGenerator(\n",
        "                                  rescale = 1 / 255,\n",
        "                                  horizontal_flip = True\n",
        "                                  )\n",
        "\n",
        "train_data = data_generator.flow_from_directory(\"Face Mask Dataset/Train/\",\n",
        "                                                    target_size = (width, height),\n",
        "                                                    class_mode = 'categorical',\n",
        "                                                    batch_size = batch_size,\n",
        "                                                    shuffle = True\n",
        "                                                    )\n",
        "\n",
        "val_data = data_generator.flow_from_directory(\"Face Mask Dataset/Validation/\",\n",
        "                                                    target_size = (width, height),\n",
        "                                                    class_mode = 'categorical',\n",
        "                                                    batch_size = batch_size,\n",
        "                                                    shuffle = True\n",
        "                                                    )\n",
        "\n",
        "test_data = data_generator.flow_from_directory(\"Face Mask Dataset/Test/\",\n",
        "                                                    target_size = (width, height),\n",
        "                                                    class_mode = 'categorical',\n",
        "                                                    batch_size = batch_size,\n",
        "                                                    shuffle = True\n",
        "                                                    )"
      ],
      "execution_count": 14,
      "outputs": [
        {
          "output_type": "stream",
          "name": "stdout",
          "text": [
            "Found 10000 images belonging to 2 classes.\n",
            "Found 800 images belonging to 2 classes.\n",
            "Found 992 images belonging to 2 classes.\n"
          ]
        }
      ]
    },
    {
      "cell_type": "code",
      "metadata": {
        "id": "N4yiM0adnSFP"
      },
      "source": [
        "model = tf.keras.models.Sequential([\n",
        "\n",
        "    Conv2D(96, (11, 11), activation= 'relu', input_shape = (width, height, 3)),\n",
        "    BatchNormalization(),\n",
        "    MaxPooling2D(2),\n",
        "\n",
        "\n",
        "    Conv2D(256, (11, 11), strides=(1, 1), activation= 'relu', padding= 'same'),\n",
        "    BatchNormalization(),\n",
        "\n",
        "\n",
        "    Conv2D(384, (3, 3), strides=(1, 1), activation= 'relu', padding= 'same'),\n",
        "    BatchNormalization(),\n",
        "\n",
        "\n",
        "    Conv2D(384, (3, 3), strides=(1, 1), activation= 'relu', padding= 'same'),\n",
        "    BatchNormalization(),\n",
        "\n",
        "\n",
        "    Conv2D(256, (3, 3), strides=(1, 1), activation= 'relu', padding= 'same'),\n",
        "    BatchNormalization(),\n",
        "    MaxPooling2D(2, strides= (2, 2)),\n",
        "\n",
        "\n",
        "    Flatten(),\n",
        "\n",
        "\n",
        "    Dense(4096, activation= 'relu'),\n",
        "    Dropout(0.5),\n",
        "\n",
        "\n",
        "    Dense(4096, activation= 'relu'),\n",
        "    Dropout(0.5),\n",
        "\n",
        "\n",
        "    Dense(1, activation='sigmoid')                          \n",
        "])"
      ],
      "execution_count": null,
      "outputs": []
    },
    {
      "cell_type": "code",
      "metadata": {
        "id": "jXmcSwigCitO",
        "colab": {
          "base_uri": "https://localhost:8080/"
        },
        "outputId": "ac0cdac8-8e4a-4423-fe5d-827d8a8b7875"
      },
      "source": [
        "base_model = tf.keras.applications.ResNet50V2(\n",
        "    input_shape=(width, height, 3),\n",
        "    include_top = False,\n",
        "    weights = 'imagenet',\n",
        "    pooling = 'max'\n",
        "    )"
      ],
      "execution_count": 15,
      "outputs": [
        {
          "output_type": "stream",
          "name": "stdout",
          "text": [
            "Downloading data from https://storage.googleapis.com/tensorflow/keras-applications/resnet/resnet50v2_weights_tf_dim_ordering_tf_kernels_notop.h5\n",
            "94674944/94668760 [==============================] - 1s 0us/step\n",
            "94683136/94668760 [==============================] - 1s 0us/step\n"
          ]
        }
      ]
    },
    {
      "cell_type": "code",
      "metadata": {
        "id": "Bxr5_GmKDxKb"
      },
      "source": [
        "for layer in base_model.layers[:-8]:\n",
        "  layer.trainable = False"
      ],
      "execution_count": 16,
      "outputs": []
    },
    {
      "cell_type": "code",
      "metadata": {
        "id": "Uu1YUukrD0jn"
      },
      "source": [
        "model = tf.keras.models.Sequential([\n",
        "    base_model,\n",
        "    Dense(2, activation='softmax')                          \n",
        "])"
      ],
      "execution_count": 17,
      "outputs": []
    },
    {
      "cell_type": "code",
      "metadata": {
        "id": "JLwF7CtRfTu5"
      },
      "source": [
        "model.compile(optimizer = tf.keras.optimizers.SGD(),\n",
        "              loss = tf.keras.losses.categorical_crossentropy,\n",
        "              metrics='accuracy')"
      ],
      "execution_count": 18,
      "outputs": []
    },
    {
      "cell_type": "code",
      "metadata": {
        "id": "UUXx9JHetmr3",
        "colab": {
          "base_uri": "https://localhost:8080/"
        },
        "outputId": "96cee614-5490-4651-803b-e688dc0df6b6"
      },
      "source": [
        "model.fit(train_data,\n",
        "          steps_per_epoch = train_data.samples / batch_size,\n",
        "          validation_data = val_data,\n",
        "          validation_steps = val_data.samples / batch_size,\n",
        "          epochs = 10,\n",
        "          callbacks = [WandbCallback()]\n",
        ")"
      ],
      "execution_count": 19,
      "outputs": [
        {
          "output_type": "stream",
          "name": "stdout",
          "text": [
            "Epoch 1/10\n",
            "39/39 [==============================] - 57s 490ms/step - loss: 0.1109 - accuracy: 0.9633 - val_loss: 0.0607 - val_accuracy: 0.9800\n"
          ]
        },
        {
          "output_type": "stream",
          "name": "stderr",
          "text": [
            "/usr/local/lib/python3.7/dist-packages/keras/utils/generic_utils.py:497: CustomMaskWarning: Custom mask layers require a config and must override get_config. When loading, the custom mask layer must be passed to the custom_objects argument.\n",
            "  category=CustomMaskWarning)\n"
          ]
        },
        {
          "output_type": "stream",
          "name": "stdout",
          "text": [
            "Epoch 2/10\n",
            "39/39 [==============================] - 18s 447ms/step - loss: 0.0247 - accuracy: 0.9922 - val_loss: 0.0413 - val_accuracy: 0.9900\n",
            "Epoch 3/10\n",
            "39/39 [==============================] - 17s 436ms/step - loss: 0.0175 - accuracy: 0.9960 - val_loss: 0.0305 - val_accuracy: 0.9925\n",
            "Epoch 4/10\n",
            "39/39 [==============================] - 17s 437ms/step - loss: 0.0095 - accuracy: 0.9980 - val_loss: 0.0369 - val_accuracy: 0.9912\n",
            "Epoch 5/10\n",
            "39/39 [==============================] - 17s 429ms/step - loss: 0.0062 - accuracy: 0.9983 - val_loss: 0.0380 - val_accuracy: 0.9900\n",
            "Epoch 6/10\n",
            "39/39 [==============================] - 17s 429ms/step - loss: 0.0050 - accuracy: 0.9990 - val_loss: 0.0346 - val_accuracy: 0.9925\n",
            "Epoch 7/10\n",
            "39/39 [==============================] - 17s 428ms/step - loss: 0.0031 - accuracy: 0.9995 - val_loss: 0.0396 - val_accuracy: 0.9912\n",
            "Epoch 8/10\n",
            "39/39 [==============================] - 17s 433ms/step - loss: 0.0025 - accuracy: 0.9999 - val_loss: 0.0347 - val_accuracy: 0.9925\n",
            "Epoch 9/10\n",
            "39/39 [==============================] - 17s 430ms/step - loss: 0.0029 - accuracy: 0.9996 - val_loss: 0.0331 - val_accuracy: 0.9912\n",
            "Epoch 10/10\n",
            "39/39 [==============================] - 17s 429ms/step - loss: 0.0018 - accuracy: 1.0000 - val_loss: 0.0316 - val_accuracy: 0.9950\n"
          ]
        },
        {
          "output_type": "execute_result",
          "data": {
            "text/plain": [
              "<keras.callbacks.History at 0x7f71edec1750>"
            ]
          },
          "metadata": {},
          "execution_count": 19
        }
      ]
    },
    {
      "cell_type": "code",
      "metadata": {
        "id": "bIO1BHg0fNLU",
        "colab": {
          "base_uri": "https://localhost:8080/"
        },
        "outputId": "969fab40-e3fd-40a6-ba11-967727c18ee5"
      },
      "source": [
        "model.save('/content/drive/MyDrive/facemask_model_resnet.h5')"
      ],
      "execution_count": 20,
      "outputs": [
        {
          "output_type": "stream",
          "name": "stderr",
          "text": [
            "/usr/local/lib/python3.7/dist-packages/keras/utils/generic_utils.py:497: CustomMaskWarning: Custom mask layers require a config and must override get_config. When loading, the custom mask layer must be passed to the custom_objects argument.\n",
            "  category=CustomMaskWarning)\n"
          ]
        }
      ]
    },
    {
      "cell_type": "code",
      "metadata": {
        "id": "PgDmqAIWhFK_",
        "colab": {
          "base_uri": "https://localhost:8080/"
        },
        "outputId": "ac112132-76b6-4361-f452-54669353ba0a"
      },
      "source": [
        "Y_pred = model.predict(test_data)\n",
        "y_pred = np.argmax(Y_pred, axis= 1)\n",
        "\n",
        "print(confusion_matrix(test_data.classes, y_pred))\n",
        "targets = set(test_data.class_indices.keys())\n",
        "print('classification_report:')\n",
        "print(classification_report(test_data.classes, y_pred, target_names= targets))"
      ],
      "execution_count": 21,
      "outputs": [
        {
          "output_type": "stream",
          "name": "stdout",
          "text": [
            "[[229 254]\n",
            " [257 252]]\n",
            "classification_report:\n",
            "              precision    recall  f1-score   support\n",
            "\n",
            " WithoutMask       0.47      0.47      0.47       483\n",
            "    WithMask       0.50      0.50      0.50       509\n",
            "\n",
            "    accuracy                           0.48       992\n",
            "   macro avg       0.48      0.48      0.48       992\n",
            "weighted avg       0.48      0.48      0.48       992\n",
            "\n"
          ]
        }
      ]
    }
  ]
}