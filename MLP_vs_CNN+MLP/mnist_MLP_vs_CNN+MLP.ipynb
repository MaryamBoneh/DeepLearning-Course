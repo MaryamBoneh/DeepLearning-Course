{
  "nbformat": 4,
  "nbformat_minor": 0,
  "metadata": {
    "colab": {
      "name": "mnist_MLP_vs_CNN+MLP.ipynb",
      "provenance": [],
      "collapsed_sections": []
    },
    "kernelspec": {
      "name": "python3",
      "display_name": "Python 3"
    },
    "language_info": {
      "name": "python"
    },
    "accelerator": "GPU"
  },
  "cells": [
    {
      "cell_type": "code",
      "metadata": {
        "id": "cXxigQzD0sJM"
      },
      "source": [
        "import tensorflow as tf\n",
        "from tensorflow.keras.layers import Dense, Conv2D, Flatten, MaxPool2D, MaxPooling2D\n",
        "import numpy as np\n",
        "import matplotlib.pyplot as plt"
      ],
      "execution_count": 1,
      "outputs": []
    },
    {
      "cell_type": "markdown",
      "metadata": {
        "id": "lCaB8HrH2Fru"
      },
      "source": [
        "## Load Datasets"
      ]
    },
    {
      "cell_type": "code",
      "metadata": {
        "id": "JrNzQKy51CA6"
      },
      "source": [
        "mnist_dataset = tf.keras.datasets.mnist"
      ],
      "execution_count": 2,
      "outputs": []
    },
    {
      "cell_type": "markdown",
      "metadata": {
        "id": "bHXw80dN2oAl"
      },
      "source": [
        "##-------------------------------------------- mnist --------------------------------------------"
      ]
    },
    {
      "cell_type": "code",
      "metadata": {
        "colab": {
          "base_uri": "https://localhost:8080/"
        },
        "id": "rWIy2pU01udT",
        "outputId": "23f3e2c2-f34b-4a48-e5fe-ae8dcabd6a33"
      },
      "source": [
        "(X_train, Y_train), (X_test, Y_test) = mnist_dataset.load_data()\n",
        "c = len(np.unique(Y_train))\n",
        "c "
      ],
      "execution_count": 3,
      "outputs": [
        {
          "output_type": "stream",
          "name": "stdout",
          "text": [
            "Downloading data from https://storage.googleapis.com/tensorflow/tf-keras-datasets/mnist.npz\n",
            "11493376/11490434 [==============================] - 0s 0us/step\n",
            "11501568/11490434 [==============================] - 0s 0us/step\n"
          ]
        },
        {
          "output_type": "execute_result",
          "data": {
            "text/plain": [
              "10"
            ]
          },
          "metadata": {},
          "execution_count": 3
        }
      ]
    },
    {
      "cell_type": "code",
      "metadata": {
        "id": "VckgdpZo_wXa"
      },
      "source": [
        "X_train, X_test = X_train / 255.0, X_test / 255.0\n",
        "\n",
        "X_train = X_train.reshape(X_train.shape[0], X_train.shape[1], X_train.shape[2], 1)\n",
        "X_test = X_test.reshape(X_test.shape[0], X_test.shape[1], X_test.shape[2], 1)"
      ],
      "execution_count": 4,
      "outputs": []
    },
    {
      "cell_type": "code",
      "metadata": {
        "id": "zLYzyfsr8Z0n"
      },
      "source": [
        "model = tf.keras.models.Sequential([\n",
        "         Conv2D(32, (3, 3), input_shape = (28, 28, 1), activation='relu'),\n",
        "         MaxPooling2D((2, 2)),\n",
        "         Flatten(),\n",
        "         Dense(64, activation='relu'),\n",
        "         Dense(10, activation='softmax')                          \n",
        "])"
      ],
      "execution_count": 5,
      "outputs": []
    },
    {
      "cell_type": "code",
      "metadata": {
        "id": "27WXaQuk9s5g"
      },
      "source": [
        "model.compile(optimizer = tf.keras.optimizers.Adam(),\n",
        "              loss = tf.keras.losses.sparse_categorical_crossentropy,\n",
        "              metrics=['accuracy'])"
      ],
      "execution_count": 6,
      "outputs": []
    },
    {
      "cell_type": "code",
      "metadata": {
        "colab": {
          "base_uri": "https://localhost:8080/"
        },
        "id": "vc7tyBYl9x59",
        "outputId": "c3a4d032-2044-40a2-f63a-2979947481cf"
      },
      "source": [
        "model.fit(X_train, Y_train, epochs = 15)"
      ],
      "execution_count": 7,
      "outputs": [
        {
          "output_type": "stream",
          "name": "stdout",
          "text": [
            "Epoch 1/15\n",
            "1875/1875 [==============================] - 39s 4ms/step - loss: 0.1641 - accuracy: 0.9525\n",
            "Epoch 2/15\n",
            "1875/1875 [==============================] - 7s 4ms/step - loss: 0.0563 - accuracy: 0.9829\n",
            "Epoch 3/15\n",
            "1875/1875 [==============================] - 7s 4ms/step - loss: 0.0382 - accuracy: 0.9881\n",
            "Epoch 4/15\n",
            "1875/1875 [==============================] - 7s 4ms/step - loss: 0.0273 - accuracy: 0.9913\n",
            "Epoch 5/15\n",
            "1875/1875 [==============================] - 7s 4ms/step - loss: 0.0189 - accuracy: 0.9940\n",
            "Epoch 6/15\n",
            "1875/1875 [==============================] - 7s 4ms/step - loss: 0.0147 - accuracy: 0.9951\n",
            "Epoch 7/15\n",
            "1875/1875 [==============================] - 7s 4ms/step - loss: 0.0096 - accuracy: 0.9970\n",
            "Epoch 8/15\n",
            "1875/1875 [==============================] - 7s 4ms/step - loss: 0.0086 - accuracy: 0.9973\n",
            "Epoch 9/15\n",
            "1875/1875 [==============================] - 7s 4ms/step - loss: 0.0070 - accuracy: 0.9977\n",
            "Epoch 10/15\n",
            "1875/1875 [==============================] - 7s 4ms/step - loss: 0.0057 - accuracy: 0.9981\n",
            "Epoch 11/15\n",
            "1875/1875 [==============================] - 7s 4ms/step - loss: 0.0053 - accuracy: 0.9982\n",
            "Epoch 12/15\n",
            "1875/1875 [==============================] - 7s 4ms/step - loss: 0.0040 - accuracy: 0.9988\n",
            "Epoch 13/15\n",
            "1875/1875 [==============================] - 7s 4ms/step - loss: 0.0040 - accuracy: 0.9985\n",
            "Epoch 14/15\n",
            "1875/1875 [==============================] - 7s 4ms/step - loss: 0.0035 - accuracy: 0.9990\n",
            "Epoch 15/15\n",
            "1875/1875 [==============================] - 7s 4ms/step - loss: 0.0039 - accuracy: 0.9986\n"
          ]
        },
        {
          "output_type": "execute_result",
          "data": {
            "text/plain": [
              "<keras.callbacks.History at 0x7f0bd070b350>"
            ]
          },
          "metadata": {},
          "execution_count": 7
        }
      ]
    },
    {
      "cell_type": "code",
      "metadata": {
        "colab": {
          "base_uri": "https://localhost:8080/"
        },
        "id": "vjNuUMF56ffc",
        "outputId": "d0c7ce87-6624-401a-ebdb-bde3d2764985"
      },
      "source": [
        "print(X_train.shape, Y_train.shape, X_test.shape, Y_test.shape)\n",
        "X_train = X_train.reshape(60000,784)\n",
        "X_test = X_test.reshape(10000,784)\n",
        "print(X_train.shape)"
      ],
      "execution_count": 10,
      "outputs": [
        {
          "output_type": "stream",
          "name": "stdout",
          "text": [
            "(60000, 784) (60000,) (10000, 28, 28, 1) (10000,)\n",
            "(60000, 784)\n"
          ]
        }
      ]
    },
    {
      "cell_type": "code",
      "metadata": {
        "id": "k4X7rJIP2kFt"
      },
      "source": [
        "model = tf.keras.models.Sequential([\n",
        "        Dense(64, input_dim = X_train.shape[1], activation='relu'),\n",
        "        Dense(32, activation='relu'),\n",
        "        Dense(10, activation='softmax'),\n",
        "])"
      ],
      "execution_count": 11,
      "outputs": []
    },
    {
      "cell_type": "code",
      "metadata": {
        "id": "X7j2cB4G5Qhd"
      },
      "source": [
        "model.compile(optimizer=tf.keras.optimizers.Adam(),\n",
        "              loss = tf.keras.losses.sparse_categorical_crossentropy,\n",
        "              metrics = ['accuracy'])\n"
      ],
      "execution_count": 12,
      "outputs": []
    },
    {
      "cell_type": "code",
      "metadata": {
        "colab": {
          "base_uri": "https://localhost:8080/"
        },
        "id": "DKd3Tirk5g-4",
        "outputId": "b4c5c930-ae67-4a0c-b91b-1b164f9b104e"
      },
      "source": [
        "model.fit(X_train, Y_train, epochs = 16)"
      ],
      "execution_count": 13,
      "outputs": [
        {
          "output_type": "stream",
          "name": "stdout",
          "text": [
            "Epoch 1/16\n",
            "1875/1875 [==============================] - 5s 3ms/step - loss: 0.2873 - accuracy: 0.9168\n",
            "Epoch 2/16\n",
            "1875/1875 [==============================] - 5s 2ms/step - loss: 0.1313 - accuracy: 0.9603\n",
            "Epoch 3/16\n",
            "1875/1875 [==============================] - 5s 3ms/step - loss: 0.0935 - accuracy: 0.9712\n",
            "Epoch 4/16\n",
            "1875/1875 [==============================] - 5s 2ms/step - loss: 0.0720 - accuracy: 0.9776\n",
            "Epoch 5/16\n",
            "1875/1875 [==============================] - 4s 2ms/step - loss: 0.0590 - accuracy: 0.9817\n",
            "Epoch 6/16\n",
            "1875/1875 [==============================] - 5s 2ms/step - loss: 0.0510 - accuracy: 0.9839\n",
            "Epoch 7/16\n",
            "1875/1875 [==============================] - 5s 2ms/step - loss: 0.0422 - accuracy: 0.9866\n",
            "Epoch 8/16\n",
            "1875/1875 [==============================] - 5s 2ms/step - loss: 0.0362 - accuracy: 0.9883\n",
            "Epoch 9/16\n",
            "1875/1875 [==============================] - 5s 2ms/step - loss: 0.0325 - accuracy: 0.9894\n",
            "Epoch 10/16\n",
            "1875/1875 [==============================] - 5s 2ms/step - loss: 0.0289 - accuracy: 0.9905\n",
            "Epoch 11/16\n",
            "1875/1875 [==============================] - 5s 2ms/step - loss: 0.0262 - accuracy: 0.9915\n",
            "Epoch 12/16\n",
            "1875/1875 [==============================] - 5s 2ms/step - loss: 0.0236 - accuracy: 0.9924\n",
            "Epoch 13/16\n",
            "1875/1875 [==============================] - 5s 2ms/step - loss: 0.0209 - accuracy: 0.9929\n",
            "Epoch 14/16\n",
            "1875/1875 [==============================] - 5s 3ms/step - loss: 0.0187 - accuracy: 0.9936\n",
            "Epoch 15/16\n",
            "1875/1875 [==============================] - 4s 2ms/step - loss: 0.0173 - accuracy: 0.9942\n",
            "Epoch 16/16\n",
            "1875/1875 [==============================] - 5s 2ms/step - loss: 0.0181 - accuracy: 0.9939\n"
          ]
        },
        {
          "output_type": "execute_result",
          "data": {
            "text/plain": [
              "<keras.callbacks.History at 0x7f0bd0409190>"
            ]
          },
          "metadata": {},
          "execution_count": 13
        }
      ]
    },
    {
      "cell_type": "code",
      "metadata": {
        "id": "CrLrMw3K55Kb",
        "colab": {
          "base_uri": "https://localhost:8080/"
        },
        "outputId": "2bd10f4b-f13a-4c53-c0d2-4f71710d8fd1"
      },
      "source": [
        "model.evaluate(X_test, Y_test)"
      ],
      "execution_count": 14,
      "outputs": [
        {
          "output_type": "stream",
          "name": "stdout",
          "text": [
            "313/313 [==============================] - 1s 3ms/step - loss: 0.1163 - accuracy: 0.9744\n"
          ]
        },
        {
          "output_type": "execute_result",
          "data": {
            "text/plain": [
              "[0.11629744619131088, 0.974399983882904]"
            ]
          },
          "metadata": {},
          "execution_count": 14
        }
      ]
    }
  ]
}