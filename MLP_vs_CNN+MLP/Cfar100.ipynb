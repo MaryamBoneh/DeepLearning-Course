{
  "nbformat": 4,
  "nbformat_minor": 0,
  "metadata": {
    "colab": {
      "name": "Cfar100.ipynb",
      "provenance": []
    },
    "kernelspec": {
      "name": "python3",
      "display_name": "Python 3"
    },
    "language_info": {
      "name": "python"
    }
  },
  "cells": [
    {
      "cell_type": "code",
      "metadata": {
        "id": "cXxigQzD0sJM"
      },
      "source": [
        "import tensorflow as tf\n",
        "from tensorflow.keras.layers import Dense, Conv2D, Flatten, MaxPool2D, MaxPooling2D\n",
        "import numpy as np\n",
        "import matplotlib.pyplot as plt"
      ],
      "execution_count": 1,
      "outputs": []
    },
    {
      "cell_type": "markdown",
      "metadata": {
        "id": "lCaB8HrH2Fru"
      },
      "source": [
        "## Load Dataset"
      ]
    },
    {
      "cell_type": "code",
      "metadata": {
        "id": "JrNzQKy51CA6"
      },
      "source": [
        "cifar100_dataset = tf.keras.datasets.cifar100"
      ],
      "execution_count": 48,
      "outputs": []
    },
    {
      "cell_type": "code",
      "metadata": {
        "colab": {
          "base_uri": "https://localhost:8080/"
        },
        "id": "rWIy2pU01udT",
        "outputId": "41fb63f0-dfd7-4ace-d21c-feeb5f66078c"
      },
      "source": [
        "(X_train, Y_train), (X_test, Y_test) = cifar100_dataset.load_data()\n",
        "c = len(np.unique(Y_train))\n",
        "c "
      ],
      "execution_count": 49,
      "outputs": [
        {
          "output_type": "execute_result",
          "data": {
            "text/plain": [
              "100"
            ]
          },
          "metadata": {},
          "execution_count": 49
        }
      ]
    },
    {
      "cell_type": "code",
      "metadata": {
        "colab": {
          "base_uri": "https://localhost:8080/"
        },
        "id": "VckgdpZo_wXa",
        "outputId": "67b34323-61f9-4dd5-bc62-c3dbfdbe2c8f"
      },
      "source": [
        "X_train, X_test = X_train / 255.0, X_test / 255.0\n",
        "print(X_train.shape)\n",
        "print(X_test.shape)\n",
        "X_train = X_train.reshape(X_train.shape[0], X_train.shape[1], X_train.shape[2], 3)\n",
        "X_test = X_test.reshape(X_test.shape[0], X_test.shape[1], X_test.shape[2], 3)"
      ],
      "execution_count": 50,
      "outputs": [
        {
          "output_type": "stream",
          "name": "stdout",
          "text": [
            "(50000, 32, 32, 3)\n",
            "(10000, 32, 32, 3)\n"
          ]
        }
      ]
    },
    {
      "cell_type": "code",
      "metadata": {
        "colab": {
          "base_uri": "https://localhost:8080/"
        },
        "id": "vjNuUMF56ffc",
        "outputId": "300d9d62-349b-4373-86b6-48b4a8e75db7"
      },
      "source": [
        "print(X_train.shape, Y_train.shape, X_test.shape, Y_test.shape)\n",
        "X_train = X_train.reshape(50000, 3072)\n",
        "X_test = X_test.reshape(10000, 3072)\n",
        "print(X_train.shape)"
      ],
      "execution_count": 43,
      "outputs": [
        {
          "output_type": "stream",
          "name": "stdout",
          "text": [
            "(50000, 32, 32, 3) (50000, 1) (10000, 32, 32, 3) (10000, 1)\n",
            "(50000, 3072)\n"
          ]
        }
      ]
    },
    {
      "cell_type": "markdown",
      "metadata": {
        "id": "StJ3iMOq99hV"
      },
      "source": [
        "### mlp"
      ]
    },
    {
      "cell_type": "code",
      "metadata": {
        "id": "zLYzyfsr8Z0n"
      },
      "source": [
        "model = tf.keras.models.Sequential([\n",
        "         Dense(64, input_dim = 3072, activation='relu'),\n",
        "        #  Dense(32, activation='relu'),\n",
        "        #  Dense(64, activation='relu'),\n",
        "         Dense(128, activation='relu'),\n",
        "         Dense(100, activation='softmax')                          \n",
        "])"
      ],
      "execution_count": 28,
      "outputs": []
    },
    {
      "cell_type": "code",
      "metadata": {
        "id": "27WXaQuk9s5g"
      },
      "source": [
        "model.compile(optimizer = tf.keras.optimizers.Adam(),\n",
        "              loss = tf.keras.losses.sparse_categorical_crossentropy,\n",
        "              metrics=['accuracy'])"
      ],
      "execution_count": 29,
      "outputs": []
    },
    {
      "cell_type": "code",
      "metadata": {
        "colab": {
          "base_uri": "https://localhost:8080/"
        },
        "id": "vc7tyBYl9x59",
        "outputId": "cacbb24d-b6df-4ae0-fcd4-a998008b2984"
      },
      "source": [
        "model.fit(X_train, Y_train, epochs = 15)"
      ],
      "execution_count": 30,
      "outputs": [
        {
          "output_type": "stream",
          "name": "stdout",
          "text": [
            "Epoch 1/15\n",
            "1563/1563 [==============================] - 5s 3ms/step - loss: 4.3499 - accuracy: 0.0348\n",
            "Epoch 2/15\n",
            "1563/1563 [==============================] - 5s 3ms/step - loss: 4.1932 - accuracy: 0.0478\n",
            "Epoch 3/15\n",
            "1563/1563 [==============================] - 5s 3ms/step - loss: 4.1581 - accuracy: 0.0496\n",
            "Epoch 4/15\n",
            "1563/1563 [==============================] - 5s 3ms/step - loss: 4.1382 - accuracy: 0.0526\n",
            "Epoch 5/15\n",
            "1563/1563 [==============================] - 5s 3ms/step - loss: 4.0993 - accuracy: 0.0576\n",
            "Epoch 6/15\n",
            "1563/1563 [==============================] - 5s 3ms/step - loss: 4.0288 - accuracy: 0.0667\n",
            "Epoch 7/15\n",
            "1563/1563 [==============================] - 5s 3ms/step - loss: 3.9934 - accuracy: 0.0724\n",
            "Epoch 8/15\n",
            "1563/1563 [==============================] - 5s 3ms/step - loss: 3.9775 - accuracy: 0.0754\n",
            "Epoch 9/15\n",
            "1563/1563 [==============================] - 4s 3ms/step - loss: 3.9651 - accuracy: 0.0757\n",
            "Epoch 10/15\n",
            "1563/1563 [==============================] - 5s 3ms/step - loss: 3.9578 - accuracy: 0.0771\n",
            "Epoch 11/15\n",
            "1563/1563 [==============================] - 5s 3ms/step - loss: 3.9533 - accuracy: 0.0774\n",
            "Epoch 12/15\n",
            "1563/1563 [==============================] - 4s 3ms/step - loss: 3.9469 - accuracy: 0.0789\n",
            "Epoch 13/15\n",
            "1563/1563 [==============================] - 4s 3ms/step - loss: 3.9368 - accuracy: 0.0788\n",
            "Epoch 14/15\n",
            "1563/1563 [==============================] - 4s 3ms/step - loss: 3.9307 - accuracy: 0.0809\n",
            "Epoch 15/15\n",
            "1563/1563 [==============================] - 4s 3ms/step - loss: 3.9243 - accuracy: 0.0821\n"
          ]
        },
        {
          "output_type": "execute_result",
          "data": {
            "text/plain": [
              "<keras.callbacks.History at 0x7fb185838d10>"
            ]
          },
          "metadata": {},
          "execution_count": 30
        }
      ]
    },
    {
      "cell_type": "code",
      "metadata": {
        "colab": {
          "base_uri": "https://localhost:8080/"
        },
        "id": "Pwb1nRHC9VpO",
        "outputId": "e814cf23-15c2-4e31-9830-b76a6ba91161"
      },
      "source": [
        "model.evaluate(X_test, Y_test)"
      ],
      "execution_count": 31,
      "outputs": [
        {
          "output_type": "stream",
          "name": "stdout",
          "text": [
            "313/313 [==============================] - 1s 1ms/step - loss: 3.9464 - accuracy: 0.0856\n"
          ]
        },
        {
          "output_type": "execute_result",
          "data": {
            "text/plain": [
              "[3.9463753700256348, 0.08560000360012054]"
            ]
          },
          "metadata": {},
          "execution_count": 31
        }
      ]
    },
    {
      "cell_type": "markdown",
      "metadata": {
        "id": "vDpTZZyv-be1"
      },
      "source": [
        "### cnn+mlp"
      ]
    },
    {
      "cell_type": "code",
      "metadata": {
        "id": "k4X7rJIP2kFt"
      },
      "source": [
        "model = tf.keras.models.Sequential([                             \n",
        "        Conv2D(64, (3,3), activation='relu', input_shape=(32, 32, 3)),\n",
        "        MaxPooling2D((2,2)),\n",
        "        Conv2D(32, (3,3), activation='relu'),\n",
        "        Flatten(),\n",
        "        Dense(64, activation='relu'),\n",
        "        Dense(128, activation='relu'),\n",
        "        Dense(100, activation='softmax'),\n",
        "])"
      ],
      "execution_count": 51,
      "outputs": []
    },
    {
      "cell_type": "code",
      "metadata": {
        "id": "X7j2cB4G5Qhd"
      },
      "source": [
        "model.compile(optimizer=tf.keras.optimizers.Adam(),\n",
        "              loss = tf.keras.losses.sparse_categorical_crossentropy,\n",
        "              metrics = ['accuracy'])\n"
      ],
      "execution_count": 52,
      "outputs": []
    },
    {
      "cell_type": "code",
      "metadata": {
        "colab": {
          "base_uri": "https://localhost:8080/"
        },
        "id": "0HD_JhEOBtJd",
        "outputId": "4cd7ec82-c22d-4fd9-c2ed-d763af87a75c"
      },
      "source": [
        "print(X_train.shape, Y_train.shape)"
      ],
      "execution_count": 53,
      "outputs": [
        {
          "output_type": "stream",
          "name": "stdout",
          "text": [
            "(50000, 32, 32, 3) (50000, 1)\n"
          ]
        }
      ]
    },
    {
      "cell_type": "code",
      "metadata": {
        "colab": {
          "base_uri": "https://localhost:8080/"
        },
        "id": "DKd3Tirk5g-4",
        "outputId": "2a2a5b48-d034-4720-b5bc-941fea71d047"
      },
      "source": [
        "model.fit(X_train, Y_train, epochs = 16)"
      ],
      "execution_count": 54,
      "outputs": [
        {
          "output_type": "stream",
          "name": "stdout",
          "text": [
            "Epoch 1/16\n",
            "1563/1563 [==============================] - 73s 47ms/step - loss: 4.0304 - accuracy: 0.0846\n",
            "Epoch 2/16\n",
            "1563/1563 [==============================] - 72s 46ms/step - loss: 3.3062 - accuracy: 0.1949\n",
            "Epoch 3/16\n",
            "1563/1563 [==============================] - 72s 46ms/step - loss: 3.0118 - accuracy: 0.2549\n",
            "Epoch 4/16\n",
            "1563/1563 [==============================] - 72s 46ms/step - loss: 2.8299 - accuracy: 0.2898\n",
            "Epoch 5/16\n",
            "1563/1563 [==============================] - 72s 46ms/step - loss: 2.6647 - accuracy: 0.3222\n",
            "Epoch 6/16\n",
            "1563/1563 [==============================] - 72s 46ms/step - loss: 2.5200 - accuracy: 0.3506\n",
            "Epoch 7/16\n",
            "1563/1563 [==============================] - 72s 46ms/step - loss: 2.4075 - accuracy: 0.3713\n",
            "Epoch 8/16\n",
            "1563/1563 [==============================] - 71s 46ms/step - loss: 2.2960 - accuracy: 0.3952\n",
            "Epoch 9/16\n",
            "1563/1563 [==============================] - 71s 46ms/step - loss: 2.2060 - accuracy: 0.4152\n",
            "Epoch 10/16\n",
            "1563/1563 [==============================] - 71s 46ms/step - loss: 2.1246 - accuracy: 0.4343\n",
            "Epoch 11/16\n",
            "1563/1563 [==============================] - 70s 45ms/step - loss: 2.0505 - accuracy: 0.4499\n",
            "Epoch 12/16\n",
            "1563/1563 [==============================] - 71s 45ms/step - loss: 1.9808 - accuracy: 0.4659\n",
            "Epoch 13/16\n",
            "1563/1563 [==============================] - 72s 46ms/step - loss: 1.8983 - accuracy: 0.4835\n",
            "Epoch 14/16\n",
            "1563/1563 [==============================] - 72s 46ms/step - loss: 1.8362 - accuracy: 0.4974\n",
            "Epoch 15/16\n",
            "1563/1563 [==============================] - 72s 46ms/step - loss: 1.7688 - accuracy: 0.5126\n",
            "Epoch 16/16\n",
            "1563/1563 [==============================] - 72s 46ms/step - loss: 1.7054 - accuracy: 0.5280\n"
          ]
        },
        {
          "output_type": "execute_result",
          "data": {
            "text/plain": [
              "<keras.callbacks.History at 0x7fb18fad6050>"
            ]
          },
          "metadata": {},
          "execution_count": 54
        }
      ]
    },
    {
      "cell_type": "code",
      "metadata": {
        "colab": {
          "base_uri": "https://localhost:8080/"
        },
        "id": "CrLrMw3K55Kb",
        "outputId": "c18fd01a-0510-42f4-c111-e6b3796a50cd"
      },
      "source": [
        "model.evaluate(X_test, Y_test)"
      ],
      "execution_count": 55,
      "outputs": [
        {
          "output_type": "stream",
          "name": "stdout",
          "text": [
            "313/313 [==============================] - 4s 12ms/step - loss: 3.1283 - accuracy: 0.3043\n"
          ]
        },
        {
          "output_type": "execute_result",
          "data": {
            "text/plain": [
              "[3.128286838531494, 0.3043000102043152]"
            ]
          },
          "metadata": {},
          "execution_count": 55
        }
      ]
    }
  ]
}