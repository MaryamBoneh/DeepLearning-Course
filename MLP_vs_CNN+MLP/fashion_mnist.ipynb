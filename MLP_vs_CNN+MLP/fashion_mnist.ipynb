{
  "nbformat": 4,
  "nbformat_minor": 0,
  "metadata": {
    "colab": {
      "name": "fashion-mnist.ipynb",
      "provenance": []
    },
    "kernelspec": {
      "name": "python3",
      "display_name": "Python 3"
    },
    "language_info": {
      "name": "python"
    }
  },
  "cells": [
    {
      "cell_type": "code",
      "metadata": {
        "id": "cXxigQzD0sJM"
      },
      "source": [
        "import tensorflow as tf\n",
        "from tensorflow.keras.layers import Dense, Conv2D, Flatten, MaxPool2D, MaxPooling2D\n",
        "import numpy as np\n",
        "import matplotlib.pyplot as plt"
      ],
      "execution_count": 1,
      "outputs": []
    },
    {
      "cell_type": "markdown",
      "metadata": {
        "id": "lCaB8HrH2Fru"
      },
      "source": [
        "## Load Dataset"
      ]
    },
    {
      "cell_type": "code",
      "metadata": {
        "id": "JrNzQKy51CA6"
      },
      "source": [
        "fashion_mnist_dataset = tf.keras.datasets.fashion_mnist"
      ],
      "execution_count": 2,
      "outputs": []
    },
    {
      "cell_type": "code",
      "metadata": {
        "colab": {
          "base_uri": "https://localhost:8080/"
        },
        "id": "rWIy2pU01udT",
        "outputId": "57718a24-8837-412b-deea-43f75a168fe1"
      },
      "source": [
        "(X_train, Y_train), (X_test, Y_test) = fashion_mnist_dataset.load_data()\n",
        "c = len(np.unique(Y_train))\n",
        "c "
      ],
      "execution_count": 3,
      "outputs": [
        {
          "output_type": "stream",
          "name": "stdout",
          "text": [
            "Downloading data from https://storage.googleapis.com/tensorflow/tf-keras-datasets/train-labels-idx1-ubyte.gz\n",
            "32768/29515 [=================================] - 0s 0us/step\n",
            "40960/29515 [=========================================] - 0s 0us/step\n",
            "Downloading data from https://storage.googleapis.com/tensorflow/tf-keras-datasets/train-images-idx3-ubyte.gz\n",
            "26427392/26421880 [==============================] - 0s 0us/step\n",
            "26435584/26421880 [==============================] - 0s 0us/step\n",
            "Downloading data from https://storage.googleapis.com/tensorflow/tf-keras-datasets/t10k-labels-idx1-ubyte.gz\n",
            "16384/5148 [===============================================================================================] - 0s 0us/step\n",
            "Downloading data from https://storage.googleapis.com/tensorflow/tf-keras-datasets/t10k-images-idx3-ubyte.gz\n",
            "4423680/4422102 [==============================] - 0s 0us/step\n",
            "4431872/4422102 [==============================] - 0s 0us/step\n"
          ]
        },
        {
          "output_type": "execute_result",
          "data": {
            "text/plain": [
              "10"
            ]
          },
          "metadata": {},
          "execution_count": 3
        }
      ]
    },
    {
      "cell_type": "code",
      "metadata": {
        "id": "VckgdpZo_wXa"
      },
      "source": [
        "X_train, X_test = X_train / 255.0, X_test / 255.0\n",
        "\n",
        "X_train = X_train.reshape(X_train.shape[0], X_train.shape[1], X_train.shape[2], 1)\n",
        "X_test = X_test.reshape(X_test.shape[0], X_test.shape[1], X_test.shape[2], 1)"
      ],
      "execution_count": 4,
      "outputs": []
    },
    {
      "cell_type": "code",
      "metadata": {
        "id": "zLYzyfsr8Z0n"
      },
      "source": [
        "model = tf.keras.models.Sequential([\n",
        "         Conv2D(32, (3, 3), input_shape = (28, 28, 1), activation='relu'),\n",
        "         MaxPooling2D((2, 2)),\n",
        "         Flatten(),\n",
        "         Dense(64, activation='relu'),\n",
        "         Dense(10, activation='softmax')                          \n",
        "])"
      ],
      "execution_count": 5,
      "outputs": []
    },
    {
      "cell_type": "code",
      "metadata": {
        "id": "27WXaQuk9s5g"
      },
      "source": [
        "model.compile(optimizer = tf.keras.optimizers.Adam(),\n",
        "              loss = tf.keras.losses.sparse_categorical_crossentropy,\n",
        "              metrics=['accuracy'])"
      ],
      "execution_count": 6,
      "outputs": []
    },
    {
      "cell_type": "code",
      "metadata": {
        "colab": {
          "base_uri": "https://localhost:8080/"
        },
        "id": "vc7tyBYl9x59",
        "outputId": "78ee1834-8a85-4613-ece8-3a799e1f5a24"
      },
      "source": [
        "model.fit(X_train, Y_train, epochs = 15)"
      ],
      "execution_count": 7,
      "outputs": [
        {
          "output_type": "stream",
          "name": "stdout",
          "text": [
            "Epoch 1/15\n",
            "1875/1875 [==============================] - 30s 16ms/step - loss: 0.3992 - accuracy: 0.8589\n",
            "Epoch 2/15\n",
            "1875/1875 [==============================] - 29s 15ms/step - loss: 0.2725 - accuracy: 0.9015\n",
            "Epoch 3/15\n",
            "1875/1875 [==============================] - 28s 15ms/step - loss: 0.2302 - accuracy: 0.9144\n",
            "Epoch 4/15\n",
            "1875/1875 [==============================] - 28s 15ms/step - loss: 0.1990 - accuracy: 0.9263\n",
            "Epoch 5/15\n",
            "1875/1875 [==============================] - 28s 15ms/step - loss: 0.1751 - accuracy: 0.9354\n",
            "Epoch 6/15\n",
            "1875/1875 [==============================] - 28s 15ms/step - loss: 0.1527 - accuracy: 0.9436\n",
            "Epoch 7/15\n",
            "1875/1875 [==============================] - 28s 15ms/step - loss: 0.1355 - accuracy: 0.9492\n",
            "Epoch 8/15\n",
            "1875/1875 [==============================] - 28s 15ms/step - loss: 0.1177 - accuracy: 0.9566\n",
            "Epoch 9/15\n",
            "1875/1875 [==============================] - 28s 15ms/step - loss: 0.1049 - accuracy: 0.9610\n",
            "Epoch 10/15\n",
            "1875/1875 [==============================] - 28s 15ms/step - loss: 0.0906 - accuracy: 0.9663\n",
            "Epoch 11/15\n",
            "1875/1875 [==============================] - 28s 15ms/step - loss: 0.0798 - accuracy: 0.9707\n",
            "Epoch 12/15\n",
            "1875/1875 [==============================] - 28s 15ms/step - loss: 0.0682 - accuracy: 0.9747\n",
            "Epoch 13/15\n",
            "1875/1875 [==============================] - 28s 15ms/step - loss: 0.0599 - accuracy: 0.9780\n",
            "Epoch 14/15\n",
            "1875/1875 [==============================] - 28s 15ms/step - loss: 0.0543 - accuracy: 0.9809\n",
            "Epoch 15/15\n",
            "1875/1875 [==============================] - 28s 15ms/step - loss: 0.0475 - accuracy: 0.9834\n"
          ]
        },
        {
          "output_type": "execute_result",
          "data": {
            "text/plain": [
              "<keras.callbacks.History at 0x7f5912c57e90>"
            ]
          },
          "metadata": {},
          "execution_count": 7
        }
      ]
    },
    {
      "cell_type": "code",
      "metadata": {
        "colab": {
          "base_uri": "https://localhost:8080/"
        },
        "id": "ulVsOfsUfepn",
        "outputId": "8921a21b-2f46-4499-c26b-cb171182a46a"
      },
      "source": [
        "model.evaluate(X_test, Y_test)"
      ],
      "execution_count": 8,
      "outputs": [
        {
          "output_type": "stream",
          "name": "stdout",
          "text": [
            "313/313 [==============================] - 2s 5ms/step - loss: 0.3928 - accuracy: 0.9068\n"
          ]
        },
        {
          "output_type": "execute_result",
          "data": {
            "text/plain": [
              "[0.3928329050540924, 0.9067999720573425]"
            ]
          },
          "metadata": {},
          "execution_count": 8
        }
      ]
    },
    {
      "cell_type": "code",
      "metadata": {
        "colab": {
          "base_uri": "https://localhost:8080/"
        },
        "id": "vjNuUMF56ffc",
        "outputId": "eed6ca68-43b7-4ec6-dbc1-b0e6865c589b"
      },
      "source": [
        "print(X_train.shape, Y_train.shape, X_test.shape, Y_test.shape)\n",
        "X_train = X_train.reshape(60000,784)\n",
        "X_test = X_test.reshape(10000,784)\n",
        "print(X_train.shape)"
      ],
      "execution_count": null,
      "outputs": [
        {
          "output_type": "stream",
          "name": "stdout",
          "text": [
            "(60000, 28, 28, 1) (60000,) (10000, 28, 28, 1) (10000,)\n",
            "(60000, 784)\n"
          ]
        }
      ]
    },
    {
      "cell_type": "code",
      "metadata": {
        "id": "k4X7rJIP2kFt"
      },
      "source": [
        "model = tf.keras.models.Sequential([\n",
        "        Dense(64, input_dim = X_train.shape[1], activation='relu'),\n",
        "        Dense(32, activation='relu'),\n",
        "        Dense(10, activation='softmax'),\n",
        "])"
      ],
      "execution_count": null,
      "outputs": []
    },
    {
      "cell_type": "code",
      "metadata": {
        "id": "X7j2cB4G5Qhd"
      },
      "source": [
        "model.compile(optimizer=tf.keras.optimizers.Adam(),\n",
        "              loss = tf.keras.losses.sparse_categorical_crossentropy,\n",
        "              metrics = ['accuracy'])\n"
      ],
      "execution_count": null,
      "outputs": []
    },
    {
      "cell_type": "code",
      "metadata": {
        "colab": {
          "base_uri": "https://localhost:8080/"
        },
        "id": "DKd3Tirk5g-4",
        "outputId": "aa1e4bb8-3f38-438c-acc6-bfec908baa41"
      },
      "source": [
        "model.fit(X_train, Y_train, epochs = 16)"
      ],
      "execution_count": null,
      "outputs": [
        {
          "output_type": "stream",
          "name": "stdout",
          "text": [
            "Epoch 1/16\n",
            "1875/1875 [==============================] - 4s 2ms/step - loss: 0.5133 - accuracy: 0.8197\n",
            "Epoch 2/16\n",
            "1875/1875 [==============================] - 3s 2ms/step - loss: 0.3843 - accuracy: 0.8626\n",
            "Epoch 3/16\n",
            "1875/1875 [==============================] - 3s 2ms/step - loss: 0.3445 - accuracy: 0.8733\n",
            "Epoch 4/16\n",
            "1875/1875 [==============================] - 3s 2ms/step - loss: 0.3253 - accuracy: 0.8796\n",
            "Epoch 5/16\n",
            "1875/1875 [==============================] - 3s 2ms/step - loss: 0.3070 - accuracy: 0.8868\n",
            "Epoch 6/16\n",
            "1875/1875 [==============================] - 3s 2ms/step - loss: 0.2945 - accuracy: 0.8902\n",
            "Epoch 7/16\n",
            "1875/1875 [==============================] - 3s 2ms/step - loss: 0.2847 - accuracy: 0.8945\n",
            "Epoch 8/16\n",
            "1875/1875 [==============================] - 3s 2ms/step - loss: 0.2720 - accuracy: 0.9001\n",
            "Epoch 9/16\n",
            "1875/1875 [==============================] - 3s 2ms/step - loss: 0.2654 - accuracy: 0.9020\n",
            "Epoch 10/16\n",
            "1875/1875 [==============================] - 3s 2ms/step - loss: 0.2556 - accuracy: 0.9047\n",
            "Epoch 11/16\n",
            "1875/1875 [==============================] - 3s 2ms/step - loss: 0.2501 - accuracy: 0.9065\n",
            "Epoch 12/16\n",
            "1875/1875 [==============================] - 3s 2ms/step - loss: 0.2439 - accuracy: 0.9078\n",
            "Epoch 13/16\n",
            "1875/1875 [==============================] - 3s 2ms/step - loss: 0.2374 - accuracy: 0.9117\n",
            "Epoch 14/16\n",
            "1875/1875 [==============================] - 3s 2ms/step - loss: 0.2322 - accuracy: 0.9134\n",
            "Epoch 15/16\n",
            "1875/1875 [==============================] - 3s 2ms/step - loss: 0.2246 - accuracy: 0.9155\n",
            "Epoch 16/16\n",
            "1875/1875 [==============================] - 3s 2ms/step - loss: 0.2228 - accuracy: 0.9155\n"
          ]
        },
        {
          "output_type": "execute_result",
          "data": {
            "text/plain": [
              "<keras.callbacks.History at 0x7fd95d1b7590>"
            ]
          },
          "metadata": {},
          "execution_count": 12
        }
      ]
    },
    {
      "cell_type": "code",
      "metadata": {
        "id": "CrLrMw3K55Kb",
        "colab": {
          "base_uri": "https://localhost:8080/"
        },
        "outputId": "9d653bd2-9294-40e1-c861-b1ab9dbe216d"
      },
      "source": [
        "model.evaluate(X_test, Y_test)"
      ],
      "execution_count": null,
      "outputs": [
        {
          "output_type": "stream",
          "name": "stdout",
          "text": [
            "313/313 [==============================] - 1s 1ms/step - loss: 0.3616 - accuracy: 0.8772\n"
          ]
        },
        {
          "output_type": "execute_result",
          "data": {
            "text/plain": [
              "[0.36164119839668274, 0.8772000074386597]"
            ]
          },
          "metadata": {},
          "execution_count": 13
        }
      ]
    }
  ]
}