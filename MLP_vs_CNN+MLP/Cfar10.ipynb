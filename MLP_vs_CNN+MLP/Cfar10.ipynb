{
  "nbformat": 4,
  "nbformat_minor": 0,
  "metadata": {
    "colab": {
      "name": "Cfar10.ipynb",
      "provenance": []
    },
    "kernelspec": {
      "display_name": "Python 3",
      "name": "python3"
    },
    "language_info": {
      "name": "python"
    },
    "accelerator": "GPU"
  },
  "cells": [
    {
      "cell_type": "code",
      "metadata": {
        "id": "cXxigQzD0sJM"
      },
      "source": [
        "import tensorflow as tf\n",
        "from tensorflow.keras.layers import Dense, Conv2D, Flatten, MaxPool2D, MaxPooling2D\n",
        "import numpy as np\n",
        "import matplotlib.pyplot as plt"
      ],
      "execution_count": 1,
      "outputs": []
    },
    {
      "cell_type": "markdown",
      "metadata": {
        "id": "lCaB8HrH2Fru"
      },
      "source": [
        "## Load Dataset"
      ]
    },
    {
      "cell_type": "code",
      "metadata": {
        "id": "JrNzQKy51CA6"
      },
      "source": [
        "cifar10_dataset = tf.keras.datasets.cifar10"
      ],
      "execution_count": 49,
      "outputs": []
    },
    {
      "cell_type": "code",
      "metadata": {
        "colab": {
          "base_uri": "https://localhost:8080/"
        },
        "id": "rWIy2pU01udT",
        "outputId": "28c2feba-3d4b-4329-cc6f-a8b16dec0912"
      },
      "source": [
        "(X_train, Y_train), (X_test, Y_test) = cifar10_dataset.load_data()\n",
        "c = len(np.unique(Y_train))\n",
        "c "
      ],
      "execution_count": 50,
      "outputs": [
        {
          "output_type": "execute_result",
          "data": {
            "text/plain": [
              "10"
            ]
          },
          "metadata": {},
          "execution_count": 50
        }
      ]
    },
    {
      "cell_type": "code",
      "metadata": {
        "colab": {
          "base_uri": "https://localhost:8080/"
        },
        "id": "VckgdpZo_wXa",
        "outputId": "e6970dbb-371f-4142-c1e5-a036e47e57d5"
      },
      "source": [
        "X_train, X_test = X_train / 255.0, X_test / 255.0\n",
        "print(X_train.shape)\n",
        "print(X_test.shape)\n",
        "X_train = X_train.reshape(X_train.shape[0], X_train.shape[1], X_train.shape[2], 3)\n",
        "X_test = X_test.reshape(X_test.shape[0], X_test.shape[1], X_test.shape[2], 3)"
      ],
      "execution_count": 51,
      "outputs": [
        {
          "output_type": "stream",
          "name": "stdout",
          "text": [
            "(50000, 32, 32, 3)\n",
            "(10000, 32, 32, 3)\n"
          ]
        }
      ]
    },
    {
      "cell_type": "code",
      "metadata": {
        "colab": {
          "base_uri": "https://localhost:8080/"
        },
        "id": "vjNuUMF56ffc",
        "outputId": "000f4c0c-59f3-423e-fb19-9bfa967a1723"
      },
      "source": [
        "print(X_train.shape, Y_train.shape, X_test.shape, Y_test.shape)\n",
        "X_train = X_train.reshape(50000, 3072)\n",
        "X_test = X_test.reshape(10000, 3072)\n",
        "print(X_train.shape)"
      ],
      "execution_count": 34,
      "outputs": [
        {
          "output_type": "stream",
          "name": "stdout",
          "text": [
            "(50000, 32, 32, 3) (50000, 1) (10000, 32, 32, 3) (10000, 1)\n",
            "(50000, 3072)\n"
          ]
        }
      ]
    },
    {
      "cell_type": "markdown",
      "metadata": {
        "id": "StJ3iMOq99hV"
      },
      "source": [
        "### mlp"
      ]
    },
    {
      "cell_type": "code",
      "metadata": {
        "id": "zLYzyfsr8Z0n"
      },
      "source": [
        "model = tf.keras.models.Sequential([\n",
        "         Dense(64, input_dim = 3072, activation='relu'),\n",
        "         Dense(128, activation='relu'),\n",
        "         Dense(32, activation='relu'),\n",
        "         Dense(10, activation='softmax')                          \n",
        "])"
      ],
      "execution_count": 36,
      "outputs": []
    },
    {
      "cell_type": "code",
      "metadata": {
        "id": "27WXaQuk9s5g"
      },
      "source": [
        "model.compile(optimizer = tf.keras.optimizers.Adam(),\n",
        "              loss = tf.keras.losses.sparse_categorical_crossentropy,\n",
        "              metrics=['accuracy'])"
      ],
      "execution_count": 37,
      "outputs": []
    },
    {
      "cell_type": "code",
      "metadata": {
        "colab": {
          "base_uri": "https://localhost:8080/"
        },
        "id": "vc7tyBYl9x59",
        "outputId": "e89b8dd1-f579-4e6d-a2e5-574fce0f6d20"
      },
      "source": [
        "model.fit(X_train, Y_train, epochs = 15)"
      ],
      "execution_count": 38,
      "outputs": [
        {
          "output_type": "stream",
          "name": "stdout",
          "text": [
            "Epoch 1/15\n",
            "1563/1563 [==============================] - 5s 3ms/step - loss: 1.9244 - accuracy: 0.2915\n",
            "Epoch 2/15\n",
            "1563/1563 [==============================] - 5s 3ms/step - loss: 1.7368 - accuracy: 0.3732\n",
            "Epoch 3/15\n",
            "1563/1563 [==============================] - 5s 3ms/step - loss: 1.6731 - accuracy: 0.3953\n",
            "Epoch 4/15\n",
            "1563/1563 [==============================] - 5s 3ms/step - loss: 1.6311 - accuracy: 0.4114\n",
            "Epoch 5/15\n",
            "1563/1563 [==============================] - 5s 3ms/step - loss: 1.5983 - accuracy: 0.4227\n",
            "Epoch 6/15\n",
            "1563/1563 [==============================] - 5s 3ms/step - loss: 1.5770 - accuracy: 0.4327\n",
            "Epoch 7/15\n",
            "1563/1563 [==============================] - 5s 3ms/step - loss: 1.5537 - accuracy: 0.4418\n",
            "Epoch 8/15\n",
            "1563/1563 [==============================] - 5s 3ms/step - loss: 1.5341 - accuracy: 0.4470\n",
            "Epoch 9/15\n",
            "1563/1563 [==============================] - 5s 3ms/step - loss: 1.5230 - accuracy: 0.4529\n",
            "Epoch 10/15\n",
            "1563/1563 [==============================] - 5s 3ms/step - loss: 1.5088 - accuracy: 0.4563\n",
            "Epoch 11/15\n",
            "1563/1563 [==============================] - 5s 3ms/step - loss: 1.4995 - accuracy: 0.4607\n",
            "Epoch 12/15\n",
            "1563/1563 [==============================] - 5s 3ms/step - loss: 1.4906 - accuracy: 0.4648\n",
            "Epoch 13/15\n",
            "1563/1563 [==============================] - 5s 3ms/step - loss: 1.4827 - accuracy: 0.4642\n",
            "Epoch 14/15\n",
            "1563/1563 [==============================] - 5s 3ms/step - loss: 1.4744 - accuracy: 0.4733\n",
            "Epoch 15/15\n",
            "1563/1563 [==============================] - 5s 3ms/step - loss: 1.4659 - accuracy: 0.4718\n"
          ]
        },
        {
          "output_type": "execute_result",
          "data": {
            "text/plain": [
              "<keras.callbacks.History at 0x7f66200a6e50>"
            ]
          },
          "metadata": {},
          "execution_count": 38
        }
      ]
    },
    {
      "cell_type": "code",
      "metadata": {
        "colab": {
          "base_uri": "https://localhost:8080/"
        },
        "id": "Pwb1nRHC9VpO",
        "outputId": "722cdb72-6e59-4bea-b056-a510dfe9227f"
      },
      "source": [
        "model.evaluate(X_test, Y_test)"
      ],
      "execution_count": 39,
      "outputs": [
        {
          "output_type": "stream",
          "name": "stdout",
          "text": [
            "313/313 [==============================] - 1s 3ms/step - loss: 1.5241 - accuracy: 0.4512\n"
          ]
        },
        {
          "output_type": "execute_result",
          "data": {
            "text/plain": [
              "[1.5240627527236938, 0.451200008392334]"
            ]
          },
          "metadata": {},
          "execution_count": 39
        }
      ]
    },
    {
      "cell_type": "markdown",
      "metadata": {
        "id": "vDpTZZyv-be1"
      },
      "source": [
        "### cnn+mlp"
      ]
    },
    {
      "cell_type": "code",
      "metadata": {
        "id": "k4X7rJIP2kFt"
      },
      "source": [
        "model = tf.keras.models.Sequential([                             \n",
        "        Conv2D(64, (3,3), activation='relu', input_shape=(32, 32, 3)),\n",
        "        MaxPooling2D((2,2)),\n",
        "        Conv2D(32, (3,3), activation='relu'),\n",
        "        Flatten(),\n",
        "        Dense(64, activation='relu'),\n",
        "        Dense(128, activation='relu'),\n",
        "        Dense(10, activation='softmax'),\n",
        "])"
      ],
      "execution_count": 52,
      "outputs": []
    },
    {
      "cell_type": "code",
      "metadata": {
        "id": "X7j2cB4G5Qhd"
      },
      "source": [
        "model.compile(optimizer=tf.keras.optimizers.Adam(),\n",
        "              loss = tf.keras.losses.sparse_categorical_crossentropy,\n",
        "              metrics = ['accuracy'])\n"
      ],
      "execution_count": 53,
      "outputs": []
    },
    {
      "cell_type": "code",
      "metadata": {
        "colab": {
          "base_uri": "https://localhost:8080/"
        },
        "id": "0HD_JhEOBtJd",
        "outputId": "171d7169-9d54-4d60-89a2-f4527962d848"
      },
      "source": [
        "print(X_train.shape, Y_train.shape)"
      ],
      "execution_count": 54,
      "outputs": [
        {
          "output_type": "stream",
          "name": "stdout",
          "text": [
            "(50000, 32, 32, 3) (50000, 1)\n"
          ]
        }
      ]
    },
    {
      "cell_type": "code",
      "metadata": {
        "colab": {
          "base_uri": "https://localhost:8080/"
        },
        "id": "DKd3Tirk5g-4",
        "outputId": "9fe95372-0b02-47a3-cab9-cfcaaaee6929"
      },
      "source": [
        "model.fit(X_train, Y_train, epochs = 16)"
      ],
      "execution_count": 55,
      "outputs": [
        {
          "output_type": "stream",
          "name": "stdout",
          "text": [
            "Epoch 1/16\n",
            "1563/1563 [==============================] - 11s 7ms/step - loss: 1.4684 - accuracy: 0.4666\n",
            "Epoch 2/16\n",
            "1563/1563 [==============================] - 10s 7ms/step - loss: 1.1286 - accuracy: 0.6011\n",
            "Epoch 3/16\n",
            "1563/1563 [==============================] - 10s 7ms/step - loss: 0.9989 - accuracy: 0.6470\n",
            "Epoch 4/16\n",
            "1563/1563 [==============================] - 10s 6ms/step - loss: 0.9100 - accuracy: 0.6797\n",
            "Epoch 5/16\n",
            "1563/1563 [==============================] - 10s 6ms/step - loss: 0.8434 - accuracy: 0.7028\n",
            "Epoch 6/16\n",
            "1563/1563 [==============================] - 10s 6ms/step - loss: 0.7812 - accuracy: 0.7253\n",
            "Epoch 7/16\n",
            "1563/1563 [==============================] - 10s 6ms/step - loss: 0.7286 - accuracy: 0.7415\n",
            "Epoch 8/16\n",
            "1563/1563 [==============================] - 10s 6ms/step - loss: 0.6682 - accuracy: 0.7649\n",
            "Epoch 9/16\n",
            "1563/1563 [==============================] - 10s 6ms/step - loss: 0.6160 - accuracy: 0.7817\n",
            "Epoch 10/16\n",
            "1563/1563 [==============================] - 10s 7ms/step - loss: 0.5713 - accuracy: 0.7979\n",
            "Epoch 11/16\n",
            "1563/1563 [==============================] - 10s 6ms/step - loss: 0.5296 - accuracy: 0.8101\n",
            "Epoch 12/16\n",
            "1563/1563 [==============================] - 10s 6ms/step - loss: 0.4820 - accuracy: 0.8294\n",
            "Epoch 13/16\n",
            "1563/1563 [==============================] - 10s 6ms/step - loss: 0.4458 - accuracy: 0.8436\n",
            "Epoch 14/16\n",
            "1563/1563 [==============================] - 10s 6ms/step - loss: 0.4060 - accuracy: 0.8558\n",
            "Epoch 15/16\n",
            "1563/1563 [==============================] - 10s 6ms/step - loss: 0.3746 - accuracy: 0.8669\n",
            "Epoch 16/16\n",
            "1563/1563 [==============================] - 10s 6ms/step - loss: 0.3444 - accuracy: 0.8770\n"
          ]
        },
        {
          "output_type": "execute_result",
          "data": {
            "text/plain": [
              "<keras.callbacks.History at 0x7f6535e15910>"
            ]
          },
          "metadata": {},
          "execution_count": 55
        }
      ]
    },
    {
      "cell_type": "code",
      "metadata": {
        "colab": {
          "base_uri": "https://localhost:8080/"
        },
        "id": "CrLrMw3K55Kb",
        "outputId": "dae7161f-b059-4c5e-9be7-5f3fb04130b3"
      },
      "source": [
        "model.evaluate(X_test, Y_test)"
      ],
      "execution_count": 56,
      "outputs": [
        {
          "output_type": "stream",
          "name": "stdout",
          "text": [
            "313/313 [==============================] - 1s 4ms/step - loss: 1.4523 - accuracy: 0.6508\n"
          ]
        },
        {
          "output_type": "execute_result",
          "data": {
            "text/plain": [
              "[1.4523155689239502, 0.6507999897003174]"
            ]
          },
          "metadata": {},
          "execution_count": 56
        }
      ]
    }
  ]
}