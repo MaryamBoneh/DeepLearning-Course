{
  "nbformat": 4,
  "nbformat_minor": 0,
  "metadata": {
    "colab": {
      "name": "Persian-MNIST-TransferLearning-by-Torch.ipynb",
      "provenance": []
    },
    "kernelspec": {
      "name": "python3",
      "display_name": "Python 3"
    },
    "language_info": {
      "name": "python"
    },
    "accelerator": "GPU"
  },
  "cells": [
    {
      "cell_type": "code",
      "source": [
        "!pip install wandb"
      ],
      "metadata": {
        "id": "Mw6RlcTgNSsn"
      },
      "execution_count": null,
      "outputs": []
    },
    {
      "cell_type": "code",
      "execution_count": 2,
      "metadata": {
        "id": "1B7dkHP1_tr2"
      },
      "outputs": [],
      "source": [
        "import torch\n",
        "import torch.nn as nn\n",
        "import torch.nn.functional as F\n",
        "import torchvision\n",
        "from torchvision import transforms\n",
        "import wandb"
      ]
    },
    {
      "cell_type": "code",
      "source": [
        "wandb.init(project=\"Persian-MNIST-TransferLearning-by-Torch\")"
      ],
      "metadata": {
        "id": "B-BFwJt91m-s"
      },
      "execution_count": null,
      "outputs": []
    },
    {
      "cell_type": "code",
      "source": [
        "device = torch.device(\"cuda\" if torch.cuda.is_available() else \"cpu\")\n",
        "model = torchvision.models.resnet50(pretrained=True)"
      ],
      "metadata": {
        "id": "wrOZFJ7c_07L"
      },
      "execution_count": null,
      "outputs": []
    },
    {
      "cell_type": "markdown",
      "source": [
        "## Transfer Learning"
      ],
      "metadata": {
        "id": "L6SGhcHW1zzw"
      }
    },
    {
      "cell_type": "code",
      "source": [
        "in_features = model.fc.in_features\n",
        "model.fc = nn.Linear(in_features, 10)"
      ],
      "metadata": {
        "id": "gTHzVyNHENy7"
      },
      "execution_count": 5,
      "outputs": []
    },
    {
      "cell_type": "markdown",
      "source": [
        "This freezes layers 1-6 in the total 10 layers of Resnet50"
      ],
      "metadata": {
        "id": "f8mpAqxR2amd"
      }
    },
    {
      "cell_type": "code",
      "source": [
        "ct = 0\n",
        "for child in model.children():\n",
        "    ct += 1\n",
        "    if ct < 7:\n",
        "        for param in child.parameters():\n",
        "            param.requires_grad = False"
      ],
      "metadata": {
        "id": "7fQDDHiw2YRz"
      },
      "execution_count": 8,
      "outputs": []
    },
    {
      "cell_type": "code",
      "source": [
        "model = model.to(device)"
      ],
      "metadata": {
        "id": "U5j90sRKEoLB"
      },
      "execution_count": 9,
      "outputs": []
    },
    {
      "cell_type": "code",
      "source": [
        "config = wandb.config\n",
        "config.learning_rate = 0.001\n",
        "config.batch_size = 64\n",
        "config.epochs = 20"
      ],
      "metadata": {
        "id": "pGUWeTMTNe67"
      },
      "execution_count": 10,
      "outputs": []
    },
    {
      "cell_type": "markdown",
      "source": [
        "Dataset"
      ],
      "metadata": {
        "id": "YswSCCNe2rbT"
      }
    },
    {
      "cell_type": "code",
      "source": [
        "transform = transforms.Compose([\n",
        "        transforms.RandomRotation(10),\n",
        "        transforms.Resize((70, 70)),\n",
        "        transforms.ToTensor(),\n",
        "        transforms.Normalize((0.485, 0.456, 0.406), (0.229, 0.224, 0.225))\n",
        "])\n",
        "\n",
        "dataset = torchvision.datasets.ImageFolder(root='/content/drive/MyDrive/Datasets/MNIST_persian', transform=transform)\n",
        "train_data_loader = torch.utils.data.DataLoader(dataset, batch_size=config.batch_size, shuffle=True, num_workers=2)"
      ],
      "metadata": {
        "id": "2sI8Sm46MlFL"
      },
      "execution_count": 12,
      "outputs": []
    },
    {
      "cell_type": "code",
      "source": [
        "optimizer = torch.optim.Adam(model.parameters(), lr=config.learning_rate)\n",
        "loss_function = torch.nn.CrossEntropyLoss()"
      ],
      "metadata": {
        "id": "Y-_UxagGUDXf"
      },
      "execution_count": 13,
      "outputs": []
    },
    {
      "cell_type": "code",
      "source": [
        "def calc_acc(preds, labels):\n",
        "    preds_max = torch.argmax(preds, 1)\n",
        "    acc = torch.sum(preds_max == labels.data, dtype=torch.float64) / len(preds)\n",
        "    return acc"
      ],
      "metadata": {
        "id": "9wnu3SiS26gu"
      },
      "execution_count": 14,
      "outputs": []
    },
    {
      "cell_type": "code",
      "source": [
        "model.train()"
      ],
      "metadata": {
        "id": "z_q_0L64L8So"
      },
      "execution_count": null,
      "outputs": []
    },
    {
      "cell_type": "markdown",
      "source": [
        "## Train"
      ],
      "metadata": {
        "id": "Ej2qTt5K3BXy"
      }
    },
    {
      "cell_type": "code",
      "source": [
        "wandb.watch(model)\n",
        "\n",
        "for epoch in range(config.epochs):\n",
        "    train_loss = 0.0\n",
        "    train_acc = 0.0\n",
        "    for images, labels in train_data_loader:\n",
        "        images = images.to(device)\n",
        "        labels = labels.to(device)\n",
        "        optimizer.zero_grad()\n",
        "        # 1- forwarding\n",
        "        preds = model(images)\n",
        "        # 2- backwarding \n",
        "        loss = loss_function(preds, labels)\n",
        "        loss.backward()\n",
        "        # 3- Update\n",
        "        optimizer.step()\n",
        "\n",
        "        train_loss += loss\n",
        "        train_acc += calc_acc(preds, labels)\n",
        "    \n",
        "    total_loss = train_loss / len(train_data_loader)\n",
        "    total_acc = train_acc / len(train_data_loader)\n",
        "\n",
        "    if epoch % 2 == 0:\n",
        "        wandb.log({\"loss\": total_loss})\n",
        "        wandb.log({\"acc\": total_acc})\n",
        "\n",
        "    print(f\"Epoch: {epoch}, Loss: {total_loss}, Acc: {total_acc}\")"
      ],
      "metadata": {
        "id": "0kHBhOGmVg28",
        "colab": {
          "base_uri": "https://localhost:8080/"
        },
        "outputId": "461a17a2-1b3e-4940-dfb2-a544df335703"
      },
      "execution_count": 16,
      "outputs": [
        {
          "output_type": "stream",
          "name": "stdout",
          "text": [
            "Epoch: 0, Loss: 0.8118663430213928, Acc: 0.7376644736842105\n",
            "Epoch: 1, Loss: 0.20373013615608215, Acc: 0.9465460526315789\n",
            "Epoch: 2, Loss: 0.10911434888839722, Acc: 0.9703947368421052\n",
            "Epoch: 3, Loss: 0.0627252459526062, Acc: 0.9805372807017543\n",
            "Epoch: 4, Loss: 0.10923654586076736, Acc: 0.972861842105263\n",
            "Epoch: 5, Loss: 0.09046061336994171, Acc: 0.9810855263157894\n",
            "Epoch: 6, Loss: 0.08001021295785904, Acc: 0.9766995614035088\n",
            "Epoch: 7, Loss: 0.058515530079603195, Acc: 0.9860197368421052\n",
            "Epoch: 8, Loss: 0.04184062033891678, Acc: 0.9868421052631579\n",
            "Epoch: 9, Loss: 0.03258498013019562, Acc: 0.9931469298245614\n",
            "Epoch: 10, Loss: 0.08805110305547714, Acc: 0.9794407894736842\n",
            "Epoch: 11, Loss: 0.054632022976875305, Acc: 0.9857456140350878\n",
            "Epoch: 12, Loss: 0.04272497445344925, Acc: 0.9893092105263157\n",
            "Epoch: 13, Loss: 0.03697117418050766, Acc: 0.9901315789473684\n",
            "Epoch: 14, Loss: 0.054149381816387177, Acc: 0.9849232456140351\n",
            "Epoch: 15, Loss: 0.025516046211123466, Acc: 0.9923245614035088\n",
            "Epoch: 16, Loss: 0.029838643968105316, Acc: 0.9934210526315789\n",
            "Epoch: 17, Loss: 0.02654775232076645, Acc: 0.9917763157894737\n",
            "Epoch: 18, Loss: 0.03581494092941284, Acc: 0.990953947368421\n",
            "Epoch: 19, Loss: 0.02988213300704956, Acc: 0.9906798245614035\n"
          ]
        }
      ]
    }
  ]
}