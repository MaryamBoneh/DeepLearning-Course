{
  "nbformat": 4,
  "nbformat_minor": 0,
  "metadata": {
    "colab": {
      "name": "Gender-Recognition.ipynb",
      "provenance": [],
      "collapsed_sections": []
    },
    "kernelspec": {
      "name": "python3",
      "display_name": "Python 3"
    },
    "language_info": {
      "name": "python"
    },
    "accelerator": "GPU"
  },
  "cells": [
    {
      "cell_type": "code",
      "metadata": {
        "id": "kSNpXSpkdpP3"
      },
      "source": [
        "!pip install kaggle"
      ],
      "execution_count": null,
      "outputs": []
    },
    {
      "cell_type": "code",
      "metadata": {
        "id": "NCrMzOD3Qlz4"
      },
      "source": [
        "!pip install retina-face"
      ],
      "execution_count": null,
      "outputs": []
    },
    {
      "cell_type": "code",
      "metadata": {
        "id": "-rVTO3ylktzC"
      },
      "source": [
        "!pip3 install wandb"
      ],
      "execution_count": null,
      "outputs": []
    },
    {
      "cell_type": "code",
      "metadata": {
        "colab": {
          "base_uri": "https://localhost:8080/"
        },
        "id": "XBsT9h-1d5dt",
        "outputId": "65a7e06c-fb0b-4d76-f11b-582c041abae9"
      },
      "source": [
        "!mkdir ~/.kaggle\n",
        "!cp kaggle.json ~/.kaggle"
      ],
      "execution_count": 4,
      "outputs": [
        {
          "output_type": "stream",
          "name": "stdout",
          "text": [
            "mkdir: cannot create directory ‘/root/.kaggle’: File exists\n"
          ]
        }
      ]
    },
    {
      "cell_type": "code",
      "metadata": {
        "colab": {
          "base_uri": "https://localhost:8080/"
        },
        "id": "OJITp9QhfIYo",
        "outputId": "0b9af59d-d186-492f-e701-d1aacc6f0065"
      },
      "source": [
        "!kaggle datasets download -d ashishjangra27/gender-recognition-200k-images-celeba"
      ],
      "execution_count": 5,
      "outputs": [
        {
          "output_type": "stream",
          "name": "stdout",
          "text": [
            "Warning: Your Kaggle API key is readable by other users on this system! To fix this, you can run 'chmod 600 /root/.kaggle/kaggle.json'\n",
            "Downloading gender-recognition-200k-images-celeba.zip to /content\n",
            " 99% 1.31G/1.32G [00:26<00:00, 57.1MB/s]\n",
            "100% 1.32G/1.32G [00:26<00:00, 53.1MB/s]\n"
          ]
        }
      ]
    },
    {
      "cell_type": "code",
      "metadata": {
        "id": "iVnwpVK8g6IV"
      },
      "source": [
        "!unzip -qq gender-recognition-200k-images-celeba.zip"
      ],
      "execution_count": 6,
      "outputs": []
    },
    {
      "cell_type": "code",
      "metadata": {
        "id": "y4UvYHeSja0E"
      },
      "source": [
        "import wandb\n",
        "import numpy as np\n",
        "import cv2\n",
        "import tensorflow as tf\n",
        "from retinaface import RetinaFace\n",
        "from wandb.keras import WandbCallback\n",
        "from tensorflow.keras.preprocessing.image import ImageDataGenerator\n",
        "from matplotlib import pyplot as plt\n",
        "from tensorflow.keras.layers import Dense, MaxPool2D, Conv2D, Flatten, BatchNormalization, MaxPooling2D, Dropout\n",
        "from tensorflow.keras.optimizers import SGD, Adam\n",
        "from sklearn.metrics import classification_report, confusion_matrix"
      ],
      "execution_count": 19,
      "outputs": []
    },
    {
      "cell_type": "code",
      "metadata": {
        "id": "pjt7f37WeJo0"
      },
      "source": [
        "wandb.init(project='gender-recognition')"
      ],
      "execution_count": null,
      "outputs": []
    },
    {
      "cell_type": "code",
      "metadata": {
        "id": "LCB1QV0mlto0"
      },
      "source": [
        "batch_size = 256\n",
        "lr = 0.001\n",
        "epoch = 40\n",
        "width = height = 64"
      ],
      "execution_count": 9,
      "outputs": []
    },
    {
      "cell_type": "code",
      "metadata": {
        "colab": {
          "base_uri": "https://localhost:8080/"
        },
        "id": "92cGa_ztkvDB",
        "outputId": "8a45bfea-e8b5-4ef2-d479-1614f7c28c20"
      },
      "source": [
        "data_generator = ImageDataGenerator(\n",
        "                                  rescale = 1 / 255,\n",
        "                                  horizontal_flip = True\n",
        "                                  )\n",
        "\n",
        "train_data = data_generator.flow_from_directory(\"Dataset/Train/\",\n",
        "                                                    target_size = (width, height),\n",
        "                                                    class_mode = 'categorical',\n",
        "                                                    batch_size = batch_size,\n",
        "                                                    shuffle = True\n",
        "                                                    )\n",
        "\n",
        "val_data = data_generator.flow_from_directory(\"Dataset/Validation/\",\n",
        "                                                    target_size = (width, height),\n",
        "                                                    class_mode = 'categorical',\n",
        "                                                    batch_size = batch_size,\n",
        "                                                    shuffle = True\n",
        "                                                    )\n",
        "\n",
        "test_data = data_generator.flow_from_directory(\"Dataset/Test/\",\n",
        "                                                    target_size = (width, height),\n",
        "                                                    class_mode = 'categorical',\n",
        "                                                    batch_size = batch_size,\n",
        "                                                    shuffle = False\n",
        "                                                    )"
      ],
      "execution_count": 10,
      "outputs": [
        {
          "output_type": "stream",
          "name": "stdout",
          "text": [
            "Found 160000 images belonging to 2 classes.\n",
            "Found 22598 images belonging to 2 classes.\n",
            "Found 20001 images belonging to 2 classes.\n"
          ]
        }
      ]
    },
    {
      "cell_type": "code",
      "metadata": {
        "id": "N4yiM0adnSFP"
      },
      "source": [
        "model = tf.keras.models.Sequential([\n",
        "\n",
        "    Conv2D(96, (11, 11), activation= 'relu', input_shape = (width, height, 3)),\n",
        "    BatchNormalization(),\n",
        "    MaxPooling2D(2),\n",
        "\n",
        "\n",
        "    Conv2D(256, (11, 11), strides=(1, 1), activation= 'relu', padding= 'same'),\n",
        "    BatchNormalization(),\n",
        "\n",
        "\n",
        "    Conv2D(384, (3, 3), strides=(1, 1), activation= 'relu', padding= 'same'),\n",
        "    BatchNormalization(),\n",
        "\n",
        "\n",
        "    Conv2D(384, (3, 3), strides=(1, 1), activation= 'relu', padding= 'same'),\n",
        "    BatchNormalization(),\n",
        "\n",
        "\n",
        "    Conv2D(256, (3, 3), strides=(1, 1), activation= 'relu', padding= 'same'),\n",
        "    BatchNormalization(),\n",
        "    MaxPooling2D(2, strides= (2, 2)),\n",
        "\n",
        "\n",
        "    Flatten(),\n",
        "\n",
        "\n",
        "    Dense(4096, activation= 'relu'),\n",
        "    Dropout(0.5),\n",
        "\n",
        "\n",
        "    Dense(4096, activation= 'relu'),\n",
        "    Dropout(0.5),\n",
        "\n",
        "\n",
        "    Dense(2, activation='sigmoid')                          \n",
        "])"
      ],
      "execution_count": 13,
      "outputs": []
    },
    {
      "cell_type": "code",
      "metadata": {
        "id": "jXmcSwigCitO",
        "colab": {
          "base_uri": "https://localhost:8080/"
        },
        "outputId": "a396b1df-71f7-47b7-afb5-55d1aba58609"
      },
      "source": [
        "base_model = tf.keras.applications.ResNet50V2(\n",
        "    input_shape=(width, height, 3),\n",
        "    include_top = False,\n",
        "    weights = 'imagenet',\n",
        "    pooling = 'max'\n",
        "    )"
      ],
      "execution_count": null,
      "outputs": [
        {
          "output_type": "stream",
          "name": "stdout",
          "text": [
            "Downloading data from https://storage.googleapis.com/tensorflow/keras-applications/resnet/resnet50v2_weights_tf_dim_ordering_tf_kernels_notop.h5\n",
            "94674944/94668760 [==============================] - 2s 0us/step\n",
            "94683136/94668760 [==============================] - 2s 0us/step\n"
          ]
        }
      ]
    },
    {
      "cell_type": "code",
      "metadata": {
        "id": "Bxr5_GmKDxKb"
      },
      "source": [
        "for layer in base_model.layers[:-8]:\n",
        "  layer.trainable = False"
      ],
      "execution_count": null,
      "outputs": []
    },
    {
      "cell_type": "code",
      "metadata": {
        "id": "Uu1YUukrD0jn"
      },
      "source": [
        "model = tf.keras.models.Sequential([\n",
        "    base_model,\n",
        "    Dense(2, activation='softmax')                          \n",
        "])"
      ],
      "execution_count": null,
      "outputs": []
    },
    {
      "cell_type": "code",
      "metadata": {
        "id": "JLwF7CtRfTu5"
      },
      "source": [
        "model.compile(optimizer = tf.keras.optimizers.SGD(),\n",
        "              loss = tf.keras.losses.categorical_crossentropy,\n",
        "              metrics='accuracy')"
      ],
      "execution_count": 14,
      "outputs": []
    },
    {
      "cell_type": "code",
      "metadata": {
        "colab": {
          "base_uri": "https://localhost:8080/"
        },
        "id": "eBSSJSwb8lH8",
        "outputId": "478f9a72-ee43-45a8-a18f-c18d24b14769"
      },
      "source": [
        "model.fit(train_data,\n",
        "          steps_per_epoch = train_data.samples / batch_size,\n",
        "          validation_data = val_data,\n",
        "          validation_steps = val_data.samples / batch_size,\n",
        "          epochs = 3,\n",
        "          callbacks = [WandbCallback()]\n",
        ")"
      ],
      "execution_count": 15,
      "outputs": [
        {
          "output_type": "stream",
          "name": "stdout",
          "text": [
            "Epoch 1/3\n",
            "  6/625 [..............................] - ETA: 12:47 - loss: 6.6916 - accuracy: 0.5013WARNING:tensorflow:Callback method `on_train_batch_end` is slow compared to the batch time (batch time: 0.3540s vs `on_train_batch_end` time: 0.7390s). Check your callbacks.\n",
            "625/625 [==============================] - 875s 1s/step - loss: 0.4449 - accuracy: 0.8308 - val_loss: 0.1987 - val_accuracy: 0.9223\n",
            "Epoch 2/3\n",
            "625/625 [==============================] - 813s 1s/step - loss: 0.1587 - accuracy: 0.9356 - val_loss: 0.1223 - val_accuracy: 0.9517\n",
            "Epoch 3/3\n",
            "625/625 [==============================] - 807s 1s/step - loss: 0.1250 - accuracy: 0.9503 - val_loss: 0.1218 - val_accuracy: 0.9527\n"
          ]
        },
        {
          "output_type": "execute_result",
          "data": {
            "text/plain": [
              "<keras.callbacks.History at 0x7f83db455310>"
            ]
          },
          "metadata": {},
          "execution_count": 15
        }
      ]
    },
    {
      "cell_type": "code",
      "metadata": {
        "id": "b9gUQxlp8nAp"
      },
      "source": [
        "model.save('/content/drive/MyDrive/gender_model_resnet.h5')"
      ],
      "execution_count": 16,
      "outputs": []
    },
    {
      "cell_type": "code",
      "metadata": {
        "id": "PgDmqAIWhFK_",
        "colab": {
          "base_uri": "https://localhost:8080/"
        },
        "outputId": "14ae0484-18a6-44f7-f25b-29beb280993d"
      },
      "source": [
        "Y_pred = model.predict(test_data)\n",
        "y_pred = np.argmax(Y_pred, axis= 1)\n",
        "\n",
        "print(confusion_matrix(test_data.classes, y_pred))\n",
        "targets = set(test_data.class_indices.keys())\n",
        "print('classification_report:')\n",
        "print(classification_report(test_data.classes, y_pred, target_names= targets))"
      ],
      "execution_count": 17,
      "outputs": [
        {
          "output_type": "stream",
          "name": "stdout",
          "text": [
            "[[11275   267]\n",
            " [  535  7924]]\n",
            "classification_report:\n",
            "              precision    recall  f1-score   support\n",
            "\n",
            "      Female       0.95      0.98      0.97     11542\n",
            "        Male       0.97      0.94      0.95      8459\n",
            "\n",
            "    accuracy                           0.96     20001\n",
            "   macro avg       0.96      0.96      0.96     20001\n",
            "weighted avg       0.96      0.96      0.96     20001\n",
            "\n"
          ]
        }
      ]
    },
    {
      "cell_type": "code",
      "metadata": {
        "id": "V879yDSzIkDL"
      },
      "source": [
        "def process_and_predict(image_path):\n",
        "    faces = RetinaFace.extract_faces(img_path= image_path, align= True)\n",
        "    image = faces[0]\n",
        "    image = cv2.resize(image, (width, height))\n",
        "    plt.imshow(image)\n",
        "    image = image / 255.0\n",
        "    image = np.expand_dims(image, axis= 0)\n",
        "    res = np.argmax(model.predict(image))\n",
        "    if res == 0:\n",
        "        print('Female\\n')\n",
        "    else:\n",
        "        print('Male\\n')"
      ],
      "execution_count": 20,
      "outputs": []
    },
    {
      "cell_type": "code",
      "metadata": {
        "colab": {
          "base_uri": "https://localhost:8080/",
          "height": 302
        },
        "id": "wv7X6qayQiPR",
        "outputId": "b63dd609-3bd3-44a4-94ed-d2f1fa164435"
      },
      "source": [
        "process_and_predict('Tom.jpeg')"
      ],
      "execution_count": 23,
      "outputs": [
        {
          "output_type": "stream",
          "name": "stdout",
          "text": [
            "Male\n",
            "\n"
          ]
        },
        {
          "output_type": "display_data",
          "data": {
            "image/png": "[encoded data removed]",
            "text/plain": [
              "<Figure size 432x288 with 1 Axes>"
            ]
          },
          "metadata": {
            "needs_background": "light"
          }
        }
      ]
    },
    {
      "cell_type": "code",
      "metadata": {
        "colab": {
          "base_uri": "https://localhost:8080/",
          "height": 302
        },
        "id": "1VcaFxorRBj-",
        "outputId": "91433036-6fe7-4de5-d0fe-0ce624236607"
      },
      "source": [
        "process_and_predict('sh.jpeg')"
      ],
      "execution_count": 22,
      "outputs": [
        {
          "output_type": "stream",
          "name": "stdout",
          "text": [
            "Female\n",
            "\n"
          ]
        },
        {
          "output_type": "display_data",
          "data": {
            "image/png": "[encoded data removed]",
            "text/plain": [
              "<Figure size 432x288 with 1 Axes>"
            ]
          },
          "metadata": {
            "needs_background": "light"
          }
        }
      ]
    },
    {
      "cell_type": "code",
      "metadata": {
        "id": "JaLr-_7rRE30"
      },
      "source": [
        ""
      ],
      "execution_count": null,
      "outputs": []
    }
  ]
}