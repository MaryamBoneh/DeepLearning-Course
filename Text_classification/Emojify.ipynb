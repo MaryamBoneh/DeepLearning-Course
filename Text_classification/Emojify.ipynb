{
  "nbformat": 4,
  "nbformat_minor": 0,
  "metadata": {
    "colab": {
      "provenance": []
    },
    "kernelspec": {
      "name": "python3",
      "display_name": "Python 3"
    },
    "language_info": {
      "name": "python"
    },
    "accelerator": "GPU",
    "gpuClass": "standard"
  },
  "cells": [
    {
      "cell_type": "code",
      "execution_count": null,
      "metadata": {
        "id": "j0vStCL-bJZu"
      },
      "outputs": [],
      "source": [
        "import pandas as pd\n",
        "import numpy as np\n",
        "import tensorflow as tf\n",
        "from tensorflow.keras.models import Model\n",
        "from tensorflow.keras.layers import Dense, Dropout, LSTM\n",
        "from tensorflow.keras.preprocessing import sequence"
      ]
    },
    {
      "cell_type": "code",
      "source": [
        "def read_csv(file_name):\n",
        "    data_frame = pd.read_csv(file_name)\n",
        "    x = np.asarray(data_frame[\"sentence\"])\n",
        "    y = np.asarray(data_frame[\"label\"], dtype=int)\n",
        "    return x, y\n"
      ],
      "metadata": {
        "id": "3gEY0w-tdRut"
      },
      "execution_count": null,
      "outputs": []
    },
    {
      "cell_type": "code",
      "source": [
        "x_train, y_train = read_csv(\"/content/drive/MyDrive/Datasets/Emoji_Text_Classification/train.csv\")\n",
        "x_test, y_test = read_csv(\"/content/drive/MyDrive/Datasets/Emoji_Text_Classification/test.csv\")"
      ],
      "metadata": {
        "id": "49thN_97k9iT"
      },
      "execution_count": null,
      "outputs": []
    },
    {
      "cell_type": "code",
      "source": [
        "def label_to_emoji():\n",
        "    emoji = [ghalb, baseball, happy, sad, food]"
      ],
      "metadata": {
        "id": "aep8MIgodUsp"
      },
      "execution_count": null,
      "outputs": []
    },
    {
      "cell_type": "code",
      "source": [
        "max_len = len(max(x_train, key=len).split(\" \"))\n",
        "max_len"
      ],
      "metadata": {
        "colab": {
          "base_uri": "https://localhost:8080/"
        },
        "id": "EvVPydn8d8bD",
        "outputId": "adfacd89-8d22-4ffb-ec57-d11a846e4a60"
      },
      "execution_count": null,
      "outputs": [
        {
          "output_type": "execute_result",
          "data": {
            "text/plain": [
              "10"
            ]
          },
          "metadata": {},
          "execution_count": 19
        }
      ]
    },
    {
      "cell_type": "markdown",
      "source": [
        "### EmojiFire v1"
      ],
      "metadata": {
        "id": "Z95eWteyeW68"
      }
    },
    {
      "cell_type": "code",
      "source": [
        "!wget https://nlp.stanford.edu/data/glove.6B.zip --no-verbose\n",
        "!unzip -q glove.6B.zip -d glove.6B"
      ],
      "metadata": {
        "colab": {
          "base_uri": "https://localhost:8080/"
        },
        "id": "8j6McNxzeUu8",
        "outputId": "803a4f4d-6b4e-405e-ab5a-e8322b3c7842"
      },
      "execution_count": null,
      "outputs": [
        {
          "output_type": "stream",
          "name": "stdout",
          "text": [
            "2022-11-04 12:10:02 URL:https://downloads.cs.stanford.edu/nlp/data/glove.6B.zip [862182613/862182613] -> \"glove.6B.zip\" [1]\n"
          ]
        }
      ]
    },
    {
      "cell_type": "code",
      "source": [
        "def read_glove_vectors(glove_file):\n",
        "    f = open(glove_file, encoding=\"utf8\")\n",
        "    \n",
        "    words = set()\n",
        "    words_to_vec = dict()\n",
        "\n",
        "    for line in f:\n",
        "      line = line.strip().split(\" \")\n",
        "      word = line[0]\n",
        "      vec = line[1:]\n",
        "      words.add(word)\n",
        "\n",
        "      words_to_vec[word] = np.array(vec, dtype=np.float64)\n",
        "    \n",
        "    return words_to_vec\n"
      ],
      "metadata": {
        "id": "qN8i_4jwienL"
      },
      "execution_count": null,
      "outputs": []
    },
    {
      "cell_type": "code",
      "source": [
        "words_to_vec = read_glove_vectors('/content/glove.6B/glove.6B.50d.txt')"
      ],
      "metadata": {
        "id": "DGMAEvk5n12U"
      },
      "execution_count": null,
      "outputs": []
    },
    {
      "cell_type": "code",
      "source": [
        "words_to_vec[\"ali\"]"
      ],
      "metadata": {
        "colab": {
          "base_uri": "https://localhost:8080/"
        },
        "id": "dtVI9QY7sOf3",
        "outputId": "cb628c41-3728-4351-d508-cf8324487221"
      },
      "execution_count": null,
      "outputs": [
        {
          "output_type": "execute_result",
          "data": {
            "text/plain": [
              "array([-0.71587 ,  0.7874  ,  0.71305 , -0.089955,  1.366   , -1.3149  ,\n",
              "        0.7309  ,  0.79725 ,  0.47211 ,  0.53347 ,  0.37542 , -0.10256 ,\n",
              "       -1.0003  , -0.31226 ,  0.26217 ,  0.92426 ,  0.43014 , -0.015593,\n",
              "        0.4149  ,  0.88286 ,  0.10869 ,  0.95213 ,  1.1807  ,  0.06445 ,\n",
              "       -0.05814 , -1.797   , -0.18432 , -0.41754 , -0.73625 ,  1.1607  ,\n",
              "        1.5932  , -0.70268 , -0.61621 ,  0.47118 ,  0.95046 ,  0.35206 ,\n",
              "        0.6072  ,  0.59339 , -0.47091 ,  1.4916  ,  0.27146 ,  1.8252  ,\n",
              "       -1.2073  , -0.80058 ,  0.52558 , -0.33346 , -1.4102  , -0.21514 ,\n",
              "        0.12945 , -0.69603 ])"
            ]
          },
          "metadata": {},
          "execution_count": 24
        }
      ]
    },
    {
      "cell_type": "code",
      "source": [
        "def sentence_to_avg(sentence):\n",
        "   words = sentence.lower().split(\" \")\n",
        "   sum_vectors = np.zeros((50,))\n",
        "   for w in words:\n",
        "     sum_vectors += words_to_vec[w]\n",
        "     \n",
        "   avg_vectors = sum_vectors / len(words)\n",
        "   return avg_vectors\n"
      ],
      "metadata": {
        "id": "x60KWC8osT8G"
      },
      "execution_count": null,
      "outputs": []
    },
    {
      "cell_type": "code",
      "source": [
        "x_train_avg = []\n"
      ],
      "metadata": {
        "id": "6RVNNJGwn1yK"
      },
      "execution_count": null,
      "outputs": []
    },
    {
      "cell_type": "code",
      "source": [
        "return_sequences=True"
      ],
      "metadata": {
        "id": "B3uCLKNGvqzZ"
      },
      "execution_count": null,
      "outputs": []
    }
  ]
}