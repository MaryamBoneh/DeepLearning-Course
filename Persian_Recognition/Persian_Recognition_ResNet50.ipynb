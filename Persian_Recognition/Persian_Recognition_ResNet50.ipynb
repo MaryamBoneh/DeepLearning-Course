{
  "nbformat": 4,
  "nbformat_minor": 0,
  "metadata": {
    "colab": {
      "name": "Persian_Recognition_ResNet50.ipynb",
      "provenance": [],
      "collapsed_sections": []
    },
    "kernelspec": {
      "name": "python3",
      "display_name": "Python 3"
    },
    "language_info": {
      "name": "python"
    },
    "accelerator": "GPU"
  },
  "cells": [
    {
      "cell_type": "code",
      "metadata": {
        "colab": {
          "base_uri": "https://localhost:8080/"
        },
        "id": "pipPvIwWa_yl",
        "outputId": "84d18084-865c-4558-f6dd-cae4aa024db4"
      },
      "source": [
        "!pip3 install wandb"
      ],
      "execution_count": 2,
      "outputs": [
        {
          "output_type": "stream",
          "name": "stdout",
          "text": [
            "Collecting wandb\n",
            "  Downloading wandb-0.12.2-py2.py3-none-any.whl (1.7 MB)\n",
            "\u001b[?25l\r\u001b[K     |▏                               | 10 kB 4.6 MB/s eta 0:00:01\r\u001b[K     |▍                               | 20 kB 5.2 MB/s eta 0:00:01\r\u001b[K     |▋                               | 30 kB 5.3 MB/s eta 0:00:01\r\u001b[K     |▉                               | 40 kB 3.4 MB/s eta 0:00:01\r\u001b[K     |█                               | 51 kB 4.1 MB/s eta 0:00:01\r\u001b[K     |█▏                              | 61 kB 4.5 MB/s eta 0:00:01\r\u001b[K     |█▍                              | 71 kB 4.7 MB/s eta 0:00:01\r\u001b[K     |█▋                              | 81 kB 5.2 MB/s eta 0:00:01\r\u001b[K     |█▊                              | 92 kB 5.2 MB/s eta 0:00:01\r\u001b[K     |██                              | 102 kB 4.5 MB/s eta 0:00:01\r\u001b[K     |██▏                             | 112 kB 4.5 MB/s eta 0:00:01\r\u001b[K     |██▍                             | 122 kB 4.5 MB/s eta 0:00:01\r\u001b[K     |██▋                             | 133 kB 4.5 MB/s eta 0:00:01\r\u001b[K     |██▊                             | 143 kB 4.5 MB/s eta 0:00:01\r\u001b[K     |███                             | 153 kB 4.5 MB/s eta 0:00:01\r\u001b[K     |███▏                            | 163 kB 4.5 MB/s eta 0:00:01\r\u001b[K     |███▍                            | 174 kB 4.5 MB/s eta 0:00:01\r\u001b[K     |███▌                            | 184 kB 4.5 MB/s eta 0:00:01\r\u001b[K     |███▊                            | 194 kB 4.5 MB/s eta 0:00:01\r\u001b[K     |████                            | 204 kB 4.5 MB/s eta 0:00:01\r\u001b[K     |████▏                           | 215 kB 4.5 MB/s eta 0:00:01\r\u001b[K     |████▍                           | 225 kB 4.5 MB/s eta 0:00:01\r\u001b[K     |████▌                           | 235 kB 4.5 MB/s eta 0:00:01\r\u001b[K     |████▊                           | 245 kB 4.5 MB/s eta 0:00:01\r\u001b[K     |█████                           | 256 kB 4.5 MB/s eta 0:00:01\r\u001b[K     |█████▏                          | 266 kB 4.5 MB/s eta 0:00:01\r\u001b[K     |█████▎                          | 276 kB 4.5 MB/s eta 0:00:01\r\u001b[K     |█████▌                          | 286 kB 4.5 MB/s eta 0:00:01\r\u001b[K     |█████▊                          | 296 kB 4.5 MB/s eta 0:00:01\r\u001b[K     |██████                          | 307 kB 4.5 MB/s eta 0:00:01\r\u001b[K     |██████▏                         | 317 kB 4.5 MB/s eta 0:00:01\r\u001b[K     |██████▎                         | 327 kB 4.5 MB/s eta 0:00:01\r\u001b[K     |██████▌                         | 337 kB 4.5 MB/s eta 0:00:01\r\u001b[K     |██████▊                         | 348 kB 4.5 MB/s eta 0:00:01\r\u001b[K     |███████                         | 358 kB 4.5 MB/s eta 0:00:01\r\u001b[K     |███████                         | 368 kB 4.5 MB/s eta 0:00:01\r\u001b[K     |███████▎                        | 378 kB 4.5 MB/s eta 0:00:01\r\u001b[K     |███████▌                        | 389 kB 4.5 MB/s eta 0:00:01\r\u001b[K     |███████▊                        | 399 kB 4.5 MB/s eta 0:00:01\r\u001b[K     |███████▉                        | 409 kB 4.5 MB/s eta 0:00:01\r\u001b[K     |████████                        | 419 kB 4.5 MB/s eta 0:00:01\r\u001b[K     |████████▎                       | 430 kB 4.5 MB/s eta 0:00:01\r\u001b[K     |████████▌                       | 440 kB 4.5 MB/s eta 0:00:01\r\u001b[K     |████████▊                       | 450 kB 4.5 MB/s eta 0:00:01\r\u001b[K     |████████▉                       | 460 kB 4.5 MB/s eta 0:00:01\r\u001b[K     |█████████                       | 471 kB 4.5 MB/s eta 0:00:01\r\u001b[K     |█████████▎                      | 481 kB 4.5 MB/s eta 0:00:01\r\u001b[K     |█████████▌                      | 491 kB 4.5 MB/s eta 0:00:01\r\u001b[K     |█████████▋                      | 501 kB 4.5 MB/s eta 0:00:01\r\u001b[K     |█████████▉                      | 512 kB 4.5 MB/s eta 0:00:01\r\u001b[K     |██████████                      | 522 kB 4.5 MB/s eta 0:00:01\r\u001b[K     |██████████▎                     | 532 kB 4.5 MB/s eta 0:00:01\r\u001b[K     |██████████▌                     | 542 kB 4.5 MB/s eta 0:00:01\r\u001b[K     |██████████▋                     | 552 kB 4.5 MB/s eta 0:00:01\r\u001b[K     |██████████▉                     | 563 kB 4.5 MB/s eta 0:00:01\r\u001b[K     |███████████                     | 573 kB 4.5 MB/s eta 0:00:01\r\u001b[K     |███████████▎                    | 583 kB 4.5 MB/s eta 0:00:01\r\u001b[K     |███████████▍                    | 593 kB 4.5 MB/s eta 0:00:01\r\u001b[K     |███████████▋                    | 604 kB 4.5 MB/s eta 0:00:01\r\u001b[K     |███████████▉                    | 614 kB 4.5 MB/s eta 0:00:01\r\u001b[K     |████████████                    | 624 kB 4.5 MB/s eta 0:00:01\r\u001b[K     |████████████▎                   | 634 kB 4.5 MB/s eta 0:00:01\r\u001b[K     |████████████▍                   | 645 kB 4.5 MB/s eta 0:00:01\r\u001b[K     |████████████▋                   | 655 kB 4.5 MB/s eta 0:00:01\r\u001b[K     |████████████▉                   | 665 kB 4.5 MB/s eta 0:00:01\r\u001b[K     |█████████████                   | 675 kB 4.5 MB/s eta 0:00:01\r\u001b[K     |█████████████▏                  | 686 kB 4.5 MB/s eta 0:00:01\r\u001b[K     |█████████████▍                  | 696 kB 4.5 MB/s eta 0:00:01\r\u001b[K     |█████████████▋                  | 706 kB 4.5 MB/s eta 0:00:01\r\u001b[K     |█████████████▉                  | 716 kB 4.5 MB/s eta 0:00:01\r\u001b[K     |██████████████                  | 727 kB 4.5 MB/s eta 0:00:01\r\u001b[K     |██████████████▏                 | 737 kB 4.5 MB/s eta 0:00:01\r\u001b[K     |██████████████▍                 | 747 kB 4.5 MB/s eta 0:00:01\r\u001b[K     |██████████████▋                 | 757 kB 4.5 MB/s eta 0:00:01\r\u001b[K     |██████████████▉                 | 768 kB 4.5 MB/s eta 0:00:01\r\u001b[K     |███████████████                 | 778 kB 4.5 MB/s eta 0:00:01\r\u001b[K     |███████████████▏                | 788 kB 4.5 MB/s eta 0:00:01\r\u001b[K     |███████████████▍                | 798 kB 4.5 MB/s eta 0:00:01\r\u001b[K     |███████████████▋                | 808 kB 4.5 MB/s eta 0:00:01\r\u001b[K     |███████████████▊                | 819 kB 4.5 MB/s eta 0:00:01\r\u001b[K     |████████████████                | 829 kB 4.5 MB/s eta 0:00:01\r\u001b[K     |████████████████▏               | 839 kB 4.5 MB/s eta 0:00:01\r\u001b[K     |████████████████▍               | 849 kB 4.5 MB/s eta 0:00:01\r\u001b[K     |████████████████▋               | 860 kB 4.5 MB/s eta 0:00:01\r\u001b[K     |████████████████▊               | 870 kB 4.5 MB/s eta 0:00:01\r\u001b[K     |█████████████████               | 880 kB 4.5 MB/s eta 0:00:01\r\u001b[K     |█████████████████▏              | 890 kB 4.5 MB/s eta 0:00:01\r\u001b[K     |█████████████████▍              | 901 kB 4.5 MB/s eta 0:00:01\r\u001b[K     |█████████████████▌              | 911 kB 4.5 MB/s eta 0:00:01\r\u001b[K     |█████████████████▊              | 921 kB 4.5 MB/s eta 0:00:01\r\u001b[K     |██████████████████              | 931 kB 4.5 MB/s eta 0:00:01\r\u001b[K     |██████████████████▏             | 942 kB 4.5 MB/s eta 0:00:01\r\u001b[K     |██████████████████▍             | 952 kB 4.5 MB/s eta 0:00:01\r\u001b[K     |██████████████████▌             | 962 kB 4.5 MB/s eta 0:00:01\r\u001b[K     |██████████████████▊             | 972 kB 4.5 MB/s eta 0:00:01\r\u001b[K     |███████████████████             | 983 kB 4.5 MB/s eta 0:00:01\r\u001b[K     |███████████████████▏            | 993 kB 4.5 MB/s eta 0:00:01\r\u001b[K     |███████████████████▎            | 1.0 MB 4.5 MB/s eta 0:00:01\r\u001b[K     |███████████████████▌            | 1.0 MB 4.5 MB/s eta 0:00:01\r\u001b[K     |███████████████████▊            | 1.0 MB 4.5 MB/s eta 0:00:01\r\u001b[K     |████████████████████            | 1.0 MB 4.5 MB/s eta 0:00:01\r\u001b[K     |████████████████████▏           | 1.0 MB 4.5 MB/s eta 0:00:01\r\u001b[K     |████████████████████▎           | 1.1 MB 4.5 MB/s eta 0:00:01\r\u001b[K     |████████████████████▌           | 1.1 MB 4.5 MB/s eta 0:00:01\r\u001b[K     |████████████████████▊           | 1.1 MB 4.5 MB/s eta 0:00:01\r\u001b[K     |█████████████████████           | 1.1 MB 4.5 MB/s eta 0:00:01\r\u001b[K     |█████████████████████           | 1.1 MB 4.5 MB/s eta 0:00:01\r\u001b[K     |█████████████████████▎          | 1.1 MB 4.5 MB/s eta 0:00:01\r\u001b[K     |█████████████████████▌          | 1.1 MB 4.5 MB/s eta 0:00:01\r\u001b[K     |█████████████████████▊          | 1.1 MB 4.5 MB/s eta 0:00:01\r\u001b[K     |██████████████████████          | 1.1 MB 4.5 MB/s eta 0:00:01\r\u001b[K     |██████████████████████          | 1.1 MB 4.5 MB/s eta 0:00:01\r\u001b[K     |██████████████████████▎         | 1.2 MB 4.5 MB/s eta 0:00:01\r\u001b[K     |██████████████████████▌         | 1.2 MB 4.5 MB/s eta 0:00:01\r\u001b[K     |██████████████████████▊         | 1.2 MB 4.5 MB/s eta 0:00:01\r\u001b[K     |██████████████████████▉         | 1.2 MB 4.5 MB/s eta 0:00:01\r\u001b[K     |███████████████████████         | 1.2 MB 4.5 MB/s eta 0:00:01\r\u001b[K     |███████████████████████▎        | 1.2 MB 4.5 MB/s eta 0:00:01\r\u001b[K     |███████████████████████▌        | 1.2 MB 4.5 MB/s eta 0:00:01\r\u001b[K     |███████████████████████▋        | 1.2 MB 4.5 MB/s eta 0:00:01\r\u001b[K     |███████████████████████▉        | 1.2 MB 4.5 MB/s eta 0:00:01\r\u001b[K     |████████████████████████        | 1.2 MB 4.5 MB/s eta 0:00:01\r\u001b[K     |████████████████████████▎       | 1.3 MB 4.5 MB/s eta 0:00:01\r\u001b[K     |████████████████████████▌       | 1.3 MB 4.5 MB/s eta 0:00:01\r\u001b[K     |████████████████████████▋       | 1.3 MB 4.5 MB/s eta 0:00:01\r\u001b[K     |████████████████████████▉       | 1.3 MB 4.5 MB/s eta 0:00:01\r\u001b[K     |█████████████████████████       | 1.3 MB 4.5 MB/s eta 0:00:01\r\u001b[K     |█████████████████████████▎      | 1.3 MB 4.5 MB/s eta 0:00:01\r\u001b[K     |█████████████████████████▍      | 1.3 MB 4.5 MB/s eta 0:00:01\r\u001b[K     |█████████████████████████▋      | 1.3 MB 4.5 MB/s eta 0:00:01\r\u001b[K     |█████████████████████████▉      | 1.3 MB 4.5 MB/s eta 0:00:01\r\u001b[K     |██████████████████████████      | 1.4 MB 4.5 MB/s eta 0:00:01\r\u001b[K     |██████████████████████████▎     | 1.4 MB 4.5 MB/s eta 0:00:01\r\u001b[K     |██████████████████████████▍     | 1.4 MB 4.5 MB/s eta 0:00:01\r\u001b[K     |██████████████████████████▋     | 1.4 MB 4.5 MB/s eta 0:00:01\r\u001b[K     |██████████████████████████▉     | 1.4 MB 4.5 MB/s eta 0:00:01\r\u001b[K     |███████████████████████████     | 1.4 MB 4.5 MB/s eta 0:00:01\r\u001b[K     |███████████████████████████▏    | 1.4 MB 4.5 MB/s eta 0:00:01\r\u001b[K     |███████████████████████████▍    | 1.4 MB 4.5 MB/s eta 0:00:01\r\u001b[K     |███████████████████████████▋    | 1.4 MB 4.5 MB/s eta 0:00:01\r\u001b[K     |███████████████████████████▉    | 1.4 MB 4.5 MB/s eta 0:00:01\r\u001b[K     |████████████████████████████    | 1.5 MB 4.5 MB/s eta 0:00:01\r\u001b[K     |████████████████████████████▏   | 1.5 MB 4.5 MB/s eta 0:00:01\r\u001b[K     |████████████████████████████▍   | 1.5 MB 4.5 MB/s eta 0:00:01\r\u001b[K     |████████████████████████████▋   | 1.5 MB 4.5 MB/s eta 0:00:01\r\u001b[K     |████████████████████████████▉   | 1.5 MB 4.5 MB/s eta 0:00:01\r\u001b[K     |█████████████████████████████   | 1.5 MB 4.5 MB/s eta 0:00:01\r\u001b[K     |█████████████████████████████▏  | 1.5 MB 4.5 MB/s eta 0:00:01\r\u001b[K     |█████████████████████████████▍  | 1.5 MB 4.5 MB/s eta 0:00:01\r\u001b[K     |█████████████████████████████▋  | 1.5 MB 4.5 MB/s eta 0:00:01\r\u001b[K     |█████████████████████████████▉  | 1.5 MB 4.5 MB/s eta 0:00:01\r\u001b[K     |██████████████████████████████  | 1.6 MB 4.5 MB/s eta 0:00:01\r\u001b[K     |██████████████████████████████▏ | 1.6 MB 4.5 MB/s eta 0:00:01\r\u001b[K     |██████████████████████████████▍ | 1.6 MB 4.5 MB/s eta 0:00:01\r\u001b[K     |██████████████████████████████▋ | 1.6 MB 4.5 MB/s eta 0:00:01\r\u001b[K     |██████████████████████████████▊ | 1.6 MB 4.5 MB/s eta 0:00:01\r\u001b[K     |███████████████████████████████ | 1.6 MB 4.5 MB/s eta 0:00:01\r\u001b[K     |███████████████████████████████▏| 1.6 MB 4.5 MB/s eta 0:00:01\r\u001b[K     |███████████████████████████████▍| 1.6 MB 4.5 MB/s eta 0:00:01\r\u001b[K     |███████████████████████████████▌| 1.6 MB 4.5 MB/s eta 0:00:01\r\u001b[K     |███████████████████████████████▊| 1.6 MB 4.5 MB/s eta 0:00:01\r\u001b[K     |████████████████████████████████| 1.7 MB 4.5 MB/s eta 0:00:01\r\u001b[K     |████████████████████████████████| 1.7 MB 4.5 MB/s \n",
            "\u001b[?25hCollecting yaspin>=1.0.0\n",
            "  Downloading yaspin-2.1.0-py3-none-any.whl (18 kB)\n",
            "Collecting pathtools\n",
            "  Downloading pathtools-0.1.2.tar.gz (11 kB)\n",
            "Requirement already satisfied: PyYAML in /usr/local/lib/python3.7/dist-packages (from wandb) (3.13)\n",
            "Requirement already satisfied: psutil>=5.0.0 in /usr/local/lib/python3.7/dist-packages (from wandb) (5.4.8)\n",
            "Requirement already satisfied: requests<3,>=2.0.0 in /usr/local/lib/python3.7/dist-packages (from wandb) (2.23.0)\n",
            "Collecting shortuuid>=0.5.0\n",
            "  Downloading shortuuid-1.0.1-py3-none-any.whl (7.5 kB)\n",
            "Requirement already satisfied: six>=1.13.0 in /usr/local/lib/python3.7/dist-packages (from wandb) (1.15.0)\n",
            "Collecting configparser>=3.8.1\n",
            "  Downloading configparser-5.0.2-py3-none-any.whl (19 kB)\n",
            "Collecting docker-pycreds>=0.4.0\n",
            "  Downloading docker_pycreds-0.4.0-py2.py3-none-any.whl (9.0 kB)\n",
            "Requirement already satisfied: python-dateutil>=2.6.1 in /usr/local/lib/python3.7/dist-packages (from wandb) (2.8.2)\n",
            "Requirement already satisfied: Click!=8.0.0,>=7.0 in /usr/local/lib/python3.7/dist-packages (from wandb) (7.1.2)\n",
            "Requirement already satisfied: promise<3,>=2.0 in /usr/local/lib/python3.7/dist-packages (from wandb) (2.3)\n",
            "Requirement already satisfied: protobuf>=3.12.0 in /usr/local/lib/python3.7/dist-packages (from wandb) (3.17.3)\n",
            "Collecting subprocess32>=3.5.3\n",
            "  Downloading subprocess32-3.5.4.tar.gz (97 kB)\n",
            "\u001b[K     |████████████████████████████████| 97 kB 6.6 MB/s \n",
            "\u001b[?25hCollecting GitPython>=1.0.0\n",
            "  Downloading GitPython-3.1.24-py3-none-any.whl (180 kB)\n",
            "\u001b[K     |████████████████████████████████| 180 kB 47.2 MB/s \n",
            "\u001b[?25hCollecting sentry-sdk>=1.0.0\n",
            "  Downloading sentry_sdk-1.4.1-py2.py3-none-any.whl (139 kB)\n",
            "\u001b[K     |████████████████████████████████| 139 kB 50.0 MB/s \n",
            "\u001b[?25hRequirement already satisfied: typing-extensions>=3.7.4.3 in /usr/local/lib/python3.7/dist-packages (from GitPython>=1.0.0->wandb) (3.7.4.3)\n",
            "Collecting gitdb<5,>=4.0.1\n",
            "  Downloading gitdb-4.0.7-py3-none-any.whl (63 kB)\n",
            "\u001b[K     |████████████████████████████████| 63 kB 1.9 MB/s \n",
            "\u001b[?25hCollecting smmap<5,>=3.0.1\n",
            "  Downloading smmap-4.0.0-py2.py3-none-any.whl (24 kB)\n",
            "Requirement already satisfied: urllib3!=1.25.0,!=1.25.1,<1.26,>=1.21.1 in /usr/local/lib/python3.7/dist-packages (from requests<3,>=2.0.0->wandb) (1.24.3)\n",
            "Requirement already satisfied: certifi>=2017.4.17 in /usr/local/lib/python3.7/dist-packages (from requests<3,>=2.0.0->wandb) (2021.5.30)\n",
            "Requirement already satisfied: chardet<4,>=3.0.2 in /usr/local/lib/python3.7/dist-packages (from requests<3,>=2.0.0->wandb) (3.0.4)\n",
            "Requirement already satisfied: idna<3,>=2.5 in /usr/local/lib/python3.7/dist-packages (from requests<3,>=2.0.0->wandb) (2.10)\n",
            "Requirement already satisfied: termcolor<2.0.0,>=1.1.0 in /usr/local/lib/python3.7/dist-packages (from yaspin>=1.0.0->wandb) (1.1.0)\n",
            "Building wheels for collected packages: subprocess32, pathtools\n",
            "  Building wheel for subprocess32 (setup.py) ... \u001b[?25l\u001b[?25hdone\n",
            "  Created wheel for subprocess32: filename=subprocess32-3.5.4-py3-none-any.whl size=6502 sha256=9406010e15008276456f8afd22416ba1de3649d80b3d6dbad54fa2a7587dcca5\n",
            "  Stored in directory: /root/.cache/pip/wheels/50/ca/fa/8fca8d246e64f19488d07567547ddec8eb084e8c0d7a59226a\n",
            "  Building wheel for pathtools (setup.py) ... \u001b[?25l\u001b[?25hdone\n",
            "  Created wheel for pathtools: filename=pathtools-0.1.2-py3-none-any.whl size=8807 sha256=1c2e721305760fc662478c1de32c3d1673fb6c861e4580925abef6c1c3248971\n",
            "  Stored in directory: /root/.cache/pip/wheels/3e/31/09/fa59cef12cdcfecc627b3d24273699f390e71828921b2cbba2\n",
            "Successfully built subprocess32 pathtools\n",
            "Installing collected packages: smmap, gitdb, yaspin, subprocess32, shortuuid, sentry-sdk, pathtools, GitPython, docker-pycreds, configparser, wandb\n",
            "Successfully installed GitPython-3.1.24 configparser-5.0.2 docker-pycreds-0.4.0 gitdb-4.0.7 pathtools-0.1.2 sentry-sdk-1.4.1 shortuuid-1.0.1 smmap-4.0.0 subprocess32-3.5.4 wandb-0.12.2 yaspin-2.1.0\n"
          ]
        }
      ]
    },
    {
      "cell_type": "code",
      "metadata": {
        "id": "HMJzreLQbDry"
      },
      "source": [
        "import cv2\n",
        "import os\n",
        "import wandb\n",
        "import numpy as np\n",
        "import cv2\n",
        "import tensorflow as tf\n",
        "from wandb.keras import WandbCallback\n",
        "from tensorflow.keras.preprocessing.image import ImageDataGenerator\n",
        "from matplotlib import pyplot as plt\n",
        "from tensorflow.keras.layers import Dense, MaxPool2D, Conv2D, Flatten\n",
        "from tensorflow.keras.optimizers import SGD, Adam"
      ],
      "execution_count": 3,
      "outputs": []
    },
    {
      "cell_type": "code",
      "metadata": {
        "id": "rqWGzxo2bFXn"
      },
      "source": [
        "folder_address = '/content/drive/MyDrive/Persian_Recognition/'"
      ],
      "execution_count": 4,
      "outputs": []
    },
    {
      "cell_type": "code",
      "metadata": {
        "id": "CuxUBKGRbHUL"
      },
      "source": [
        "wandb.init(project='Persian_Recognition')"
      ],
      "execution_count": null,
      "outputs": []
    },
    {
      "cell_type": "code",
      "metadata": {
        "id": "6SpjNiTdbJ2v"
      },
      "source": [
        "config = wandb.config\n",
        "config.learning_rate = 0.001"
      ],
      "execution_count": 8,
      "outputs": []
    },
    {
      "cell_type": "code",
      "metadata": {
        "id": "W7Ens2jybMPf"
      },
      "source": [
        "width = 224\n",
        "height = 224"
      ],
      "execution_count": 9,
      "outputs": []
    },
    {
      "cell_type": "code",
      "metadata": {
        "id": "5r5SGR9IbWIZ"
      },
      "source": [
        "batch_size = 64"
      ],
      "execution_count": 10,
      "outputs": []
    },
    {
      "cell_type": "code",
      "metadata": {
        "colab": {
          "base_uri": "https://localhost:8080/"
        },
        "id": "jlULVspCbXJ_",
        "outputId": "92b11bbd-9800-4fcb-ece4-866931f234c5"
      },
      "source": [
        "data_generator = ImageDataGenerator(\n",
        "    rescale = 1 / 255,\n",
        "    validation_split = 0.2,\n",
        "    horizontal_flip = True\n",
        ")\n",
        "train_data = data_generator.flow_from_directory(folder_address,\n",
        "                                                    target_size = (width, height),\n",
        "                                                    class_mode = 'categorical',\n",
        "                                                    batch_size = batch_size,\n",
        "                                                    shuffle = True,\n",
        "                                                    subset ='training')\n",
        "\n",
        "val_data = data_generator.flow_from_directory(folder_address,\n",
        "                                                    target_size = (width, height),\n",
        "                                                    class_mode = 'categorical',\n",
        "                                                    batch_size = batch_size,\n",
        "                                                    shuffle = True,\n",
        "                                                    subset ='validation')"
      ],
      "execution_count": 11,
      "outputs": [
        {
          "output_type": "stream",
          "name": "stdout",
          "text": [
            "Found 2310 images belonging to 2 classes.\n",
            "Found 576 images belonging to 2 classes.\n"
          ]
        }
      ]
    },
    {
      "cell_type": "code",
      "metadata": {
        "colab": {
          "base_uri": "https://localhost:8080/"
        },
        "id": "8NEsfLb_bY8Y",
        "outputId": "bcd81f5b-709b-43c3-fa80-55be994becfc"
      },
      "source": [
        "base_model = tf.keras.applications.ResNet50V2(\n",
        "    input_shape=(width, height, 3),\n",
        "    include_top = False,\n",
        "    weights = 'imagenet',\n",
        "    pooling = 'max'\n",
        "    )"
      ],
      "execution_count": 12,
      "outputs": [
        {
          "output_type": "stream",
          "name": "stdout",
          "text": [
            "Downloading data from https://storage.googleapis.com/tensorflow/keras-applications/resnet/resnet50v2_weights_tf_dim_ordering_tf_kernels_notop.h5\n",
            "94674944/94668760 [==============================] - 1s 0us/step\n",
            "94683136/94668760 [==============================] - 1s 0us/step\n"
          ]
        }
      ]
    },
    {
      "cell_type": "code",
      "metadata": {
        "id": "dEspZ-EibkFm"
      },
      "source": [
        "base_model.summary()"
      ],
      "execution_count": null,
      "outputs": []
    },
    {
      "cell_type": "code",
      "metadata": {
        "id": "fvKR_dGAbkmX"
      },
      "source": [
        "for layer in base_model.layers[:-8]:\n",
        "  layer.trainable = False"
      ],
      "execution_count": 14,
      "outputs": []
    },
    {
      "cell_type": "code",
      "metadata": {
        "id": "Jtpy0eS6byTk"
      },
      "source": [
        "model = tf.keras.models.Sequential([\n",
        "    base_model,\n",
        "    Dense(2, activation='softmax')                          \n",
        "])"
      ],
      "execution_count": 16,
      "outputs": []
    },
    {
      "cell_type": "code",
      "metadata": {
        "id": "55x7HGX1b4QB"
      },
      "source": [
        "model.compile(optimizer = tf.keras.optimizers.SGD(),\n",
        "              loss = tf.keras.losses.binary_crossentropy,\n",
        "              metrics='accuracy')"
      ],
      "execution_count": 17,
      "outputs": []
    },
    {
      "cell_type": "code",
      "metadata": {
        "colab": {
          "base_uri": "https://localhost:8080/"
        },
        "id": "Xfsn0-mXb6FX",
        "outputId": "89944088-c10b-4d4d-dbc0-9d8b897176cb"
      },
      "source": [
        "model.fit(train_data,\n",
        "          steps_per_epoch = train_data.samples / batch_size,\n",
        "          validation_data = val_data,\n",
        "          validation_steps = val_data.samples / batch_size,\n",
        "          epochs = 12,\n",
        "          class_weight = {0:1, 1:3},\n",
        "          callbacks = [WandbCallback()])"
      ],
      "execution_count": 18,
      "outputs": [
        {
          "output_type": "stream",
          "name": "stdout",
          "text": [
            "Epoch 1/12\n",
            "36/36 [==============================] - 1663s 45s/step - loss: 1.4825 - accuracy: 0.8792 - val_loss: 2.6810 - val_accuracy: 0.6406\n"
          ]
        },
        {
          "output_type": "stream",
          "name": "stderr",
          "text": [
            "/usr/local/lib/python3.7/dist-packages/keras/utils/generic_utils.py:497: CustomMaskWarning: Custom mask layers require a config and must override get_config. When loading, the custom mask layer must be passed to the custom_objects argument.\n",
            "  category=CustomMaskWarning)\n"
          ]
        },
        {
          "output_type": "stream",
          "name": "stdout",
          "text": [
            "Epoch 2/12\n",
            "36/36 [==============================] - 28s 784ms/step - loss: 0.2449 - accuracy: 0.9524 - val_loss: 0.5112 - val_accuracy: 0.8872\n",
            "Epoch 3/12\n",
            "36/36 [==============================] - 28s 779ms/step - loss: 0.1191 - accuracy: 0.9753 - val_loss: 0.4183 - val_accuracy: 0.9010\n",
            "Epoch 4/12\n",
            "36/36 [==============================] - 28s 795ms/step - loss: 0.1424 - accuracy: 0.9719 - val_loss: 0.3495 - val_accuracy: 0.8976\n",
            "Epoch 5/12\n",
            "36/36 [==============================] - 28s 774ms/step - loss: 0.0626 - accuracy: 0.9887 - val_loss: 0.3061 - val_accuracy: 0.9062\n",
            "Epoch 6/12\n",
            "36/36 [==============================] - 28s 772ms/step - loss: 0.0513 - accuracy: 0.9905 - val_loss: 0.3216 - val_accuracy: 0.9062\n",
            "Epoch 7/12\n",
            "36/36 [==============================] - 28s 766ms/step - loss: 0.0314 - accuracy: 0.9926 - val_loss: 0.3563 - val_accuracy: 0.8993\n",
            "Epoch 8/12\n",
            "36/36 [==============================] - 28s 770ms/step - loss: 0.0236 - accuracy: 0.9965 - val_loss: 0.3018 - val_accuracy: 0.9028\n",
            "Epoch 9/12\n",
            "36/36 [==============================] - 28s 772ms/step - loss: 0.0146 - accuracy: 0.9978 - val_loss: 0.3416 - val_accuracy: 0.9045\n",
            "Epoch 10/12\n",
            "36/36 [==============================] - 28s 765ms/step - loss: 0.0111 - accuracy: 0.9996 - val_loss: 0.3261 - val_accuracy: 0.9097\n",
            "Epoch 11/12\n",
            "36/36 [==============================] - 28s 760ms/step - loss: 0.0086 - accuracy: 1.0000 - val_loss: 0.3730 - val_accuracy: 0.8976\n",
            "Epoch 12/12\n",
            "36/36 [==============================] - 28s 772ms/step - loss: 0.0068 - accuracy: 1.0000 - val_loss: 0.3337 - val_accuracy: 0.9028\n"
          ]
        },
        {
          "output_type": "execute_result",
          "data": {
            "text/plain": [
              "<keras.callbacks.History at 0x7f9514649b10>"
            ]
          },
          "metadata": {},
          "execution_count": 18
        }
      ]
    },
    {
      "cell_type": "code",
      "metadata": {
        "id": "NPcovkT59TEC"
      },
      "source": [
        "model.save('/content/model.h5')"
      ],
      "execution_count": null,
      "outputs": []
    }
  ]
}