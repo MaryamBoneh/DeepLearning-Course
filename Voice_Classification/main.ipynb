{
  "nbformat": 4,
  "nbformat_minor": 0,
  "metadata": {
    "colab": {
      "provenance": []
    },
    "kernelspec": {
      "name": "python3",
      "display_name": "Python 3"
    },
    "language_info": {
      "name": "python"
    },
    "gpuClass": "standard"
  },
  "cells": [
    {
      "cell_type": "code",
      "execution_count": 102,
      "metadata": {
        "id": "NPYddecd1k24"
      },
      "outputs": [],
      "source": [
        "import torch, torchaudio, os\n",
        "import torch.nn as nn\n",
        "import torch.nn.functional as F\n",
        "from torch.utils.data import Dataset\n",
        "import numpy as np\n",
        "from tqdm import tqdm"
      ]
    },
    {
      "cell_type": "code",
      "source": [
        "device = torch.device(\"cuda\" if torch.cuda.is_available() else \"cpu\")\n",
        "print(f\"{device} used\")"
      ],
      "metadata": {
        "colab": {
          "base_uri": "https://localhost:8080/"
        },
        "id": "fNoRE1ew1pjz",
        "outputId": "97729e1b-9642-4965-9d4c-214a087cd600"
      },
      "execution_count": 103,
      "outputs": [
        {
          "output_type": "stream",
          "name": "stdout",
          "text": [
            "cpu used\n"
          ]
        }
      ]
    },
    {
      "cell_type": "code",
      "source": [
        "dataset_path = \"/content/drive/MyDrive/prepared_dataset\""
      ],
      "metadata": {
        "id": "lboNKkHO6yE1"
      },
      "execution_count": 104,
      "outputs": []
    },
    {
      "cell_type": "code",
      "source": [
        "epochs = 40\n",
        "lr = 0.001\n",
        "batch_size = 3"
      ],
      "metadata": {
        "id": "e832Qtzg1vDR"
      },
      "execution_count": 105,
      "outputs": []
    },
    {
      "cell_type": "code",
      "source": [
        "class Model(nn.Module):\n",
        "    def __init__(self, n_input=1, n_output=10, stride=16, n_channel=32):\n",
        "        super().__init__()\n",
        "        self.conv1 = nn.Conv1d(n_input, n_channel, kernel_size=80, stride=stride)\n",
        "        self.bn1 = nn.BatchNorm1d(n_channel)\n",
        "        self.pool1 = nn.MaxPool1d(4)\n",
        "        self.conv2 = nn.Conv1d(n_channel, n_channel, kernel_size=3)\n",
        "        self.bn2 = nn.BatchNorm1d(n_channel)\n",
        "        self.pool2 = nn.MaxPool1d(4)\n",
        "        self.conv3 = nn.Conv1d(n_channel, 2 * n_channel, kernel_size=3)\n",
        "        self.bn3 = nn.BatchNorm1d(2 * n_channel)\n",
        "        self.pool3 = nn.MaxPool1d(4)\n",
        "        self.conv4 = nn.Conv1d(2 * n_channel, 2 * n_channel, kernel_size=3)\n",
        "        self.bn4 = nn.BatchNorm1d(2 * n_channel)\n",
        "        self.pool4 = nn.MaxPool1d(4)\n",
        "        self.fc1 = nn.Linear(2 * n_channel, n_output)\n",
        "\n",
        "\n",
        "    def forward(self, x):\n",
        "        x = self.conv1(x)\n",
        "        x = F.relu(self.bn1(x))\n",
        "        x = self.pool1(x)\n",
        "        x = self.conv2(x)\n",
        "        x = F.relu(self.bn2(x))\n",
        "        x = self.pool2(x)\n",
        "        x = self.conv3(x)\n",
        "        x = F.relu(self.bn3(x))\n",
        "        x = self.pool3(x)\n",
        "        x = self.conv4(x)\n",
        "        x = F.relu(self.bn4(x))\n",
        "        x = self.pool4(x)\n",
        "        x = F.avg_pool1d(x, x.shape[-1])\n",
        "        x = x.permute(0, 2, 1)\n",
        "        x = self.fc1(x)\n",
        "        x = F.softmax(x, dim=1)\n",
        "        return x\n",
        "\n",
        "\n",
        "    def accuracy(self, preds, labels):\n",
        "        maxs, indices = torch.max(preds, 1)\n",
        "        acc = torch.sum(indices == labels) / len(preds)\n",
        "        return acc.cpu()\n"
      ],
      "metadata": {
        "id": "H9mr0BKI3vFw"
      },
      "execution_count": 106,
      "outputs": []
    },
    {
      "cell_type": "code",
      "source": [
        "class AudioData(Dataset):\n",
        "    def __init__(self, root):\n",
        "        self.directory_path = root\n",
        "        self.classes = os.listdir(self.directory_path)\n",
        "        print(self.classes)\n",
        "        self.data_paths = []\n",
        "        self.labels = []\n",
        "\n",
        "        for root, dirs, files in os.walk(self.directory_path):\n",
        "            for file in files:\n",
        "                if file != \".DS_Store\":\n",
        "                    label = os.path.basename(root)\n",
        "                    data_path = os.path.join(root, file)\n",
        "                    self.data_paths.append(data_path)\n",
        "                    self.labels.append(self.classes.index(label))\n",
        "\n",
        "    def __len__(self):\n",
        "        return len(self.labels)\n",
        "\n",
        "    def __getitem__(self, index):\n",
        "        data_path = self.data_paths[index]\n",
        "        label = self.labels[index]\n",
        "        signal, sample_rate = torchaudio.load(data_path)\n",
        "        signal = torch.mean(signal, dim=0, keepdim=True)\n",
        "\n",
        "        new_sample_rate = 8000\n",
        "        transform = torchaudio.transforms.Resample(orig_freq=sample_rate, new_freq=new_sample_rate)\n",
        "        signal = transform(signal)\n",
        "\n",
        "        return signal, label"
      ],
      "metadata": {
        "id": "0ffeXxSH2Z-c"
      },
      "execution_count": 107,
      "outputs": []
    },
    {
      "cell_type": "code",
      "source": [
        "dataset = AudioData(dataset_path)"
      ],
      "metadata": {
        "colab": {
          "base_uri": "https://localhost:8080/"
        },
        "id": "p3c7G-QQ64j7",
        "outputId": "27033f08-d1eb-4488-8989-a09945aa0f27"
      },
      "execution_count": 108,
      "outputs": [
        {
          "output_type": "stream",
          "name": "stdout",
          "text": [
            "['Parisa', 'Zeinab', 'Alireza', 'Maryam', 'Morteza', 'Nahid', 'MohammadAli', 'Zahra', 'Sajjad', 'Hossein']\n"
          ]
        }
      ]
    },
    {
      "cell_type": "code",
      "source": [
        "train_size = int(0.8 * len(dataset))\n",
        "test_size = len(dataset) - train_size\n",
        "train_dataset, test_dataset = torch.utils.data.random_split(dataset, [train_size, test_size])\n",
        "train_data_loader = torch.utils.data.DataLoader(train_dataset, batch_size=batch_size, shuffle=True)\n",
        "test_data_loader = torch.utils.data.DataLoader(test_dataset, batch_size=batch_size, shuffle=True)"
      ],
      "metadata": {
        "id": "FoxK4mXf7iJX"
      },
      "execution_count": 109,
      "outputs": []
    },
    {
      "cell_type": "code",
      "source": [
        "for audios, labels in (train_data_loader):\n",
        "  print(labels)"
      ],
      "metadata": {
        "colab": {
          "base_uri": "https://localhost:8080/"
        },
        "id": "Cj3BJaMh6Elh",
        "outputId": "4d724c90-0de5-42f5-d6e7-e11bd0f5be95"
      },
      "execution_count": 110,
      "outputs": [
        {
          "output_type": "stream",
          "name": "stdout",
          "text": [
            "tensor([9, 1, 9])\n",
            "tensor([5, 6, 2])\n",
            "tensor([0, 1, 2])\n",
            "tensor([2, 2, 2])\n",
            "tensor([9, 2, 9])\n",
            "tensor([7, 9, 6])\n",
            "tensor([3, 8, 8])\n",
            "tensor([1, 7, 0])\n",
            "tensor([2, 9, 9])\n",
            "tensor([9, 3, 9])\n",
            "tensor([1, 9, 0])\n",
            "tensor([6, 2, 7])\n",
            "tensor([1, 0, 5])\n",
            "tensor([3, 7, 9])\n",
            "tensor([3, 0, 9])\n",
            "tensor([1, 9, 0])\n",
            "tensor([5, 9, 9])\n",
            "tensor([5, 7, 9])\n",
            "tensor([2, 3, 9])\n",
            "tensor([6, 6, 0])\n",
            "tensor([7, 7, 7])\n",
            "tensor([7, 3, 9])\n",
            "tensor([9, 7, 9])\n",
            "tensor([7, 7, 2])\n",
            "tensor([5, 2, 0])\n",
            "tensor([1, 2, 5])\n",
            "tensor([6, 4, 2])\n",
            "tensor([1, 5, 2])\n",
            "tensor([6, 1, 7])\n",
            "tensor([7, 2, 2])\n",
            "tensor([7, 7, 0])\n",
            "tensor([2, 4, 8])\n",
            "tensor([3, 6, 1])\n",
            "tensor([4, 6, 8])\n",
            "tensor([2, 5, 0])\n",
            "tensor([2, 5, 6])\n",
            "tensor([9, 3, 9])\n",
            "tensor([5, 0, 1])\n",
            "tensor([3, 8, 4])\n",
            "tensor([1, 1, 3])\n",
            "tensor([5, 5, 9])\n",
            "tensor([7, 2, 3])\n",
            "tensor([5, 0, 9])\n",
            "tensor([7, 2, 3])\n",
            "tensor([6, 7, 0])\n",
            "tensor([9, 2, 1])\n",
            "tensor([3, 7, 0])\n",
            "tensor([1, 1, 5])\n",
            "tensor([2, 3, 3])\n",
            "tensor([1, 8, 9])\n",
            "tensor([1, 7, 1])\n",
            "tensor([9, 5, 1])\n",
            "tensor([3, 0, 6])\n",
            "tensor([5, 9, 0])\n",
            "tensor([6, 5, 3])\n",
            "tensor([0, 9, 9])\n",
            "tensor([3, 2, 2])\n",
            "tensor([0, 9, 3])\n",
            "tensor([9, 3, 9])\n",
            "tensor([2, 5, 9])\n",
            "tensor([6, 4, 3])\n",
            "tensor([2, 1, 0])\n",
            "tensor([1, 2, 0])\n",
            "tensor([2, 6, 3])\n",
            "tensor([7, 7, 0])\n",
            "tensor([3, 8, 1])\n",
            "tensor([0, 6, 7])\n",
            "tensor([4, 9, 1])\n",
            "tensor([5, 0, 0])\n",
            "tensor([3, 3, 2])\n",
            "tensor([7, 2, 3])\n",
            "tensor([3, 0, 0])\n",
            "tensor([0, 7, 2])\n",
            "tensor([9, 0, 8])\n",
            "tensor([0, 2, 7])\n",
            "tensor([7, 1, 4])\n",
            "tensor([5, 9, 5])\n",
            "tensor([9, 3, 1])\n",
            "tensor([0, 8, 5])\n",
            "tensor([1, 6, 7])\n",
            "tensor([7, 6, 8])\n",
            "tensor([5, 2, 5])\n",
            "tensor([2, 6, 7])\n",
            "tensor([0, 7, 9])\n",
            "tensor([5, 0, 0])\n",
            "tensor([7, 9, 5])\n",
            "tensor([6, 7, 3])\n",
            "tensor([1, 1, 9])\n",
            "tensor([9, 9, 7])\n",
            "tensor([9, 3, 7])\n",
            "tensor([0, 3, 9])\n",
            "tensor([0, 0, 7])\n",
            "tensor([9, 3, 7])\n",
            "tensor([9, 8, 5])\n",
            "tensor([7, 1, 1])\n",
            "tensor([3, 6, 6])\n",
            "tensor([7, 9, 2])\n",
            "tensor([9, 7, 8])\n",
            "tensor([1, 7, 5])\n",
            "tensor([2, 8, 3])\n",
            "tensor([7, 7, 9])\n",
            "tensor([0, 5, 5])\n",
            "tensor([2, 9, 8])\n",
            "tensor([6, 5, 7])\n",
            "tensor([6, 3, 8])\n",
            "tensor([2, 3, 8])\n",
            "tensor([0, 9, 3])\n",
            "tensor([0, 5, 7])\n",
            "tensor([1, 9, 2])\n",
            "tensor([6, 9, 0])\n",
            "tensor([8, 9, 3])\n",
            "tensor([8, 1, 7])\n",
            "tensor([8, 5, 9])\n",
            "tensor([1, 2, 7])\n",
            "tensor([2, 1, 9])\n",
            "tensor([2, 0, 9])\n",
            "tensor([7, 7, 3])\n",
            "tensor([7, 0, 0])\n",
            "tensor([9, 7, 1])\n",
            "tensor([5, 8, 9])\n",
            "tensor([3, 8, 3])\n",
            "tensor([9, 6, 6])\n",
            "tensor([9, 3, 2])\n",
            "tensor([6, 7, 0])\n",
            "tensor([7, 9, 6])\n",
            "tensor([9, 7, 6])\n",
            "tensor([2, 1, 7])\n",
            "tensor([2, 0, 5])\n",
            "tensor([5, 8, 6])\n",
            "tensor([3, 2, 9])\n",
            "tensor([9, 1, 5])\n",
            "tensor([5, 3, 0])\n",
            "tensor([8, 8, 9])\n",
            "tensor([8, 8, 5])\n",
            "tensor([1, 3, 1])\n",
            "tensor([9, 9, 5])\n",
            "tensor([7, 7, 1])\n",
            "tensor([5, 1, 5])\n",
            "tensor([2, 3, 3])\n",
            "tensor([8, 8, 5])\n",
            "tensor([0, 8, 8])\n",
            "tensor([3, 9, 7])\n",
            "tensor([1, 4, 9])\n",
            "tensor([7, 9, 3])\n",
            "tensor([6, 0, 9])\n",
            "tensor([1, 4, 9])\n",
            "tensor([5, 0, 3])\n",
            "tensor([3, 2, 2])\n",
            "tensor([9, 0, 7])\n",
            "tensor([9, 8, 9])\n",
            "tensor([8, 4, 2])\n",
            "tensor([8, 9, 8])\n",
            "tensor([1, 3, 7])\n",
            "tensor([1, 2, 1])\n",
            "tensor([9, 1, 6])\n",
            "tensor([0, 6, 0])\n",
            "tensor([6, 3, 2])\n",
            "tensor([5, 8, 9])\n",
            "tensor([6, 7, 9])\n",
            "tensor([5, 9, 4])\n",
            "tensor([1, 2, 6])\n",
            "tensor([5, 9, 7])\n",
            "tensor([7, 7, 7])\n",
            "tensor([3, 5, 1])\n",
            "tensor([1, 7, 0])\n",
            "tensor([6, 5, 6])\n",
            "tensor([9, 9, 3])\n",
            "tensor([1, 9, 9])\n",
            "tensor([9, 1, 9])\n",
            "tensor([9, 9, 2])\n",
            "tensor([8, 6, 5])\n",
            "tensor([6, 9, 1])\n",
            "tensor([9, 9, 0])\n",
            "tensor([9, 4, 7])\n",
            "tensor([5, 1, 9])\n",
            "tensor([2, 3, 1])\n",
            "tensor([7, 1, 9])\n",
            "tensor([1, 7, 7])\n",
            "tensor([7, 2, 8])\n",
            "tensor([9, 6, 6])\n",
            "tensor([7, 0, 1])\n",
            "tensor([3, 2, 2])\n",
            "tensor([0, 7, 9])\n",
            "tensor([3, 9, 2])\n",
            "tensor([8, 9, 0])\n",
            "tensor([0, 7, 0])\n",
            "tensor([3, 2, 0])\n",
            "tensor([5, 7, 1])\n",
            "tensor([1, 7, 2])\n",
            "tensor([7, 7, 9])\n",
            "tensor([9, 2, 4])\n",
            "tensor([7, 5, 7])\n",
            "tensor([2, 3, 2])\n",
            "tensor([0, 6, 5])\n",
            "tensor([6, 3, 9])\n",
            "tensor([9, 0, 0])\n",
            "tensor([5, 7, 9])\n",
            "tensor([0, 5, 7])\n",
            "tensor([0, 8, 5])\n",
            "tensor([5, 5, 0])\n",
            "tensor([3, 3, 2])\n",
            "tensor([7, 8, 1])\n",
            "tensor([2, 9, 9])\n",
            "tensor([6, 7, 8])\n",
            "tensor([0, 6, 3])\n",
            "tensor([1, 9, 7])\n",
            "tensor([9, 5, 9])\n",
            "tensor([7, 4, 8])\n",
            "tensor([1, 0, 9])\n",
            "tensor([1, 0, 0])\n",
            "tensor([0, 8, 9])\n",
            "tensor([6, 3, 3])\n",
            "tensor([7, 8, 1])\n",
            "tensor([0, 6, 3])\n",
            "tensor([8, 1, 5])\n",
            "tensor([7, 5, 6])\n",
            "tensor([5, 2, 7])\n",
            "tensor([3, 1, 6])\n",
            "tensor([9, 0, 9])\n",
            "tensor([6, 0, 7])\n",
            "tensor([2, 9, 6])\n",
            "tensor([0, 1, 5])\n",
            "tensor([3, 9, 8])\n",
            "tensor([5, 8, 9])\n",
            "tensor([3, 1, 5])\n",
            "tensor([3, 3, 0])\n",
            "tensor([6, 5, 8])\n",
            "tensor([2, 6, 6])\n",
            "tensor([9, 3, 7])\n",
            "tensor([0, 7, 9])\n",
            "tensor([0, 6, 9])\n",
            "tensor([1, 0, 2])\n",
            "tensor([8, 8, 9])\n",
            "tensor([7, 2, 0])\n",
            "tensor([2, 6, 6])\n",
            "tensor([2, 0, 9])\n",
            "tensor([0, 7, 6])\n",
            "tensor([9, 3, 6])\n",
            "tensor([0, 9, 9])\n",
            "tensor([8, 1, 7])\n",
            "tensor([7, 6, 9])\n",
            "tensor([1, 8, 9])\n",
            "tensor([6, 5, 6])\n",
            "tensor([2, 9, 9])\n",
            "tensor([1, 2, 0])\n",
            "tensor([8, 9, 9])\n",
            "tensor([1, 7, 5])\n",
            "tensor([0, 3, 1])\n",
            "tensor([9, 7, 7])\n",
            "tensor([5, 1, 4])\n",
            "tensor([3, 9, 9])\n",
            "tensor([0, 9, 9])\n",
            "tensor([7, 2, 9])\n",
            "tensor([5, 5, 1])\n",
            "tensor([1, 2, 7])\n",
            "tensor([7, 2, 1])\n",
            "tensor([7, 1, 8])\n",
            "tensor([0, 7, 7])\n",
            "tensor([0, 8, 9])\n",
            "tensor([9, 6, 5])\n",
            "tensor([3, 2, 8])\n",
            "tensor([9, 3, 5])\n",
            "tensor([9, 2, 7])\n",
            "tensor([5, 9, 3])\n",
            "tensor([0, 3, 7])\n",
            "tensor([3, 9, 7])\n",
            "tensor([9, 0, 7])\n",
            "tensor([7, 2, 0])\n",
            "tensor([2, 2, 9])\n",
            "tensor([8, 5, 2])\n",
            "tensor([9, 0, 8])\n",
            "tensor([3, 0, 5])\n",
            "tensor([8, 0, 9])\n",
            "tensor([8, 9, 5])\n",
            "tensor([9, 5, 2])\n",
            "tensor([3, 7, 1])\n",
            "tensor([9, 6, 3])\n",
            "tensor([3, 3, 5])\n",
            "tensor([7, 1, 9])\n",
            "tensor([5, 6, 0])\n",
            "tensor([9, 3, 4])\n",
            "tensor([9, 9, 7])\n",
            "tensor([9, 9, 7])\n",
            "tensor([3, 5, 9])\n"
          ]
        }
      ]
    },
    {
      "cell_type": "code",
      "source": [
        "model = Model(n_output=10).to(device)\n",
        "model"
      ],
      "metadata": {
        "colab": {
          "base_uri": "https://localhost:8080/"
        },
        "id": "IOpCOpiZpM6i",
        "outputId": "43669800-3e48-4324-f81a-7f09de331b4d"
      },
      "execution_count": 111,
      "outputs": [
        {
          "output_type": "execute_result",
          "data": {
            "text/plain": [
              "Model(\n",
              "  (conv1): Conv1d(1, 32, kernel_size=(80,), stride=(16,))\n",
              "  (bn1): BatchNorm1d(32, eps=1e-05, momentum=0.1, affine=True, track_running_stats=True)\n",
              "  (pool1): MaxPool1d(kernel_size=4, stride=4, padding=0, dilation=1, ceil_mode=False)\n",
              "  (conv2): Conv1d(32, 32, kernel_size=(3,), stride=(1,))\n",
              "  (bn2): BatchNorm1d(32, eps=1e-05, momentum=0.1, affine=True, track_running_stats=True)\n",
              "  (pool2): MaxPool1d(kernel_size=4, stride=4, padding=0, dilation=1, ceil_mode=False)\n",
              "  (conv3): Conv1d(32, 64, kernel_size=(3,), stride=(1,))\n",
              "  (bn3): BatchNorm1d(64, eps=1e-05, momentum=0.1, affine=True, track_running_stats=True)\n",
              "  (pool3): MaxPool1d(kernel_size=4, stride=4, padding=0, dilation=1, ceil_mode=False)\n",
              "  (conv4): Conv1d(64, 64, kernel_size=(3,), stride=(1,))\n",
              "  (bn4): BatchNorm1d(64, eps=1e-05, momentum=0.1, affine=True, track_running_stats=True)\n",
              "  (pool4): MaxPool1d(kernel_size=4, stride=4, padding=0, dilation=1, ceil_mode=False)\n",
              "  (fc1): Linear(in_features=64, out_features=10, bias=True)\n",
              ")"
            ]
          },
          "metadata": {},
          "execution_count": 111
        }
      ]
    },
    {
      "cell_type": "code",
      "source": [
        "n = sum(p.numel() for p in model.parameters() if p.requires_grad)\n",
        "print(\"Number of parameters: %s\" % n)"
      ],
      "metadata": {
        "colab": {
          "base_uri": "https://localhost:8080/"
        },
        "id": "g9-Owke6ulWG",
        "outputId": "b29b606a-5302-42f6-800c-9f58d7702a98"
      },
      "execution_count": 112,
      "outputs": [
        {
          "output_type": "stream",
          "name": "stdout",
          "text": [
            "Number of parameters: 25290\n"
          ]
        }
      ]
    },
    {
      "cell_type": "code",
      "source": [
        "optimizer = torch.optim.Adam(model.parameters(), lr=lr)\n",
        "loss_function = nn.CrossEntropyLoss()"
      ],
      "metadata": {
        "id": "nAb5fcYUuxbs"
      },
      "execution_count": 113,
      "outputs": []
    },
    {
      "cell_type": "markdown",
      "source": [
        "### Train\n"
      ],
      "metadata": {
        "id": "7L-x-EGsvJ_r"
      }
    },
    {
      "cell_type": "code",
      "source": [
        "model.train()\n",
        "\n",
        "for epoch in range(epochs):\n",
        "    train_loss = 0.0\n",
        "    train_acc = 0.0\n",
        "    for audios, labels in tqdm(train_data_loader):\n",
        "        audios, labels = audios.to(device), labels.to(device)\n",
        "        labels_one_hot = F.one_hot(labels, num_classes=10).type(torch.LongTensor).to(device)\n",
        "        # print(audios, labels, labels_one_hot)\n",
        "        preds = model(audios)\n",
        "        loss = loss_function(preds, labels_one_hot)\n",
        "        \n",
        "        optimizer.zero_grad()\n",
        "        loss.backward()\n",
        "        optimizer.step()\n",
        "\n",
        "        train_loss += loss\n",
        "        train_acc += model.accuracy(preds, labels)\n",
        "    \n",
        "    total_loss = train_loss / len(train_data_loader)\n",
        "    total_acc = train_acc / len(train_data_loader)\n",
        "\n",
        "    print(f\"Epoch: {epoch}, Loss: {total_loss}, Acc: {total_acc}\")\n"
      ],
      "metadata": {
        "colab": {
          "base_uri": "https://localhost:8080/",
          "height": 453
        },
        "id": "CMFXyN0yu4id",
        "outputId": "17582865-f15d-43a8-f49e-61a3c0681327"
      },
      "execution_count": 114,
      "outputs": [
        {
          "output_type": "stream",
          "name": "stderr",
          "text": [
            "  0%|          | 0/284 [00:00<?, ?it/s]\n"
          ]
        },
        {
          "output_type": "error",
          "ename": "IndexError",
          "evalue": "ignored",
          "traceback": [
            "\u001b[0;31m---------------------------------------------------------------------------\u001b[0m",
            "\u001b[0;31mIndexError\u001b[0m                                Traceback (most recent call last)",
            "\u001b[0;32m<ipython-input-114-a1723895be6d>\u001b[0m in \u001b[0;36m<module>\u001b[0;34m\u001b[0m\n\u001b[1;32m      9\u001b[0m         \u001b[0;31m# print(audios, labels, labels_one_hot)\u001b[0m\u001b[0;34m\u001b[0m\u001b[0;34m\u001b[0m\u001b[0;34m\u001b[0m\u001b[0m\n\u001b[1;32m     10\u001b[0m         \u001b[0mpreds\u001b[0m \u001b[0;34m=\u001b[0m \u001b[0mmodel\u001b[0m\u001b[0;34m(\u001b[0m\u001b[0maudios\u001b[0m\u001b[0;34m)\u001b[0m\u001b[0;34m\u001b[0m\u001b[0;34m\u001b[0m\u001b[0m\n\u001b[0;32m---> 11\u001b[0;31m         \u001b[0mloss\u001b[0m \u001b[0;34m=\u001b[0m \u001b[0mloss_function\u001b[0m\u001b[0;34m(\u001b[0m\u001b[0mpreds\u001b[0m\u001b[0;34m,\u001b[0m \u001b[0mlabels_one_hot\u001b[0m\u001b[0;34m)\u001b[0m\u001b[0;34m\u001b[0m\u001b[0;34m\u001b[0m\u001b[0m\n\u001b[0m\u001b[1;32m     12\u001b[0m \u001b[0;34m\u001b[0m\u001b[0m\n\u001b[1;32m     13\u001b[0m         \u001b[0moptimizer\u001b[0m\u001b[0;34m.\u001b[0m\u001b[0mzero_grad\u001b[0m\u001b[0;34m(\u001b[0m\u001b[0;34m)\u001b[0m\u001b[0;34m\u001b[0m\u001b[0;34m\u001b[0m\u001b[0m\n",
            "\u001b[0;32m/usr/local/lib/python3.8/dist-packages/torch/nn/modules/module.py\u001b[0m in \u001b[0;36m_call_impl\u001b[0;34m(self, *input, **kwargs)\u001b[0m\n\u001b[1;32m   1192\u001b[0m         if not (self._backward_hooks or self._forward_hooks or self._forward_pre_hooks or _global_backward_hooks\n\u001b[1;32m   1193\u001b[0m                 or _global_forward_hooks or _global_forward_pre_hooks):\n\u001b[0;32m-> 1194\u001b[0;31m             \u001b[0;32mreturn\u001b[0m \u001b[0mforward_call\u001b[0m\u001b[0;34m(\u001b[0m\u001b[0;34m*\u001b[0m\u001b[0minput\u001b[0m\u001b[0;34m,\u001b[0m \u001b[0;34m**\u001b[0m\u001b[0mkwargs\u001b[0m\u001b[0;34m)\u001b[0m\u001b[0;34m\u001b[0m\u001b[0;34m\u001b[0m\u001b[0m\n\u001b[0m\u001b[1;32m   1195\u001b[0m         \u001b[0;31m# Do not call functions when jit is used\u001b[0m\u001b[0;34m\u001b[0m\u001b[0;34m\u001b[0m\u001b[0;34m\u001b[0m\u001b[0m\n\u001b[1;32m   1196\u001b[0m         \u001b[0mfull_backward_hooks\u001b[0m\u001b[0;34m,\u001b[0m \u001b[0mnon_full_backward_hooks\u001b[0m \u001b[0;34m=\u001b[0m \u001b[0;34m[\u001b[0m\u001b[0;34m]\u001b[0m\u001b[0;34m,\u001b[0m \u001b[0;34m[\u001b[0m\u001b[0;34m]\u001b[0m\u001b[0;34m\u001b[0m\u001b[0;34m\u001b[0m\u001b[0m\n",
            "\u001b[0;32m/usr/local/lib/python3.8/dist-packages/torch/nn/modules/loss.py\u001b[0m in \u001b[0;36mforward\u001b[0;34m(self, input, target)\u001b[0m\n\u001b[1;32m   1172\u001b[0m \u001b[0;34m\u001b[0m\u001b[0m\n\u001b[1;32m   1173\u001b[0m     \u001b[0;32mdef\u001b[0m \u001b[0mforward\u001b[0m\u001b[0;34m(\u001b[0m\u001b[0mself\u001b[0m\u001b[0;34m,\u001b[0m \u001b[0minput\u001b[0m\u001b[0;34m:\u001b[0m \u001b[0mTensor\u001b[0m\u001b[0;34m,\u001b[0m \u001b[0mtarget\u001b[0m\u001b[0;34m:\u001b[0m \u001b[0mTensor\u001b[0m\u001b[0;34m)\u001b[0m \u001b[0;34m->\u001b[0m \u001b[0mTensor\u001b[0m\u001b[0;34m:\u001b[0m\u001b[0;34m\u001b[0m\u001b[0;34m\u001b[0m\u001b[0m\n\u001b[0;32m-> 1174\u001b[0;31m         return F.cross_entropy(input, target, weight=self.weight,\n\u001b[0m\u001b[1;32m   1175\u001b[0m                                \u001b[0mignore_index\u001b[0m\u001b[0;34m=\u001b[0m\u001b[0mself\u001b[0m\u001b[0;34m.\u001b[0m\u001b[0mignore_index\u001b[0m\u001b[0;34m,\u001b[0m \u001b[0mreduction\u001b[0m\u001b[0;34m=\u001b[0m\u001b[0mself\u001b[0m\u001b[0;34m.\u001b[0m\u001b[0mreduction\u001b[0m\u001b[0;34m,\u001b[0m\u001b[0;34m\u001b[0m\u001b[0;34m\u001b[0m\u001b[0m\n\u001b[1;32m   1176\u001b[0m                                label_smoothing=self.label_smoothing)\n",
            "\u001b[0;32m/usr/local/lib/python3.8/dist-packages/torch/nn/functional.py\u001b[0m in \u001b[0;36mcross_entropy\u001b[0;34m(input, target, weight, size_average, ignore_index, reduce, reduction, label_smoothing)\u001b[0m\n\u001b[1;32m   3024\u001b[0m     \u001b[0;32mif\u001b[0m \u001b[0msize_average\u001b[0m \u001b[0;32mis\u001b[0m \u001b[0;32mnot\u001b[0m \u001b[0;32mNone\u001b[0m \u001b[0;32mor\u001b[0m \u001b[0mreduce\u001b[0m \u001b[0;32mis\u001b[0m \u001b[0;32mnot\u001b[0m \u001b[0;32mNone\u001b[0m\u001b[0;34m:\u001b[0m\u001b[0;34m\u001b[0m\u001b[0;34m\u001b[0m\u001b[0m\n\u001b[1;32m   3025\u001b[0m         \u001b[0mreduction\u001b[0m \u001b[0;34m=\u001b[0m \u001b[0m_Reduction\u001b[0m\u001b[0;34m.\u001b[0m\u001b[0mlegacy_get_string\u001b[0m\u001b[0;34m(\u001b[0m\u001b[0msize_average\u001b[0m\u001b[0;34m,\u001b[0m \u001b[0mreduce\u001b[0m\u001b[0;34m)\u001b[0m\u001b[0;34m\u001b[0m\u001b[0;34m\u001b[0m\u001b[0m\n\u001b[0;32m-> 3026\u001b[0;31m     \u001b[0;32mreturn\u001b[0m \u001b[0mtorch\u001b[0m\u001b[0;34m.\u001b[0m\u001b[0m_C\u001b[0m\u001b[0;34m.\u001b[0m\u001b[0m_nn\u001b[0m\u001b[0;34m.\u001b[0m\u001b[0mcross_entropy_loss\u001b[0m\u001b[0;34m(\u001b[0m\u001b[0minput\u001b[0m\u001b[0;34m,\u001b[0m \u001b[0mtarget\u001b[0m\u001b[0;34m,\u001b[0m \u001b[0mweight\u001b[0m\u001b[0;34m,\u001b[0m \u001b[0m_Reduction\u001b[0m\u001b[0;34m.\u001b[0m\u001b[0mget_enum\u001b[0m\u001b[0;34m(\u001b[0m\u001b[0mreduction\u001b[0m\u001b[0;34m)\u001b[0m\u001b[0;34m,\u001b[0m \u001b[0mignore_index\u001b[0m\u001b[0;34m,\u001b[0m \u001b[0mlabel_smoothing\u001b[0m\u001b[0;34m)\u001b[0m\u001b[0;34m\u001b[0m\u001b[0;34m\u001b[0m\u001b[0m\n\u001b[0m\u001b[1;32m   3027\u001b[0m \u001b[0;34m\u001b[0m\u001b[0m\n\u001b[1;32m   3028\u001b[0m \u001b[0;34m\u001b[0m\u001b[0m\n",
            "\u001b[0;31mIndexError\u001b[0m: Target 1 is out of bounds."
          ]
        }
      ]
    },
    {
      "cell_type": "code",
      "source": [
        "model.eval()\n",
        "\n",
        "test_acc = 0.0\n",
        "test_loss = 0.0\n",
        "for audios, labels in tqdm(test_data_loader):\n",
        "    audios = audios.to(device)\n",
        "    labels = labels.to(device)\n",
        "    labels_one_hot = F.one_hot(labels, num_classes=10).type(torch.FloatTensor).to(device)\n",
        "\n",
        "    pred = model(audios)\n",
        "    loss = loss_function(pred, labels_one_hot)\n",
        "    test_loss += loss\n",
        "    test_acc += model.accuracy(pred, labels)\n",
        "\n",
        "total_test_loss = test_loss / len(test_data_loader)\n",
        "total_test_acc = test_acc / len(test_data_loader)\n",
        "print(f\"Accuracy: {total_test_acc}, Loss: {total_test_loss}\")"
      ],
      "metadata": {
        "id": "sYkwTskjvff_"
      },
      "execution_count": null,
      "outputs": []
    },
    {
      "cell_type": "code",
      "source": [
        "## save weights"
      ],
      "metadata": {
        "id": "77DqAhxLDuRl"
      },
      "execution_count": null,
      "outputs": []
    },
    {
      "cell_type": "code",
      "source": [
        "## inference"
      ],
      "metadata": {
        "id": "LhJ3ktYyES8p"
      },
      "execution_count": null,
      "outputs": []
    }
  ]
}