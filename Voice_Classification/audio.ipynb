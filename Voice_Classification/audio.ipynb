{
  "cells": [
    {
      "cell_type": "code",
      "execution_count": null,
      "metadata": {
        "id": "MWbrUhMAM3Qz"
      },
      "outputs": [],
      "source": [
        "!pip install pydub"
      ]
    },
    {
      "cell_type": "code",
      "execution_count": 40,
      "metadata": {
        "id": "a1BxXRhaIDwH"
      },
      "outputs": [],
      "source": [
        "from pydub import AudioSegment\n",
        "import matplotlib.pyplot as plt\n",
        "import os\n",
        "from pathlib import Path\n",
        "from pydub.silence import split_on_silence\n",
        "from pydub.utils import make_chunks"
      ]
    },
    {
      "cell_type": "code",
      "execution_count": null,
      "metadata": {
        "id": "Pil5qzAcgw2k"
      },
      "outputs": [],
      "source": [
        "!mkdir \"audios_remove_silence\"\n",
        "!mkdir \"combined_audios_path\"\n",
        "!mkdir \"prepared_dataset\""
      ]
    },
    {
      "cell_type": "code",
      "execution_count": 44,
      "metadata": {
        "id": "NuyV_ai1eP7l"
      },
      "outputs": [],
      "source": [
        "dataset_path = \"/content/drive/MyDrive/Datasets/voices_dataset\"\n",
        "combined_audios_path = \"combined_audios_path\"\n",
        "audios_remove_silence_path = \"audios_remove_silence/\"\n",
        "prepared_voice_data = \"prepared_dataset\""
      ]
    },
    {
      "cell_type": "markdown",
      "metadata": {
        "id": "nXVufW-Zwdpi"
      },
      "source": [
        "### merging the sounds of each class together"
      ]
    },
    {
      "cell_type": "code",
      "execution_count": 47,
      "metadata": {
        "colab": {
          "base_uri": "https://localhost:8080/"
        },
        "id": "TRxHPapnj_x6",
        "outputId": "ad5481fa-cbbb-4a15-d416-f293eb521a1f"
      },
      "outputs": [
        {
          "name": "stdout",
          "output_type": "stream",
          "text": [
            "/content/drive/MyDrive/Datasets/voices_dataset/Zeinab /content/drive/MyDrive/Datasets/voices_dataset/Zeinab/Zeinab_1.ogg combined_audios_path/Zeinab\n",
            "/content/drive/MyDrive/Datasets/voices_dataset/Zeinab /content/drive/MyDrive/Datasets/voices_dataset/Zeinab/Zeinab_2.ogg combined_audios_path/Zeinab\n",
            "/content/drive/MyDrive/Datasets/voices_dataset/Morteza /content/drive/MyDrive/Datasets/voices_dataset/Morteza/Morteza_1.m4a combined_audios_path/Morteza\n",
            "/content/drive/MyDrive/Datasets/voices_dataset/Morteza /content/drive/MyDrive/Datasets/voices_dataset/Morteza/Morteza_1.ogg combined_audios_path/Morteza\n",
            "/content/drive/MyDrive/Datasets/voices_dataset/Nahid /content/drive/MyDrive/Datasets/voices_dataset/Nahid/Nahid_2.ogg combined_audios_path/Nahid\n",
            "/content/drive/MyDrive/Datasets/voices_dataset/Nahid /content/drive/MyDrive/Datasets/voices_dataset/Nahid/Nahid_1.ogg combined_audios_path/Nahid\n",
            "/content/drive/MyDrive/Datasets/voices_dataset/Alireza /content/drive/MyDrive/Datasets/voices_dataset/Alireza/Alireza_1.ogg combined_audios_path/Alireza\n",
            "/content/drive/MyDrive/Datasets/voices_dataset/Alireza /content/drive/MyDrive/Datasets/voices_dataset/Alireza/Alireza_2.ogg combined_audios_path/Alireza\n",
            "/content/drive/MyDrive/Datasets/voices_dataset/Sajjad /content/drive/MyDrive/Datasets/voices_dataset/Sajjad/Sajjad_1.ogg combined_audios_path/Sajjad\n",
            "/content/drive/MyDrive/Datasets/voices_dataset/Sajjad /content/drive/MyDrive/Datasets/voices_dataset/Sajjad/Sajjad_2.ogg combined_audios_path/Sajjad\n",
            "/content/drive/MyDrive/Datasets/voices_dataset/Parisa /content/drive/MyDrive/Datasets/voices_dataset/Parisa/Parisa_2.ogg combined_audios_path/Parisa\n",
            "/content/drive/MyDrive/Datasets/voices_dataset/Parisa /content/drive/MyDrive/Datasets/voices_dataset/Parisa/Parisa_1.ogg combined_audios_path/Parisa\n",
            "/content/drive/MyDrive/Datasets/voices_dataset/Zahra /content/drive/MyDrive/Datasets/voices_dataset/Zahra/Zahra_2.opus combined_audios_path/Zahra\n",
            "/content/drive/MyDrive/Datasets/voices_dataset/Zahra /content/drive/MyDrive/Datasets/voices_dataset/Zahra/Zahra_1.opus combined_audios_path/Zahra\n",
            "/content/drive/MyDrive/Datasets/voices_dataset/Maryam /content/drive/MyDrive/Datasets/voices_dataset/Maryam/Maryam_2.ogg combined_audios_path/Maryam\n",
            "/content/drive/MyDrive/Datasets/voices_dataset/Maryam /content/drive/MyDrive/Datasets/voices_dataset/Maryam/Maryam_1.ogg combined_audios_path/Maryam\n",
            "/content/drive/MyDrive/Datasets/voices_dataset/MohammadAli /content/drive/MyDrive/Datasets/voices_dataset/MohammadAli/MohammadAli_1.ogg combined_audios_path/MohammadAli\n",
            "/content/drive/MyDrive/Datasets/voices_dataset/MohammadAli /content/drive/MyDrive/Datasets/voices_dataset/MohammadAli/MohammadAli_2.ogg combined_audios_path/MohammadAli\n"
          ]
        }
      ],
      "source": [
        "for folder in os.listdir(dataset_path):\n",
        "    if folder != '.ipynb_checkpoints':\n",
        "      folder_path = os.path.join(dataset_path, folder)\n",
        "      voice = []\n",
        "      for file in os.listdir(folder_path):\n",
        "        if file != '.ipynb_checkpoints':\n",
        "          file_path = os.path.join(folder_path, file)\n",
        "          print(folder_path, file_path, combined_audios_path + '/' + folder)\n",
        "          voice.append(AudioSegment.from_file(file_path))\n",
        "      combined_voice = sum(voice)\n",
        "      combined_voice.export(combined_audios_path + '/' + folder + '.wav', format=\"wav\")"
      ]
    },
    {
      "cell_type": "markdown",
      "metadata": {
        "id": "G5YS9u2OwuRM"
      },
      "source": [
        "### removing silent times from the audio file"
      ]
    },
    {
      "cell_type": "code",
      "execution_count": 48,
      "metadata": {
        "id": "Ndy4IVnHMySe"
      },
      "outputs": [],
      "source": [
        "for file in os.listdir(combined_audios_path):\n",
        "    if file != '.ipynb_checkpoints':\n",
        "      file_path = os.path.join(combined_audios_path, file)\n",
        "      voice = AudioSegment.from_file(file_path)\n",
        "      voice_parts = split_on_silence(voice, min_silence_len=2000, silence_thresh=-45)\n",
        "      combined_voice = sum(voice_parts)\n",
        "      name = Path(file).stem\n",
        "      output_path = os.path.join(audios_remove_silence_path, name + \".wav\")\n",
        "      combined_voice.export(output_path, format=\"wav\")"
      ]
    },
    {
      "cell_type": "markdown",
      "metadata": {
        "id": "hLLJuK4OxDjJ"
      },
      "source": [
        "### splitting the each audio file into 1 second sounds"
      ]
    },
    {
      "cell_type": "code",
      "execution_count": 49,
      "metadata": {
        "id": "WgoA9zxfgAZr"
      },
      "outputs": [],
      "source": [
        "for file in os.listdir(audios_remove_silence_path):\n",
        "  if file != '.ipynb_checkpoints':\n",
        "    file_Path = os.path.join(audios_remove_silence_path, file)\n",
        "    voice = AudioSegment.from_file(file_Path)\n",
        "    chunks = make_chunks(voice, 1000)\n",
        "    name = Path(file).stem\n",
        "    Path(os.path.join(prepared_voice_data, name)).mkdir(exist_ok=True)\n",
        "    for i, chunk in enumerate(chunks):\n",
        "      if len(chunk)<1000:\n",
        "        continue\n",
        "      output_path = os.path.join(prepared_voice_data, name, name + f\"_{i}.wav\")\n",
        "      chunk.export(output_path, format=\"wav\")"
      ]
    }
  ],
  "metadata": {
    "colab": {
      "provenance": []
    },
    "kernelspec": {
      "display_name": "Python 3",
      "language": "python",
      "name": "python3"
    },
    "language_info": {
      "name": "python",
      "version": "3.9.10 (main, Jan 15 2022, 11:40:36) \n[Clang 13.0.0 (clang-1300.0.29.3)]"
    },
    "vscode": {
      "interpreter": {
        "hash": "b0fa6594d8f4cbf19f97940f81e996739fb7646882a419484c72d19e05852a7e"
      }
    }
  },
  "nbformat": 4,
  "nbformat_minor": 0
}
