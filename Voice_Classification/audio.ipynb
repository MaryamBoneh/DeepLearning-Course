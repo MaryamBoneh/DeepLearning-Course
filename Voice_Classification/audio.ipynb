{
  "nbformat": 4,
  "nbformat_minor": 0,
  "metadata": {
    "colab": {
      "provenance": []
    },
    "kernelspec": {
      "name": "python3",
      "display_name": "Python 3"
    },
    "language_info": {
      "name": "python"
    }
  },
  "cells": [
    {
      "cell_type": "code",
      "source": [
        "!pip install pydub"
      ],
      "metadata": {
        "id": "MWbrUhMAM3Qz"
      },
      "execution_count": null,
      "outputs": []
    },
    {
      "cell_type": "code",
      "source": [
        "from pydub import AudioSegment\n",
        "import matplotlib.pyplot as plt\n",
        "import os\n",
        "from pathlib import Path\n",
        "from pydub.silence import split_on_silence\n",
        "from pydub.utils import make_chunks"
      ],
      "metadata": {
        "id": "a1BxXRhaIDwH"
      },
      "execution_count": 6,
      "outputs": []
    },
    {
      "cell_type": "code",
      "source": [
        "!mkdir \"audios_remove_silence\"\n",
        "!mkdir \"combined_audios_path\""
      ],
      "metadata": {
        "id": "Pil5qzAcgw2k"
      },
      "execution_count": null,
      "outputs": []
    },
    {
      "cell_type": "code",
      "source": [
        "dataset_path = \"/content/drive/MyDrive/Datasets/audio_dataset\"\n",
        "combined_audios_path = \"combined_audios_path\"\n",
        "audios_remove_silence_path = \"audios_remove_silence/\""
      ],
      "metadata": {
        "id": "NuyV_ai1eP7l"
      },
      "execution_count": 35,
      "outputs": []
    },
    {
      "cell_type": "code",
      "source": [
        "for folder in os.listdir(dataset_path):\n",
        "    if folder != '.ipynb_checkpoints':\n",
        "      folder_path = os.path.join(dataset_path, folder)\n",
        "      voice = []\n",
        "      for file in os.listdir(folder_path):\n",
        "        if file != '.ipynb_checkpoints':\n",
        "          file_path = os.path.join(folder_path, file)\n",
        "          print(folder_path, file_path, combined_audios_path + '/' + folder)\n",
        "          voice.append(AudioSegment.from_file(file_path))\n",
        "      combined_voice = sum(voice)\n",
        "      combined_voice.export(combined_audios_path + '/' + folder + '.wav', format=\"wav\")"
      ],
      "metadata": {
        "id": "TRxHPapnj_x6"
      },
      "execution_count": null,
      "outputs": []
    },
    {
      "cell_type": "code",
      "source": [
        "for file in os.listdir(combined_audios_path):\n",
        "    if file != '.ipynb_checkpoints':\n",
        "      file_path = os.path.join(combined_audios_path, file)\n",
        "      voice = AudioSegment.from_file(file_path)\n",
        "      voice_parts = split_on_silence(voice, min_silence_len=2000, silence_thresh=-45)\n",
        "      combined_voice = sum(voice_parts)\n",
        "      name = Path(file).stem\n",
        "      output_path = os.path.join(audios_remove_silence_path, name + \".wav\")\n",
        "      combined_voice.export(output_path, format=\"wav\")"
      ],
      "metadata": {
        "id": "Ndy4IVnHMySe"
      },
      "execution_count": 30,
      "outputs": []
    },
    {
      "cell_type": "code",
      "source": [
        "for file in os.listdir(audios_remove_silence_path):\n",
        "  if file == '.ipynb_checkpoints':\n",
        "        break\n",
        "  file_Path = os.path.join(audios_remove_silence_path, file)\n",
        "  voice = AudioSegment.from_file(file_Path)\n",
        "  chunks = make_chunks(voice, 1000)\n",
        "  name = Path(file).stem\n",
        "  Path(os.path.join(dataset_path,name)).mkdir(exist_ok=True)\n",
        "  for i, chunk in enumerate(chunks):\n",
        "    if len(chunk)<1000:\n",
        "      continue\n",
        "    output_path = os.path.join(dataset_path,name,name+f\"_{i}.wav\")\n",
        "    chunk.export(output_path, format=\"wav\")\n",
        "  print(file_Path, chunk, output_path)"
      ],
      "metadata": {
        "id": "WgoA9zxfgAZr"
      },
      "execution_count": null,
      "outputs": []
    },
    {
      "cell_type": "code",
      "source": [],
      "metadata": {
        "id": "hzuZWDpBsIst"
      },
      "execution_count": null,
      "outputs": []
    }
  ]
}