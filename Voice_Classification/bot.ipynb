{
  "nbformat": 4,
  "nbformat_minor": 0,
  "metadata": {
    "colab": {
      "provenance": []
    },
    "kernelspec": {
      "name": "python3",
      "display_name": "Python 3"
    },
    "language_info": {
      "name": "python"
    },
    "accelerator": "GPU",
    "gpuClass": "standard"
  },
  "cells": [
    {
      "cell_type": "code",
      "execution_count": null,
      "metadata": {
        "id": "8jrFmGmdi1uO"
      },
      "outputs": [],
      "source": [
        "!pip install PyTelegramBotAPI"
      ]
    },
    {
      "cell_type": "code",
      "source": [
        "import telebot, torch, os, torchaudio, random\n",
        "import torch.nn as nn\n",
        "import torch.nn.functional as F\n",
        "import numpy as np\n",
        "from model import Model"
      ],
      "metadata": {
        "id": "k6CBFTuGi2Wy"
      },
      "execution_count": 45,
      "outputs": []
    },
    {
      "cell_type": "code",
      "source": [
        "device = torch.device(\"cuda\" if torch.cuda.is_available() else \"cpu\")\n",
        "print(f\"{device} used\")"
      ],
      "metadata": {
        "colab": {
          "base_uri": "https://localhost:8080/"
        },
        "id": "0xusccRsnLPx",
        "outputId": "18635b54-3c96-4647-9a9a-1a635908636e"
      },
      "execution_count": 46,
      "outputs": [
        {
          "output_type": "stream",
          "name": "stdout",
          "text": [
            "cuda used\n"
          ]
        }
      ]
    },
    {
      "cell_type": "code",
      "source": [
        "model = Model(n_output=10).to(device)\n",
        "model.load_state_dict(torch.load(\"/content/drive/MyDrive/models/voice_classification_weights.pth\"))\n",
        "model.eval()"
      ],
      "metadata": {
        "colab": {
          "base_uri": "https://localhost:8080/"
        },
        "id": "_An-LqcVjVEn",
        "outputId": "68d3034f-0d2a-43d2-a0ff-cb2158a859f9"
      },
      "execution_count": 47,
      "outputs": [
        {
          "output_type": "execute_result",
          "data": {
            "text/plain": [
              "Model(\n",
              "  (conv1): Conv1d(1, 32, kernel_size=(80,), stride=(8,))\n",
              "  (bn1): BatchNorm1d(32, eps=1e-05, momentum=0.1, affine=True, track_running_stats=True)\n",
              "  (pool1): MaxPool1d(kernel_size=4, stride=4, padding=0, dilation=1, ceil_mode=False)\n",
              "  (conv2): Conv1d(32, 32, kernel_size=(3,), stride=(1,))\n",
              "  (bn2): BatchNorm1d(32, eps=1e-05, momentum=0.1, affine=True, track_running_stats=True)\n",
              "  (pool2): MaxPool1d(kernel_size=4, stride=4, padding=0, dilation=1, ceil_mode=False)\n",
              "  (conv3): Conv1d(32, 64, kernel_size=(3,), stride=(1,))\n",
              "  (bn3): BatchNorm1d(64, eps=1e-05, momentum=0.1, affine=True, track_running_stats=True)\n",
              "  (pool3): MaxPool1d(kernel_size=4, stride=4, padding=0, dilation=1, ceil_mode=False)\n",
              "  (conv4): Conv1d(64, 64, kernel_size=(3,), stride=(1,))\n",
              "  (bn4): BatchNorm1d(64, eps=1e-05, momentum=0.1, affine=True, track_running_stats=True)\n",
              "  (pool4): MaxPool1d(kernel_size=4, stride=4, padding=0, dilation=1, ceil_mode=False)\n",
              "  (fc1): Linear(in_features=64, out_features=10, bias=True)\n",
              ")"
            ]
          },
          "metadata": {},
          "execution_count": 47
        }
      ]
    },
    {
      "cell_type": "code",
      "source": [
        "!mkdir voice"
      ],
      "metadata": {
        "id": "RiKLlRhE2otU"
      },
      "execution_count": null,
      "outputs": []
    },
    {
      "cell_type": "code",
      "source": [
        "model.load_state_dict(torch.load(\"/content/drive/MyDrive/models/voice_classification_weights.pth\"))\n",
        "model.eval()\n",
        "bot = telebot.TeleBot(\"________YOUR TOKEN________\")\n",
        "\n",
        "names = ['Parisa', 'Zeinab', 'Alireza', 'Maryam', 'Morteza', 'Nahid', 'MohammadAli', 'Zahra', 'Sajjad', 'Hossein']\n",
        "                     \n",
        "@bot.message_handler(commands=['start'])\n",
        "def send_welcome(message):\n",
        "    bot.send_message(message.chat.id, f\"Hey {str(message.chat.first_name)} 🌻\\nWelcome to the Audio Classification Bot🤍✌🏼\")\n",
        "    bot.send_message(message.chat.id, \"Send me a voice\\nI will try to tell you whose voice it is!\")\n",
        "\n",
        "    \n",
        "@bot.message_handler(content_types=['voice'])\n",
        "def voice(message):\n",
        "    voice = bot.get_file(message.voice.file_id)\n",
        "    downloaded_file = bot.download_file(voice.file_path)\n",
        "    voice_path = voice.file_path\n",
        "\n",
        "    with open(voice_path, 'wb') as audio_file:\n",
        "        audio_file.write(downloaded_file)\n",
        "    \n",
        "    signal, sample_rate = torchaudio.load(voice_path)\n",
        "    \n",
        "    # preprocess\n",
        "    signal = torch.mean(signal, dim=0, keepdim=True)\n",
        "    transform = torchaudio.transforms.Resample(orig_freq=sample_rate, new_freq=8000)\n",
        "    signal = transform(signal)\n",
        "    signal = signal.unsqueeze(0).to(device)\n",
        "     \n",
        "    # process\n",
        "    preds = model(signal)\n",
        "    \n",
        "    # postprocess\n",
        "    preds = preds.cpu().detach().numpy()\n",
        "    output = np.argmax(preds)\n",
        "    \n",
        "    i = random.choice([1, 2, 3])\n",
        "    if i == 1:\n",
        "      bot.reply_to(message, \"I think you are \" + names[output] + \" 🧐\")\n",
        "    elif i == 2:\n",
        "      bot.reply_to(message, \"Your voice is like the voice of \" + names[output] + \" 🤔\")\n",
        "    else:\n",
        "      bot.reply_to(message, \"I guess you are \" + names[output] + \" 👀\")\n",
        "\n",
        "bot.polling()"
      ],
      "metadata": {
        "id": "Spx44g-8r6y6"
      },
      "execution_count": 44,
      "outputs": []
    }
  ]
}