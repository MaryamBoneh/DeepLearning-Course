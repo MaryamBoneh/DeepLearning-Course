{
  "nbformat": 4,
  "nbformat_minor": 0,
  "metadata": {
    "colab": {
      "name": "FaceRecognition.ipynb",
      "provenance": [],
      "collapsed_sections": []
    },
    "kernelspec": {
      "name": "python3",
      "display_name": "Python 3"
    },
    "language_info": {
      "name": "python"
    },
    "accelerator": "GPU"
  },
  "cells": [
    {
      "cell_type": "code",
      "metadata": {
        "id": "UScNGb7Uh90x"
      },
      "source": [
        "!pip install wandb"
      ],
      "execution_count": null,
      "outputs": []
    },
    {
      "cell_type": "code",
      "metadata": {
        "id": "Nl-knv4x3V1-"
      },
      "source": [
        "import tensorflow as tf\n",
        "from tensorflow.keras.layers import Dense, Flatten, Conv2D\n",
        "import wandb\n",
        "import numpy as np\n",
        "from wandb.keras import WandbCallback\n",
        "from tensorflow.keras.preprocessing.image import ImageDataGenerator\n",
        "from tqdm import tqdm"
      ],
      "execution_count": 106,
      "outputs": []
    },
    {
      "cell_type": "code",
      "metadata": {
        "colab": {
          "base_uri": "https://localhost:8080/",
          "height": 35
        },
        "id": "pwP7pche3Zv6",
        "outputId": "35fb9601-9555-4d8a-e5e0-5cba1cd01fbf"
      },
      "source": [
        "tf.__version__"
      ],
      "execution_count": 107,
      "outputs": [
        {
          "output_type": "execute_result",
          "data": {
            "application/vnd.google.colaboratory.intrinsic+json": {
              "type": "string"
            },
            "text/plain": [
              "'2.6.0'"
            ]
          },
          "metadata": {},
          "execution_count": 107
        }
      ]
    },
    {
      "cell_type": "code",
      "metadata": {
        "id": "dQBEwjp9is3f"
      },
      "source": [
        "wandb.init(project='Face_Recognition')"
      ],
      "execution_count": null,
      "outputs": []
    },
    {
      "cell_type": "code",
      "metadata": {
        "id": "SFEvSUDKiOKG"
      },
      "source": [
        "folder_address = '/content/drive/MyDrive/Datasets/7-7 dataset/'\n",
        "\n",
        "batch_size = 16\n",
        "width = height = 224\n",
        "\n",
        "config = wandb.config\n",
        "config.learning_rate = 0.001"
      ],
      "execution_count": 109,
      "outputs": []
    },
    {
      "cell_type": "code",
      "metadata": {
        "colab": {
          "base_uri": "https://localhost:8080/"
        },
        "id": "sR4TmWavjEMi",
        "outputId": "cfa32406-7235-4764-c4bf-ab015eb71576"
      },
      "source": [
        "data_generator = ImageDataGenerator(\n",
        "    rescale = 1. / 255,\n",
        "    validation_split = 0.1,\n",
        "    horizontal_flip = True\n",
        ")\n",
        "\n",
        "train_data = data_generator.flow_from_directory(folder_address,\n",
        "                                                    target_size = (width, height),\n",
        "                                                    class_mode = 'categorical',\n",
        "                                                    batch_size = batch_size,\n",
        "                                                    shuffle = True,\n",
        "                                                    subset ='training')\n",
        "\n",
        "val_data = data_generator.flow_from_directory(folder_address,\n",
        "                                                    target_size = (width, height),\n",
        "                                                    class_mode = 'categorical',\n",
        "                                                    batch_size = batch_size,\n",
        "                                                    shuffle = False,\n",
        "                                                    subset ='validation')"
      ],
      "execution_count": 110,
      "outputs": [
        {
          "output_type": "stream",
          "name": "stdout",
          "text": [
            "Found 1228 images belonging to 14 classes.\n",
            "Found 131 images belonging to 14 classes.\n"
          ]
        }
      ]
    },
    {
      "cell_type": "code",
      "metadata": {
        "colab": {
          "base_uri": "https://localhost:8080/"
        },
        "id": "aRb0fL3AquK5",
        "outputId": "9a604894-fc0d-4b53-b82c-d29db378d2a1"
      },
      "source": [
        "train_data.image_shape"
      ],
      "execution_count": 111,
      "outputs": [
        {
          "output_type": "execute_result",
          "data": {
            "text/plain": [
              "(224, 224, 3)"
            ]
          },
          "metadata": {},
          "execution_count": 111
        }
      ]
    },
    {
      "cell_type": "code",
      "metadata": {
        "id": "JUpN62AMTX-M"
      },
      "source": [
        "class MyModel(tf.keras.Model):\n",
        "  def __init__(self, number_of_classes):\n",
        "    super().__init__()\n",
        "    self.conv1 = Conv2D(32, (3, 3), activation='relu', input_shape = (width, height, 3))\n",
        "    # self.conv2 = Conv2D(32, (3, 3), activation='relu')\n",
        "    self.flatten = Flatten()\n",
        "    self.fc1 = Dense(128, activation='relu')\n",
        "    self.fc2 = Dense(64, activation='relu')\n",
        "    self.fc3 = Dense(number_of_classes, activation='sigmoid')\n",
        "\n",
        "  def call(self, x):\n",
        "\n",
        "    x = self.conv1(x)\n",
        "    # x = self.conv2(x)\n",
        "    x = self.flatten(x)\n",
        "    x = self.fc1(x)\n",
        "    x = self.fc2(x)\n",
        "    output = self.fc3(x)\n",
        "\n",
        "    return output\n",
        "\n",
        "model = MyModel(14)"
      ],
      "execution_count": 113,
      "outputs": []
    },
    {
      "cell_type": "code",
      "metadata": {
        "id": "c1kSYPLZVzX9"
      },
      "source": [
        "loss_function = tf.keras.losses.SparseCategoricalCrossentropy(from_logits=True)\n",
        "optimizer =  tf.keras.optimizers.Adam()"
      ],
      "execution_count": 114,
      "outputs": []
    },
    {
      "cell_type": "code",
      "metadata": {
        "id": "qzg-pAieVtmB"
      },
      "source": [
        "train_loss = tf.keras.metrics.Mean(name='train_loss')\n",
        "train_acc = tf.keras.metrics.CategoricalAccuracy(name='train_acc')\n",
        "\n",
        "test_loss = tf.keras.metrics.Mean(name='test_loss')\n",
        "test_acc = tf.keras.metrics.CategoricalAccuracy(name='test_acc')"
      ],
      "execution_count": 115,
      "outputs": []
    },
    {
      "cell_type": "code",
      "metadata": {
        "id": "tS6jE3jRFDwY"
      },
      "source": [
        "configs = {\n",
        "              \"learning_rate\": 0.001,\n",
        "              \"epochs\": 20,\n",
        "              \"batch_size\": 16,\n",
        "              \"log_step\": 200,\n",
        "              \"val_log_step\": 50\n",
        "           }\n",
        "\n",
        "run = wandb.init(project='Face_Recognition', config=configs)\n",
        "config = wandb.config"
      ],
      "execution_count": null,
      "outputs": []
    },
    {
      "cell_type": "code",
      "metadata": {
        "id": "VjewigKSRvS2"
      },
      "source": [
        "def train_step(images, y):\n",
        "    with tf.GradientTape() as tape:\n",
        "        y_pred = model(images, training = True)\n",
        "        loss = tf.keras.losses.categorical_crossentropy(y, y_pred)\n",
        "\n",
        "    #gradient calculate\n",
        "    gradients = tape.gradient(loss, model.trainable_variables)\n",
        "\n",
        "    #update\n",
        "    optimizer.apply_gradients(zip(gradients,model.trainable_variables))\n",
        "\n",
        "    train_loss(loss)\n",
        "    train_acc(y, y_pred)\n"
      ],
      "execution_count": 117,
      "outputs": []
    },
    {
      "cell_type": "code",
      "metadata": {
        "id": "c4cof-ceSC-z"
      },
      "source": [
        "def test_step(images, y):\n",
        "  y_pred = model(images, training = False)\n",
        "  loss = tf.keras.losses.categorical_crossentropy(y, y_pred)\n",
        "\n",
        "  test_loss(loss)\n",
        "  test_acc(y, y_pred)"
      ],
      "execution_count": 118,
      "outputs": []
    },
    {
      "cell_type": "code",
      "metadata": {
        "id": "MFU-x2bXSiRo"
      },
      "source": [
        "def train():\n",
        "    epochs = 20\n",
        "\n",
        "    for epoch in range(epochs):\n",
        "\n",
        "        train_loss.reset_state()\n",
        "        train_acc.reset_state()\n",
        "        test_loss.reset_state()\n",
        "        test_acc.reset_state()\n",
        "\n",
        "        count_for_train = 0\n",
        "        count_for_test = 0\n",
        "\n",
        "        i_train = len(train_data)\n",
        "        i_test = len(val_data)\n",
        "\n",
        "        for images, labels in tqdm(train_data):\n",
        "            train_step(images, labels)\n",
        "            count_for_train += 1\n",
        "            if count_for_train > i_train:\n",
        "                break\n",
        "\n",
        "        for images, labels in tqdm(val_data):\n",
        "            test_step(images, labels)\n",
        "            count_for_test += 1\n",
        "            if count_for_test > i_test:\n",
        "                break\n",
        "\n",
        "        print('epoch:', epoch + 1)\n",
        "        print('loss:', train_loss.result())\n",
        "        print('accuracy:', train_acc.result())\n",
        "        print('val loss:', test_loss.result())\n",
        "        print('val accuracy:', test_acc.result())\n",
        "\n",
        "        wandb.log({'epochs': epoch,\n",
        "            'loss': np.mean(train_loss.result()),\n",
        "            'acc': float(train_acc.result()), \n",
        "            'test_loss': np.mean(test_loss.result()),\n",
        "            'test_acc': float(test_acc.result())\n",
        "            })"
      ],
      "execution_count": 119,
      "outputs": []
    },
    {
      "cell_type": "code",
      "metadata": {
        "colab": {
          "base_uri": "https://localhost:8080/"
        },
        "id": "thRicrtitZIr",
        "outputId": "4d3072d7-6076-4eba-a7c8-19588ea9fb16"
      },
      "source": [
        "print(train_data)"
      ],
      "execution_count": 120,
      "outputs": [
        {
          "output_type": "stream",
          "name": "stdout",
          "text": [
            "<keras.preprocessing.image.DirectoryIterator object at 0x7f6abe7da3d0>\n"
          ]
        }
      ]
    },
    {
      "cell_type": "code",
      "metadata": {
        "colab": {
          "base_uri": "https://localhost:8080/"
        },
        "id": "Blodi87yKITW",
        "outputId": "bcb87456-44af-442b-fc04-73376a3b684b"
      },
      "source": [
        "train()"
      ],
      "execution_count": 121,
      "outputs": [
        {
          "output_type": "stream",
          "name": "stderr",
          "text": [
            "100%|██████████| 77/77 [00:35<00:00,  2.17it/s]\n",
            "100%|██████████| 9/9 [00:02<00:00,  3.45it/s]\n"
          ]
        },
        {
          "output_type": "stream",
          "name": "stdout",
          "text": [
            "epoch: 1\n",
            "loss: tf.Tensor(8.530527, shape=(), dtype=float32)\n",
            "accuracy: tf.Tensor(0.19212219, shape=(), dtype=float32)\n",
            "val loss: tf.Tensor(2.3961103, shape=(), dtype=float32)\n",
            "val accuracy: tf.Tensor(0.3469388, shape=(), dtype=float32)\n"
          ]
        },
        {
          "output_type": "stream",
          "name": "stderr",
          "text": [
            "100%|██████████| 77/77 [00:35<00:00,  2.18it/s]\n",
            "100%|██████████| 9/9 [00:02<00:00,  3.40it/s]\n"
          ]
        },
        {
          "output_type": "stream",
          "name": "stdout",
          "text": [
            "epoch: 2\n",
            "loss: tf.Tensor(1.5601741, shape=(), dtype=float32)\n",
            "accuracy: tf.Tensor(0.5297428, shape=(), dtype=float32)\n",
            "val loss: tf.Tensor(2.1384563, shape=(), dtype=float32)\n",
            "val accuracy: tf.Tensor(0.49659863, shape=(), dtype=float32)\n"
          ]
        },
        {
          "output_type": "stream",
          "name": "stderr",
          "text": [
            "100%|██████████| 77/77 [00:34<00:00,  2.21it/s]\n",
            "100%|██████████| 9/9 [00:02<00:00,  3.43it/s]\n"
          ]
        },
        {
          "output_type": "stream",
          "name": "stdout",
          "text": [
            "epoch: 3\n",
            "loss: tf.Tensor(0.5831665, shape=(), dtype=float32)\n",
            "accuracy: tf.Tensor(0.82877815, shape=(), dtype=float32)\n",
            "val loss: tf.Tensor(1.001501, shape=(), dtype=float32)\n",
            "val accuracy: tf.Tensor(0.72789115, shape=(), dtype=float32)\n"
          ]
        },
        {
          "output_type": "stream",
          "name": "stderr",
          "text": [
            "100%|██████████| 77/77 [00:34<00:00,  2.20it/s]\n",
            "100%|██████████| 9/9 [00:02<00:00,  3.47it/s]\n"
          ]
        },
        {
          "output_type": "stream",
          "name": "stdout",
          "text": [
            "epoch: 4\n",
            "loss: tf.Tensor(0.2929136, shape=(), dtype=float32)\n",
            "accuracy: tf.Tensor(0.926045, shape=(), dtype=float32)\n",
            "val loss: tf.Tensor(1.0451752, shape=(), dtype=float32)\n",
            "val accuracy: tf.Tensor(0.71428573, shape=(), dtype=float32)\n"
          ]
        },
        {
          "output_type": "stream",
          "name": "stderr",
          "text": [
            "100%|██████████| 77/77 [00:34<00:00,  2.22it/s]\n",
            "100%|██████████| 9/9 [00:02<00:00,  3.52it/s]\n"
          ]
        },
        {
          "output_type": "stream",
          "name": "stdout",
          "text": [
            "epoch: 5\n",
            "loss: tf.Tensor(0.1557584, shape=(), dtype=float32)\n",
            "accuracy: tf.Tensor(0.9606109, shape=(), dtype=float32)\n",
            "val loss: tf.Tensor(1.167458, shape=(), dtype=float32)\n",
            "val accuracy: tf.Tensor(0.78911567, shape=(), dtype=float32)\n"
          ]
        },
        {
          "output_type": "stream",
          "name": "stderr",
          "text": [
            "100%|██████████| 77/77 [00:34<00:00,  2.21it/s]\n",
            "100%|██████████| 9/9 [00:02<00:00,  3.52it/s]\n"
          ]
        },
        {
          "output_type": "stream",
          "name": "stdout",
          "text": [
            "epoch: 6\n",
            "loss: tf.Tensor(0.08960597, shape=(), dtype=float32)\n",
            "accuracy: tf.Tensor(0.9799035, shape=(), dtype=float32)\n",
            "val loss: tf.Tensor(0.8375375, shape=(), dtype=float32)\n",
            "val accuracy: tf.Tensor(0.75510204, shape=(), dtype=float32)\n"
          ]
        },
        {
          "output_type": "stream",
          "name": "stderr",
          "text": [
            "100%|██████████| 77/77 [00:34<00:00,  2.23it/s]\n",
            "100%|██████████| 9/9 [00:02<00:00,  3.48it/s]\n"
          ]
        },
        {
          "output_type": "stream",
          "name": "stdout",
          "text": [
            "epoch: 7\n",
            "loss: tf.Tensor(0.03640573, shape=(), dtype=float32)\n",
            "accuracy: tf.Tensor(0.99437296, shape=(), dtype=float32)\n",
            "val loss: tf.Tensor(0.8870155, shape=(), dtype=float32)\n",
            "val accuracy: tf.Tensor(0.7482993, shape=(), dtype=float32)\n"
          ]
        },
        {
          "output_type": "stream",
          "name": "stderr",
          "text": [
            "100%|██████████| 77/77 [00:34<00:00,  2.22it/s]\n",
            "100%|██████████| 9/9 [00:02<00:00,  3.50it/s]\n"
          ]
        },
        {
          "output_type": "stream",
          "name": "stdout",
          "text": [
            "epoch: 8\n",
            "loss: tf.Tensor(0.03011146, shape=(), dtype=float32)\n",
            "accuracy: tf.Tensor(0.99276525, shape=(), dtype=float32)\n",
            "val loss: tf.Tensor(0.87794816, shape=(), dtype=float32)\n",
            "val accuracy: tf.Tensor(0.7619048, shape=(), dtype=float32)\n"
          ]
        },
        {
          "output_type": "stream",
          "name": "stderr",
          "text": [
            "100%|██████████| 77/77 [00:34<00:00,  2.22it/s]\n",
            "100%|██████████| 9/9 [00:02<00:00,  3.85it/s]\n"
          ]
        },
        {
          "output_type": "stream",
          "name": "stdout",
          "text": [
            "epoch: 9\n",
            "loss: tf.Tensor(0.018411065, shape=(), dtype=float32)\n",
            "accuracy: tf.Tensor(0.9959807, shape=(), dtype=float32)\n",
            "val loss: tf.Tensor(1.184856, shape=(), dtype=float32)\n",
            "val accuracy: tf.Tensor(0.7238806, shape=(), dtype=float32)\n"
          ]
        },
        {
          "output_type": "stream",
          "name": "stderr",
          "text": [
            "100%|██████████| 77/77 [00:34<00:00,  2.21it/s]\n",
            "100%|██████████| 9/9 [00:02<00:00,  3.43it/s]\n"
          ]
        },
        {
          "output_type": "stream",
          "name": "stdout",
          "text": [
            "epoch: 10\n",
            "loss: tf.Tensor(0.013055032, shape=(), dtype=float32)\n",
            "accuracy: tf.Tensor(0.99678457, shape=(), dtype=float32)\n",
            "val loss: tf.Tensor(0.8257273, shape=(), dtype=float32)\n",
            "val accuracy: tf.Tensor(0.829932, shape=(), dtype=float32)\n"
          ]
        },
        {
          "output_type": "stream",
          "name": "stderr",
          "text": [
            "100%|██████████| 77/77 [00:35<00:00,  2.17it/s]\n",
            "100%|██████████| 9/9 [00:02<00:00,  3.38it/s]\n"
          ]
        },
        {
          "output_type": "stream",
          "name": "stdout",
          "text": [
            "epoch: 11\n",
            "loss: tf.Tensor(0.0021135933, shape=(), dtype=float32)\n",
            "accuracy: tf.Tensor(1.0, shape=(), dtype=float32)\n",
            "val loss: tf.Tensor(1.3040551, shape=(), dtype=float32)\n",
            "val accuracy: tf.Tensor(0.75510204, shape=(), dtype=float32)\n"
          ]
        },
        {
          "output_type": "stream",
          "name": "stderr",
          "text": [
            "100%|██████████| 77/77 [00:35<00:00,  2.17it/s]\n",
            "100%|██████████| 9/9 [00:02<00:00,  3.36it/s]\n"
          ]
        },
        {
          "output_type": "stream",
          "name": "stdout",
          "text": [
            "epoch: 12\n",
            "loss: tf.Tensor(0.00730552, shape=(), dtype=float32)\n",
            "accuracy: tf.Tensor(0.9991961, shape=(), dtype=float32)\n",
            "val loss: tf.Tensor(0.89733213, shape=(), dtype=float32)\n",
            "val accuracy: tf.Tensor(0.82312924, shape=(), dtype=float32)\n"
          ]
        },
        {
          "output_type": "stream",
          "name": "stderr",
          "text": [
            "100%|██████████| 77/77 [00:35<00:00,  2.19it/s]\n",
            "100%|██████████| 9/9 [00:02<00:00,  3.43it/s]\n"
          ]
        },
        {
          "output_type": "stream",
          "name": "stdout",
          "text": [
            "epoch: 13\n",
            "loss: tf.Tensor(0.002126618, shape=(), dtype=float32)\n",
            "accuracy: tf.Tensor(0.9991961, shape=(), dtype=float32)\n",
            "val loss: tf.Tensor(0.81973183, shape=(), dtype=float32)\n",
            "val accuracy: tf.Tensor(0.8095238, shape=(), dtype=float32)\n"
          ]
        },
        {
          "output_type": "stream",
          "name": "stderr",
          "text": [
            "100%|██████████| 77/77 [00:34<00:00,  2.20it/s]\n",
            "100%|██████████| 9/9 [00:02<00:00,  3.45it/s]\n"
          ]
        },
        {
          "output_type": "stream",
          "name": "stdout",
          "text": [
            "epoch: 14\n",
            "loss: tf.Tensor(0.0009565128, shape=(), dtype=float32)\n",
            "accuracy: tf.Tensor(1.0, shape=(), dtype=float32)\n",
            "val loss: tf.Tensor(0.8467819, shape=(), dtype=float32)\n",
            "val accuracy: tf.Tensor(0.8027211, shape=(), dtype=float32)\n"
          ]
        },
        {
          "output_type": "stream",
          "name": "stderr",
          "text": [
            "100%|██████████| 77/77 [00:34<00:00,  2.21it/s]\n",
            "100%|██████████| 9/9 [00:02<00:00,  3.47it/s]\n"
          ]
        },
        {
          "output_type": "stream",
          "name": "stdout",
          "text": [
            "epoch: 15\n",
            "loss: tf.Tensor(0.0005488222, shape=(), dtype=float32)\n",
            "accuracy: tf.Tensor(0.9991961, shape=(), dtype=float32)\n",
            "val loss: tf.Tensor(0.70314294, shape=(), dtype=float32)\n",
            "val accuracy: tf.Tensor(0.82312924, shape=(), dtype=float32)\n"
          ]
        },
        {
          "output_type": "stream",
          "name": "stderr",
          "text": [
            "100%|██████████| 77/77 [00:34<00:00,  2.21it/s]\n",
            "100%|██████████| 9/9 [00:02<00:00,  3.45it/s]\n"
          ]
        },
        {
          "output_type": "stream",
          "name": "stdout",
          "text": [
            "epoch: 16\n",
            "loss: tf.Tensor(0.0004229981, shape=(), dtype=float32)\n",
            "accuracy: tf.Tensor(0.9983923, shape=(), dtype=float32)\n",
            "val loss: tf.Tensor(0.6924819, shape=(), dtype=float32)\n",
            "val accuracy: tf.Tensor(0.829932, shape=(), dtype=float32)\n"
          ]
        },
        {
          "output_type": "stream",
          "name": "stderr",
          "text": [
            "100%|██████████| 77/77 [00:34<00:00,  2.22it/s]\n",
            "100%|██████████| 9/9 [00:02<00:00,  3.40it/s]\n"
          ]
        },
        {
          "output_type": "stream",
          "name": "stdout",
          "text": [
            "epoch: 17\n",
            "loss: tf.Tensor(0.0003334074, shape=(), dtype=float32)\n",
            "accuracy: tf.Tensor(1.0, shape=(), dtype=float32)\n",
            "val loss: tf.Tensor(0.77629393, shape=(), dtype=float32)\n",
            "val accuracy: tf.Tensor(0.7823129, shape=(), dtype=float32)\n"
          ]
        },
        {
          "output_type": "stream",
          "name": "stderr",
          "text": [
            "100%|██████████| 77/77 [00:34<00:00,  2.22it/s]\n",
            "100%|██████████| 9/9 [00:02<00:00,  3.78it/s]\n"
          ]
        },
        {
          "output_type": "stream",
          "name": "stdout",
          "text": [
            "epoch: 18\n",
            "loss: tf.Tensor(0.00029818114, shape=(), dtype=float32)\n",
            "accuracy: tf.Tensor(0.9991961, shape=(), dtype=float32)\n",
            "val loss: tf.Tensor(0.7671376, shape=(), dtype=float32)\n",
            "val accuracy: tf.Tensor(0.8134328, shape=(), dtype=float32)\n"
          ]
        },
        {
          "output_type": "stream",
          "name": "stderr",
          "text": [
            "100%|██████████| 77/77 [00:34<00:00,  2.21it/s]\n",
            "100%|██████████| 9/9 [00:02<00:00,  3.52it/s]\n"
          ]
        },
        {
          "output_type": "stream",
          "name": "stdout",
          "text": [
            "epoch: 19\n",
            "loss: tf.Tensor(0.00025207343, shape=(), dtype=float32)\n",
            "accuracy: tf.Tensor(0.9983923, shape=(), dtype=float32)\n",
            "val loss: tf.Tensor(0.81086195, shape=(), dtype=float32)\n",
            "val accuracy: tf.Tensor(0.82312924, shape=(), dtype=float32)\n"
          ]
        },
        {
          "output_type": "stream",
          "name": "stderr",
          "text": [
            "100%|██████████| 77/77 [00:34<00:00,  2.22it/s]\n",
            "100%|██████████| 9/9 [00:02<00:00,  3.45it/s]"
          ]
        },
        {
          "output_type": "stream",
          "name": "stdout",
          "text": [
            "epoch: 20\n",
            "loss: tf.Tensor(0.00022466025, shape=(), dtype=float32)\n",
            "accuracy: tf.Tensor(0.9991961, shape=(), dtype=float32)\n",
            "val loss: tf.Tensor(0.8747432, shape=(), dtype=float32)\n",
            "val accuracy: tf.Tensor(0.7823129, shape=(), dtype=float32)\n"
          ]
        },
        {
          "output_type": "stream",
          "name": "stderr",
          "text": [
            "\n"
          ]
        }
      ]
    }
  ]
}