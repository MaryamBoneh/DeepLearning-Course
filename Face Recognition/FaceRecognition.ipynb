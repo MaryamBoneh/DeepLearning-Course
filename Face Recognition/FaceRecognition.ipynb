{
  "nbformat": 4,
  "nbformat_minor": 0,
  "metadata": {
    "accelerator": "GPU",
    "colab": {
      "name": "FaceRecognition.ipynb",
      "provenance": [],
      "collapsed_sections": []
    },
    "kernelspec": {
      "display_name": "Python 3",
      "name": "python3"
    },
    "language_info": {
      "name": "python"
    },
    "widgets": {
      "application/vnd.jupyter.widget-state+json": {
        "50a5c71380c5482e918baf42858628f3": {
          "model_module": "@jupyter-widgets/controls",
          "model_name": "VBoxModel",
          "model_module_version": "1.5.0",
          "state": {
            "_view_name": "VBoxView",
            "_dom_classes": [],
            "_model_name": "VBoxModel",
            "_view_module": "@jupyter-widgets/controls",
            "_model_module_version": "1.5.0",
            "_view_count": null,
            "_view_module_version": "1.5.0",
            "box_style": "",
            "layout": "IPY_MODEL_b5316dbc9f2d45c5b1c0ba2e47c66ab2",
            "_model_module": "@jupyter-widgets/controls",
            "children": [
              "IPY_MODEL_46aeb315b6b54169a48fff26a50ee2cf",
              "IPY_MODEL_56de4125d59b426ea7d0b435528d5d87"
            ]
          }
        },
        "b5316dbc9f2d45c5b1c0ba2e47c66ab2": {
          "model_module": "@jupyter-widgets/base",
          "model_name": "LayoutModel",
          "model_module_version": "1.2.0",
          "state": {
            "_view_name": "LayoutView",
            "grid_template_rows": null,
            "right": null,
            "justify_content": null,
            "_view_module": "@jupyter-widgets/base",
            "overflow": null,
            "_model_module_version": "1.2.0",
            "_view_count": null,
            "flex_flow": null,
            "width": null,
            "min_width": null,
            "border": null,
            "align_items": null,
            "bottom": null,
            "_model_module": "@jupyter-widgets/base",
            "top": null,
            "grid_column": null,
            "overflow_y": null,
            "overflow_x": null,
            "grid_auto_flow": null,
            "grid_area": null,
            "grid_template_columns": null,
            "flex": null,
            "_model_name": "LayoutModel",
            "justify_items": null,
            "grid_row": null,
            "max_height": null,
            "align_content": null,
            "visibility": null,
            "align_self": null,
            "height": null,
            "min_height": null,
            "padding": null,
            "grid_auto_rows": null,
            "grid_gap": null,
            "max_width": null,
            "order": null,
            "_view_module_version": "1.2.0",
            "grid_template_areas": null,
            "object_position": null,
            "object_fit": null,
            "grid_auto_columns": null,
            "margin": null,
            "display": null,
            "left": null
          }
        },
        "46aeb315b6b54169a48fff26a50ee2cf": {
          "model_module": "@jupyter-widgets/controls",
          "model_name": "LabelModel",
          "model_module_version": "1.5.0",
          "state": {
            "_view_name": "LabelView",
            "style": "IPY_MODEL_2c8c9466ad194c5fb0b7330317f03cd8",
            "_dom_classes": [],
            "description": "",
            "_model_name": "LabelModel",
            "placeholder": "​",
            "_view_module": "@jupyter-widgets/controls",
            "_model_module_version": "1.5.0",
            "value": " 0.01MB of 0.01MB uploaded (0.00MB deduped)\r",
            "_view_count": null,
            "_view_module_version": "1.5.0",
            "description_tooltip": null,
            "_model_module": "@jupyter-widgets/controls",
            "layout": "IPY_MODEL_45d498e4a8aa4393bba06af45e3911df"
          }
        },
        "56de4125d59b426ea7d0b435528d5d87": {
          "model_module": "@jupyter-widgets/controls",
          "model_name": "FloatProgressModel",
          "model_module_version": "1.5.0",
          "state": {
            "_view_name": "ProgressView",
            "style": "IPY_MODEL_fe008e8a1eba465ebd6e04f13771656a",
            "_dom_classes": [],
            "description": "",
            "_model_name": "FloatProgressModel",
            "bar_style": "",
            "max": 1,
            "_view_module": "@jupyter-widgets/controls",
            "_model_module_version": "1.5.0",
            "value": 1,
            "_view_count": null,
            "_view_module_version": "1.5.0",
            "orientation": "horizontal",
            "min": 0,
            "description_tooltip": null,
            "_model_module": "@jupyter-widgets/controls",
            "layout": "IPY_MODEL_6a84db7d85274bb5aa95b8218cf268d4"
          }
        },
        "2c8c9466ad194c5fb0b7330317f03cd8": {
          "model_module": "@jupyter-widgets/controls",
          "model_name": "DescriptionStyleModel",
          "model_module_version": "1.5.0",
          "state": {
            "_view_name": "StyleView",
            "_model_name": "DescriptionStyleModel",
            "description_width": "",
            "_view_module": "@jupyter-widgets/base",
            "_model_module_version": "1.5.0",
            "_view_count": null,
            "_view_module_version": "1.2.0",
            "_model_module": "@jupyter-widgets/controls"
          }
        },
        "45d498e4a8aa4393bba06af45e3911df": {
          "model_module": "@jupyter-widgets/base",
          "model_name": "LayoutModel",
          "model_module_version": "1.2.0",
          "state": {
            "_view_name": "LayoutView",
            "grid_template_rows": null,
            "right": null,
            "justify_content": null,
            "_view_module": "@jupyter-widgets/base",
            "overflow": null,
            "_model_module_version": "1.2.0",
            "_view_count": null,
            "flex_flow": null,
            "width": null,
            "min_width": null,
            "border": null,
            "align_items": null,
            "bottom": null,
            "_model_module": "@jupyter-widgets/base",
            "top": null,
            "grid_column": null,
            "overflow_y": null,
            "overflow_x": null,
            "grid_auto_flow": null,
            "grid_area": null,
            "grid_template_columns": null,
            "flex": null,
            "_model_name": "LayoutModel",
            "justify_items": null,
            "grid_row": null,
            "max_height": null,
            "align_content": null,
            "visibility": null,
            "align_self": null,
            "height": null,
            "min_height": null,
            "padding": null,
            "grid_auto_rows": null,
            "grid_gap": null,
            "max_width": null,
            "order": null,
            "_view_module_version": "1.2.0",
            "grid_template_areas": null,
            "object_position": null,
            "object_fit": null,
            "grid_auto_columns": null,
            "margin": null,
            "display": null,
            "left": null
          }
        },
        "fe008e8a1eba465ebd6e04f13771656a": {
          "model_module": "@jupyter-widgets/controls",
          "model_name": "ProgressStyleModel",
          "model_module_version": "1.5.0",
          "state": {
            "_view_name": "StyleView",
            "_model_name": "ProgressStyleModel",
            "description_width": "",
            "_view_module": "@jupyter-widgets/base",
            "_model_module_version": "1.5.0",
            "_view_count": null,
            "_view_module_version": "1.2.0",
            "bar_color": null,
            "_model_module": "@jupyter-widgets/controls"
          }
        },
        "6a84db7d85274bb5aa95b8218cf268d4": {
          "model_module": "@jupyter-widgets/base",
          "model_name": "LayoutModel",
          "model_module_version": "1.2.0",
          "state": {
            "_view_name": "LayoutView",
            "grid_template_rows": null,
            "right": null,
            "justify_content": null,
            "_view_module": "@jupyter-widgets/base",
            "overflow": null,
            "_model_module_version": "1.2.0",
            "_view_count": null,
            "flex_flow": null,
            "width": null,
            "min_width": null,
            "border": null,
            "align_items": null,
            "bottom": null,
            "_model_module": "@jupyter-widgets/base",
            "top": null,
            "grid_column": null,
            "overflow_y": null,
            "overflow_x": null,
            "grid_auto_flow": null,
            "grid_area": null,
            "grid_template_columns": null,
            "flex": null,
            "_model_name": "LayoutModel",
            "justify_items": null,
            "grid_row": null,
            "max_height": null,
            "align_content": null,
            "visibility": null,
            "align_self": null,
            "height": null,
            "min_height": null,
            "padding": null,
            "grid_auto_rows": null,
            "grid_gap": null,
            "max_width": null,
            "order": null,
            "_view_module_version": "1.2.0",
            "grid_template_areas": null,
            "object_position": null,
            "object_fit": null,
            "grid_auto_columns": null,
            "margin": null,
            "display": null,
            "left": null
          }
        },
        "313b64b3d8a343cf9f1243785bb5a8b2": {
          "model_module": "@jupyter-widgets/controls",
          "model_name": "VBoxModel",
          "model_module_version": "1.5.0",
          "state": {
            "_view_name": "VBoxView",
            "_dom_classes": [],
            "_model_name": "VBoxModel",
            "_view_module": "@jupyter-widgets/controls",
            "_model_module_version": "1.5.0",
            "_view_count": null,
            "_view_module_version": "1.5.0",
            "box_style": "",
            "layout": "IPY_MODEL_9c21bda4ff37419b98f587c8e81439de",
            "_model_module": "@jupyter-widgets/controls",
            "children": [
              "IPY_MODEL_21c0b7b9b5a34e2f9bce43d529d01750",
              "IPY_MODEL_766f5e8b8ea44a75a1934765068f147f"
            ]
          }
        },
        "9c21bda4ff37419b98f587c8e81439de": {
          "model_module": "@jupyter-widgets/base",
          "model_name": "LayoutModel",
          "model_module_version": "1.2.0",
          "state": {
            "_view_name": "LayoutView",
            "grid_template_rows": null,
            "right": null,
            "justify_content": null,
            "_view_module": "@jupyter-widgets/base",
            "overflow": null,
            "_model_module_version": "1.2.0",
            "_view_count": null,
            "flex_flow": null,
            "width": null,
            "min_width": null,
            "border": null,
            "align_items": null,
            "bottom": null,
            "_model_module": "@jupyter-widgets/base",
            "top": null,
            "grid_column": null,
            "overflow_y": null,
            "overflow_x": null,
            "grid_auto_flow": null,
            "grid_area": null,
            "grid_template_columns": null,
            "flex": null,
            "_model_name": "LayoutModel",
            "justify_items": null,
            "grid_row": null,
            "max_height": null,
            "align_content": null,
            "visibility": null,
            "align_self": null,
            "height": null,
            "min_height": null,
            "padding": null,
            "grid_auto_rows": null,
            "grid_gap": null,
            "max_width": null,
            "order": null,
            "_view_module_version": "1.2.0",
            "grid_template_areas": null,
            "object_position": null,
            "object_fit": null,
            "grid_auto_columns": null,
            "margin": null,
            "display": null,
            "left": null
          }
        },
        "21c0b7b9b5a34e2f9bce43d529d01750": {
          "model_module": "@jupyter-widgets/controls",
          "model_name": "LabelModel",
          "model_module_version": "1.5.0",
          "state": {
            "_view_name": "LabelView",
            "style": "IPY_MODEL_1fb6608770cb407bb28ce39fc4d0086e",
            "_dom_classes": [],
            "description": "",
            "_model_name": "LabelModel",
            "placeholder": "​",
            "_view_module": "@jupyter-widgets/controls",
            "_model_module_version": "1.5.0",
            "value": " 0.01MB of 0.01MB uploaded (0.00MB deduped)\r",
            "_view_count": null,
            "_view_module_version": "1.5.0",
            "description_tooltip": null,
            "_model_module": "@jupyter-widgets/controls",
            "layout": "IPY_MODEL_7cf08cea864a4fc3a87e8d71907feba4"
          }
        },
        "766f5e8b8ea44a75a1934765068f147f": {
          "model_module": "@jupyter-widgets/controls",
          "model_name": "FloatProgressModel",
          "model_module_version": "1.5.0",
          "state": {
            "_view_name": "ProgressView",
            "style": "IPY_MODEL_e03bcdde4c1141bbae0856910d330af0",
            "_dom_classes": [],
            "description": "",
            "_model_name": "FloatProgressModel",
            "bar_style": "",
            "max": 1,
            "_view_module": "@jupyter-widgets/controls",
            "_model_module_version": "1.5.0",
            "value": 1,
            "_view_count": null,
            "_view_module_version": "1.5.0",
            "orientation": "horizontal",
            "min": 0,
            "description_tooltip": null,
            "_model_module": "@jupyter-widgets/controls",
            "layout": "IPY_MODEL_fd75e6cf90bf485d8d040dd3c532679a"
          }
        },
        "1fb6608770cb407bb28ce39fc4d0086e": {
          "model_module": "@jupyter-widgets/controls",
          "model_name": "DescriptionStyleModel",
          "model_module_version": "1.5.0",
          "state": {
            "_view_name": "StyleView",
            "_model_name": "DescriptionStyleModel",
            "description_width": "",
            "_view_module": "@jupyter-widgets/base",
            "_model_module_version": "1.5.0",
            "_view_count": null,
            "_view_module_version": "1.2.0",
            "_model_module": "@jupyter-widgets/controls"
          }
        },
        "7cf08cea864a4fc3a87e8d71907feba4": {
          "model_module": "@jupyter-widgets/base",
          "model_name": "LayoutModel",
          "model_module_version": "1.2.0",
          "state": {
            "_view_name": "LayoutView",
            "grid_template_rows": null,
            "right": null,
            "justify_content": null,
            "_view_module": "@jupyter-widgets/base",
            "overflow": null,
            "_model_module_version": "1.2.0",
            "_view_count": null,
            "flex_flow": null,
            "width": null,
            "min_width": null,
            "border": null,
            "align_items": null,
            "bottom": null,
            "_model_module": "@jupyter-widgets/base",
            "top": null,
            "grid_column": null,
            "overflow_y": null,
            "overflow_x": null,
            "grid_auto_flow": null,
            "grid_area": null,
            "grid_template_columns": null,
            "flex": null,
            "_model_name": "LayoutModel",
            "justify_items": null,
            "grid_row": null,
            "max_height": null,
            "align_content": null,
            "visibility": null,
            "align_self": null,
            "height": null,
            "min_height": null,
            "padding": null,
            "grid_auto_rows": null,
            "grid_gap": null,
            "max_width": null,
            "order": null,
            "_view_module_version": "1.2.0",
            "grid_template_areas": null,
            "object_position": null,
            "object_fit": null,
            "grid_auto_columns": null,
            "margin": null,
            "display": null,
            "left": null
          }
        },
        "e03bcdde4c1141bbae0856910d330af0": {
          "model_module": "@jupyter-widgets/controls",
          "model_name": "ProgressStyleModel",
          "model_module_version": "1.5.0",
          "state": {
            "_view_name": "StyleView",
            "_model_name": "ProgressStyleModel",
            "description_width": "",
            "_view_module": "@jupyter-widgets/base",
            "_model_module_version": "1.5.0",
            "_view_count": null,
            "_view_module_version": "1.2.0",
            "bar_color": null,
            "_model_module": "@jupyter-widgets/controls"
          }
        },
        "fd75e6cf90bf485d8d040dd3c532679a": {
          "model_module": "@jupyter-widgets/base",
          "model_name": "LayoutModel",
          "model_module_version": "1.2.0",
          "state": {
            "_view_name": "LayoutView",
            "grid_template_rows": null,
            "right": null,
            "justify_content": null,
            "_view_module": "@jupyter-widgets/base",
            "overflow": null,
            "_model_module_version": "1.2.0",
            "_view_count": null,
            "flex_flow": null,
            "width": null,
            "min_width": null,
            "border": null,
            "align_items": null,
            "bottom": null,
            "_model_module": "@jupyter-widgets/base",
            "top": null,
            "grid_column": null,
            "overflow_y": null,
            "overflow_x": null,
            "grid_auto_flow": null,
            "grid_area": null,
            "grid_template_columns": null,
            "flex": null,
            "_model_name": "LayoutModel",
            "justify_items": null,
            "grid_row": null,
            "max_height": null,
            "align_content": null,
            "visibility": null,
            "align_self": null,
            "height": null,
            "min_height": null,
            "padding": null,
            "grid_auto_rows": null,
            "grid_gap": null,
            "max_width": null,
            "order": null,
            "_view_module_version": "1.2.0",
            "grid_template_areas": null,
            "object_position": null,
            "object_fit": null,
            "grid_auto_columns": null,
            "margin": null,
            "display": null,
            "left": null
          }
        }
      }
    }
  },
  "cells": [
    {
      "cell_type": "code",
      "metadata": {
        "id": "UScNGb7Uh90x"
      },
      "source": [
        "!pip install wandb"
      ],
      "execution_count": null,
      "outputs": []
    },
    {
      "cell_type": "code",
      "metadata": {
        "id": "Nl-knv4x3V1-"
      },
      "source": [
        "import tensorflow as tf\n",
        "from tensorflow.keras.layers import Dense, Flatten, Conv2D\n",
        "import wandb, cv2\n",
        "import numpy as np\n",
        "from wandb.keras import WandbCallback\n",
        "from tensorflow.keras.preprocessing.image import ImageDataGenerator\n",
        "from tqdm import tqdm\n",
        "import matplotlib.pyplot as plt"
      ],
      "execution_count": 110,
      "outputs": []
    },
    {
      "cell_type": "code",
      "metadata": {
        "colab": {
          "base_uri": "https://localhost:8080/",
          "height": 35
        },
        "id": "pwP7pche3Zv6",
        "outputId": "9055d989-162c-4b59-b0b3-19808e1a4931"
      },
      "source": [
        "tf.__version__"
      ],
      "execution_count": 85,
      "outputs": [
        {
          "output_type": "execute_result",
          "data": {
            "application/vnd.google.colaboratory.intrinsic+json": {
              "type": "string"
            },
            "text/plain": [
              "'2.6.0'"
            ]
          },
          "metadata": {},
          "execution_count": 85
        }
      ]
    },
    {
      "cell_type": "code",
      "metadata": {
        "id": "dQBEwjp9is3f",
        "colab": {
          "base_uri": "https://localhost:8080/",
          "height": 195,
          "referenced_widgets": [
            "50a5c71380c5482e918baf42858628f3",
            "b5316dbc9f2d45c5b1c0ba2e47c66ab2",
            "46aeb315b6b54169a48fff26a50ee2cf",
            "56de4125d59b426ea7d0b435528d5d87",
            "2c8c9466ad194c5fb0b7330317f03cd8",
            "45d498e4a8aa4393bba06af45e3911df",
            "fe008e8a1eba465ebd6e04f13771656a",
            "6a84db7d85274bb5aa95b8218cf268d4"
          ]
        },
        "outputId": "582d38ed-5d98-4562-e475-748d6f2e02ce"
      },
      "source": [
        "wandb.init(project='Face_Recognition')"
      ],
      "execution_count": 86,
      "outputs": [
        {
          "output_type": "display_data",
          "data": {
            "text/html": [
              "Finishing last run (ID:2pvi1782) before initializing another..."
            ],
            "text/plain": [
              "<IPython.core.display.HTML object>"
            ]
          },
          "metadata": {}
        },
        {
          "output_type": "display_data",
          "data": {
            "text/html": [
              "<br/>Waiting for W&B process to finish, PID 841... <strong style=\"color:green\">(success).</strong>"
            ],
            "text/plain": [
              "<IPython.core.display.HTML object>"
            ]
          },
          "metadata": {}
        },
        {
          "output_type": "display_data",
          "data": {
            "application/vnd.jupyter.widget-view+json": {
              "model_id": "50a5c71380c5482e918baf42858628f3",
              "version_minor": 0,
              "version_major": 2
            },
            "text/plain": [
              "VBox(children=(Label(value=' 0.00MB of 0.00MB uploaded (0.00MB deduped)\\r'), FloatProgress(value=1.0, max=1.0)…"
            ]
          },
          "metadata": {}
        },
        {
          "output_type": "display_data",
          "data": {
            "text/html": [
              "<style>\n",
              "    table.wandb td:nth-child(1) { padding: 0 10px; text-align: right }\n",
              "    .wandb-row { display: flex; flex-direction: row; flex-wrap: wrap; width: 100% }\n",
              "    .wandb-col { display: flex; flex-direction: column; flex-basis: 100%; flex: 1; padding: 10px; }\n",
              "    </style>\n",
              "<div class=\"wandb-row\"><div class=\"wandb-col\">\n",
              "</div><div class=\"wandb-col\">\n",
              "</div></div>\n",
              "Synced 5 W&B file(s), 0 media file(s), 0 artifact file(s) and 0 other file(s)\n",
              "<br/>Synced <strong style=\"color:#cdcd00\">different-pine-31</strong>: <a href=\"https://wandb.ai/maryamboneh/Face_Recognition/runs/2pvi1782\" target=\"_blank\">https://wandb.ai/maryamboneh/Face_Recognition/runs/2pvi1782</a><br/>\n",
              "Find logs at: <code>./wandb/run-20211017_185501-2pvi1782/logs</code><br/>\n"
            ],
            "text/plain": [
              "<IPython.core.display.HTML object>"
            ]
          },
          "metadata": {}
        },
        {
          "output_type": "display_data",
          "data": {
            "text/html": [
              "Successfully finished last run (ID:2pvi1782). Initializing new run:<br/>"
            ],
            "text/plain": [
              "<IPython.core.display.HTML object>"
            ]
          },
          "metadata": {}
        },
        {
          "output_type": "display_data",
          "data": {
            "text/html": [
              "\n",
              "                    Syncing run <strong><a href=\"https://wandb.ai/maryamboneh/Face_Recognition/runs/1ud0frt3\" target=\"_blank\">zesty-serenity-32</a></strong> to <a href=\"https://wandb.ai/maryamboneh/Face_Recognition\" target=\"_blank\">Weights & Biases</a> (<a href=\"https://docs.wandb.com/integrations/jupyter.html\" target=\"_blank\">docs</a>).<br/>\n",
              "\n",
              "                "
            ],
            "text/plain": [
              "<IPython.core.display.HTML object>"
            ]
          },
          "metadata": {}
        },
        {
          "output_type": "execute_result",
          "data": {
            "text/plain": [
              "<wandb.sdk.wandb_run.Run at 0x7f170324f090>"
            ],
            "text/html": [
              "<button onClick=\"this.nextSibling.style.display='block';this.style.display='none';\">Display W&B run</button><iframe src=\"https://wandb.ai/maryamboneh/Face_Recognition/runs/1ud0frt3?jupyter=true\" style=\"border:none;width:100%;height:420px;display:none;\"></iframe>"
            ]
          },
          "metadata": {},
          "execution_count": 86
        }
      ]
    },
    {
      "cell_type": "code",
      "metadata": {
        "id": "SFEvSUDKiOKG"
      },
      "source": [
        "folder_address = '/content/drive/MyDrive/Datasets/7-7 dataset/'\n",
        "\n",
        "batch_size = 8\n",
        "width = height = 224\n",
        "\n",
        "config = wandb.config\n",
        "config.learning_rate = 0.001"
      ],
      "execution_count": 87,
      "outputs": []
    },
    {
      "cell_type": "code",
      "metadata": {
        "colab": {
          "base_uri": "https://localhost:8080/"
        },
        "id": "sR4TmWavjEMi",
        "outputId": "87ff7c61-2366-47e3-d6c8-420d6c56a5e2"
      },
      "source": [
        "data_generator = ImageDataGenerator(\n",
        "    rescale = 1. / 255,\n",
        "    validation_split = 0.1,\n",
        "    horizontal_flip = True\n",
        ")\n",
        "\n",
        "train_data = data_generator.flow_from_directory(folder_address,\n",
        "                                                    target_size = (width, height),\n",
        "                                                    class_mode = 'categorical',\n",
        "                                                    batch_size = batch_size,\n",
        "                                                    shuffle = True,\n",
        "                                                    subset ='training')\n",
        "\n",
        "val_data = data_generator.flow_from_directory(folder_address,\n",
        "                                                    target_size = (width, height),\n",
        "                                                    class_mode = 'categorical',\n",
        "                                                    batch_size = batch_size,\n",
        "                                                    shuffle = False,\n",
        "                                                    subset ='validation')"
      ],
      "execution_count": 88,
      "outputs": [
        {
          "output_type": "stream",
          "name": "stdout",
          "text": [
            "Found 1228 images belonging to 14 classes.\n",
            "Found 131 images belonging to 14 classes.\n"
          ]
        }
      ]
    },
    {
      "cell_type": "code",
      "metadata": {
        "colab": {
          "base_uri": "https://localhost:8080/"
        },
        "id": "aRb0fL3AquK5",
        "outputId": "e689f954-2497-47ab-cb47-99d0bdbbe5c9"
      },
      "source": [
        "train_data.image_shape"
      ],
      "execution_count": 89,
      "outputs": [
        {
          "output_type": "execute_result",
          "data": {
            "text/plain": [
              "(224, 224, 3)"
            ]
          },
          "metadata": {},
          "execution_count": 89
        }
      ]
    },
    {
      "cell_type": "code",
      "metadata": {
        "id": "JUpN62AMTX-M"
      },
      "source": [
        "class MyModel(tf.keras.Model):\n",
        "  def __init__(self, number_of_classes):\n",
        "    super().__init__()\n",
        "    self.conv1 = Conv2D(32, (3, 3), activation='relu', input_shape = (width, height, 3))\n",
        "    # self.conv2 = Conv2D(16, (3, 3), activation='relu')\n",
        "    # self.conv3 = Conv2D(32, (3, 3), activation='relu')\n",
        "    self.flatten = Flatten()\n",
        "    self.fc1 = Dense(128, activation='relu')\n",
        "    self.fc2 = Dense(64, activation='relu')\n",
        "    self.fc3 = Dense(number_of_classes, activation='softmax')\n",
        "\n",
        "  def call(self, x):\n",
        "\n",
        "    x = self.conv1(x)\n",
        "    # x = self.flatten(x)\n",
        "    # x = self.conv2(x)\n",
        "    x = self.flatten(x)\n",
        "    # x = self.conv3(x)\n",
        "    x = self.flatten(x)\n",
        "    x = self.fc1(x)\n",
        "    x = self.fc2(x)\n",
        "    output = self.fc3(x)\n",
        "\n",
        "    return output\n",
        "\n",
        "model = MyModel(14)"
      ],
      "execution_count": 99,
      "outputs": []
    },
    {
      "cell_type": "code",
      "metadata": {
        "id": "c1kSYPLZVzX9"
      },
      "source": [
        "loss_function = tf.keras.losses.SparseCategoricalCrossentropy(from_logits=True)\n",
        "optimizer =  tf.keras.optimizers.Adam()"
      ],
      "execution_count": 100,
      "outputs": []
    },
    {
      "cell_type": "code",
      "metadata": {
        "id": "qzg-pAieVtmB"
      },
      "source": [
        "train_loss = tf.keras.metrics.Mean(name='train_loss')\n",
        "train_acc = tf.keras.metrics.CategoricalAccuracy(name='train_acc')\n",
        "\n",
        "test_loss = tf.keras.metrics.Mean(name='test_loss')\n",
        "test_acc = tf.keras.metrics.CategoricalAccuracy(name='test_acc')"
      ],
      "execution_count": 101,
      "outputs": []
    },
    {
      "cell_type": "code",
      "metadata": {
        "id": "tS6jE3jRFDwY",
        "colab": {
          "base_uri": "https://localhost:8080/",
          "height": 175,
          "referenced_widgets": [
            "313b64b3d8a343cf9f1243785bb5a8b2",
            "9c21bda4ff37419b98f587c8e81439de",
            "21c0b7b9b5a34e2f9bce43d529d01750",
            "766f5e8b8ea44a75a1934765068f147f",
            "1fb6608770cb407bb28ce39fc4d0086e",
            "7cf08cea864a4fc3a87e8d71907feba4",
            "e03bcdde4c1141bbae0856910d330af0",
            "fd75e6cf90bf485d8d040dd3c532679a"
          ]
        },
        "outputId": "430b18f0-fd02-45df-de9c-6a0b6443149c"
      },
      "source": [
        "configs = {\n",
        "              \"learning_rate\": 0.001,\n",
        "              \"epochs\": 20,\n",
        "              \"batch_size\": 8,\n",
        "              \"log_step\": 200,\n",
        "              \"val_log_step\": 50\n",
        "           }\n",
        "\n",
        "run = wandb.init(project='Face_Recognition', config=configs)\n",
        "config = wandb.config"
      ],
      "execution_count": 102,
      "outputs": [
        {
          "output_type": "display_data",
          "data": {
            "text/html": [
              "Finishing last run (ID:238f0yjd) before initializing another..."
            ],
            "text/plain": [
              "<IPython.core.display.HTML object>"
            ]
          },
          "metadata": {}
        },
        {
          "output_type": "display_data",
          "data": {
            "text/html": [
              "<br/>Waiting for W&B process to finish, PID 945... <strong style=\"color:green\">(success).</strong>"
            ],
            "text/plain": [
              "<IPython.core.display.HTML object>"
            ]
          },
          "metadata": {}
        },
        {
          "output_type": "display_data",
          "data": {
            "application/vnd.jupyter.widget-view+json": {
              "model_id": "313b64b3d8a343cf9f1243785bb5a8b2",
              "version_minor": 0,
              "version_major": 2
            },
            "text/plain": [
              "VBox(children=(Label(value=' 0.00MB of 0.00MB uploaded (0.00MB deduped)\\r'), FloatProgress(value=1.0, max=1.0)…"
            ]
          },
          "metadata": {}
        },
        {
          "output_type": "display_data",
          "data": {
            "text/html": [
              "<style>\n",
              "    table.wandb td:nth-child(1) { padding: 0 10px; text-align: right }\n",
              "    .wandb-row { display: flex; flex-direction: row; flex-wrap: wrap; width: 100% }\n",
              "    .wandb-col { display: flex; flex-direction: column; flex-basis: 100%; flex: 1; padding: 10px; }\n",
              "    </style>\n",
              "<div class=\"wandb-row\"><div class=\"wandb-col\">\n",
              "</div><div class=\"wandb-col\">\n",
              "</div></div>\n",
              "Synced 5 W&B file(s), 0 media file(s), 0 artifact file(s) and 0 other file(s)\n",
              "<br/>Synced <strong style=\"color:#cdcd00\">expert-gorge-33</strong>: <a href=\"https://wandb.ai/maryamboneh/Face_Recognition/runs/238f0yjd\" target=\"_blank\">https://wandb.ai/maryamboneh/Face_Recognition/runs/238f0yjd</a><br/>\n",
              "Find logs at: <code>./wandb/run-20211017_190345-238f0yjd/logs</code><br/>\n"
            ],
            "text/plain": [
              "<IPython.core.display.HTML object>"
            ]
          },
          "metadata": {}
        },
        {
          "output_type": "display_data",
          "data": {
            "text/html": [
              "Successfully finished last run (ID:238f0yjd). Initializing new run:<br/>"
            ],
            "text/plain": [
              "<IPython.core.display.HTML object>"
            ]
          },
          "metadata": {}
        },
        {
          "output_type": "display_data",
          "data": {
            "text/html": [
              "\n",
              "                    Syncing run <strong><a href=\"https://wandb.ai/maryamboneh/Face_Recognition/runs/3li2uex0\" target=\"_blank\">cosmic-smoke-34</a></strong> to <a href=\"https://wandb.ai/maryamboneh/Face_Recognition\" target=\"_blank\">Weights & Biases</a> (<a href=\"https://docs.wandb.com/integrations/jupyter.html\" target=\"_blank\">docs</a>).<br/>\n",
              "\n",
              "                "
            ],
            "text/plain": [
              "<IPython.core.display.HTML object>"
            ]
          },
          "metadata": {}
        }
      ]
    },
    {
      "cell_type": "code",
      "metadata": {
        "id": "VjewigKSRvS2"
      },
      "source": [
        "def train_step(images, y):\n",
        "    with tf.GradientTape() as tape:\n",
        "        y_pred = model(images, training = True)\n",
        "        loss = tf.keras.losses.categorical_crossentropy(y, y_pred)\n",
        "\n",
        "    #gradient calculate\n",
        "    gradients = tape.gradient(loss, model.trainable_variables)\n",
        "\n",
        "    #update\n",
        "    optimizer.apply_gradients(zip(gradients,model.trainable_variables))\n",
        "\n",
        "    train_loss(loss)\n",
        "    train_acc(y, y_pred)\n"
      ],
      "execution_count": 103,
      "outputs": []
    },
    {
      "cell_type": "code",
      "metadata": {
        "id": "c4cof-ceSC-z"
      },
      "source": [
        "def test_step(images, y):\n",
        "  y_pred = model(images, training = False)\n",
        "  loss = tf.keras.losses.categorical_crossentropy(y, y_pred)\n",
        "\n",
        "  test_loss(loss)\n",
        "  test_acc(y, y_pred)"
      ],
      "execution_count": 104,
      "outputs": []
    },
    {
      "cell_type": "code",
      "metadata": {
        "id": "MFU-x2bXSiRo"
      },
      "source": [
        "def train():\n",
        "    epochs = 20\n",
        "\n",
        "    for epoch in range(epochs):\n",
        "\n",
        "        train_loss.reset_state()\n",
        "        train_acc.reset_state()\n",
        "        test_loss.reset_state()\n",
        "        test_acc.reset_state()\n",
        "\n",
        "        count_for_train = 0\n",
        "        count_for_test = 0\n",
        "\n",
        "        i_train = len(train_data)\n",
        "        i_test = len(val_data)\n",
        "\n",
        "        for images, labels in tqdm(train_data):\n",
        "            train_step(images, labels)\n",
        "            count_for_train += 1\n",
        "            if count_for_train > i_train:\n",
        "                break\n",
        "\n",
        "        for images, labels in tqdm(val_data):\n",
        "            test_step(images, labels)\n",
        "            count_for_test += 1\n",
        "            if count_for_test > i_test:\n",
        "                break\n",
        "\n",
        "        print('epoch:', epoch + 1)\n",
        "        print('loss:', train_loss.result())\n",
        "        print('accuracy:', train_acc.result())\n",
        "        print('val loss:', test_loss.result())\n",
        "        print('val accuracy:', test_acc.result())\n",
        "\n",
        "        wandb.log({'epochs': epoch,\n",
        "            'train_loss': np.mean(train_loss.result()),\n",
        "            'train_acc': float(train_acc.result()), \n",
        "            'test_loss': np.mean(test_loss.result()),\n",
        "            'test_acc': float(test_acc.result())\n",
        "            })"
      ],
      "execution_count": 105,
      "outputs": []
    },
    {
      "cell_type": "code",
      "metadata": {
        "id": "thRicrtitZIr",
        "colab": {
          "base_uri": "https://localhost:8080/"
        },
        "outputId": "5ee8d222-fade-4964-c2ba-5d342e3670b1"
      },
      "source": [
        "print(train_data)"
      ],
      "execution_count": 106,
      "outputs": [
        {
          "output_type": "stream",
          "name": "stdout",
          "text": [
            "<keras.preprocessing.image.DirectoryIterator object at 0x7f1702b59250>\n"
          ]
        }
      ]
    },
    {
      "cell_type": "code",
      "metadata": {
        "colab": {
          "base_uri": "https://localhost:8080/"
        },
        "id": "LtOiny1MWWSJ",
        "outputId": "9a4e37c0-20f4-49bc-af83-7979164135a0"
      },
      "source": [
        "train()"
      ],
      "execution_count": 107,
      "outputs": [
        {
          "output_type": "stream",
          "name": "stderr",
          "text": [
            "100%|██████████| 154/154 [13:18<00:00,  5.18s/it]\n",
            "100%|██████████| 17/17 [01:38<00:00,  5.80s/it]\n"
          ]
        },
        {
          "output_type": "stream",
          "name": "stdout",
          "text": [
            "epoch: 1\n",
            "loss: tf.Tensor(8.738399, shape=(), dtype=float32)\n",
            "accuracy: tf.Tensor(0.2936893, shape=(), dtype=float32)\n",
            "val loss: tf.Tensor(1.7132022, shape=(), dtype=float32)\n",
            "val accuracy: tf.Tensor(0.48920864, shape=(), dtype=float32)\n"
          ]
        },
        {
          "output_type": "stream",
          "name": "stderr",
          "text": [
            "100%|██████████| 154/154 [00:51<00:00,  2.99it/s]\n",
            "100%|██████████| 17/17 [00:02<00:00,  6.48it/s]\n"
          ]
        },
        {
          "output_type": "stream",
          "name": "stdout",
          "text": [
            "epoch: 2\n",
            "loss: tf.Tensor(1.0110974, shape=(), dtype=float32)\n",
            "accuracy: tf.Tensor(0.69983816, shape=(), dtype=float32)\n",
            "val loss: tf.Tensor(1.0037329, shape=(), dtype=float32)\n",
            "val accuracy: tf.Tensor(0.7122302, shape=(), dtype=float32)\n"
          ]
        },
        {
          "output_type": "stream",
          "name": "stderr",
          "text": [
            "100%|██████████| 154/154 [00:49<00:00,  3.14it/s]\n",
            "100%|██████████| 17/17 [00:02<00:00,  6.32it/s]\n"
          ]
        },
        {
          "output_type": "stream",
          "name": "stdout",
          "text": [
            "epoch: 3\n",
            "loss: tf.Tensor(0.4532809, shape=(), dtype=float32)\n",
            "accuracy: tf.Tensor(0.88349515, shape=(), dtype=float32)\n",
            "val loss: tf.Tensor(0.98865646, shape=(), dtype=float32)\n",
            "val accuracy: tf.Tensor(0.7410072, shape=(), dtype=float32)\n"
          ]
        },
        {
          "output_type": "stream",
          "name": "stderr",
          "text": [
            "100%|██████████| 154/154 [00:49<00:00,  3.13it/s]\n",
            "100%|██████████| 17/17 [00:02<00:00,  6.45it/s]\n"
          ]
        },
        {
          "output_type": "stream",
          "name": "stdout",
          "text": [
            "epoch: 4\n",
            "loss: tf.Tensor(0.2091296, shape=(), dtype=float32)\n",
            "accuracy: tf.Tensor(0.94012946, shape=(), dtype=float32)\n",
            "val loss: tf.Tensor(0.7925668, shape=(), dtype=float32)\n",
            "val accuracy: tf.Tensor(0.7410072, shape=(), dtype=float32)\n"
          ]
        },
        {
          "output_type": "stream",
          "name": "stderr",
          "text": [
            "100%|██████████| 154/154 [00:48<00:00,  3.15it/s]\n",
            "100%|██████████| 17/17 [00:02<00:00,  6.33it/s]\n"
          ]
        },
        {
          "output_type": "stream",
          "name": "stdout",
          "text": [
            "epoch: 5\n",
            "loss: tf.Tensor(0.13691251, shape=(), dtype=float32)\n",
            "accuracy: tf.Tensor(0.96359223, shape=(), dtype=float32)\n",
            "val loss: tf.Tensor(0.79420644, shape=(), dtype=float32)\n",
            "val accuracy: tf.Tensor(0.7553957, shape=(), dtype=float32)\n"
          ]
        },
        {
          "output_type": "stream",
          "name": "stderr",
          "text": [
            "100%|██████████| 154/154 [00:49<00:00,  3.14it/s]\n",
            "100%|██████████| 17/17 [00:02<00:00,  6.36it/s]\n"
          ]
        },
        {
          "output_type": "stream",
          "name": "stdout",
          "text": [
            "epoch: 6\n",
            "loss: tf.Tensor(0.05572726, shape=(), dtype=float32)\n",
            "accuracy: tf.Tensor(0.9854369, shape=(), dtype=float32)\n",
            "val loss: tf.Tensor(0.8047163, shape=(), dtype=float32)\n",
            "val accuracy: tf.Tensor(0.8057554, shape=(), dtype=float32)\n"
          ]
        },
        {
          "output_type": "stream",
          "name": "stderr",
          "text": [
            "100%|██████████| 154/154 [00:49<00:00,  3.13it/s]\n",
            "100%|██████████| 17/17 [00:02<00:00,  6.49it/s]\n"
          ]
        },
        {
          "output_type": "stream",
          "name": "stdout",
          "text": [
            "epoch: 7\n",
            "loss: tf.Tensor(0.046221882, shape=(), dtype=float32)\n",
            "accuracy: tf.Tensor(0.98867315, shape=(), dtype=float32)\n",
            "val loss: tf.Tensor(0.64140016, shape=(), dtype=float32)\n",
            "val accuracy: tf.Tensor(0.8201439, shape=(), dtype=float32)\n"
          ]
        },
        {
          "output_type": "stream",
          "name": "stderr",
          "text": [
            "100%|██████████| 154/154 [00:48<00:00,  3.15it/s]\n",
            "100%|██████████| 17/17 [00:02<00:00,  6.40it/s]\n"
          ]
        },
        {
          "output_type": "stream",
          "name": "stdout",
          "text": [
            "epoch: 8\n",
            "loss: tf.Tensor(0.034319833, shape=(), dtype=float32)\n",
            "accuracy: tf.Tensor(0.99271846, shape=(), dtype=float32)\n",
            "val loss: tf.Tensor(0.64551735, shape=(), dtype=float32)\n",
            "val accuracy: tf.Tensor(0.8201439, shape=(), dtype=float32)\n"
          ]
        },
        {
          "output_type": "stream",
          "name": "stderr",
          "text": [
            "100%|██████████| 154/154 [00:48<00:00,  3.15it/s]\n",
            "100%|██████████| 17/17 [00:02<00:00,  6.38it/s]\n"
          ]
        },
        {
          "output_type": "stream",
          "name": "stdout",
          "text": [
            "epoch: 9\n",
            "loss: tf.Tensor(0.017362447, shape=(), dtype=float32)\n",
            "accuracy: tf.Tensor(0.9951456, shape=(), dtype=float32)\n",
            "val loss: tf.Tensor(0.6127457, shape=(), dtype=float32)\n",
            "val accuracy: tf.Tensor(0.82733816, shape=(), dtype=float32)\n"
          ]
        },
        {
          "output_type": "stream",
          "name": "stderr",
          "text": [
            "100%|██████████| 154/154 [00:49<00:00,  3.14it/s]\n",
            "100%|██████████| 17/17 [00:02<00:00,  6.38it/s]\n"
          ]
        },
        {
          "output_type": "stream",
          "name": "stdout",
          "text": [
            "epoch: 10\n",
            "loss: tf.Tensor(0.0025163486, shape=(), dtype=float32)\n",
            "accuracy: tf.Tensor(1.0, shape=(), dtype=float32)\n",
            "val loss: tf.Tensor(0.5607608, shape=(), dtype=float32)\n",
            "val accuracy: tf.Tensor(0.8417266, shape=(), dtype=float32)\n"
          ]
        },
        {
          "output_type": "stream",
          "name": "stderr",
          "text": [
            "100%|██████████| 154/154 [00:48<00:00,  3.15it/s]\n",
            "100%|██████████| 17/17 [00:02<00:00,  6.44it/s]\n"
          ]
        },
        {
          "output_type": "stream",
          "name": "stdout",
          "text": [
            "epoch: 11\n",
            "loss: tf.Tensor(0.044926707, shape=(), dtype=float32)\n",
            "accuracy: tf.Tensor(0.99029124, shape=(), dtype=float32)\n",
            "val loss: tf.Tensor(0.95436084, shape=(), dtype=float32)\n",
            "val accuracy: tf.Tensor(0.76258993, shape=(), dtype=float32)\n"
          ]
        },
        {
          "output_type": "stream",
          "name": "stderr",
          "text": [
            "100%|██████████| 154/154 [00:48<00:00,  3.17it/s]\n",
            "100%|██████████| 17/17 [00:02<00:00,  6.42it/s]\n"
          ]
        },
        {
          "output_type": "stream",
          "name": "stdout",
          "text": [
            "epoch: 12\n",
            "loss: tf.Tensor(0.053900294, shape=(), dtype=float32)\n",
            "accuracy: tf.Tensor(0.9854369, shape=(), dtype=float32)\n",
            "val loss: tf.Tensor(0.9460044, shape=(), dtype=float32)\n",
            "val accuracy: tf.Tensor(0.76258993, shape=(), dtype=float32)\n"
          ]
        },
        {
          "output_type": "stream",
          "name": "stderr",
          "text": [
            "100%|██████████| 154/154 [00:48<00:00,  3.16it/s]\n",
            "100%|██████████| 17/17 [00:02<00:00,  6.49it/s]\n"
          ]
        },
        {
          "output_type": "stream",
          "name": "stdout",
          "text": [
            "epoch: 13\n",
            "loss: tf.Tensor(0.0034779557, shape=(), dtype=float32)\n",
            "accuracy: tf.Tensor(1.0, shape=(), dtype=float32)\n",
            "val loss: tf.Tensor(0.67774236, shape=(), dtype=float32)\n",
            "val accuracy: tf.Tensor(0.8345324, shape=(), dtype=float32)\n"
          ]
        },
        {
          "output_type": "stream",
          "name": "stderr",
          "text": [
            "100%|██████████| 154/154 [00:48<00:00,  3.17it/s]\n",
            "100%|██████████| 17/17 [00:02<00:00,  6.44it/s]\n"
          ]
        },
        {
          "output_type": "stream",
          "name": "stdout",
          "text": [
            "epoch: 14\n",
            "loss: tf.Tensor(0.001747836, shape=(), dtype=float32)\n",
            "accuracy: tf.Tensor(1.0, shape=(), dtype=float32)\n",
            "val loss: tf.Tensor(0.6990114, shape=(), dtype=float32)\n",
            "val accuracy: tf.Tensor(0.8345324, shape=(), dtype=float32)\n"
          ]
        },
        {
          "output_type": "stream",
          "name": "stderr",
          "text": [
            "100%|██████████| 154/154 [00:49<00:00,  3.14it/s]\n",
            "100%|██████████| 17/17 [00:02<00:00,  6.41it/s]\n"
          ]
        },
        {
          "output_type": "stream",
          "name": "stdout",
          "text": [
            "epoch: 15\n",
            "loss: tf.Tensor(0.00044387078, shape=(), dtype=float32)\n",
            "accuracy: tf.Tensor(1.0, shape=(), dtype=float32)\n",
            "val loss: tf.Tensor(0.7298403, shape=(), dtype=float32)\n",
            "val accuracy: tf.Tensor(0.8201439, shape=(), dtype=float32)\n"
          ]
        },
        {
          "output_type": "stream",
          "name": "stderr",
          "text": [
            "100%|██████████| 154/154 [00:48<00:00,  3.16it/s]\n",
            "100%|██████████| 17/17 [00:02<00:00,  6.42it/s]\n"
          ]
        },
        {
          "output_type": "stream",
          "name": "stdout",
          "text": [
            "epoch: 16\n",
            "loss: tf.Tensor(0.0014929959, shape=(), dtype=float32)\n",
            "accuracy: tf.Tensor(1.0, shape=(), dtype=float32)\n",
            "val loss: tf.Tensor(0.64447314, shape=(), dtype=float32)\n",
            "val accuracy: tf.Tensor(0.8417266, shape=(), dtype=float32)\n"
          ]
        },
        {
          "output_type": "stream",
          "name": "stderr",
          "text": [
            "100%|██████████| 154/154 [00:48<00:00,  3.17it/s]\n",
            "100%|██████████| 17/17 [00:02<00:00,  6.66it/s]\n"
          ]
        },
        {
          "output_type": "stream",
          "name": "stdout",
          "text": [
            "epoch: 17\n",
            "loss: tf.Tensor(0.00033744465, shape=(), dtype=float32)\n",
            "accuracy: tf.Tensor(1.0, shape=(), dtype=float32)\n",
            "val loss: tf.Tensor(0.6658842, shape=(), dtype=float32)\n",
            "val accuracy: tf.Tensor(0.8208955, shape=(), dtype=float32)\n"
          ]
        },
        {
          "output_type": "stream",
          "name": "stderr",
          "text": [
            "100%|██████████| 154/154 [00:48<00:00,  3.17it/s]\n",
            "100%|██████████| 17/17 [00:02<00:00,  6.47it/s]\n"
          ]
        },
        {
          "output_type": "stream",
          "name": "stdout",
          "text": [
            "epoch: 18\n",
            "loss: tf.Tensor(0.00023036402, shape=(), dtype=float32)\n",
            "accuracy: tf.Tensor(1.0, shape=(), dtype=float32)\n",
            "val loss: tf.Tensor(0.70983386, shape=(), dtype=float32)\n",
            "val accuracy: tf.Tensor(0.8417266, shape=(), dtype=float32)\n"
          ]
        },
        {
          "output_type": "stream",
          "name": "stderr",
          "text": [
            "100%|██████████| 154/154 [00:48<00:00,  3.17it/s]\n",
            "100%|██████████| 17/17 [00:02<00:00,  6.42it/s]\n"
          ]
        },
        {
          "output_type": "stream",
          "name": "stdout",
          "text": [
            "epoch: 19\n",
            "loss: tf.Tensor(0.15462181, shape=(), dtype=float32)\n",
            "accuracy: tf.Tensor(0.9644013, shape=(), dtype=float32)\n",
            "val loss: tf.Tensor(2.4882085, shape=(), dtype=float32)\n",
            "val accuracy: tf.Tensor(0.4676259, shape=(), dtype=float32)\n"
          ]
        },
        {
          "output_type": "stream",
          "name": "stderr",
          "text": [
            "100%|██████████| 154/154 [00:48<00:00,  3.17it/s]\n",
            "100%|██████████| 17/17 [00:02<00:00,  6.61it/s]"
          ]
        },
        {
          "output_type": "stream",
          "name": "stdout",
          "text": [
            "epoch: 20\n",
            "loss: tf.Tensor(0.20409514, shape=(), dtype=float32)\n",
            "accuracy: tf.Tensor(0.93608415, shape=(), dtype=float32)\n",
            "val loss: tf.Tensor(1.1565443, shape=(), dtype=float32)\n",
            "val accuracy: tf.Tensor(0.7122302, shape=(), dtype=float32)\n"
          ]
        },
        {
          "output_type": "stream",
          "name": "stderr",
          "text": [
            "\n"
          ]
        }
      ]
    },
    {
      "cell_type": "code",
      "metadata": {
        "id": "sweog103Xvf8"
      },
      "source": [
        "model.save('/content/drive/MyDrive/models/face_recognition_model.h5')"
      ],
      "execution_count": 108,
      "outputs": []
    },
    {
      "cell_type": "code",
      "metadata": {
        "id": "9u_cuZrbC6B3"
      },
      "source": [
        "persons = ['علی خامنه ای',\n",
        "           'انجلینا جولی',\n",
        "           'باراک اوباما',\n",
        "           'بهنام بانی',\n",
        "           'دونالد ترامپ',\n",
        "           'اما واتسون',\n",
        "           'سوسانو',\n",
        "           'رهبر کره شمالی',\n",
        "           'لیلا حاتمی',\n",
        "           'مسی',\n",
        "           'میشل اوباما',\n",
        "           'مرگان فریمن',\n",
        "           'ملکه الیزابت',\n",
        "           'اسکارلت جوهانسون']"
      ],
      "execution_count": 128,
      "outputs": []
    },
    {
      "cell_type": "code",
      "metadata": {
        "colab": {
          "base_uri": "https://localhost:8080/",
          "height": 269
        },
        "id": "dhzKnXB73fTA",
        "outputId": "55c7307c-aba8-47cb-c84e-dd4bff1ba35d"
      },
      "source": [
        "image = cv2.imread('trump.jpeg')\n",
        "image = cv2.resize(image, (224, 224))\n",
        "image = cv2.cvtColor(image, cv2.COLOR_BGR2RGB)\n",
        "image = image / 255.0\n",
        "plt.imshow(image)\n",
        "image = tf.expand_dims(image, axis=0)"
      ],
      "execution_count": 133,
      "outputs": [
        {
          "output_type": "display_data",
          "data": {
            "image/png": "[encoded data removed]",
            "text/plain": [
              "<Figure size 432x288 with 1 Axes>"
            ]
          },
          "metadata": {
            "needs_background": "light"
          }
        }
      ]
    },
    {
      "cell_type": "code",
      "metadata": {
        "id": "nJuHxdjg_YWP"
      },
      "source": [
        "y_pred = model(image, training = False)\n",
        "res = np.argmax(y_pred)"
      ],
      "execution_count": 134,
      "outputs": []
    },
    {
      "cell_type": "code",
      "metadata": {
        "colab": {
          "base_uri": "https://localhost:8080/",
          "height": 35
        },
        "id": "cU5CLhhSCg1b",
        "outputId": "9e571abb-6b1a-4550-c2cc-414afa84bee8"
      },
      "source": [
        "persons[res]"
      ],
      "execution_count": 135,
      "outputs": [
        {
          "output_type": "execute_result",
          "data": {
            "application/vnd.google.colaboratory.intrinsic+json": {
              "type": "string"
            },
            "text/plain": [
              "'دونالد ترامپ'"
            ]
          },
          "metadata": {},
          "execution_count": 135
        }
      ]
    }
  ]
}