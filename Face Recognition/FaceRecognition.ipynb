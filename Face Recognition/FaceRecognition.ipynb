{
  "nbformat": 4,
  "nbformat_minor": 0,
  "metadata": {
    "accelerator": "GPU",
    "colab": {
      "name": "FaceRecognition.ipynb",
      "provenance": [],
      "collapsed_sections": []
    },
    "kernelspec": {
      "display_name": "Python 3",
      "name": "python3"
    },
    "language_info": {
      "name": "python"
    },
    "widgets": {
      "application/vnd.jupyter.widget-state+json": {
        "34d79886f34542dea26e62cd4ff2a945": {
          "model_module": "@jupyter-widgets/controls",
          "model_name": "VBoxModel",
          "model_module_version": "1.5.0",
          "state": {
            "_view_name": "VBoxView",
            "_dom_classes": [],
            "_model_name": "VBoxModel",
            "_view_module": "@jupyter-widgets/controls",
            "_model_module_version": "1.5.0",
            "_view_count": null,
            "_view_module_version": "1.5.0",
            "box_style": "",
            "layout": "IPY_MODEL_d9d3522e3b574efcb0a13ac477a60a7d",
            "_model_module": "@jupyter-widgets/controls",
            "children": [
              "IPY_MODEL_e58e66c4d9754be8973fc6ae08509443",
              "IPY_MODEL_5336e361ae634b89b0c35f10f3dadd3b"
            ]
          }
        },
        "d9d3522e3b574efcb0a13ac477a60a7d": {
          "model_module": "@jupyter-widgets/base",
          "model_name": "LayoutModel",
          "model_module_version": "1.2.0",
          "state": {
            "_view_name": "LayoutView",
            "grid_template_rows": null,
            "right": null,
            "justify_content": null,
            "_view_module": "@jupyter-widgets/base",
            "overflow": null,
            "_model_module_version": "1.2.0",
            "_view_count": null,
            "flex_flow": null,
            "width": null,
            "min_width": null,
            "border": null,
            "align_items": null,
            "bottom": null,
            "_model_module": "@jupyter-widgets/base",
            "top": null,
            "grid_column": null,
            "overflow_y": null,
            "overflow_x": null,
            "grid_auto_flow": null,
            "grid_area": null,
            "grid_template_columns": null,
            "flex": null,
            "_model_name": "LayoutModel",
            "justify_items": null,
            "grid_row": null,
            "max_height": null,
            "align_content": null,
            "visibility": null,
            "align_self": null,
            "height": null,
            "min_height": null,
            "padding": null,
            "grid_auto_rows": null,
            "grid_gap": null,
            "max_width": null,
            "order": null,
            "_view_module_version": "1.2.0",
            "grid_template_areas": null,
            "object_position": null,
            "object_fit": null,
            "grid_auto_columns": null,
            "margin": null,
            "display": null,
            "left": null
          }
        },
        "e58e66c4d9754be8973fc6ae08509443": {
          "model_module": "@jupyter-widgets/controls",
          "model_name": "LabelModel",
          "model_module_version": "1.5.0",
          "state": {
            "_view_name": "LabelView",
            "style": "IPY_MODEL_3b9a8d5e32aa4566a590aa976e992b0b",
            "_dom_classes": [],
            "description": "",
            "_model_name": "LabelModel",
            "placeholder": "​",
            "_view_module": "@jupyter-widgets/controls",
            "_model_module_version": "1.5.0",
            "value": " 0.01MB of 0.01MB uploaded (0.00MB deduped)\r",
            "_view_count": null,
            "_view_module_version": "1.5.0",
            "description_tooltip": null,
            "_model_module": "@jupyter-widgets/controls",
            "layout": "IPY_MODEL_6df404d3d8d542539e9eb8f60b5c63c5"
          }
        },
        "5336e361ae634b89b0c35f10f3dadd3b": {
          "model_module": "@jupyter-widgets/controls",
          "model_name": "FloatProgressModel",
          "model_module_version": "1.5.0",
          "state": {
            "_view_name": "ProgressView",
            "style": "IPY_MODEL_f71fc74c34d24c109ec6974b2170f6bc",
            "_dom_classes": [],
            "description": "",
            "_model_name": "FloatProgressModel",
            "bar_style": "",
            "max": 1,
            "_view_module": "@jupyter-widgets/controls",
            "_model_module_version": "1.5.0",
            "value": 1,
            "_view_count": null,
            "_view_module_version": "1.5.0",
            "orientation": "horizontal",
            "min": 0,
            "description_tooltip": null,
            "_model_module": "@jupyter-widgets/controls",
            "layout": "IPY_MODEL_d0bf6cc435124fd39fd39fdaab1219f8"
          }
        },
        "3b9a8d5e32aa4566a590aa976e992b0b": {
          "model_module": "@jupyter-widgets/controls",
          "model_name": "DescriptionStyleModel",
          "model_module_version": "1.5.0",
          "state": {
            "_view_name": "StyleView",
            "_model_name": "DescriptionStyleModel",
            "description_width": "",
            "_view_module": "@jupyter-widgets/base",
            "_model_module_version": "1.5.0",
            "_view_count": null,
            "_view_module_version": "1.2.0",
            "_model_module": "@jupyter-widgets/controls"
          }
        },
        "6df404d3d8d542539e9eb8f60b5c63c5": {
          "model_module": "@jupyter-widgets/base",
          "model_name": "LayoutModel",
          "model_module_version": "1.2.0",
          "state": {
            "_view_name": "LayoutView",
            "grid_template_rows": null,
            "right": null,
            "justify_content": null,
            "_view_module": "@jupyter-widgets/base",
            "overflow": null,
            "_model_module_version": "1.2.0",
            "_view_count": null,
            "flex_flow": null,
            "width": null,
            "min_width": null,
            "border": null,
            "align_items": null,
            "bottom": null,
            "_model_module": "@jupyter-widgets/base",
            "top": null,
            "grid_column": null,
            "overflow_y": null,
            "overflow_x": null,
            "grid_auto_flow": null,
            "grid_area": null,
            "grid_template_columns": null,
            "flex": null,
            "_model_name": "LayoutModel",
            "justify_items": null,
            "grid_row": null,
            "max_height": null,
            "align_content": null,
            "visibility": null,
            "align_self": null,
            "height": null,
            "min_height": null,
            "padding": null,
            "grid_auto_rows": null,
            "grid_gap": null,
            "max_width": null,
            "order": null,
            "_view_module_version": "1.2.0",
            "grid_template_areas": null,
            "object_position": null,
            "object_fit": null,
            "grid_auto_columns": null,
            "margin": null,
            "display": null,
            "left": null
          }
        },
        "f71fc74c34d24c109ec6974b2170f6bc": {
          "model_module": "@jupyter-widgets/controls",
          "model_name": "ProgressStyleModel",
          "model_module_version": "1.5.0",
          "state": {
            "_view_name": "StyleView",
            "_model_name": "ProgressStyleModel",
            "description_width": "",
            "_view_module": "@jupyter-widgets/base",
            "_model_module_version": "1.5.0",
            "_view_count": null,
            "_view_module_version": "1.2.0",
            "bar_color": null,
            "_model_module": "@jupyter-widgets/controls"
          }
        },
        "d0bf6cc435124fd39fd39fdaab1219f8": {
          "model_module": "@jupyter-widgets/base",
          "model_name": "LayoutModel",
          "model_module_version": "1.2.0",
          "state": {
            "_view_name": "LayoutView",
            "grid_template_rows": null,
            "right": null,
            "justify_content": null,
            "_view_module": "@jupyter-widgets/base",
            "overflow": null,
            "_model_module_version": "1.2.0",
            "_view_count": null,
            "flex_flow": null,
            "width": null,
            "min_width": null,
            "border": null,
            "align_items": null,
            "bottom": null,
            "_model_module": "@jupyter-widgets/base",
            "top": null,
            "grid_column": null,
            "overflow_y": null,
            "overflow_x": null,
            "grid_auto_flow": null,
            "grid_area": null,
            "grid_template_columns": null,
            "flex": null,
            "_model_name": "LayoutModel",
            "justify_items": null,
            "grid_row": null,
            "max_height": null,
            "align_content": null,
            "visibility": null,
            "align_self": null,
            "height": null,
            "min_height": null,
            "padding": null,
            "grid_auto_rows": null,
            "grid_gap": null,
            "max_width": null,
            "order": null,
            "_view_module_version": "1.2.0",
            "grid_template_areas": null,
            "object_position": null,
            "object_fit": null,
            "grid_auto_columns": null,
            "margin": null,
            "display": null,
            "left": null
          }
        }
      }
    }
  },
  "cells": [
    {
      "cell_type": "code",
      "metadata": {
        "id": "UScNGb7Uh90x"
      },
      "source": [
        "!pip install wandb"
      ],
      "execution_count": null,
      "outputs": []
    },
    {
      "cell_type": "code",
      "metadata": {
        "id": "AEt4zkoMFm4q"
      },
      "source": [
        "!pip install retina-face"
      ],
      "execution_count": null,
      "outputs": []
    },
    {
      "cell_type": "code",
      "metadata": {
        "id": "Nl-knv4x3V1-"
      },
      "source": [
        "import tensorflow as tf\n",
        "from tensorflow.keras.layers import Dense, Flatten, Conv2D, MaxPool2D\n",
        "import wandb, cv2\n",
        "import numpy as np\n",
        "from wandb.keras import WandbCallback\n",
        "from tensorflow.keras.preprocessing.image import ImageDataGenerator\n",
        "from tqdm import tqdm\n",
        "import matplotlib.pyplot as plt\n",
        "from sklearn.metrics import classification_report, confusion_matrix\n",
        "from retinaface import RetinaFace"
      ],
      "execution_count": null,
      "outputs": []
    },
    {
      "cell_type": "code",
      "metadata": {
        "colab": {
          "base_uri": "https://localhost:8080/",
          "height": 35
        },
        "id": "pwP7pche3Zv6",
        "outputId": "5af50f57-6553-48a6-c517-f31ee798d6a9"
      },
      "source": [
        "tf.__version__"
      ],
      "execution_count": null,
      "outputs": [
        {
          "output_type": "execute_result",
          "data": {
            "application/vnd.google.colaboratory.intrinsic+json": {
              "type": "string"
            },
            "text/plain": [
              "'2.6.0'"
            ]
          },
          "metadata": {},
          "execution_count": 4
        }
      ]
    },
    {
      "cell_type": "markdown",
      "metadata": {
        "id": "C5ESG2-i9yWY"
      },
      "source": [
        "### 🔸Generate Dataset"
      ]
    },
    {
      "cell_type": "code",
      "metadata": {
        "id": "dQBEwjp9is3f",
        "colab": {
          "base_uri": "https://localhost:8080/",
          "height": 124
        },
        "outputId": "e75cbce2-aae7-4483-d98d-1ad2c1920172"
      },
      "source": [
        "wandb.init(project='Face_Recognition')"
      ],
      "execution_count": null,
      "outputs": [
        {
          "output_type": "display_data",
          "data": {
            "application/javascript": [
              "\n",
              "        window._wandbApiKey = new Promise((resolve, reject) => {\n",
              "            function loadScript(url) {\n",
              "            return new Promise(function(resolve, reject) {\n",
              "                let newScript = document.createElement(\"script\");\n",
              "                newScript.onerror = reject;\n",
              "                newScript.onload = resolve;\n",
              "                document.body.appendChild(newScript);\n",
              "                newScript.src = url;\n",
              "            });\n",
              "            }\n",
              "            loadScript(\"https://cdn.jsdelivr.net/npm/postmate/build/postmate.min.js\").then(() => {\n",
              "            const iframe = document.createElement('iframe')\n",
              "            iframe.style.cssText = \"width:0;height:0;border:none\"\n",
              "            document.body.appendChild(iframe)\n",
              "            const handshake = new Postmate({\n",
              "                container: iframe,\n",
              "                url: 'https://wandb.ai/authorize'\n",
              "            });\n",
              "            const timeout = setTimeout(() => reject(\"Couldn't auto authenticate\"), 5000)\n",
              "            handshake.then(function(child) {\n",
              "                child.on('authorize', data => {\n",
              "                    clearTimeout(timeout)\n",
              "                    resolve(data)\n",
              "                });\n",
              "            });\n",
              "            })\n",
              "        });\n",
              "    "
            ],
            "text/plain": [
              "<IPython.core.display.Javascript object>"
            ]
          },
          "metadata": {}
        },
        {
          "output_type": "stream",
          "name": "stderr",
          "text": [
            "\u001b[34m\u001b[1mwandb\u001b[0m: You can find your API key in your browser here: https://wandb.ai/authorize\n"
          ]
        },
        {
          "name": "stdout",
          "output_type": "stream",
          "text": [
            "wandb: Paste an API key from your profile and hit enter: ··········\n"
          ]
        },
        {
          "output_type": "stream",
          "name": "stderr",
          "text": [
            "\u001b[34m\u001b[1mwandb\u001b[0m: Appending key for api.wandb.ai to your netrc file: /root/.netrc\n"
          ]
        },
        {
          "output_type": "display_data",
          "data": {
            "text/html": [
              "\n",
              "                    Syncing run <strong><a href=\"https://wandb.ai/maryamboneh/Face_Recognition/runs/2uao4g50\" target=\"_blank\">treasured-sun-45</a></strong> to <a href=\"https://wandb.ai/maryamboneh/Face_Recognition\" target=\"_blank\">Weights & Biases</a> (<a href=\"https://docs.wandb.com/integrations/jupyter.html\" target=\"_blank\">docs</a>).<br/>\n",
              "\n",
              "                "
            ],
            "text/plain": [
              "<IPython.core.display.HTML object>"
            ]
          },
          "metadata": {}
        },
        {
          "output_type": "execute_result",
          "data": {
            "text/plain": [
              "<wandb.sdk.wandb_run.Run at 0x7fb8678e3490>"
            ],
            "text/html": [
              "<button onClick=\"this.nextSibling.style.display='block';this.style.display='none';\">Display W&B run</button><iframe src=\"https://wandb.ai/maryamboneh/Face_Recognition/runs/2uao4g50?jupyter=true\" style=\"border:none;width:100%;height:420px;display:none;\"></iframe>"
            ]
          },
          "metadata": {},
          "execution_count": 5
        }
      ]
    },
    {
      "cell_type": "code",
      "metadata": {
        "id": "SFEvSUDKiOKG"
      },
      "source": [
        "folder_address = '/content/drive/MyDrive/Datasets/7-7 dataset/'\n",
        "\n",
        "batch_size = 16\n",
        "width = height = 224\n",
        "\n",
        "config = wandb.config\n",
        "config.learning_rate = 0.001"
      ],
      "execution_count": null,
      "outputs": []
    },
    {
      "cell_type": "code",
      "metadata": {
        "colab": {
          "base_uri": "https://localhost:8080/"
        },
        "id": "sR4TmWavjEMi",
        "outputId": "177a6621-02a2-46c8-b511-25e2a0c74f87"
      },
      "source": [
        "data_generator = ImageDataGenerator(\n",
        "    rescale = 1. / 255,\n",
        "    validation_split = 0.1,\n",
        "    horizontal_flip = True\n",
        ")\n",
        "\n",
        "train_data = data_generator.flow_from_directory(folder_address,\n",
        "                                                    target_size = (width, height),\n",
        "                                                    class_mode = 'categorical',\n",
        "                                                    batch_size = batch_size,\n",
        "                                                    shuffle = True,\n",
        "                                                    subset ='training')\n",
        "\n",
        "val_data = data_generator.flow_from_directory(folder_address,\n",
        "                                                    target_size = (width, height),\n",
        "                                                    class_mode = 'categorical',\n",
        "                                                    batch_size = batch_size,\n",
        "                                                    shuffle = False,\n",
        "                                                    subset ='validation')"
      ],
      "execution_count": null,
      "outputs": [
        {
          "output_type": "stream",
          "name": "stdout",
          "text": [
            "Found 1228 images belonging to 14 classes.\n",
            "Found 131 images belonging to 14 classes.\n"
          ]
        }
      ]
    },
    {
      "cell_type": "code",
      "metadata": {
        "colab": {
          "base_uri": "https://localhost:8080/"
        },
        "id": "aRb0fL3AquK5",
        "outputId": "5de37681-2fe9-4cb4-bd43-608e261caaf8"
      },
      "source": [
        "train_data.image_shape"
      ],
      "execution_count": null,
      "outputs": [
        {
          "output_type": "execute_result",
          "data": {
            "text/plain": [
              "(224, 224, 3)"
            ]
          },
          "metadata": {},
          "execution_count": 8
        }
      ]
    },
    {
      "cell_type": "markdown",
      "metadata": {
        "id": "bpKAZXwC9-hL"
      },
      "source": [
        "### 🔸Define Class, Layers, Optimizer and Loss Function"
      ]
    },
    {
      "cell_type": "code",
      "metadata": {
        "id": "JUpN62AMTX-M"
      },
      "source": [
        "class MyModel(tf.keras.Model):\n",
        "  def __init__(self, number_of_classes):\n",
        "    super().__init__()\n",
        "    self.conv1 = Conv2D(16, (3, 3), activation='relu', input_shape = (width, height, 3))\n",
        "    self.conv2 = Conv2D(32, (3, 3), activation='relu')\n",
        "    self.conv3 = Conv2D(128, (3, 3), activation='relu')\n",
        "    self.flatten = Flatten()\n",
        "    self.maxpool = MaxPool2D()\n",
        "    self.fc1 = Dense(128, activation='relu')\n",
        "    self.fc2 = Dense(64, activation='relu')\n",
        "    self.fc3 = Dense(number_of_classes, activation='softmax')\n",
        "\n",
        "  def call(self, x):\n",
        "\n",
        "    x = self.conv1(x)\n",
        "    x = self.maxpool(x)\n",
        "    x = self.conv2(x)\n",
        "    x = self.conv3(x)\n",
        "    x = self.flatten(x)\n",
        "    x = self.fc1(x)\n",
        "    x = self.fc2(x)\n",
        "    output = self.fc3(x)\n",
        "\n",
        "    return output\n",
        "\n",
        "model = MyModel(14)"
      ],
      "execution_count": null,
      "outputs": []
    },
    {
      "cell_type": "code",
      "metadata": {
        "id": "c1kSYPLZVzX9"
      },
      "source": [
        "loss_function = tf.keras.losses.SparseCategoricalCrossentropy(from_logits=True)\n",
        "optimizer =  tf.keras.optimizers.Adam()"
      ],
      "execution_count": null,
      "outputs": []
    },
    {
      "cell_type": "code",
      "metadata": {
        "id": "qzg-pAieVtmB"
      },
      "source": [
        "train_loss = tf.keras.metrics.Mean(name='train_loss')\n",
        "train_acc = tf.keras.metrics.CategoricalAccuracy(name='train_acc')\n",
        "\n",
        "test_loss = tf.keras.metrics.Mean(name='test_loss')\n",
        "test_acc = tf.keras.metrics.CategoricalAccuracy(name='test_acc')"
      ],
      "execution_count": null,
      "outputs": []
    },
    {
      "cell_type": "markdown",
      "metadata": {
        "id": "V0MNY0GX-XPf"
      },
      "source": [
        "### 🔸wandb config"
      ]
    },
    {
      "cell_type": "code",
      "metadata": {
        "id": "tS6jE3jRFDwY",
        "colab": {
          "base_uri": "https://localhost:8080/",
          "height": 175,
          "referenced_widgets": [
            "34d79886f34542dea26e62cd4ff2a945",
            "d9d3522e3b574efcb0a13ac477a60a7d",
            "e58e66c4d9754be8973fc6ae08509443",
            "5336e361ae634b89b0c35f10f3dadd3b",
            "3b9a8d5e32aa4566a590aa976e992b0b",
            "6df404d3d8d542539e9eb8f60b5c63c5",
            "f71fc74c34d24c109ec6974b2170f6bc",
            "d0bf6cc435124fd39fd39fdaab1219f8"
          ]
        },
        "outputId": "e1bc45b5-97be-44b0-f7c9-d1085041d1f5"
      },
      "source": [
        "configs = {\n",
        "              \"learning_rate\": 0.001,\n",
        "              \"epochs\": 25,\n",
        "              \"batch_size\": 16,\n",
        "              \"log_step\": 200,\n",
        "              \"val_log_step\": 50\n",
        "           }\n",
        "\n",
        "run = wandb.init(project='Face_Recognition', config=configs)\n",
        "config = wandb.config"
      ],
      "execution_count": null,
      "outputs": [
        {
          "output_type": "display_data",
          "data": {
            "text/html": [
              "Finishing last run (ID:2uao4g50) before initializing another..."
            ],
            "text/plain": [
              "<IPython.core.display.HTML object>"
            ]
          },
          "metadata": {}
        },
        {
          "output_type": "display_data",
          "data": {
            "text/html": [
              "<br/>Waiting for W&B process to finish, PID 364... <strong style=\"color:green\">(success).</strong>"
            ],
            "text/plain": [
              "<IPython.core.display.HTML object>"
            ]
          },
          "metadata": {}
        },
        {
          "output_type": "display_data",
          "data": {
            "application/vnd.jupyter.widget-view+json": {
              "model_id": "34d79886f34542dea26e62cd4ff2a945",
              "version_minor": 0,
              "version_major": 2
            },
            "text/plain": [
              "VBox(children=(Label(value=' 0.00MB of 0.00MB uploaded (0.00MB deduped)\\r'), FloatProgress(value=1.0, max=1.0)…"
            ]
          },
          "metadata": {}
        },
        {
          "output_type": "display_data",
          "data": {
            "text/html": [
              "<style>\n",
              "    table.wandb td:nth-child(1) { padding: 0 10px; text-align: right }\n",
              "    .wandb-row { display: flex; flex-direction: row; flex-wrap: wrap; width: 100% }\n",
              "    .wandb-col { display: flex; flex-direction: column; flex-basis: 100%; flex: 1; padding: 10px; }\n",
              "    </style>\n",
              "<div class=\"wandb-row\"><div class=\"wandb-col\">\n",
              "</div><div class=\"wandb-col\">\n",
              "</div></div>\n",
              "Synced 5 W&B file(s), 0 media file(s), 0 artifact file(s) and 0 other file(s)\n",
              "<br/>Synced <strong style=\"color:#cdcd00\">treasured-sun-45</strong>: <a href=\"https://wandb.ai/maryamboneh/Face_Recognition/runs/2uao4g50\" target=\"_blank\">https://wandb.ai/maryamboneh/Face_Recognition/runs/2uao4g50</a><br/>\n",
              "Find logs at: <code>./wandb/run-20211020_204311-2uao4g50/logs</code><br/>\n"
            ],
            "text/plain": [
              "<IPython.core.display.HTML object>"
            ]
          },
          "metadata": {}
        },
        {
          "output_type": "display_data",
          "data": {
            "text/html": [
              "Successfully finished last run (ID:2uao4g50). Initializing new run:<br/>"
            ],
            "text/plain": [
              "<IPython.core.display.HTML object>"
            ]
          },
          "metadata": {}
        },
        {
          "output_type": "display_data",
          "data": {
            "text/html": [
              "\n",
              "                    Syncing run <strong><a href=\"https://wandb.ai/maryamboneh/Face_Recognition/runs/2gp4t7kz\" target=\"_blank\">silvery-cherry-46</a></strong> to <a href=\"https://wandb.ai/maryamboneh/Face_Recognition\" target=\"_blank\">Weights & Biases</a> (<a href=\"https://docs.wandb.com/integrations/jupyter.html\" target=\"_blank\">docs</a>).<br/>\n",
              "\n",
              "                "
            ],
            "text/plain": [
              "<IPython.core.display.HTML object>"
            ]
          },
          "metadata": {}
        }
      ]
    },
    {
      "cell_type": "markdown",
      "metadata": {
        "id": "VoIW-D5FdmHP"
      },
      "source": [
        "### 🔸Training Process"
      ]
    },
    {
      "cell_type": "code",
      "metadata": {
        "id": "VjewigKSRvS2"
      },
      "source": [
        "def train_step(images, y):\n",
        "    with tf.GradientTape() as tape:\n",
        "        y_pred = model(images, training = True)\n",
        "        loss = tf.keras.losses.categorical_crossentropy(y, y_pred)\n",
        "\n",
        "    #gradient calculate\n",
        "    gradients = tape.gradient(loss, model.trainable_variables)\n",
        "\n",
        "    #update\n",
        "    optimizer.apply_gradients(zip(gradients,model.trainable_variables))\n",
        "\n",
        "    train_loss(loss)\n",
        "    train_acc(y, y_pred)\n"
      ],
      "execution_count": null,
      "outputs": []
    },
    {
      "cell_type": "code",
      "metadata": {
        "id": "c4cof-ceSC-z"
      },
      "source": [
        "def test_step(images, y):\n",
        "  y_pred = model(images, training = False)\n",
        "  loss = tf.keras.losses.categorical_crossentropy(y, y_pred)\n",
        "\n",
        "  test_loss(loss)\n",
        "  test_acc(y, y_pred)"
      ],
      "execution_count": null,
      "outputs": []
    },
    {
      "cell_type": "code",
      "metadata": {
        "id": "MFU-x2bXSiRo"
      },
      "source": [
        "def train():\n",
        "    epochs = 25\n",
        "\n",
        "    for epoch in range(epochs):\n",
        "\n",
        "        train_loss.reset_state()\n",
        "        train_acc.reset_state()\n",
        "        test_loss.reset_state()\n",
        "        test_acc.reset_state()\n",
        "\n",
        "        count_for_train = 0\n",
        "        count_for_test = 0\n",
        "\n",
        "        i_train = len(train_data)\n",
        "        i_test = len(val_data)\n",
        "\n",
        "        for images, labels in tqdm(train_data):\n",
        "            train_step(images, labels)\n",
        "            count_for_train += 1\n",
        "            if count_for_train > i_train:\n",
        "                break\n",
        "\n",
        "        for images, labels in tqdm(val_data):\n",
        "            test_step(images, labels)\n",
        "            count_for_test += 1\n",
        "            if count_for_test > i_test:\n",
        "                break\n",
        "\n",
        "        print('epoch:', epoch + 1)\n",
        "        print('loss:', train_loss.result())\n",
        "        print('accuracy:', train_acc.result())\n",
        "        print('val loss:', test_loss.result())\n",
        "        print('val accuracy:', test_acc.result())\n",
        "\n",
        "        wandb.log({'epochs': epoch,\n",
        "            'train_loss': np.mean(train_loss.result()),\n",
        "            'train_acc': float(train_acc.result()), \n",
        "            'test_loss': np.mean(test_loss.result()),\n",
        "            'test_acc': float(test_acc.result())\n",
        "            })"
      ],
      "execution_count": null,
      "outputs": []
    },
    {
      "cell_type": "markdown",
      "metadata": {
        "id": "_xrnriys9eUf"
      },
      "source": [
        "### 🔸Train"
      ]
    },
    {
      "cell_type": "code",
      "metadata": {
        "colab": {
          "base_uri": "https://localhost:8080/"
        },
        "id": "LtOiny1MWWSJ",
        "outputId": "7f370bd9-cb37-4eed-fe4e-3969c3b65084"
      },
      "source": [
        "train()"
      ],
      "execution_count": null,
      "outputs": [
        {
          "output_type": "stream",
          "name": "stderr",
          "text": [
            "100%|██████████| 77/77 [04:08<00:00,  3.23s/it]\n",
            "100%|██████████| 9/9 [00:21<00:00,  2.34s/it]\n"
          ]
        },
        {
          "output_type": "stream",
          "name": "stdout",
          "text": [
            "epoch: 1\n",
            "loss: tf.Tensor(3.1787233, shape=(), dtype=float32)\n",
            "accuracy: tf.Tensor(0.32395497, shape=(), dtype=float32)\n",
            "val loss: tf.Tensor(1.293384, shape=(), dtype=float32)\n",
            "val accuracy: tf.Tensor(0.61904764, shape=(), dtype=float32)\n"
          ]
        },
        {
          "output_type": "stream",
          "name": "stderr",
          "text": [
            "100%|██████████| 77/77 [00:38<00:00,  2.01it/s]\n",
            "100%|██████████| 9/9 [00:02<00:00,  3.31it/s]\n"
          ]
        },
        {
          "output_type": "stream",
          "name": "stdout",
          "text": [
            "epoch: 2\n",
            "loss: tf.Tensor(0.7518353, shape=(), dtype=float32)\n",
            "accuracy: tf.Tensor(0.7829582, shape=(), dtype=float32)\n",
            "val loss: tf.Tensor(1.0150279, shape=(), dtype=float32)\n",
            "val accuracy: tf.Tensor(0.6802721, shape=(), dtype=float32)\n"
          ]
        },
        {
          "output_type": "stream",
          "name": "stderr",
          "text": [
            "100%|██████████| 77/77 [00:38<00:00,  2.01it/s]\n",
            "100%|██████████| 9/9 [00:02<00:00,  3.41it/s]\n"
          ]
        },
        {
          "output_type": "stream",
          "name": "stdout",
          "text": [
            "epoch: 3\n",
            "loss: tf.Tensor(0.29009947, shape=(), dtype=float32)\n",
            "accuracy: tf.Tensor(0.90996784, shape=(), dtype=float32)\n",
            "val loss: tf.Tensor(0.9502583, shape=(), dtype=float32)\n",
            "val accuracy: tf.Tensor(0.7823129, shape=(), dtype=float32)\n"
          ]
        },
        {
          "output_type": "stream",
          "name": "stderr",
          "text": [
            "100%|██████████| 77/77 [00:38<00:00,  2.02it/s]\n",
            "100%|██████████| 9/9 [00:02<00:00,  3.43it/s]\n"
          ]
        },
        {
          "output_type": "stream",
          "name": "stdout",
          "text": [
            "epoch: 4\n",
            "loss: tf.Tensor(0.1375856, shape=(), dtype=float32)\n",
            "accuracy: tf.Tensor(0.96382636, shape=(), dtype=float32)\n",
            "val loss: tf.Tensor(0.6944446, shape=(), dtype=float32)\n",
            "val accuracy: tf.Tensor(0.81632656, shape=(), dtype=float32)\n"
          ]
        },
        {
          "output_type": "stream",
          "name": "stderr",
          "text": [
            "100%|██████████| 77/77 [00:38<00:00,  2.02it/s]\n",
            "100%|██████████| 9/9 [00:02<00:00,  3.46it/s]\n"
          ]
        },
        {
          "output_type": "stream",
          "name": "stdout",
          "text": [
            "epoch: 5\n",
            "loss: tf.Tensor(0.08476725, shape=(), dtype=float32)\n",
            "accuracy: tf.Tensor(0.9766881, shape=(), dtype=float32)\n",
            "val loss: tf.Tensor(0.5432903, shape=(), dtype=float32)\n",
            "val accuracy: tf.Tensor(0.877551, shape=(), dtype=float32)\n"
          ]
        },
        {
          "output_type": "stream",
          "name": "stderr",
          "text": [
            "100%|██████████| 77/77 [00:37<00:00,  2.03it/s]\n",
            "100%|██████████| 9/9 [00:02<00:00,  3.50it/s]\n"
          ]
        },
        {
          "output_type": "stream",
          "name": "stdout",
          "text": [
            "epoch: 6\n",
            "loss: tf.Tensor(0.070804924, shape=(), dtype=float32)\n",
            "accuracy: tf.Tensor(0.97588426, shape=(), dtype=float32)\n",
            "val loss: tf.Tensor(0.4656302, shape=(), dtype=float32)\n",
            "val accuracy: tf.Tensor(0.8639456, shape=(), dtype=float32)\n"
          ]
        },
        {
          "output_type": "stream",
          "name": "stderr",
          "text": [
            "100%|██████████| 77/77 [00:37<00:00,  2.03it/s]\n",
            "100%|██████████| 9/9 [00:02<00:00,  3.43it/s]\n"
          ]
        },
        {
          "output_type": "stream",
          "name": "stdout",
          "text": [
            "epoch: 7\n",
            "loss: tf.Tensor(0.0564133, shape=(), dtype=float32)\n",
            "accuracy: tf.Tensor(0.98151124, shape=(), dtype=float32)\n",
            "val loss: tf.Tensor(0.4442024, shape=(), dtype=float32)\n",
            "val accuracy: tf.Tensor(0.8435374, shape=(), dtype=float32)\n"
          ]
        },
        {
          "output_type": "stream",
          "name": "stderr",
          "text": [
            "100%|██████████| 77/77 [00:37<00:00,  2.03it/s]\n",
            "100%|██████████| 9/9 [00:02<00:00,  3.47it/s]\n"
          ]
        },
        {
          "output_type": "stream",
          "name": "stdout",
          "text": [
            "epoch: 8\n",
            "loss: tf.Tensor(0.01961585, shape=(), dtype=float32)\n",
            "accuracy: tf.Tensor(0.99356914, shape=(), dtype=float32)\n",
            "val loss: tf.Tensor(0.6135681, shape=(), dtype=float32)\n",
            "val accuracy: tf.Tensor(0.81632656, shape=(), dtype=float32)\n"
          ]
        },
        {
          "output_type": "stream",
          "name": "stderr",
          "text": [
            "100%|██████████| 77/77 [00:38<00:00,  2.02it/s]\n",
            "100%|██████████| 9/9 [00:02<00:00,  3.73it/s]\n"
          ]
        },
        {
          "output_type": "stream",
          "name": "stdout",
          "text": [
            "epoch: 9\n",
            "loss: tf.Tensor(0.029581325, shape=(), dtype=float32)\n",
            "accuracy: tf.Tensor(0.9919614, shape=(), dtype=float32)\n",
            "val loss: tf.Tensor(0.6748055, shape=(), dtype=float32)\n",
            "val accuracy: tf.Tensor(0.8358209, shape=(), dtype=float32)\n"
          ]
        },
        {
          "output_type": "stream",
          "name": "stderr",
          "text": [
            "100%|██████████| 77/77 [00:38<00:00,  2.01it/s]\n",
            "100%|██████████| 9/9 [00:02<00:00,  3.30it/s]\n"
          ]
        },
        {
          "output_type": "stream",
          "name": "stdout",
          "text": [
            "epoch: 10\n",
            "loss: tf.Tensor(0.004537962, shape=(), dtype=float32)\n",
            "accuracy: tf.Tensor(0.9991961, shape=(), dtype=float32)\n",
            "val loss: tf.Tensor(0.6979063, shape=(), dtype=float32)\n",
            "val accuracy: tf.Tensor(0.85714287, shape=(), dtype=float32)\n"
          ]
        },
        {
          "output_type": "stream",
          "name": "stderr",
          "text": [
            "100%|██████████| 77/77 [00:38<00:00,  1.98it/s]\n",
            "100%|██████████| 9/9 [00:02<00:00,  3.31it/s]\n"
          ]
        },
        {
          "output_type": "stream",
          "name": "stdout",
          "text": [
            "epoch: 11\n",
            "loss: tf.Tensor(0.005894214, shape=(), dtype=float32)\n",
            "accuracy: tf.Tensor(0.9975884, shape=(), dtype=float32)\n",
            "val loss: tf.Tensor(0.8348319, shape=(), dtype=float32)\n",
            "val accuracy: tf.Tensor(0.8027211, shape=(), dtype=float32)\n"
          ]
        },
        {
          "output_type": "stream",
          "name": "stderr",
          "text": [
            "100%|██████████| 77/77 [00:37<00:00,  2.03it/s]\n",
            "100%|██████████| 9/9 [00:02<00:00,  3.47it/s]\n"
          ]
        },
        {
          "output_type": "stream",
          "name": "stdout",
          "text": [
            "epoch: 12\n",
            "loss: tf.Tensor(0.0009823232, shape=(), dtype=float32)\n",
            "accuracy: tf.Tensor(1.0, shape=(), dtype=float32)\n",
            "val loss: tf.Tensor(0.75743085, shape=(), dtype=float32)\n",
            "val accuracy: tf.Tensor(0.8639456, shape=(), dtype=float32)\n"
          ]
        },
        {
          "output_type": "stream",
          "name": "stderr",
          "text": [
            "100%|██████████| 77/77 [00:38<00:00,  2.03it/s]\n",
            "100%|██████████| 9/9 [00:02<00:00,  3.47it/s]\n"
          ]
        },
        {
          "output_type": "stream",
          "name": "stdout",
          "text": [
            "epoch: 13\n",
            "loss: tf.Tensor(0.0006236771, shape=(), dtype=float32)\n",
            "accuracy: tf.Tensor(1.0, shape=(), dtype=float32)\n",
            "val loss: tf.Tensor(0.60068995, shape=(), dtype=float32)\n",
            "val accuracy: tf.Tensor(0.85714287, shape=(), dtype=float32)\n"
          ]
        },
        {
          "output_type": "stream",
          "name": "stderr",
          "text": [
            "100%|██████████| 77/77 [00:37<00:00,  2.03it/s]\n",
            "100%|██████████| 9/9 [00:02<00:00,  3.45it/s]\n"
          ]
        },
        {
          "output_type": "stream",
          "name": "stdout",
          "text": [
            "epoch: 14\n",
            "loss: tf.Tensor(0.00018584916, shape=(), dtype=float32)\n",
            "accuracy: tf.Tensor(1.0, shape=(), dtype=float32)\n",
            "val loss: tf.Tensor(0.7438845, shape=(), dtype=float32)\n",
            "val accuracy: tf.Tensor(0.8503401, shape=(), dtype=float32)\n"
          ]
        },
        {
          "output_type": "stream",
          "name": "stderr",
          "text": [
            "100%|██████████| 77/77 [00:38<00:00,  2.02it/s]\n",
            "100%|██████████| 9/9 [00:02<00:00,  3.45it/s]\n"
          ]
        },
        {
          "output_type": "stream",
          "name": "stdout",
          "text": [
            "epoch: 15\n",
            "loss: tf.Tensor(8.215922e-05, shape=(), dtype=float32)\n",
            "accuracy: tf.Tensor(1.0, shape=(), dtype=float32)\n",
            "val loss: tf.Tensor(0.5741825, shape=(), dtype=float32)\n",
            "val accuracy: tf.Tensor(0.877551, shape=(), dtype=float32)\n"
          ]
        },
        {
          "output_type": "stream",
          "name": "stderr",
          "text": [
            "100%|██████████| 77/77 [00:37<00:00,  2.04it/s]\n",
            "100%|██████████| 9/9 [00:02<00:00,  3.43it/s]\n"
          ]
        },
        {
          "output_type": "stream",
          "name": "stdout",
          "text": [
            "epoch: 16\n",
            "loss: tf.Tensor(0.00036288414, shape=(), dtype=float32)\n",
            "accuracy: tf.Tensor(1.0, shape=(), dtype=float32)\n",
            "val loss: tf.Tensor(0.7405304, shape=(), dtype=float32)\n",
            "val accuracy: tf.Tensor(0.85714287, shape=(), dtype=float32)\n"
          ]
        },
        {
          "output_type": "stream",
          "name": "stderr",
          "text": [
            "100%|██████████| 77/77 [00:38<00:00,  2.01it/s]\n",
            "100%|██████████| 9/9 [00:02<00:00,  3.49it/s]\n"
          ]
        },
        {
          "output_type": "stream",
          "name": "stdout",
          "text": [
            "epoch: 17\n",
            "loss: tf.Tensor(7.999243e-05, shape=(), dtype=float32)\n",
            "accuracy: tf.Tensor(1.0, shape=(), dtype=float32)\n",
            "val loss: tf.Tensor(0.6106861, shape=(), dtype=float32)\n",
            "val accuracy: tf.Tensor(0.8503401, shape=(), dtype=float32)\n"
          ]
        },
        {
          "output_type": "stream",
          "name": "stderr",
          "text": [
            "100%|██████████| 77/77 [00:38<00:00,  2.03it/s]\n",
            "100%|██████████| 9/9 [00:02<00:00,  3.65it/s]\n"
          ]
        },
        {
          "output_type": "stream",
          "name": "stdout",
          "text": [
            "epoch: 18\n",
            "loss: tf.Tensor(4.7255384e-05, shape=(), dtype=float32)\n",
            "accuracy: tf.Tensor(1.0, shape=(), dtype=float32)\n",
            "val loss: tf.Tensor(0.59900963, shape=(), dtype=float32)\n",
            "val accuracy: tf.Tensor(0.880597, shape=(), dtype=float32)\n"
          ]
        },
        {
          "output_type": "stream",
          "name": "stderr",
          "text": [
            "100%|██████████| 77/77 [00:38<00:00,  2.02it/s]\n",
            "100%|██████████| 9/9 [00:02<00:00,  3.41it/s]\n"
          ]
        },
        {
          "output_type": "stream",
          "name": "stdout",
          "text": [
            "epoch: 19\n",
            "loss: tf.Tensor(3.865637e-05, shape=(), dtype=float32)\n",
            "accuracy: tf.Tensor(1.0, shape=(), dtype=float32)\n",
            "val loss: tf.Tensor(0.6776185, shape=(), dtype=float32)\n",
            "val accuracy: tf.Tensor(0.8503401, shape=(), dtype=float32)\n"
          ]
        },
        {
          "output_type": "stream",
          "name": "stderr",
          "text": [
            "100%|██████████| 77/77 [00:38<00:00,  2.03it/s]\n",
            "100%|██████████| 9/9 [00:02<00:00,  3.35it/s]\n"
          ]
        },
        {
          "output_type": "stream",
          "name": "stdout",
          "text": [
            "epoch: 20\n",
            "loss: tf.Tensor(2.6465372e-05, shape=(), dtype=float32)\n",
            "accuracy: tf.Tensor(1.0, shape=(), dtype=float32)\n",
            "val loss: tf.Tensor(0.7440522, shape=(), dtype=float32)\n",
            "val accuracy: tf.Tensor(0.8503401, shape=(), dtype=float32)\n"
          ]
        },
        {
          "output_type": "stream",
          "name": "stderr",
          "text": [
            "100%|██████████| 77/77 [00:37<00:00,  2.03it/s]\n",
            "100%|██████████| 9/9 [00:02<00:00,  3.41it/s]\n"
          ]
        },
        {
          "output_type": "stream",
          "name": "stdout",
          "text": [
            "epoch: 21\n",
            "loss: tf.Tensor(2.538087e-05, shape=(), dtype=float32)\n",
            "accuracy: tf.Tensor(1.0, shape=(), dtype=float32)\n",
            "val loss: tf.Tensor(0.79388374, shape=(), dtype=float32)\n",
            "val accuracy: tf.Tensor(0.85714287, shape=(), dtype=float32)\n"
          ]
        },
        {
          "output_type": "stream",
          "name": "stderr",
          "text": [
            "100%|██████████| 77/77 [00:37<00:00,  2.03it/s]\n",
            "100%|██████████| 9/9 [00:02<00:00,  3.47it/s]\n"
          ]
        },
        {
          "output_type": "stream",
          "name": "stdout",
          "text": [
            "epoch: 22\n",
            "loss: tf.Tensor(2.0759526e-05, shape=(), dtype=float32)\n",
            "accuracy: tf.Tensor(1.0, shape=(), dtype=float32)\n",
            "val loss: tf.Tensor(0.76100296, shape=(), dtype=float32)\n",
            "val accuracy: tf.Tensor(0.8639456, shape=(), dtype=float32)\n"
          ]
        },
        {
          "output_type": "stream",
          "name": "stderr",
          "text": [
            "100%|██████████| 77/77 [00:38<00:00,  2.02it/s]\n",
            "100%|██████████| 9/9 [00:02<00:00,  3.45it/s]\n"
          ]
        },
        {
          "output_type": "stream",
          "name": "stdout",
          "text": [
            "epoch: 23\n",
            "loss: tf.Tensor(1.961369e-05, shape=(), dtype=float32)\n",
            "accuracy: tf.Tensor(1.0, shape=(), dtype=float32)\n",
            "val loss: tf.Tensor(0.78086627, shape=(), dtype=float32)\n",
            "val accuracy: tf.Tensor(0.8503401, shape=(), dtype=float32)\n"
          ]
        },
        {
          "output_type": "stream",
          "name": "stderr",
          "text": [
            "100%|██████████| 77/77 [00:37<00:00,  2.03it/s]\n",
            "100%|██████████| 9/9 [00:02<00:00,  3.29it/s]\n"
          ]
        },
        {
          "output_type": "stream",
          "name": "stdout",
          "text": [
            "epoch: 24\n",
            "loss: tf.Tensor(1.6401726e-05, shape=(), dtype=float32)\n",
            "accuracy: tf.Tensor(1.0, shape=(), dtype=float32)\n",
            "val loss: tf.Tensor(0.78411317, shape=(), dtype=float32)\n",
            "val accuracy: tf.Tensor(0.8639456, shape=(), dtype=float32)\n"
          ]
        },
        {
          "output_type": "stream",
          "name": "stderr",
          "text": [
            "100%|██████████| 77/77 [00:38<00:00,  2.02it/s]\n",
            "100%|██████████| 9/9 [00:02<00:00,  3.45it/s]"
          ]
        },
        {
          "output_type": "stream",
          "name": "stdout",
          "text": [
            "epoch: 25\n",
            "loss: tf.Tensor(1.722017e-05, shape=(), dtype=float32)\n",
            "accuracy: tf.Tensor(1.0, shape=(), dtype=float32)\n",
            "val loss: tf.Tensor(0.6756189, shape=(), dtype=float32)\n",
            "val accuracy: tf.Tensor(0.8639456, shape=(), dtype=float32)\n"
          ]
        },
        {
          "output_type": "stream",
          "name": "stderr",
          "text": [
            "\n"
          ]
        }
      ]
    },
    {
      "cell_type": "markdown",
      "metadata": {
        "id": "Usbo_hk39A0A"
      },
      "source": [
        "### 🔸Confusion Matrix"
      ]
    },
    {
      "cell_type": "code",
      "metadata": {
        "colab": {
          "base_uri": "https://localhost:8080/"
        },
        "id": "d2V4Mp4189Go",
        "outputId": "a4707954-4c6a-4559-c594-b6a4d5137004"
      },
      "source": [
        "Y_pred = model.predict(val_data)\n",
        "y_pred = np.argmax(Y_pred, axis= 1)\n",
        "\n",
        "print(confusion_matrix(val_data.classes, y_pred))\n",
        "targets = set(val_data.class_indices.keys())\n",
        "print('classification_report:')\n",
        "print(classification_report(val_data.classes, y_pred, target_names= targets))"
      ],
      "execution_count": null,
      "outputs": [
        {
          "output_type": "stream",
          "name": "stdout",
          "text": [
            "[[ 9  0  0  0  0  0  0  0  0  0  0  0  0  0]\n",
            " [ 0  9  0  0  0  0  0  0  0  0  0  0  0  1]\n",
            " [ 0  1  7  0  0  0  0  1  0  0  0  0  0  1]\n",
            " [ 0  0  0 10  0  0  0  0  0  0  0  0  0  0]\n",
            " [ 0  0  0  0  9  0  0  0  0  0  0  1  0  0]\n",
            " [ 0  0  0  0  0  8  0  0  0  0  0  0  0  0]\n",
            " [ 0  0  0  0  0  1  6  0  0  0  0  0  0  2]\n",
            " [ 1  0  0  0  0  0  0  6  0  0  0  0  0  0]\n",
            " [ 0  0  0  0  0  0  1  0  9  0  0  0  0  0]\n",
            " [ 0  0  0  0  0  0  0  0  0  8  0  0  0  1]\n",
            " [ 0  1  0  0  0  0  0  0  0  0  6  0  0  2]\n",
            " [ 0  0  0  0  0  0  0  0  0  0  0 11  0  0]\n",
            " [ 0  0  0  0  0  0  0  0  0  0  0  0  9  0]\n",
            " [ 0  1  0  0  0  1  0  0  0  1  0  0  0  7]]\n",
            "classification_report:\n",
            "                    precision    recall  f1-score   support\n",
            "\n",
            "      Donald_Trump       0.90      1.00      0.95         9\n",
            "      Lionel_Messi       0.75      0.90      0.82        10\n",
            "    Michelle_Obama       1.00      0.70      0.82        10\n",
            "   Queen_Elizabeth       1.00      1.00      1.00        10\n",
            "       Barak_Obama       1.00      0.90      0.95        10\n",
            "      Leyla_Hatami       0.80      1.00      0.89         8\n",
            "       Emma_Watson       0.86      0.67      0.75         9\n",
            "       Behnam_Bani       0.86      0.86      0.86         7\n",
            "    Morgan_Freeman       1.00      0.90      0.95        10\n",
            "       Han_Hye_Jin       0.89      0.89      0.89         9\n",
            "       Kim_Jong_Un       1.00      0.67      0.80         9\n",
            "    Angelina_Jolie       0.92      1.00      0.96        11\n",
            "Scarlett_Johansson       1.00      1.00      1.00         9\n",
            "      Ali_Khamenei       0.50      0.70      0.58        10\n",
            "\n",
            "          accuracy                           0.87       131\n",
            "         macro avg       0.89      0.87      0.87       131\n",
            "      weighted avg       0.89      0.87      0.87       131\n",
            "\n"
          ]
        }
      ]
    },
    {
      "cell_type": "markdown",
      "metadata": {
        "id": "NgvoQF1sdxuP"
      },
      "source": [
        "### 🔸Save Weights"
      ]
    },
    {
      "cell_type": "code",
      "metadata": {
        "id": "sweog103Xvf8"
      },
      "source": [
        "model.save_weights('/content/drive/MyDrive/models/face_recognition_model.h5')"
      ],
      "execution_count": null,
      "outputs": []
    },
    {
      "cell_type": "markdown",
      "metadata": {
        "id": "nVIKdwNXd8jN"
      },
      "source": [
        "### 🔸Inference"
      ]
    },
    {
      "cell_type": "code",
      "metadata": {
        "id": "9u_cuZrbC6B3"
      },
      "source": [
        "persons = [\n",
        "           'مسی',\n",
        "           'سوسانو',\n",
        "           'میشل اوباما',\n",
        "           'دونالد ترامپ',\n",
        "           'اسکارلت جوهانسون',\n",
        "           'انجلینا جولی',\n",
        "           'باراک اوباما',\n",
        "           'رهبر کره شمالی',\n",
        "           'مرگان فریمن',\n",
        "           'علی خامنه ای',\n",
        "           'ملکه الیزابت',\n",
        "           'بهنام بانی',\n",
        "           'اما واتسون',\n",
        "           'لیلا حاتمی',\n",
        "           ]"
      ],
      "execution_count": null,
      "outputs": []
    },
    {
      "cell_type": "code",
      "metadata": {
        "id": "dhzKnXB73fTA"
      },
      "source": [
        "def process_and_predict(image_path):\n",
        "    image = cv2.imread(image_path)\n",
        "    image = cv2.cvtColor(image, cv2.COLOR_BGR2RGB)\n",
        "    image = RetinaFace.extract_faces(image, align = True)\n",
        "    image = image[0]\n",
        "    image = image / 255.0\n",
        "    image = cv2.resize(image, (224, 224))\n",
        "    plt.imshow(image)\n",
        "    image = tf.expand_dims(image, axis=0)\n",
        "\n",
        "    y_pred = model(image, training = False)\n",
        "    res = np.argmax(y_pred)\n",
        "    return res"
      ],
      "execution_count": null,
      "outputs": []
    },
    {
      "cell_type": "code",
      "metadata": {
        "id": "WLXAvYM1wL5q"
      },
      "source": [
        "print(persons[process_and_predict('leyla-hatami.jpeg')])"
      ],
      "execution_count": null,
      "outputs": []
    },
    {
      "cell_type": "code",
      "metadata": {
        "id": "nA04gBTWf8wO"
      },
      "source": [
        "print(persons[process_and_predict('trump.jpeg')])"
      ],
      "execution_count": null,
      "outputs": []
    },
    {
      "cell_type": "code",
      "metadata": {
        "id": "62LGs5aUf97s"
      },
      "source": [
        "print(persons[process_and_predict('michelle-obama.jpeg')])"
      ],
      "execution_count": null,
      "outputs": []
    }
  ]
}