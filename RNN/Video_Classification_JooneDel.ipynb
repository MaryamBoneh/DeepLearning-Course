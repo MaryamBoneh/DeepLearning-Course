{
  "nbformat": 4,
  "nbformat_minor": 0,
  "metadata": {
    "colab": {
      "name": "Video_Classification_JooneDel",
      "provenance": []
    },
    "kernelspec": {
      "name": "python3",
      "display_name": "Python 3"
    },
    "language_info": {
      "name": "python"
    },
    "accelerator": "GPU"
  },
  "cells": [
    {
      "cell_type": "code",
      "execution_count": 22,
      "metadata": {
        "id": "cw70fjrFBDYb"
      },
      "outputs": [],
      "source": [
        "import os\n",
        "import cv2\n",
        "import numpy as np\n",
        "import tensorflow as tf\n",
        "import matplotlib.pyplot as plt\n",
        "from sklearn.model_selection import train_test_split\n",
        "from tensorflow.keras.layers import Conv2D, MaxPooling2D, Dense, LSTM, GRU, Flatten, TimeDistributed, SimpleRNN\n",
        "from tensorflow.keras.preprocessing.image import ImageDataGenerator"
      ]
    },
    {
      "cell_type": "code",
      "source": [
        "dataset_path = '/content/drive/MyDrive/Datasets/joon_del/'\n",
        "data_class_0 = os.path.join(dataset_path,'0')\n",
        "data_class_1 = os.path.join(dataset_path,'1')"
      ],
      "metadata": {
        "id": "A5GkO-Ncuye-"
      },
      "execution_count": 23,
      "outputs": []
    },
    {
      "cell_type": "code",
      "source": [
        "%mkdir 'video_to_imgs'\n",
        "%cd '/content/video_to_imgs/'\n",
        "%mkdir '0'\n",
        "%mkdir '1'"
      ],
      "metadata": {
        "id": "Vt8H16mb15I-"
      },
      "execution_count": null,
      "outputs": []
    },
    {
      "cell_type": "code",
      "source": [
        "width = height = 70\n",
        "batch_size = 64\n",
        "epoches = 10\n",
        "directory = '/content/video_to_imgs/'"
      ],
      "metadata": {
        "id": "Pwho8JIM3LDb"
      },
      "execution_count": 7,
      "outputs": []
    },
    {
      "cell_type": "code",
      "source": [
        "def conver_to_dataset():\n",
        "\n",
        "  frames = []\n",
        "  labels = []\n",
        "  \n",
        "  # class 0\n",
        "  for i in range(len(os.listdir(data_class_0))):\n",
        "      video_cap = cv2.VideoCapture(f'{data_class_0}/0{i}.mp4')\n",
        "      c = 0\n",
        "\n",
        "      while True:\n",
        "        success, frame = video_cap.read()\n",
        "        if not success:\n",
        "            break\n",
        "        if c % 10 == 0:\n",
        "          frame = cv2.resize(frame, dsize=(width, height)).astype('float16')\n",
        "          frames.append(frame)\n",
        "          labels.append(0)\n",
        "\n",
        "        # cv2.imwrite(f\"/content/video_to_imgs/0/{i}_{c}.jpg\", frame)\n",
        "        c += 1\n",
        "\n",
        "\n",
        "  # class 1\n",
        "  for i in range(len(os.listdir(data_class_1))):\n",
        "      video_cap = cv2.VideoCapture(f'{data_class_1}/0{i}.mp4')\n",
        "      c = 0\n",
        "\n",
        "      while True:\n",
        "        success, frame = video_cap.read()\n",
        "        if not success:\n",
        "            break\n",
        "\n",
        "        if c % 10 == 0:\n",
        "          frame = cv2.resize(frame, dsize=(width, height)).astype('float16')\n",
        "          frames.append(frame)\n",
        "          labels.append(1)\n",
        "\n",
        "        # cv2.imwrite(f\"/content/video_to_imgs/1/{i}_{c}.jpg\", frame)\n",
        "        # c += 1\n",
        "\n",
        "  frames = np.array(frames)\n",
        "  labels = np.array(labels)\n",
        "\n",
        "  return frames, labels"
      ],
      "metadata": {
        "id": "1VAdrudGC2-i"
      },
      "execution_count": 31,
      "outputs": []
    },
    {
      "cell_type": "code",
      "source": [
        "X_data, Y_data = conver_to_dataset()"
      ],
      "metadata": {
        "id": "U6uXLp_wd_f9"
      },
      "execution_count": 32,
      "outputs": []
    },
    {
      "cell_type": "code",
      "source": [
        "X_data.shape, Y_data.shape"
      ],
      "metadata": {
        "colab": {
          "base_uri": "https://localhost:8080/"
        },
        "id": "-nqrLoXxhDxS",
        "outputId": "d3fa3a75-c2be-49cc-d524-14a61b8f5d2a"
      },
      "execution_count": 33,
      "outputs": [
        {
          "output_type": "execute_result",
          "data": {
            "text/plain": [
              "((5357, 70, 70, 3), (5357,))"
            ]
          },
          "metadata": {},
          "execution_count": 33
        }
      ]
    },
    {
      "cell_type": "code",
      "source": [
        "Y_data = Y_data[..., np.newaxis]\n",
        "X_data = X_data[..., np.newaxis]"
      ],
      "metadata": {
        "id": "2-orlrrvipyt"
      },
      "execution_count": 34,
      "outputs": []
    },
    {
      "cell_type": "code",
      "source": [
        "X_data.shape, Y_data.shape"
      ],
      "metadata": {
        "colab": {
          "base_uri": "https://localhost:8080/"
        },
        "id": "vXOCuIVcitHc",
        "outputId": "1d8a471a-9212-433b-a32f-0fa6fe9b5fcf"
      },
      "execution_count": 35,
      "outputs": [
        {
          "output_type": "execute_result",
          "data": {
            "text/plain": [
              "((5357, 70, 70, 3, 1), (5357, 1))"
            ]
          },
          "metadata": {},
          "execution_count": 35
        }
      ]
    },
    {
      "cell_type": "code",
      "source": [
        "X_train, X_test, Y_train, Y_test = train_test_split(X_data, Y_data, test_size=0.2, random_state=42)"
      ],
      "metadata": {
        "id": "VgF9yEPljOiA"
      },
      "execution_count": 36,
      "outputs": []
    },
    {
      "cell_type": "code",
      "source": [
        "model = tf.keras.models.Sequential([ \n",
        "                                   # CNN\n",
        "                                   TimeDistributed(Conv2D(32, (3, 3), activation=\"relu\",input_shape=(None, width, height, 3))), \n",
        "                                   TimeDistributed(MaxPooling2D(pool_size=(2, 2))), \n",
        "                                   TimeDistributed(Conv2D(16, (3, 3), activation=\"relu\")),\n",
        "                                   TimeDistributed(Flatten()), \n",
        "                                   # RNN \n",
        "                                   SimpleRNN(40), \n",
        "                                   Dense(2, activation=\"softmax\") ])"
      ],
      "metadata": {
        "id": "b54UgjxCmotA"
      },
      "execution_count": 37,
      "outputs": []
    },
    {
      "cell_type": "code",
      "source": [
        "model.compile(\n",
        "    optimizer = tf.keras.optimizers.Adam(learning_rate=0.001),\n",
        "    loss = tf.keras.losses.sparse_categorical_crossentropy,\n",
        "    metrics=[\"accuracy\"]\n",
        ")"
      ],
      "metadata": {
        "id": "FpAIt66Pjtz0"
      },
      "execution_count": 38,
      "outputs": []
    },
    {
      "cell_type": "code",
      "source": [
        "model.fit(X_train, Y_train, batch_size = batch_size, epochs = epoches)"
      ],
      "metadata": {
        "colab": {
          "base_uri": "https://localhost:8080/",
          "height": 692
        },
        "id": "d18JC09sp2bl",
        "outputId": "66894897-5de9-47da-9be1-0cb64c50070a"
      },
      "execution_count": 39,
      "outputs": [
        {
          "output_type": "stream",
          "name": "stdout",
          "text": [
            "Epoch 1/10\n"
          ]
        },
        {
          "output_type": "error",
          "ename": "ValueError",
          "evalue": "ignored",
          "traceback": [
            "\u001b[0;31m---------------------------------------------------------------------------\u001b[0m",
            "\u001b[0;31mValueError\u001b[0m                                Traceback (most recent call last)",
            "\u001b[0;32m<ipython-input-39-8ecb3b627b06>\u001b[0m in \u001b[0;36m<module>\u001b[0;34m()\u001b[0m\n\u001b[0;32m----> 1\u001b[0;31m \u001b[0mmodel\u001b[0m\u001b[0;34m.\u001b[0m\u001b[0mfit\u001b[0m\u001b[0;34m(\u001b[0m\u001b[0mX_train\u001b[0m\u001b[0;34m,\u001b[0m \u001b[0mY_train\u001b[0m\u001b[0;34m,\u001b[0m \u001b[0mbatch_size\u001b[0m \u001b[0;34m=\u001b[0m \u001b[0mbatch_size\u001b[0m\u001b[0;34m,\u001b[0m \u001b[0mepochs\u001b[0m \u001b[0;34m=\u001b[0m \u001b[0mepoches\u001b[0m\u001b[0;34m)\u001b[0m\u001b[0;34m\u001b[0m\u001b[0;34m\u001b[0m\u001b[0m\n\u001b[0m",
            "\u001b[0;32m/usr/local/lib/python3.7/dist-packages/keras/utils/traceback_utils.py\u001b[0m in \u001b[0;36merror_handler\u001b[0;34m(*args, **kwargs)\u001b[0m\n\u001b[1;32m     65\u001b[0m     \u001b[0;32mexcept\u001b[0m \u001b[0mException\u001b[0m \u001b[0;32mas\u001b[0m \u001b[0me\u001b[0m\u001b[0;34m:\u001b[0m  \u001b[0;31m# pylint: disable=broad-except\u001b[0m\u001b[0;34m\u001b[0m\u001b[0;34m\u001b[0m\u001b[0m\n\u001b[1;32m     66\u001b[0m       \u001b[0mfiltered_tb\u001b[0m \u001b[0;34m=\u001b[0m \u001b[0m_process_traceback_frames\u001b[0m\u001b[0;34m(\u001b[0m\u001b[0me\u001b[0m\u001b[0;34m.\u001b[0m\u001b[0m__traceback__\u001b[0m\u001b[0;34m)\u001b[0m\u001b[0;34m\u001b[0m\u001b[0;34m\u001b[0m\u001b[0m\n\u001b[0;32m---> 67\u001b[0;31m       \u001b[0;32mraise\u001b[0m \u001b[0me\u001b[0m\u001b[0;34m.\u001b[0m\u001b[0mwith_traceback\u001b[0m\u001b[0;34m(\u001b[0m\u001b[0mfiltered_tb\u001b[0m\u001b[0;34m)\u001b[0m \u001b[0;32mfrom\u001b[0m \u001b[0;32mNone\u001b[0m\u001b[0;34m\u001b[0m\u001b[0;34m\u001b[0m\u001b[0m\n\u001b[0m\u001b[1;32m     68\u001b[0m     \u001b[0;32mfinally\u001b[0m\u001b[0;34m:\u001b[0m\u001b[0;34m\u001b[0m\u001b[0;34m\u001b[0m\u001b[0m\n\u001b[1;32m     69\u001b[0m       \u001b[0;32mdel\u001b[0m \u001b[0mfiltered_tb\u001b[0m\u001b[0;34m\u001b[0m\u001b[0;34m\u001b[0m\u001b[0m\n",
            "\u001b[0;32m/usr/local/lib/python3.7/dist-packages/tensorflow/python/framework/func_graph.py\u001b[0m in \u001b[0;36mautograph_handler\u001b[0;34m(*args, **kwargs)\u001b[0m\n\u001b[1;32m   1145\u001b[0m           \u001b[0;32mexcept\u001b[0m \u001b[0mException\u001b[0m \u001b[0;32mas\u001b[0m \u001b[0me\u001b[0m\u001b[0;34m:\u001b[0m  \u001b[0;31m# pylint:disable=broad-except\u001b[0m\u001b[0;34m\u001b[0m\u001b[0;34m\u001b[0m\u001b[0m\n\u001b[1;32m   1146\u001b[0m             \u001b[0;32mif\u001b[0m \u001b[0mhasattr\u001b[0m\u001b[0;34m(\u001b[0m\u001b[0me\u001b[0m\u001b[0;34m,\u001b[0m \u001b[0;34m\"ag_error_metadata\"\u001b[0m\u001b[0;34m)\u001b[0m\u001b[0;34m:\u001b[0m\u001b[0;34m\u001b[0m\u001b[0;34m\u001b[0m\u001b[0m\n\u001b[0;32m-> 1147\u001b[0;31m               \u001b[0;32mraise\u001b[0m \u001b[0me\u001b[0m\u001b[0;34m.\u001b[0m\u001b[0mag_error_metadata\u001b[0m\u001b[0;34m.\u001b[0m\u001b[0mto_exception\u001b[0m\u001b[0;34m(\u001b[0m\u001b[0me\u001b[0m\u001b[0;34m)\u001b[0m\u001b[0;34m\u001b[0m\u001b[0;34m\u001b[0m\u001b[0m\n\u001b[0m\u001b[1;32m   1148\u001b[0m             \u001b[0;32melse\u001b[0m\u001b[0;34m:\u001b[0m\u001b[0;34m\u001b[0m\u001b[0;34m\u001b[0m\u001b[0m\n\u001b[1;32m   1149\u001b[0m               \u001b[0;32mraise\u001b[0m\u001b[0;34m\u001b[0m\u001b[0;34m\u001b[0m\u001b[0m\n",
            "\u001b[0;31mValueError\u001b[0m: in user code:\n\n    File \"/usr/local/lib/python3.7/dist-packages/keras/engine/training.py\", line 1021, in train_function  *\n        return step_function(self, iterator)\n    File \"/usr/local/lib/python3.7/dist-packages/keras/engine/training.py\", line 1010, in step_function  **\n        outputs = model.distribute_strategy.run(run_step, args=(data,))\n    File \"/usr/local/lib/python3.7/dist-packages/keras/engine/training.py\", line 1000, in run_step  **\n        outputs = model.train_step(data)\n    File \"/usr/local/lib/python3.7/dist-packages/keras/engine/training.py\", line 859, in train_step\n        y_pred = self(x, training=True)\n    File \"/usr/local/lib/python3.7/dist-packages/keras/utils/traceback_utils.py\", line 67, in error_handler\n        raise e.with_traceback(filtered_tb) from None\n\n    ValueError: Exception encountered when calling layer \"max_pooling2d_1\" (type MaxPooling2D).\n    \n    Negative dimension size caused by subtracting 2 from 1 for '{{node sequential_7/time_distributed_5/max_pooling2d_1/MaxPool}} = MaxPool[T=DT_FLOAT, data_format=\"NHWC\", explicit_paddings=[], ksize=[1, 2, 2, 1], padding=\"VALID\", strides=[1, 2, 2, 1]](sequential_7/time_distributed_5/Reshape)' with input shapes: [?,68,1,32].\n    \n    Call arguments received:\n      • inputs=tf.Tensor(shape=(None, 68, 1, 32), dtype=float32)\n"
          ]
        }
      ]
    },
    {
      "cell_type": "markdown",
      "source": [
        "## *_*_*_*_*_*_*_*_*_*_*_*_ ALAKi *_*_*_*_*_*_*_*_*_*_*_*_"
      ],
      "metadata": {
        "id": "47zlN5xUjgzC"
      }
    },
    {
      "cell_type": "code",
      "source": [
        "data_generator = ImageDataGenerator(\n",
        "    rescale = 1./255,\n",
        "    validation_split = 0.2) # set validation split\n",
        "\n",
        "train_generator = data_generator.flow_from_directory(\n",
        "    directory,\n",
        "    target_size = (height, width),\n",
        "    batch_size = batch_size,\n",
        "    shuffle = False,\n",
        "    class_mode='categorical',\n",
        "    subset='training') # set as training data\n",
        "\n",
        "validation_generator = data_generator.flow_from_directory(\n",
        "    directory, \n",
        "    target_size = (height, width),\n",
        "    batch_size = batch_size,\n",
        "    shuffle = False,\n",
        "    class_mode='categorical',\n",
        "    subset='validation') # set as validation data"
      ],
      "metadata": {
        "colab": {
          "base_uri": "https://localhost:8080/"
        },
        "id": "xPDg_XKN-FiB",
        "outputId": "683e70e3-6d53-4fee-cd6e-2456f84bea4a"
      },
      "execution_count": null,
      "outputs": [
        {
          "output_type": "stream",
          "name": "stdout",
          "text": [
            "Found 8429 images belonging to 3 classes.\n",
            "Found 2107 images belonging to 3 classes.\n"
          ]
        }
      ]
    },
    {
      "cell_type": "code",
      "source": [
        "'class 0: ', len(os.listdir('/content/video_to_imgs/0/')), 'class 1: ', len(os.listdir('/content/video_to_imgs/1/'))"
      ],
      "metadata": {
        "colab": {
          "base_uri": "https://localhost:8080/"
        },
        "id": "gIoGJ7Ed31KW",
        "outputId": "d6e96cfb-f634-4c6c-d32f-0349988a8973"
      },
      "execution_count": null,
      "outputs": [
        {
          "output_type": "execute_result",
          "data": {
            "text/plain": [
              "('class 0: ', 5765, 'class 1: ', 4771)"
            ]
          },
          "metadata": {},
          "execution_count": 27
        }
      ]
    }
  ]
}