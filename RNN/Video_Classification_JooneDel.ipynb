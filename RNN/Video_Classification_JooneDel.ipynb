{
  "nbformat": 4,
  "nbformat_minor": 0,
  "metadata": {
    "colab": {
      "name": "Video_Classification_JooneDel",
      "provenance": []
    },
    "kernelspec": {
      "name": "python3",
      "display_name": "Python 3"
    },
    "language_info": {
      "name": "python"
    },
    "accelerator": "GPU"
  },
  "cells": [
    {
      "cell_type": "code",
      "execution_count": 1,
      "metadata": {
        "id": "cw70fjrFBDYb"
      },
      "outputs": [],
      "source": [
        "import os\n",
        "import cv2\n",
        "import numpy as np\n",
        "import tensorflow as tf\n",
        "import matplotlib.pyplot as plt\n",
        "from sklearn.model_selection import train_test_split\n",
        "from tensorflow.keras.layers import Conv2D, MaxPooling2D, Dense, Flatten, TimeDistributed, SimpleRNN, GRU, LSTM\n",
        "from tensorflow.keras.preprocessing.image import ImageDataGenerator"
      ]
    },
    {
      "cell_type": "code",
      "source": [
        "dataset_path = '/content/drive/MyDrive/Datasets/joon_del/'\n",
        "data_class_0 = os.path.join(dataset_path,'0')\n",
        "data_class_1 = os.path.join(dataset_path,'1')"
      ],
      "metadata": {
        "id": "A5GkO-Ncuye-"
      },
      "execution_count": 2,
      "outputs": []
    },
    {
      "cell_type": "code",
      "source": [
        "%mkdir 'video_to_imgs'\n",
        "%cd '/content/video_to_imgs/'\n",
        "%mkdir '0'\n",
        "%mkdir '1'"
      ],
      "metadata": {
        "id": "Vt8H16mb15I-"
      },
      "execution_count": null,
      "outputs": []
    },
    {
      "cell_type": "code",
      "source": [
        "width = height = 70\n",
        "batch_size = 8\n",
        "epoches = 12\n",
        "directory = '/content/video_to_imgs/'"
      ],
      "metadata": {
        "id": "Pwho8JIM3LDb"
      },
      "execution_count": 29,
      "outputs": []
    },
    {
      "cell_type": "code",
      "source": [
        "def conver_to_dataset():\n",
        "\n",
        "  frames = []\n",
        "  labels = []\n",
        "  \n",
        "  # class 0\n",
        "  for i in range(1, len(os.listdir(data_class_0))):\n",
        "      video_cap = cv2.VideoCapture(f'{data_class_0}/0{i}.mp4')\n",
        "      c = 0\n",
        "      a_video_frames = []\n",
        "\n",
        "      while True:\n",
        "        success, frame = video_cap.read()\n",
        "        if not success:\n",
        "            break\n",
        "        if c % 2 == 0:\n",
        "          frame = cv2.resize(frame, dsize=(width, height)).astype('float32')\n",
        "          a_video_frames.append(frame)\n",
        "\n",
        "        c += 1\n",
        "\n",
        "      # print('a_video_frames: ', len(a_video_frames))\n",
        "      frames.append(a_video_frames)\n",
        "      labels.append(0)\n",
        "\n",
        "\n",
        "  # class 1\n",
        "  for i in range(1, len(os.listdir(data_class_1))):\n",
        "      video_cap = cv2.VideoCapture(f'{data_class_1}/0{i}.mp4')\n",
        "      c = 0\n",
        "      a_video_frames = []\n",
        "\n",
        "      while True:\n",
        "        success, frame = video_cap.read()\n",
        "        if not success:\n",
        "            break\n",
        "\n",
        "        if c % 2 == 0:\n",
        "          frame = cv2.resize(frame, dsize=(width, height)).astype('float32')\n",
        "          a_video_frames.append(frame)\n",
        "\n",
        "        c += 1\n",
        "    \n",
        "      # print('a_video_frames: ', len(a_video_frames))\n",
        "      frames.append(a_video_frames)\n",
        "      labels.append(1)\n",
        "\n",
        "  labels = np.array(labels)\n",
        "\n",
        "  return frames, labels"
      ],
      "metadata": {
        "id": "1VAdrudGC2-i"
      },
      "execution_count": 5,
      "outputs": []
    },
    {
      "cell_type": "code",
      "source": [
        "X_data, Y_data = conver_to_dataset()"
      ],
      "metadata": {
        "id": "U6uXLp_wd_f9"
      },
      "execution_count": 6,
      "outputs": []
    },
    {
      "cell_type": "code",
      "source": [
        "len(X_data), len(X_data[0])"
      ],
      "metadata": {
        "colab": {
          "base_uri": "https://localhost:8080/"
        },
        "id": "whsuReybUl2k",
        "outputId": "93dedf41-7358-4f7a-dbca-b0b4c78d5960"
      },
      "execution_count": 7,
      "outputs": [
        {
          "output_type": "execute_result",
          "data": {
            "text/plain": [
              "(68, 30)"
            ]
          },
          "metadata": {},
          "execution_count": 7
        }
      ]
    },
    {
      "cell_type": "code",
      "source": [
        "maximumـnumـofـframes = max(len(i) for i in X_data)\n",
        "print('maximumـnumـofـframes: ', maximumـnumـofـframes)\n",
        "for c, i in enumerate(X_data):\n",
        "  if len(i) < maximumـnumـofـframes:\n",
        "    print('len(i): ', len(i))\n",
        "    for _ in range(maximumـnumـofـframes - len(i)):\n",
        "      i.append(np.zeros((width, height, 3)))\n",
        "\n",
        "  X_data[c] = np.array(X_data[c])\n",
        "\n",
        "X_data = np.array(X_data)"
      ],
      "metadata": {
        "id": "drXj6L4LOg3B"
      },
      "execution_count": null,
      "outputs": []
    },
    {
      "cell_type": "code",
      "source": [
        "len(X_data), len(X_data[0])"
      ],
      "metadata": {
        "colab": {
          "base_uri": "https://localhost:8080/"
        },
        "id": "OyxM36LCjoaZ",
        "outputId": "07e35964-8766-4803-a897-122989b5731a"
      },
      "execution_count": 9,
      "outputs": [
        {
          "output_type": "execute_result",
          "data": {
            "text/plain": [
              "(68, 157)"
            ]
          },
          "metadata": {},
          "execution_count": 9
        }
      ]
    },
    {
      "cell_type": "code",
      "source": [
        "X_data.shape, Y_data.shape"
      ],
      "metadata": {
        "colab": {
          "base_uri": "https://localhost:8080/"
        },
        "id": "vXOCuIVcitHc",
        "outputId": "0e4cd987-2ad4-47f9-d3e9-af603af5121c"
      },
      "execution_count": 10,
      "outputs": [
        {
          "output_type": "execute_result",
          "data": {
            "text/plain": [
              "((68, 157, 70, 70, 3), (68,))"
            ]
          },
          "metadata": {},
          "execution_count": 10
        }
      ]
    },
    {
      "cell_type": "code",
      "source": [
        "Y_data = Y_data[..., np.newaxis]"
      ],
      "metadata": {
        "id": "2-orlrrvipyt"
      },
      "execution_count": 11,
      "outputs": []
    },
    {
      "cell_type": "code",
      "source": [
        "X_data.shape, Y_data.shape"
      ],
      "metadata": {
        "colab": {
          "base_uri": "https://localhost:8080/"
        },
        "id": "RYzmw6N3j7SJ",
        "outputId": "31621d62-145c-4383-e4bb-2cc667008e4a"
      },
      "execution_count": 12,
      "outputs": [
        {
          "output_type": "execute_result",
          "data": {
            "text/plain": [
              "((68, 157, 70, 70, 3), (68, 1))"
            ]
          },
          "metadata": {},
          "execution_count": 12
        }
      ]
    },
    {
      "cell_type": "code",
      "source": [
        "X_train, X_test, Y_train, Y_test = train_test_split(X_data, Y_data, test_size=0.2, random_state=42)"
      ],
      "metadata": {
        "id": "VgF9yEPljOiA"
      },
      "execution_count": 13,
      "outputs": []
    },
    {
      "cell_type": "code",
      "source": [
        "model = tf.keras.models.Sequential([ \n",
        "                                   # CNN\n",
        "                                   TimeDistributed(Conv2D(64, (3, 3), activation=\"relu\", input_shape=(None, width, height, 3))), \n",
        "                                   TimeDistributed(MaxPooling2D(pool_size=(2, 2))), \n",
        "                                   TimeDistributed(Conv2D(16, (3, 3), activation=\"relu\")), \n",
        "                                   TimeDistributed(Conv2D(4, (3, 3), activation=\"relu\")), \n",
        "                                   TimeDistributed(MaxPooling2D(pool_size=(2, 2))), \n",
        "                                   TimeDistributed(Flatten()), \n",
        "                                   # RNN \n",
        "                                   SimpleRNN(40), \n",
        "                                   Dense(2, activation=\"softmax\") ])"
      ],
      "metadata": {
        "id": "b54UgjxCmotA"
      },
      "execution_count": 30,
      "outputs": []
    },
    {
      "cell_type": "code",
      "source": [
        "model.compile(\n",
        "    optimizer = tf.keras.optimizers.Adam(learning_rate=0.001),\n",
        "    loss = tf.keras.losses.SparseCategoricalCrossentropy(from_logits=True),\n",
        "    metrics = [\"accuracy\"]\n",
        ")"
      ],
      "metadata": {
        "id": "FpAIt66Pjtz0"
      },
      "execution_count": 31,
      "outputs": []
    },
    {
      "cell_type": "code",
      "source": [
        "model.fit(X_train, Y_train, batch_size = batch_size, epochs = epoches)"
      ],
      "metadata": {
        "colab": {
          "base_uri": "https://localhost:8080/"
        },
        "id": "d18JC09sp2bl",
        "outputId": "d5869faf-2dba-447f-f3ae-06402e5f23db"
      },
      "execution_count": 32,
      "outputs": [
        {
          "output_type": "stream",
          "name": "stdout",
          "text": [
            "Epoch 1/12\n"
          ]
        },
        {
          "output_type": "stream",
          "name": "stderr",
          "text": [
            "/usr/local/lib/python3.7/dist-packages/tensorflow/python/util/dispatch.py:1082: UserWarning: \"`sparse_categorical_crossentropy` received `from_logits=True`, but the `output` argument was produced by a sigmoid or softmax activation and thus does not represent logits. Was this intended?\"\n",
            "  return dispatch_target(*args, **kwargs)\n"
          ]
        },
        {
          "output_type": "stream",
          "name": "stdout",
          "text": [
            "7/7 [==============================] - 7s 673ms/step - loss: 0.6889 - accuracy: 0.4815\n",
            "Epoch 2/12\n",
            "7/7 [==============================] - 5s 674ms/step - loss: 0.6906 - accuracy: 0.5185\n",
            "Epoch 3/12\n",
            "7/7 [==============================] - 5s 663ms/step - loss: 0.6780 - accuracy: 0.5370\n",
            "Epoch 4/12\n",
            "7/7 [==============================] - 5s 673ms/step - loss: 0.6703 - accuracy: 0.6296\n",
            "Epoch 5/12\n",
            "7/7 [==============================] - 5s 651ms/step - loss: 0.6537 - accuracy: 0.5926\n",
            "Epoch 6/12\n",
            "7/7 [==============================] - 5s 669ms/step - loss: 0.6491 - accuracy: 0.6296\n",
            "Epoch 7/12\n",
            "7/7 [==============================] - 5s 681ms/step - loss: 0.6815 - accuracy: 0.5741\n",
            "Epoch 8/12\n",
            "7/7 [==============================] - 5s 652ms/step - loss: 0.6661 - accuracy: 0.6481\n",
            "Epoch 9/12\n",
            "7/7 [==============================] - 5s 674ms/step - loss: 0.6200 - accuracy: 0.6667\n",
            "Epoch 10/12\n",
            "7/7 [==============================] - 5s 668ms/step - loss: 0.6164 - accuracy: 0.7037\n",
            "Epoch 11/12\n",
            "7/7 [==============================] - 5s 680ms/step - loss: 0.6052 - accuracy: 0.6852\n",
            "Epoch 12/12\n",
            "7/7 [==============================] - 5s 678ms/step - loss: 0.5919 - accuracy: 0.7222\n"
          ]
        }
      ]
    }
  ]
}