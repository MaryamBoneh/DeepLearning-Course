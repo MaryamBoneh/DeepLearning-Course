{
  "nbformat": 4,
  "nbformat_minor": 0,
  "metadata": {
    "accelerator": "GPU",
    "colab": {
      "name": "Estimating_Age.ipynb",
      "provenance": []
    },
    "kernelspec": {
      "display_name": "Python 3",
      "name": "python3"
    },
    "language_info": {
      "name": "python"
    }
  },
  "cells": [
    {
      "cell_type": "code",
      "metadata": {
        "id": "ihrvklTs2bqv"
      },
      "source": [
        "!pip install kaggle"
      ],
      "execution_count": null,
      "outputs": []
    },
    {
      "cell_type": "code",
      "metadata": {
        "id": "7543RW529917"
      },
      "source": [
        "!pip install retina-face"
      ],
      "execution_count": null,
      "outputs": []
    },
    {
      "cell_type": "code",
      "metadata": {
        "id": "SONl9etG--hZ"
      },
      "source": [
        "!pip install pyTelegramBotAPI"
      ],
      "execution_count": null,
      "outputs": []
    },
    {
      "cell_type": "code",
      "metadata": {
        "id": "0AJJrJsr2czJ",
        "colab": {
          "base_uri": "https://localhost:8080/"
        },
        "outputId": "2a1ede8f-2be7-44a1-c36d-29a6090ff8a0"
      },
      "source": [
        "!mkdir ~/.kaggle\n",
        "!cp kaggle.json ~/.kaggle"
      ],
      "execution_count": 5,
      "outputs": [
        {
          "output_type": "stream",
          "name": "stdout",
          "text": [
            "mkdir: cannot create directory ‘/root/.kaggle’: File exists\n"
          ]
        }
      ]
    },
    {
      "cell_type": "code",
      "metadata": {
        "colab": {
          "base_uri": "https://localhost:8080/"
        },
        "id": "nvTCuKFO222N",
        "outputId": "1dc82eb4-df4a-45e4-a470-f166c0ec72cd"
      },
      "source": [
        "!kaggle datasets download -d jangedoo/utkface-new"
      ],
      "execution_count": 6,
      "outputs": [
        {
          "output_type": "stream",
          "name": "stdout",
          "text": [
            "Warning: Your Kaggle API key is readable by other users on this system! To fix this, you can run 'chmod 600 /root/.kaggle/kaggle.json'\n",
            "utkface-new.zip: Skipping, found more recently modified local copy (use --force to force download)\n"
          ]
        }
      ]
    },
    {
      "cell_type": "code",
      "metadata": {
        "id": "fbr4gEw036rn"
      },
      "source": [
        "!unzip -qq utkface-new.zip"
      ],
      "execution_count": 7,
      "outputs": []
    },
    {
      "cell_type": "code",
      "metadata": {
        "id": "p3Yd4iJz1Xk-"
      },
      "source": [
        "import os\n",
        "import cv2\n",
        "import numpy as np\n",
        "import tensorflow as tf\n",
        "import pandas as pd\n",
        "import telebot\n",
        "from imutils.face_utils import FaceAligner\n",
        "import imutils\n",
        "from retinaface import RetinaFace\n",
        "import dlib\n",
        "from tensorflow.keras.preprocessing.image import ImageDataGenerator\n",
        "from matplotlib import pyplot as plt\n",
        "from tensorflow.keras.layers import Dense, MaxPool2D, Conv2D, Flatten\n",
        "from tensorflow.keras.optimizers import SGD, Adam\n",
        "from sklearn.model_selection import train_test_split"
      ],
      "execution_count": 46,
      "outputs": []
    },
    {
      "cell_type": "code",
      "metadata": {
        "id": "4qZXlFQH1g0o"
      },
      "source": [
        "epochs = 12\n",
        "width = height = 224"
      ],
      "execution_count": 9,
      "outputs": []
    },
    {
      "cell_type": "markdown",
      "metadata": {
        "id": "iOH7Xlt_Jv5a"
      },
      "source": [
        "Get data"
      ]
    },
    {
      "cell_type": "code",
      "metadata": {
        "id": "eRsbwKtw27uO"
      },
      "source": [
        "images = []\n",
        "ages = []\n",
        "\n",
        "for image_name in os.listdir('crop_part1')[0:9000]:\n",
        "    part = image_name.split('_')\n",
        "    ages.append(int(part[0]))\n",
        "\n",
        "    image = cv2.imread(f'crop_part1/{image_name}')\n",
        "    image = cv2.cvtColor(image, cv2.COLOR_BGR2RGB)\n",
        "    images.append(image)"
      ],
      "execution_count": 10,
      "outputs": []
    },
    {
      "cell_type": "code",
      "metadata": {
        "colab": {
          "base_uri": "https://localhost:8080/",
          "height": 204
        },
        "id": "qgDiILei43wg",
        "outputId": "e0f22a4d-a571-4a12-ca4f-6f58268fe199"
      },
      "source": [
        "images = pd.Series(images, name= 'Images')\n",
        "ages = pd.Series(ages, name= 'Ages')\n",
        "\n",
        "df = pd.concat([images, ages], axis= 1)\n",
        "df.head()"
      ],
      "execution_count": 11,
      "outputs": [
        {
          "output_type": "execute_result",
          "data": {
            "text/html": [
              "<div>\n",
              "<style scoped>\n",
              "    .dataframe tbody tr th:only-of-type {\n",
              "        vertical-align: middle;\n",
              "    }\n",
              "\n",
              "    .dataframe tbody tr th {\n",
              "        vertical-align: top;\n",
              "    }\n",
              "\n",
              "    .dataframe thead th {\n",
              "        text-align: right;\n",
              "    }\n",
              "</style>\n",
              "<table border=\"1\" class=\"dataframe\">\n",
              "  <thead>\n",
              "    <tr style=\"text-align: right;\">\n",
              "      <th></th>\n",
              "      <th>Images</th>\n",
              "      <th>Ages</th>\n",
              "    </tr>\n",
              "  </thead>\n",
              "  <tbody>\n",
              "    <tr>\n",
              "      <th>0</th>\n",
              "      <td>[[[255, 251, 248], [255, 251, 248], [253, 252,...</td>\n",
              "      <td>1</td>\n",
              "    </tr>\n",
              "    <tr>\n",
              "      <th>1</th>\n",
              "      <td>[[[198, 184, 173], [196, 182, 171], [194, 180,...</td>\n",
              "      <td>65</td>\n",
              "    </tr>\n",
              "    <tr>\n",
              "      <th>2</th>\n",
              "      <td>[[[225, 208, 198], [228, 211, 201], [231, 214,...</td>\n",
              "      <td>2</td>\n",
              "    </tr>\n",
              "    <tr>\n",
              "      <th>3</th>\n",
              "      <td>[[[45, 26, 28], [45, 26, 28], [44, 25, 27], [4...</td>\n",
              "      <td>3</td>\n",
              "    </tr>\n",
              "    <tr>\n",
              "      <th>4</th>\n",
              "      <td>[[[25, 16, 7], [23, 14, 5], [21, 12, 3], [21, ...</td>\n",
              "      <td>46</td>\n",
              "    </tr>\n",
              "  </tbody>\n",
              "</table>\n",
              "</div>"
            ],
            "text/plain": [
              "                                              Images  Ages\n",
              "0  [[[255, 251, 248], [255, 251, 248], [253, 252,...     1\n",
              "1  [[[198, 184, 173], [196, 182, 171], [194, 180,...    65\n",
              "2  [[[225, 208, 198], [228, 211, 201], [231, 214,...     2\n",
              "3  [[[45, 26, 28], [45, 26, 28], [44, 25, 27], [4...     3\n",
              "4  [[[25, 16, 7], [23, 14, 5], [21, 12, 3], [21, ...    46"
            ]
          },
          "metadata": {},
          "execution_count": 11
        }
      ]
    },
    {
      "cell_type": "code",
      "metadata": {
        "colab": {
          "base_uri": "https://localhost:8080/",
          "height": 460
        },
        "id": "7QtgyRwH5w2w",
        "outputId": "6f152a4d-739f-414e-c871-76b1f943749f"
      },
      "source": [
        "plt.figure(figsize=(24, 8))\n",
        "plt.hist(df['Ages'], bins= 116)\n",
        "plt.show()"
      ],
      "execution_count": 13,
      "outputs": [
        {
          "output_type": "display_data",
          "data": {
            "image/png": "[encoded data removed]",
            "text/plain": [
              "<Figure size 1728x576 with 1 Axes>"
            ]
          },
          "metadata": {
            "needs_background": "light"
          }
        }
      ]
    },
    {
      "cell_type": "markdown",
      "metadata": {
        "id": "-rru7qzmJ0Fc"
      },
      "source": [
        "Data normalize"
      ]
    },
    {
      "cell_type": "code",
      "metadata": {
        "id": "wCiswSJI7U_p"
      },
      "source": [
        "under4 = []\n",
        "\n",
        "for i in range(len(df)):\n",
        "    if df['Ages'].iloc[i] <= 4:\n",
        "        under4.append(df.iloc[i])\n",
        "\n",
        "under4 = pd.DataFrame(under4)\n",
        "under4 = under4.sample(frac= 0.3)\n",
        "\n",
        "up4 = df[df['Ages'] > 4]\n",
        "\n",
        "df = pd.concat([under4, up4])"
      ],
      "execution_count": 14,
      "outputs": []
    },
    {
      "cell_type": "code",
      "metadata": {
        "id": "eFlgIbYN_MDn"
      },
      "source": [
        "df = df[df['Ages'] < 90]"
      ],
      "execution_count": 15,
      "outputs": []
    },
    {
      "cell_type": "code",
      "metadata": {
        "colab": {
          "base_uri": "https://localhost:8080/",
          "height": 462
        },
        "id": "CGq6lDO0_wLb",
        "outputId": "caa39644-6721-4580-8898-0b89412d6faf"
      },
      "source": [
        "plt.figure(figsize=(24, 8))\n",
        "plt.hist(df['Ages'], bins= 89)\n",
        "plt.show()"
      ],
      "execution_count": null,
      "outputs": [
        {
          "data": {
            "image/png": "[encoded data removed]",
            "text/plain": [
              "<Figure size 1728x576 with 1 Axes>"
            ]
          },
          "metadata": {},
          "output_type": "display_data"
        }
      ]
    },
    {
      "cell_type": "code",
      "metadata": {
        "colab": {
          "base_uri": "https://localhost:8080/"
        },
        "id": "uCHTGohpAAX8",
        "outputId": "02326b36-d1e1-447c-99e6-5c098fe25f9f"
      },
      "source": [
        "X = []\n",
        "Y = []\n",
        "\n",
        "for i in range(len(df)):\n",
        "    df['Images'].iloc[i] = cv2.resize(df['Images'].iloc[i], (width, height))\n",
        "\n",
        "    X.append(df['Images'].iloc[i])\n",
        "    Y.append(df['Ages'].iloc[i])\n",
        "\n",
        "X = np.array(X)\n",
        "Y = np.array(Y)"
      ],
      "execution_count": 16,
      "outputs": [
        {
          "output_type": "stream",
          "name": "stderr",
          "text": [
            "/usr/local/lib/python3.7/dist-packages/pandas/core/indexing.py:670: SettingWithCopyWarning: \n",
            "A value is trying to be set on a copy of a slice from a DataFrame\n",
            "\n",
            "See the caveats in the documentation: https://pandas.pydata.org/pandas-docs/stable/user_guide/indexing.html#returning-a-view-versus-a-copy\n",
            "  iloc._setitem_with_indexer(indexer, value)\n"
          ]
        }
      ]
    },
    {
      "cell_type": "code",
      "metadata": {
        "colab": {
          "base_uri": "https://localhost:8080/"
        },
        "id": "vp88ZberCT95",
        "outputId": "3493b944-415e-44b0-a05c-80be381d33bd"
      },
      "source": [
        "X.shape"
      ],
      "execution_count": 17,
      "outputs": [
        {
          "output_type": "execute_result",
          "data": {
            "text/plain": [
              "(7536, 224, 224, 3)"
            ]
          },
          "metadata": {},
          "execution_count": 17
        }
      ]
    },
    {
      "cell_type": "code",
      "metadata": {
        "id": "zfotvLmyCYOm"
      },
      "source": [
        "X_train, X_val, Y_train, Y_val = train_test_split(X, Y, test_size = 0.2)"
      ],
      "execution_count": 19,
      "outputs": []
    },
    {
      "cell_type": "markdown",
      "metadata": {
        "id": "Cagc_433J87d"
      },
      "source": [
        "Train"
      ]
    },
    {
      "cell_type": "code",
      "metadata": {
        "id": "spdqo6oeDSdW"
      },
      "source": [
        "data_generator = ImageDataGenerator(\n",
        "                                  rescale = 1./ 255,\n",
        "                                  horizontal_flip = True\n",
        "                                  )\n",
        "\n",
        "train_data = data_generator.flow(X_train,\n",
        "                                 Y_train,\n",
        "                                 batch_size= 32)\n",
        "\n",
        "val_data = data_generator.flow(X_val,\n",
        "                               Y_val,\n",
        "                               batch_size= 32)"
      ],
      "execution_count": 20,
      "outputs": []
    },
    {
      "cell_type": "code",
      "metadata": {
        "id": "LP8eBwGvFAeq",
        "colab": {
          "base_uri": "https://localhost:8080/"
        },
        "outputId": "52feedcc-78e8-4c36-c7fc-76a0aeeec1de"
      },
      "source": [
        "base_model = tf.keras.applications.MobileNetV2(\n",
        "    input_shape=(width, height, 3),\n",
        "    include_top = False,\n",
        "    weights = 'imagenet',\n",
        "    pooling = 'avg'\n",
        "    )"
      ],
      "execution_count": 21,
      "outputs": [
        {
          "output_type": "stream",
          "name": "stdout",
          "text": [
            "Downloading data from https://storage.googleapis.com/tensorflow/keras-applications/mobilenet_v2/mobilenet_v2_weights_tf_dim_ordering_tf_kernels_1.0_224_no_top.h5\n",
            "9412608/9406464 [==============================] - 0s 0us/step\n",
            "9420800/9406464 [==============================] - 0s 0us/step\n"
          ]
        }
      ]
    },
    {
      "cell_type": "code",
      "metadata": {
        "id": "D_bLWfyTFYmh"
      },
      "source": [
        "for layer in base_model.layers[:-4]:\n",
        "  layer.trainable = False"
      ],
      "execution_count": 22,
      "outputs": []
    },
    {
      "cell_type": "code",
      "metadata": {
        "id": "YgfIwM6UGDie"
      },
      "source": [
        "model = tf.keras.models.Sequential([\n",
        "    base_model,\n",
        "    Dense(1, activation='relu')                          \n",
        "])"
      ],
      "execution_count": 23,
      "outputs": []
    },
    {
      "cell_type": "code",
      "metadata": {
        "id": "ox2YZBrCGTeL",
        "colab": {
          "base_uri": "https://localhost:8080/"
        },
        "outputId": "c8e747c2-7fa3-460a-d055-92dc11db22b1"
      },
      "source": [
        "model.compile(optimizer = tf.keras.optimizers.Adam(lr= 0.001),\n",
        "              loss = tf.keras.losses.mean_squared_error)"
      ],
      "execution_count": 24,
      "outputs": [
        {
          "output_type": "stream",
          "name": "stderr",
          "text": [
            "/usr/local/lib/python3.7/dist-packages/keras/optimizer_v2/optimizer_v2.py:356: UserWarning: The `lr` argument is deprecated, use `learning_rate` instead.\n",
            "  \"The `lr` argument is deprecated, use `learning_rate` instead.\")\n"
          ]
        }
      ]
    },
    {
      "cell_type": "code",
      "metadata": {
        "id": "k44aCpuMGi6B",
        "colab": {
          "base_uri": "https://localhost:8080/"
        },
        "outputId": "a3b7f807-c159-4676-a551-efc4e37a8a2f"
      },
      "source": [
        "model.fit(train_data,\n",
        "          validation_data = val_data,\n",
        "          epochs = 10\n",
        ")"
      ],
      "execution_count": 25,
      "outputs": [
        {
          "output_type": "stream",
          "name": "stdout",
          "text": [
            "Epoch 1/10\n",
            "189/189 [==============================] - 57s 115ms/step - loss: 350.0790 - val_loss: 1861.4469\n",
            "Epoch 2/10\n",
            "189/189 [==============================] - 20s 106ms/step - loss: 160.6649 - val_loss: 790.3519\n",
            "Epoch 3/10\n",
            "189/189 [==============================] - 20s 107ms/step - loss: 135.3992 - val_loss: 454.6101\n",
            "Epoch 4/10\n",
            "189/189 [==============================] - 20s 107ms/step - loss: 121.4576 - val_loss: 240.4559\n",
            "Epoch 5/10\n",
            "189/189 [==============================] - 20s 107ms/step - loss: 113.5096 - val_loss: 443.7121\n",
            "Epoch 6/10\n",
            "189/189 [==============================] - 20s 107ms/step - loss: 102.9016 - val_loss: 341.1112\n",
            "Epoch 7/10\n",
            "189/189 [==============================] - 20s 107ms/step - loss: 95.9859 - val_loss: 295.5558\n",
            "Epoch 8/10\n",
            "189/189 [==============================] - 20s 106ms/step - loss: 89.6712 - val_loss: 261.5619\n",
            "Epoch 9/10\n",
            "189/189 [==============================] - 20s 107ms/step - loss: 84.0988 - val_loss: 220.7968\n",
            "Epoch 10/10\n",
            "189/189 [==============================] - 20s 106ms/step - loss: 75.5844 - val_loss: 176.5962\n"
          ]
        },
        {
          "output_type": "execute_result",
          "data": {
            "text/plain": [
              "<keras.callbacks.History at 0x7fa3100dd210>"
            ]
          },
          "metadata": {},
          "execution_count": 25
        }
      ]
    },
    {
      "cell_type": "markdown",
      "metadata": {
        "id": "3vUeG9qUKFDY"
      },
      "source": [
        "Save model"
      ]
    },
    {
      "cell_type": "code",
      "metadata": {
        "id": "-dovzbbnJIHg"
      },
      "source": [
        "model.save('/content/drive/MyDrive/age_model.h5')"
      ],
      "execution_count": 54,
      "outputs": []
    },
    {
      "cell_type": "markdown",
      "metadata": {
        "id": "EowpzX2DKID7"
      },
      "source": [
        "Infrance"
      ]
    },
    {
      "cell_type": "code",
      "metadata": {
        "id": "MIliSmJH7wKG"
      },
      "source": [
        "def process_and_predict(image_path):\n",
        "  faces = RetinaFace.extract_faces(image_path)\n",
        "\n",
        "bot = telebot.TeleBot(\"_____________YOUR_TOKEN_______________\")\n",
        "\n",
        "\n",
        "@bot.message_handler(commands=['start'])\n",
        "def say_hello(messages):\n",
        "    bot.send_message(messages.chat.id, f'Wellcome Dear {messages.from_user.first_name}🌹')\n",
        "    bot.send_message(messages.chat.id, f'Give me a photo of a person so I can estimate him\\her age for you😉')\n",
        "\n",
        "@bot.message_handler(content_types=['photo'])\n",
        "def photo(message):\n",
        "    file_info = bot.get_file(message.photo[-1].file_id)\n",
        "    downloaded_file = bot.download_file(file_info.file_path)\n",
        "    src = file_info.file_path\n",
        "    with open(\"/content/\" + src, 'wb') as new_file:\n",
        "        new_file.write(downloaded_file)\n",
        "\n",
        "    bot.send_message(message.chat.id, 'Processing...\\nPlease Wait')\n",
        "\n",
        "    face = RetinaFace.extract_faces(img_path = \"/content/\" + src, align = True)\n",
        "    if len(face) > 0:\n",
        "        face = cv2.cvtColor(face[0], cv2.COLOR_BGR2RGB)\n",
        "        cv2.imwrite(\"/content/\" + src, face)\n",
        "        image = cv2.imread(\"/content/\" + src)\n",
        "        image = cv2.cvtColor(image, cv2.COLOR_BGR2RGB)\n",
        "        image = cv2.resize(image, (width, height))\n",
        "        image = image/255\n",
        "        image = image.reshape(1, width, height, 3)\n",
        "        pred = model.predict([image])\n",
        "\n",
        "        res = pred[0]\n",
        "        bot.reply_to(message, \"%.1f\" % res)\n",
        "    else:\n",
        "        bot.send_message(message.chat.id, 'No Face')\n",
        "\n",
        "\n",
        "bot.polling()"
      ],
      "execution_count": null,
      "outputs": []
    }
  ]
}