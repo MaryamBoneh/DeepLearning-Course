{
  "nbformat": 4,
  "nbformat_minor": 0,
  "metadata": {
    "colab": {
      "name": "Age-Estimating-Pytorch.ipynb",
      "provenance": []
    },
    "kernelspec": {
      "name": "python3",
      "display_name": "Python 3"
    },
    "language_info": {
      "name": "python"
    },
    "accelerator": "GPU"
  },
  "cells": [
    {
      "cell_type": "code",
      "execution_count": null,
      "metadata": {
        "id": "OoIppVFBY2Ez"
      },
      "outputs": [],
      "source": [
        "!pip install wandb\n",
        "!pip install kaggle\n",
        "!pip install retina-face"
      ]
    },
    {
      "cell_type": "code",
      "source": [
        "!mkdir ~/.kaggle\n",
        "!cp kaggle.json ~/.kaggle"
      ],
      "metadata": {
        "id": "ENhVtM83C6wG"
      },
      "execution_count": null,
      "outputs": []
    },
    {
      "cell_type": "code",
      "source": [
        "!kaggle datasets download -d jangedoo/utkface-new"
      ],
      "metadata": {
        "id": "Cawip7WXncT2"
      },
      "execution_count": null,
      "outputs": []
    },
    {
      "cell_type": "code",
      "source": [
        "!unzip -qq utkface-new.zip"
      ],
      "metadata": {
        "id": "UiJw_YhfnhGm"
      },
      "execution_count": null,
      "outputs": []
    },
    {
      "cell_type": "code",
      "metadata": {
        "id": "ktwrEJluan72"
      },
      "source": [
        "import torch, torchvision, cv2, os\n",
        "import torch.nn as nn\n",
        "import torch.nn.functional as F\n",
        "from torchvision import transforms\n",
        "import pandas as pd\n",
        "from sklearn.model_selection import train_test_split\n",
        "import matplotlib.pyplot as plt\n",
        "import numpy as np\n",
        "from tqdm import tqdm"
      ],
      "execution_count": null,
      "outputs": []
    },
    {
      "cell_type": "markdown",
      "source": [
        "🔸wandb config"
      ],
      "metadata": {
        "id": "GHVk7hVGSr41"
      }
    },
    {
      "cell_type": "code",
      "source": [
        "batch = 64\n",
        "epoch = 15\n",
        "lr = 0.001\n",
        "width = height = 224"
      ],
      "metadata": {
        "id": "gJk9-ccWjJTN"
      },
      "execution_count": 32,
      "outputs": []
    },
    {
      "cell_type": "code",
      "source": [
        "configs = {\n",
        "            \"learning_rate\": lr,\n",
        "            \"epochs\": epoch,\n",
        "            \"batch_size\": batch,\n",
        "           }\n",
        "\n",
        "# wandb.init(project=\"Age-Estimating-by-Torch\", config=configs)\n",
        "# config = wandb.config\n",
        "# config.learning_rate = lr"
      ],
      "metadata": {
        "id": "52uLIDiTCDDM"
      },
      "execution_count": null,
      "outputs": []
    },
    {
      "cell_type": "code",
      "source": [
        "images = []\n",
        "ages = []\n",
        "\n",
        "for image_name in os.listdir('crop_part1')[0:9000]:\n",
        "    part = image_name.split('_')\n",
        "    ages.append(int(part[0]))\n",
        "\n",
        "    image = cv2.imread(f'crop_part1/{image_name}')\n",
        "    image = cv2.cvtColor(image, cv2.COLOR_BGR2RGB)\n",
        "    images.append(image)"
      ],
      "metadata": {
        "id": "1U_1sBIgBmh8"
      },
      "execution_count": null,
      "outputs": []
    },
    {
      "cell_type": "code",
      "source": [
        "images = pd.Series(images, name= 'Images')\n",
        "ages = pd.Series(ages, name= 'Ages')\n",
        "\n",
        "df = pd.concat([images, ages], axis= 1)\n",
        "df.head()"
      ],
      "metadata": {
        "colab": {
          "base_uri": "https://localhost:8080/",
          "height": 206
        },
        "id": "6S_CIZJuCNcP",
        "outputId": "cc3e63d6-476e-4bef-d6e7-f69521d632e7"
      },
      "execution_count": null,
      "outputs": [
        {
          "output_type": "execute_result",
          "data": {
            "text/html": [
              "\n",
              "  <div id=\"df-e475a1df-d50b-4d6b-8b40-2f275670bae0\">\n",
              "    <div class=\"colab-df-container\">\n",
              "      <div>\n",
              "<style scoped>\n",
              "    .dataframe tbody tr th:only-of-type {\n",
              "        vertical-align: middle;\n",
              "    }\n",
              "\n",
              "    .dataframe tbody tr th {\n",
              "        vertical-align: top;\n",
              "    }\n",
              "\n",
              "    .dataframe thead th {\n",
              "        text-align: right;\n",
              "    }\n",
              "</style>\n",
              "<table border=\"1\" class=\"dataframe\">\n",
              "  <thead>\n",
              "    <tr style=\"text-align: right;\">\n",
              "      <th></th>\n",
              "      <th>Images</th>\n",
              "      <th>Ages</th>\n",
              "    </tr>\n",
              "  </thead>\n",
              "  <tbody>\n",
              "    <tr>\n",
              "      <th>0</th>\n",
              "      <td>[[[157, 121, 71], [159, 123, 73], [162, 126, 7...</td>\n",
              "      <td>2</td>\n",
              "    </tr>\n",
              "    <tr>\n",
              "      <th>1</th>\n",
              "      <td>[[[252, 255, 255], [254, 255, 255], [255, 255,...</td>\n",
              "      <td>10</td>\n",
              "    </tr>\n",
              "    <tr>\n",
              "      <th>2</th>\n",
              "      <td>[[[42, 42, 42], [34, 34, 34], [29, 29, 29], [3...</td>\n",
              "      <td>27</td>\n",
              "    </tr>\n",
              "    <tr>\n",
              "      <th>3</th>\n",
              "      <td>[[[120, 115, 121], [103, 98, 104], [106, 101, ...</td>\n",
              "      <td>80</td>\n",
              "    </tr>\n",
              "    <tr>\n",
              "      <th>4</th>\n",
              "      <td>[[[243, 28, 98], [241, 24, 95], [239, 17, 90],...</td>\n",
              "      <td>1</td>\n",
              "    </tr>\n",
              "  </tbody>\n",
              "</table>\n",
              "</div>\n",
              "      <button class=\"colab-df-convert\" onclick=\"convertToInteractive('df-e475a1df-d50b-4d6b-8b40-2f275670bae0')\"\n",
              "              title=\"Convert this dataframe to an interactive table.\"\n",
              "              style=\"display:none;\">\n",
              "        \n",
              "  <svg xmlns=\"http://www.w3.org/2000/svg\" height=\"24px\"viewBox=\"0 0 24 24\"\n",
              "       width=\"24px\">\n",
              "    <path d=\"M0 0h24v24H0V0z\" fill=\"none\"/>\n",
              "    <path d=\"M18.56 5.44l.94 2.06.94-2.06 2.06-.94-2.06-.94-.94-2.06-.94 2.06-2.06.94zm-11 1L8.5 8.5l.94-2.06 2.06-.94-2.06-.94L8.5 2.5l-.94 2.06-2.06.94zm10 10l.94 2.06.94-2.06 2.06-.94-2.06-.94-.94-2.06-.94 2.06-2.06.94z\"/><path d=\"M17.41 7.96l-1.37-1.37c-.4-.4-.92-.59-1.43-.59-.52 0-1.04.2-1.43.59L10.3 9.45l-7.72 7.72c-.78.78-.78 2.05 0 2.83L4 21.41c.39.39.9.59 1.41.59.51 0 1.02-.2 1.41-.59l7.78-7.78 2.81-2.81c.8-.78.8-2.07 0-2.86zM5.41 20L4 18.59l7.72-7.72 1.47 1.35L5.41 20z\"/>\n",
              "  </svg>\n",
              "      </button>\n",
              "      \n",
              "  <style>\n",
              "    .colab-df-container {\n",
              "      display:flex;\n",
              "      flex-wrap:wrap;\n",
              "      gap: 12px;\n",
              "    }\n",
              "\n",
              "    .colab-df-convert {\n",
              "      background-color: #E8F0FE;\n",
              "      border: none;\n",
              "      border-radius: 50%;\n",
              "      cursor: pointer;\n",
              "      display: none;\n",
              "      fill: #1967D2;\n",
              "      height: 32px;\n",
              "      padding: 0 0 0 0;\n",
              "      width: 32px;\n",
              "    }\n",
              "\n",
              "    .colab-df-convert:hover {\n",
              "      background-color: #E2EBFA;\n",
              "      box-shadow: 0px 1px 2px rgba(60, 64, 67, 0.3), 0px 1px 3px 1px rgba(60, 64, 67, 0.15);\n",
              "      fill: #174EA6;\n",
              "    }\n",
              "\n",
              "    [theme=dark] .colab-df-convert {\n",
              "      background-color: #3B4455;\n",
              "      fill: #D2E3FC;\n",
              "    }\n",
              "\n",
              "    [theme=dark] .colab-df-convert:hover {\n",
              "      background-color: #434B5C;\n",
              "      box-shadow: 0px 1px 3px 1px rgba(0, 0, 0, 0.15);\n",
              "      filter: drop-shadow(0px 1px 2px rgba(0, 0, 0, 0.3));\n",
              "      fill: #FFFFFF;\n",
              "    }\n",
              "  </style>\n",
              "\n",
              "      <script>\n",
              "        const buttonEl =\n",
              "          document.querySelector('#df-e475a1df-d50b-4d6b-8b40-2f275670bae0 button.colab-df-convert');\n",
              "        buttonEl.style.display =\n",
              "          google.colab.kernel.accessAllowed ? 'block' : 'none';\n",
              "\n",
              "        async function convertToInteractive(key) {\n",
              "          const element = document.querySelector('#df-e475a1df-d50b-4d6b-8b40-2f275670bae0');\n",
              "          const dataTable =\n",
              "            await google.colab.kernel.invokeFunction('convertToInteractive',\n",
              "                                                     [key], {});\n",
              "          if (!dataTable) return;\n",
              "\n",
              "          const docLinkHtml = 'Like what you see? Visit the ' +\n",
              "            '<a target=\"_blank\" href=https://colab.research.google.com/notebooks/data_table.ipynb>data table notebook</a>'\n",
              "            + ' to learn more about interactive tables.';\n",
              "          element.innerHTML = '';\n",
              "          dataTable['output_type'] = 'display_data';\n",
              "          await google.colab.output.renderOutput(dataTable, element);\n",
              "          const docLink = document.createElement('div');\n",
              "          docLink.innerHTML = docLinkHtml;\n",
              "          element.appendChild(docLink);\n",
              "        }\n",
              "      </script>\n",
              "    </div>\n",
              "  </div>\n",
              "  "
            ],
            "text/plain": [
              "                                              Images  Ages\n",
              "0  [[[157, 121, 71], [159, 123, 73], [162, 126, 7...     2\n",
              "1  [[[252, 255, 255], [254, 255, 255], [255, 255,...    10\n",
              "2  [[[42, 42, 42], [34, 34, 34], [29, 29, 29], [3...    27\n",
              "3  [[[120, 115, 121], [103, 98, 104], [106, 101, ...    80\n",
              "4  [[[243, 28, 98], [241, 24, 95], [239, 17, 90],...     1"
            ]
          },
          "metadata": {},
          "execution_count": 9
        }
      ]
    },
    {
      "cell_type": "code",
      "source": [
        "plt.figure(figsize=(24, 8))\n",
        "plt.hist(df['Ages'], bins= 116)\n",
        "plt.show()"
      ],
      "metadata": {
        "colab": {
          "base_uri": "https://localhost:8080/",
          "height": 359
        },
        "id": "Y6fwcDveCiRH",
        "outputId": "505a1ff5-34be-4442-a014-bb3bcd79e25d"
      },
      "execution_count": null,
      "outputs": [
        {
          "output_type": "display_data",
          "data": {
            "image/png": "[encoded data removed]",
            "text/plain": [
              "<Figure size 1728x576 with 1 Axes>"
            ]
          },
          "metadata": {
            "needs_background": "light"
          }
        }
      ]
    },
    {
      "cell_type": "code",
      "source": [
        "under4 = []\n",
        "\n",
        "for i in range(len(df)):\n",
        "    if df['Ages'].iloc[i] <= 4:\n",
        "        under4.append(df.iloc[i])\n",
        "\n",
        "under4 = pd.DataFrame(under4)\n",
        "under4 = under4.sample(frac= 0.3)\n",
        "\n",
        "up4 = df[df['Ages'] > 4]\n",
        "\n",
        "df = pd.concat([under4, up4])"
      ],
      "metadata": {
        "id": "G_RbvvMWDSXb"
      },
      "execution_count": null,
      "outputs": []
    },
    {
      "cell_type": "code",
      "source": [
        "df = df[df['Ages'] < 90]\n",
        "plt.figure(figsize=(24, 8))\n",
        "plt.hist(df['Ages'], bins= 89)\n",
        "plt.show()"
      ],
      "metadata": {
        "colab": {
          "base_uri": "https://localhost:8080/",
          "height": 361
        },
        "id": "OX7r5YvADUQ1",
        "outputId": "11836b1a-4244-48ef-8e8f-086e47b67f91"
      },
      "execution_count": null,
      "outputs": [
        {
          "output_type": "display_data",
          "data": {
            "image/png": "[encoded data removed]",
            "text/plain": [
              "<Figure size 1728x576 with 1 Axes>"
            ]
          },
          "metadata": {
            "needs_background": "light"
          }
        }
      ]
    },
    {
      "cell_type": "code",
      "source": [
        "X = []\n",
        "Y = []\n",
        "\n",
        "for i in range(len(df)):\n",
        "    df['Images'].iloc[i] = cv2.resize(df['Images'].iloc[i], (width, height))\n",
        "\n",
        "    X.append(df['Images'].iloc[i])\n",
        "    Y.append(df['Ages'].iloc[i])\n",
        "\n",
        "X = np.array(X)\n",
        "Y = np.array(Y)"
      ],
      "metadata": {
        "id": "YhPPOSYBDcQy",
        "colab": {
          "base_uri": "https://localhost:8080/"
        },
        "outputId": "5d8dadbb-1cac-4dde-e165-c0303cf0f5c8"
      },
      "execution_count": 33,
      "outputs": [
        {
          "output_type": "stream",
          "name": "stderr",
          "text": [
            "/usr/local/lib/python3.7/dist-packages/pandas/core/indexing.py:670: SettingWithCopyWarning: \n",
            "A value is trying to be set on a copy of a slice from a DataFrame\n",
            "\n",
            "See the caveats in the documentation: https://pandas.pydata.org/pandas-docs/stable/user_guide/indexing.html#returning-a-view-versus-a-copy\n",
            "  iloc._setitem_with_indexer(indexer, value)\n"
          ]
        }
      ]
    },
    {
      "cell_type": "code",
      "source": [
        "X_train, X_val, Y_train, Y_val = train_test_split(X, Y, test_size = 0.2)"
      ],
      "metadata": {
        "id": "_x7Xctbud_Fr"
      },
      "execution_count": 34,
      "outputs": []
    },
    {
      "cell_type": "markdown",
      "source": [
        "🔸Class"
      ],
      "metadata": {
        "id": "doaPy7DdSySn"
      }
    },
    {
      "cell_type": "code",
      "source": [
        "class MyDataset(torch.utils.data.Dataset):\n",
        "    def __init__(self, X, y, transform=None):\n",
        "        self.data = X\n",
        "        self.target = y\n",
        "        self.transform = transform\n",
        "        \n",
        "    def __getitem__(self, index):\n",
        "        x = self.data[index]\n",
        "        y = self.target[index]\n",
        "\n",
        "        if self.transform:\n",
        "            x = self.transform(x)\n",
        "\n",
        "        return x, y\n",
        "    \n",
        "    def __len__(self):\n",
        "        return len(self.data)"
      ],
      "metadata": {
        "id": "y9ttZaIL7ZwU"
      },
      "execution_count": 35,
      "outputs": []
    },
    {
      "cell_type": "code",
      "metadata": {
        "id": "Dv3e0LcOeKu0"
      },
      "source": [
        "data_transform = transforms.Compose([\n",
        "                                     transforms.ToPILImage(),\n",
        "                                     transforms.Resize((70, 70)),\n",
        "                                     transforms.ToTensor(),\n",
        "                                     transforms.Normalize((0.485, 0.456, 0.406), (0.229, 0.224, 0.225))\n",
        "                                     ])\n",
        "\n",
        "\n",
        "dataset = MyDataset(X_train, Y_train, data_transform)\n",
        "dataset = torch.utils.data.DataLoader(dataset, batch_size = 32)"
      ],
      "execution_count": 36,
      "outputs": []
    },
    {
      "cell_type": "code",
      "metadata": {
        "id": "cXMzd2qDawlp"
      },
      "source": [
        "class Model(nn.Module):\n",
        "    def __init__(self):\n",
        "        super().__init__()\n",
        "        self.conv1 = nn.Conv2d(3, 64, (3, 3), (1, 1), (1, 1))\n",
        "        self.conv2 = nn.Conv2d(64, 128, (3, 3), (1, 1), (1, 1))\n",
        "        self.conv3 = nn.Conv2d(128, 64, (3, 3), (1, 1), (1, 1))\n",
        "        self.conv4 = nn.Conv2d(64, 32, (3, 3), (1, 1), (1, 1))\n",
        "\n",
        "        self.fc1 = nn.Linear(32*17*17, 512)\n",
        "        self.fc2 = nn.Linear(512, 1)\n",
        "\n",
        "\n",
        "    def forward(self, x):\n",
        "      x = F.relu(self.conv1(x))\n",
        "      x = F.relu(self.conv2(x))\n",
        "      x = F.max_pool2d(x, kernel_size=(2, 2))\n",
        "      x = F.relu(self.conv3(x))\n",
        "      x = F.max_pool2d(x, kernel_size=(2, 2))\n",
        "      x = F.relu(self.conv4(x))\n",
        "      x = torch.flatten(x, start_dim=1)\n",
        "      # print(x.shape)\n",
        "      x = F.relu(self.fc1(x))\n",
        "      x = self.fc2(x)\n",
        "      # x = torch.softmax(x, dim=1)\n",
        "\n",
        "      return x"
      ],
      "execution_count": 37,
      "outputs": []
    },
    {
      "cell_type": "code",
      "metadata": {
        "colab": {
          "base_uri": "https://localhost:8080/"
        },
        "id": "njHcZCkkcoJw",
        "outputId": "f3fec87b-985e-4830-feeb-6004d89ed9ec"
      },
      "source": [
        "device = torch.device(\"cuda\")\n",
        "model = Model()\n",
        "model = model.to(device)\n",
        "model.train(True)"
      ],
      "execution_count": 38,
      "outputs": [
        {
          "output_type": "execute_result",
          "data": {
            "text/plain": [
              "Model(\n",
              "  (conv1): Conv2d(3, 64, kernel_size=(3, 3), stride=(1, 1), padding=(1, 1))\n",
              "  (conv2): Conv2d(64, 128, kernel_size=(3, 3), stride=(1, 1), padding=(1, 1))\n",
              "  (conv3): Conv2d(128, 64, kernel_size=(3, 3), stride=(1, 1), padding=(1, 1))\n",
              "  (conv4): Conv2d(64, 32, kernel_size=(3, 3), stride=(1, 1), padding=(1, 1))\n",
              "  (fc1): Linear(in_features=9248, out_features=512, bias=True)\n",
              "  (fc2): Linear(in_features=512, out_features=1, bias=True)\n",
              ")"
            ]
          },
          "metadata": {},
          "execution_count": 38
        }
      ]
    },
    {
      "cell_type": "markdown",
      "source": [
        "🔸Compile"
      ],
      "metadata": {
        "id": "mwxtRmCTDXeo"
      }
    },
    {
      "cell_type": "code",
      "source": [
        "optimizer = torch.optim.Adam(model.parameters(), lr=0.001)\n",
        "loss_function = torch.nn.MSELoss()"
      ],
      "metadata": {
        "id": "lfM5u2iahw9d"
      },
      "execution_count": 39,
      "outputs": []
    },
    {
      "cell_type": "markdown",
      "source": [
        "🔸Train"
      ],
      "metadata": {
        "id": "f4ZgZXurecbm"
      }
    },
    {
      "cell_type": "code",
      "metadata": {
        "id": "Pu_jPhbwk9BE",
        "colab": {
          "base_uri": "https://localhost:8080/"
        },
        "outputId": "b9c5b531-ae08-4329-c39f-d88ffbe77d81"
      },
      "source": [
        "for ep in range(epoch):\n",
        "    train_loss = 0.0\n",
        "\n",
        "    for im, labels in tqdm(dataset):\n",
        "        im = im.to(device)\n",
        "        labels = labels.to(device)\n",
        "        optimizer.zero_grad()\n",
        "        #forwarding\n",
        "        y_hat = model(im)\n",
        "\n",
        "        #backwarding\n",
        "        loss = loss_function(y_hat,labels.float())\n",
        "        loss.backward()\n",
        "\n",
        "        #update\n",
        "        optimizer.step()\n",
        "\n",
        "        train_loss += loss\n",
        "\n",
        "    total_loss  =  train_loss/len(dataset)\n",
        "\n",
        "    print(f\"epoch:{ep} , Loss:{total_loss}\")\n",
        "\n",
        "    # wandb.log({'epochs': ep,\n",
        "    #   'train_loss': total_loss})"
      ],
      "execution_count": 40,
      "outputs": [
        {
          "output_type": "stream",
          "name": "stderr",
          "text": [
            "  0%|          | 0/189 [00:00<?, ?it/s]/usr/local/lib/python3.7/dist-packages/torch/nn/modules/loss.py:520: UserWarning: Using a target size (torch.Size([32])) that is different to the input size (torch.Size([32, 1])). This will likely lead to incorrect results due to broadcasting. Please ensure they have the same size.\n",
            "  return F.mse_loss(input, target, reduction=self.reduction)\n",
            " 99%|█████████▉| 188/189 [00:13<00:00, 13.94it/s]/usr/local/lib/python3.7/dist-packages/torch/nn/modules/loss.py:520: UserWarning: Using a target size (torch.Size([12])) that is different to the input size (torch.Size([12, 1])). This will likely lead to incorrect results due to broadcasting. Please ensure they have the same size.\n",
            "  return F.mse_loss(input, target, reduction=self.reduction)\n",
            "100%|██████████| 189/189 [00:13<00:00, 13.82it/s]\n"
          ]
        },
        {
          "output_type": "stream",
          "name": "stdout",
          "text": [
            "epoch:0 , Loss:589.35791015625\n"
          ]
        },
        {
          "output_type": "stream",
          "name": "stderr",
          "text": [
            "100%|██████████| 189/189 [00:13<00:00, 13.97it/s]\n"
          ]
        },
        {
          "output_type": "stream",
          "name": "stdout",
          "text": [
            "epoch:1 , Loss:542.8445434570312\n"
          ]
        },
        {
          "output_type": "stream",
          "name": "stderr",
          "text": [
            "100%|██████████| 189/189 [00:13<00:00, 13.97it/s]\n"
          ]
        },
        {
          "output_type": "stream",
          "name": "stdout",
          "text": [
            "epoch:2 , Loss:539.27294921875\n"
          ]
        },
        {
          "output_type": "stream",
          "name": "stderr",
          "text": [
            "100%|██████████| 189/189 [00:13<00:00, 13.95it/s]\n"
          ]
        },
        {
          "output_type": "stream",
          "name": "stdout",
          "text": [
            "epoch:3 , Loss:532.5548095703125\n"
          ]
        },
        {
          "output_type": "stream",
          "name": "stderr",
          "text": [
            "100%|██████████| 189/189 [00:13<00:00, 13.96it/s]\n"
          ]
        },
        {
          "output_type": "stream",
          "name": "stdout",
          "text": [
            "epoch:4 , Loss:530.9267578125\n"
          ]
        },
        {
          "output_type": "stream",
          "name": "stderr",
          "text": [
            "100%|██████████| 189/189 [00:13<00:00, 13.93it/s]\n"
          ]
        },
        {
          "output_type": "stream",
          "name": "stdout",
          "text": [
            "epoch:5 , Loss:530.9439086914062\n"
          ]
        },
        {
          "output_type": "stream",
          "name": "stderr",
          "text": [
            "100%|██████████| 189/189 [00:13<00:00, 13.92it/s]\n"
          ]
        },
        {
          "output_type": "stream",
          "name": "stdout",
          "text": [
            "epoch:6 , Loss:530.90625\n"
          ]
        },
        {
          "output_type": "stream",
          "name": "stderr",
          "text": [
            "100%|██████████| 189/189 [00:13<00:00, 13.63it/s]\n"
          ]
        },
        {
          "output_type": "stream",
          "name": "stdout",
          "text": [
            "epoch:7 , Loss:530.8876953125\n"
          ]
        },
        {
          "output_type": "stream",
          "name": "stderr",
          "text": [
            "100%|██████████| 189/189 [00:13<00:00, 13.95it/s]\n"
          ]
        },
        {
          "output_type": "stream",
          "name": "stdout",
          "text": [
            "epoch:8 , Loss:530.8655395507812\n"
          ]
        },
        {
          "output_type": "stream",
          "name": "stderr",
          "text": [
            "100%|██████████| 189/189 [00:13<00:00, 13.92it/s]\n"
          ]
        },
        {
          "output_type": "stream",
          "name": "stdout",
          "text": [
            "epoch:9 , Loss:530.84423828125\n"
          ]
        },
        {
          "output_type": "stream",
          "name": "stderr",
          "text": [
            "100%|██████████| 189/189 [00:13<00:00, 13.92it/s]\n"
          ]
        },
        {
          "output_type": "stream",
          "name": "stdout",
          "text": [
            "epoch:10 , Loss:530.751220703125\n"
          ]
        },
        {
          "output_type": "stream",
          "name": "stderr",
          "text": [
            "100%|██████████| 189/189 [00:13<00:00, 13.93it/s]\n"
          ]
        },
        {
          "output_type": "stream",
          "name": "stdout",
          "text": [
            "epoch:11 , Loss:530.7990112304688\n"
          ]
        },
        {
          "output_type": "stream",
          "name": "stderr",
          "text": [
            "100%|██████████| 189/189 [00:14<00:00, 13.37it/s]\n"
          ]
        },
        {
          "output_type": "stream",
          "name": "stdout",
          "text": [
            "epoch:12 , Loss:530.8528442382812\n"
          ]
        },
        {
          "output_type": "stream",
          "name": "stderr",
          "text": [
            "100%|██████████| 189/189 [00:13<00:00, 13.94it/s]\n"
          ]
        },
        {
          "output_type": "stream",
          "name": "stdout",
          "text": [
            "epoch:13 , Loss:530.929443359375\n"
          ]
        },
        {
          "output_type": "stream",
          "name": "stderr",
          "text": [
            "100%|██████████| 189/189 [00:13<00:00, 13.95it/s]"
          ]
        },
        {
          "output_type": "stream",
          "name": "stdout",
          "text": [
            "epoch:14 , Loss:530.8309326171875\n"
          ]
        },
        {
          "output_type": "stream",
          "name": "stderr",
          "text": [
            "\n"
          ]
        }
      ]
    },
    {
      "cell_type": "markdown",
      "source": [
        "🔸Save weights"
      ],
      "metadata": {
        "id": "thx4D3-weica"
      }
    },
    {
      "cell_type": "code",
      "metadata": {
        "id": "td8o6472otgp"
      },
      "source": [
        "torch.save(model.state_dict(), \"age-estimating-torch.pth\")"
      ],
      "execution_count": null,
      "outputs": []
    },
    {
      "cell_type": "markdown",
      "source": [
        "🔸Inference"
      ],
      "metadata": {
        "id": "vFwufs4nepti"
      }
    },
    {
      "cell_type": "code",
      "metadata": {
        "id": "GbEbtfSCpE7Z"
      },
      "source": [
        ""
      ],
      "execution_count": null,
      "outputs": []
    }
  ]
}