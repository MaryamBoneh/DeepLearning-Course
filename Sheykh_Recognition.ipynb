{
  "nbformat": 4,
  "nbformat_minor": 0,
  "metadata": {
    "colab": {
      "name": "Sheykh-Recognition.ipynb",
      "provenance": []
    },
    "kernelspec": {
      "name": "python3",
      "display_name": "Python 3"
    },
    "language_info": {
      "name": "python"
    },
    "accelerator": "GPU"
  },
  "cells": [
    {
      "cell_type": "code",
      "metadata": {
        "id": "JUtLSegNRpca"
      },
      "source": [
        "import numpy as np\n",
        "import tensorflow as tf\n",
        "from tensorflow.keras.preprocessing.image import ImageDataGenerator\n",
        "from matplotlib import pyplot as plt\n",
        "from tensorflow.keras.layers import Dense, MaxPool2D, Conv2D, Flatten\n",
        "from tensorflow.keras.optimizers import SGD, Adam"
      ],
      "execution_count": 24,
      "outputs": []
    },
    {
      "cell_type": "code",
      "metadata": {
        "colab": {
          "base_uri": "https://localhost:8080/"
        },
        "id": "6uP8c3OPwIJs",
        "outputId": "944ed2ff-6a2d-4e13-9c86-4106d867d7f4"
      },
      "source": [
        "data_generator = ImageDataGenerator(\n",
        "    rescale = 1 / 255,\n",
        "    validation_split = 0.2,\n",
        ")\n",
        "train_data = data_generator.flow_from_directory('/content/drive/MyDrive/Datasets/Sheykh-Recognition/',\n",
        "                                                    target_size = (224, 224),\n",
        "                                                    class_mode = 'categorical',)"
      ],
      "execution_count": 28,
      "outputs": [
        {
          "output_type": "stream",
          "name": "stdout",
          "text": [
            "Found 155 images belonging to 2 classes.\n"
          ]
        }
      ]
    },
    {
      "cell_type": "code",
      "metadata": {
        "id": "Z_-N2D2D2AEr"
      },
      "source": [
        "width = 224\n",
        "height = 224"
      ],
      "execution_count": 29,
      "outputs": []
    },
    {
      "cell_type": "code",
      "metadata": {
        "id": "iG2C6EzXyxg0"
      },
      "source": [
        "model = tf.keras.models.Sequential([\n",
        "         Conv2D(32, (3, 3), activation='relu', input_shape = (width, height, 3)),\n",
        "         Conv2D(32, (3, 3), activation='relu'),\n",
        "         MaxPool2D((2, 2)),\n",
        "         Conv2D(32, (3, 3), activation='relu'),\n",
        "         Conv2D(32, (3, 3), activation='relu'),\n",
        "         MaxPool2D((2, 2)),\n",
        "         Conv2D(64, (3, 3), activation='relu'),\n",
        "         Conv2D(64, (3, 3), activation='relu'),\n",
        "         MaxPool2D((2, 2)),\n",
        "         Conv2D(64, (3, 3), activation='relu'),\n",
        "         Conv2D(64, (3, 3), activation='relu'),\n",
        "         MaxPool2D((2, 2)),\n",
        "         Flatten(),\n",
        "         Dense(128, activation='relu'),\n",
        "         Dense(32, activation='relu'),\n",
        "         Dense(2, activation='softmax')                          \n",
        "])\n"
      ],
      "execution_count": 30,
      "outputs": []
    },
    {
      "cell_type": "code",
      "metadata": {
        "colab": {
          "base_uri": "https://localhost:8080/"
        },
        "id": "n7BeVPSM1n52",
        "outputId": "fb815df7-41aa-47e7-bf02-a9f92927078b"
      },
      "source": [
        "model.summary()"
      ],
      "execution_count": 31,
      "outputs": [
        {
          "output_type": "stream",
          "name": "stdout",
          "text": [
            "Model: \"sequential_6\"\n",
            "_________________________________________________________________\n",
            "Layer (type)                 Output Shape              Param #   \n",
            "=================================================================\n",
            "conv2d_48 (Conv2D)           (None, 222, 222, 32)      896       \n",
            "_________________________________________________________________\n",
            "conv2d_49 (Conv2D)           (None, 220, 220, 32)      9248      \n",
            "_________________________________________________________________\n",
            "max_pooling2d_24 (MaxPooling (None, 110, 110, 32)      0         \n",
            "_________________________________________________________________\n",
            "conv2d_50 (Conv2D)           (None, 108, 108, 32)      9248      \n",
            "_________________________________________________________________\n",
            "conv2d_51 (Conv2D)           (None, 106, 106, 32)      9248      \n",
            "_________________________________________________________________\n",
            "max_pooling2d_25 (MaxPooling (None, 53, 53, 32)        0         \n",
            "_________________________________________________________________\n",
            "conv2d_52 (Conv2D)           (None, 51, 51, 64)        18496     \n",
            "_________________________________________________________________\n",
            "conv2d_53 (Conv2D)           (None, 49, 49, 64)        36928     \n",
            "_________________________________________________________________\n",
            "max_pooling2d_26 (MaxPooling (None, 24, 24, 64)        0         \n",
            "_________________________________________________________________\n",
            "conv2d_54 (Conv2D)           (None, 22, 22, 64)        36928     \n",
            "_________________________________________________________________\n",
            "conv2d_55 (Conv2D)           (None, 20, 20, 64)        36928     \n",
            "_________________________________________________________________\n",
            "max_pooling2d_27 (MaxPooling (None, 10, 10, 64)        0         \n",
            "_________________________________________________________________\n",
            "flatten_6 (Flatten)          (None, 6400)              0         \n",
            "_________________________________________________________________\n",
            "dense_18 (Dense)             (None, 128)               819328    \n",
            "_________________________________________________________________\n",
            "dense_19 (Dense)             (None, 32)                4128      \n",
            "_________________________________________________________________\n",
            "dense_20 (Dense)             (None, 2)                 66        \n",
            "=================================================================\n",
            "Total params: 981,442\n",
            "Trainable params: 981,442\n",
            "Non-trainable params: 0\n",
            "_________________________________________________________________\n"
          ]
        }
      ]
    },
    {
      "cell_type": "code",
      "metadata": {
        "id": "AYXWdiOg1qtQ"
      },
      "source": [
        "model.compile(optimizer=tf.keras.optimizers.SGD(),\n",
        "              loss=tf.keras.losses.binary_crossentropy,\n",
        "              metrics='accuracy')"
      ],
      "execution_count": 32,
      "outputs": []
    },
    {
      "cell_type": "code",
      "metadata": {
        "colab": {
          "base_uri": "https://localhost:8080/"
        },
        "id": "v_mA68m03yKm",
        "outputId": "1907a6fa-5794-47c0-c596-21753f7369f0"
      },
      "source": [
        "model.fit(train_data, epochs=50)"
      ],
      "execution_count": 34,
      "outputs": [
        {
          "output_type": "stream",
          "name": "stdout",
          "text": [
            "Epoch 1/50\n",
            "5/5 [==============================] - 59s 14s/step - loss: 0.6932 - accuracy: 0.5097\n",
            "Epoch 2/50\n",
            "5/5 [==============================] - 2s 402ms/step - loss: 0.6931 - accuracy: 0.4968\n",
            "Epoch 3/50\n",
            "5/5 [==============================] - 2s 388ms/step - loss: 0.6929 - accuracy: 0.5161\n",
            "Epoch 4/50\n",
            "5/5 [==============================] - 2s 397ms/step - loss: 0.6929 - accuracy: 0.5226\n",
            "Epoch 5/50\n",
            "5/5 [==============================] - 2s 389ms/step - loss: 0.6929 - accuracy: 0.5548\n",
            "Epoch 6/50\n",
            "5/5 [==============================] - 2s 394ms/step - loss: 0.6926 - accuracy: 0.5935\n",
            "Epoch 7/50\n",
            "5/5 [==============================] - 2s 400ms/step - loss: 0.6925 - accuracy: 0.6129\n",
            "Epoch 8/50\n",
            "5/5 [==============================] - 2s 357ms/step - loss: 0.6924 - accuracy: 0.6000\n",
            "Epoch 9/50\n",
            "5/5 [==============================] - 2s 366ms/step - loss: 0.6924 - accuracy: 0.6581\n",
            "Epoch 10/50\n",
            "5/5 [==============================] - 2s 374ms/step - loss: 0.6923 - accuracy: 0.6710\n",
            "Epoch 11/50\n",
            "5/5 [==============================] - 2s 407ms/step - loss: 0.6922 - accuracy: 0.6903\n",
            "Epoch 12/50\n",
            "5/5 [==============================] - 2s 420ms/step - loss: 0.6921 - accuracy: 0.6516\n",
            "Epoch 13/50\n",
            "5/5 [==============================] - 2s 392ms/step - loss: 0.6920 - accuracy: 0.7226\n",
            "Epoch 14/50\n",
            "5/5 [==============================] - 2s 417ms/step - loss: 0.6920 - accuracy: 0.6645\n",
            "Epoch 15/50\n",
            "5/5 [==============================] - 2s 376ms/step - loss: 0.6919 - accuracy: 0.6581\n",
            "Epoch 16/50\n",
            "5/5 [==============================] - 2s 405ms/step - loss: 0.6919 - accuracy: 0.6839\n",
            "Epoch 17/50\n",
            "5/5 [==============================] - 2s 374ms/step - loss: 0.6917 - accuracy: 0.6774\n",
            "Epoch 18/50\n",
            "5/5 [==============================] - 2s 401ms/step - loss: 0.6917 - accuracy: 0.6968\n",
            "Epoch 19/50\n",
            "5/5 [==============================] - 2s 376ms/step - loss: 0.6917 - accuracy: 0.7548\n",
            "Epoch 20/50\n",
            "5/5 [==============================] - 2s 383ms/step - loss: 0.6916 - accuracy: 0.7161\n",
            "Epoch 21/50\n",
            "5/5 [==============================] - 2s 379ms/step - loss: 0.6914 - accuracy: 0.7097\n",
            "Epoch 22/50\n",
            "5/5 [==============================] - 2s 388ms/step - loss: 0.6914 - accuracy: 0.6774\n",
            "Epoch 23/50\n",
            "5/5 [==============================] - 2s 417ms/step - loss: 0.6913 - accuracy: 0.7419\n",
            "Epoch 24/50\n",
            "5/5 [==============================] - 2s 416ms/step - loss: 0.6913 - accuracy: 0.6452\n",
            "Epoch 25/50\n",
            "5/5 [==============================] - 2s 403ms/step - loss: 0.6911 - accuracy: 0.6258\n",
            "Epoch 26/50\n",
            "5/5 [==============================] - 2s 372ms/step - loss: 0.6912 - accuracy: 0.7161\n",
            "Epoch 27/50\n",
            "5/5 [==============================] - 2s 411ms/step - loss: 0.6910 - accuracy: 0.6516\n",
            "Epoch 28/50\n",
            "5/5 [==============================] - 2s 400ms/step - loss: 0.6910 - accuracy: 0.7032\n",
            "Epoch 29/50\n",
            "5/5 [==============================] - 2s 371ms/step - loss: 0.6908 - accuracy: 0.6839\n",
            "Epoch 30/50\n",
            "5/5 [==============================] - 2s 395ms/step - loss: 0.6907 - accuracy: 0.6065\n",
            "Epoch 31/50\n",
            "5/5 [==============================] - 2s 410ms/step - loss: 0.6906 - accuracy: 0.6194\n",
            "Epoch 32/50\n",
            "5/5 [==============================] - 2s 374ms/step - loss: 0.6906 - accuracy: 0.6581\n",
            "Epoch 33/50\n",
            "5/5 [==============================] - 2s 418ms/step - loss: 0.6905 - accuracy: 0.6065\n",
            "Epoch 34/50\n",
            "5/5 [==============================] - 2s 412ms/step - loss: 0.6905 - accuracy: 0.7290\n",
            "Epoch 35/50\n",
            "5/5 [==============================] - 2s 391ms/step - loss: 0.6903 - accuracy: 0.5677\n",
            "Epoch 36/50\n",
            "5/5 [==============================] - 2s 408ms/step - loss: 0.6902 - accuracy: 0.6129\n",
            "Epoch 37/50\n",
            "5/5 [==============================] - 2s 350ms/step - loss: 0.6902 - accuracy: 0.5613\n",
            "Epoch 38/50\n",
            "5/5 [==============================] - 2s 387ms/step - loss: 0.6899 - accuracy: 0.6387\n",
            "Epoch 39/50\n",
            "5/5 [==============================] - 2s 406ms/step - loss: 0.6900 - accuracy: 0.5548\n",
            "Epoch 40/50\n",
            "5/5 [==============================] - 2s 402ms/step - loss: 0.6897 - accuracy: 0.6581\n",
            "Epoch 41/50\n",
            "5/5 [==============================] - 2s 402ms/step - loss: 0.6896 - accuracy: 0.6129\n",
            "Epoch 42/50\n",
            "5/5 [==============================] - 2s 402ms/step - loss: 0.6897 - accuracy: 0.6194\n",
            "Epoch 43/50\n",
            "5/5 [==============================] - 2s 370ms/step - loss: 0.6894 - accuracy: 0.6000\n",
            "Epoch 44/50\n",
            "5/5 [==============================] - 2s 414ms/step - loss: 0.6893 - accuracy: 0.5742\n",
            "Epoch 45/50\n",
            "5/5 [==============================] - 2s 400ms/step - loss: 0.6892 - accuracy: 0.6258\n",
            "Epoch 46/50\n",
            "5/5 [==============================] - 2s 377ms/step - loss: 0.6891 - accuracy: 0.6581\n",
            "Epoch 47/50\n",
            "5/5 [==============================] - 2s 421ms/step - loss: 0.6890 - accuracy: 0.6129\n",
            "Epoch 48/50\n",
            "5/5 [==============================] - 2s 380ms/step - loss: 0.6887 - accuracy: 0.6710\n",
            "Epoch 49/50\n",
            "5/5 [==============================] - 2s 393ms/step - loss: 0.6886 - accuracy: 0.6258\n",
            "Epoch 50/50\n",
            "5/5 [==============================] - 2s 393ms/step - loss: 0.6884 - accuracy: 0.6581\n"
          ]
        },
        {
          "output_type": "execute_result",
          "data": {
            "text/plain": [
              "<keras.callbacks.History at 0x7f6e0cb93310>"
            ]
          },
          "metadata": {},
          "execution_count": 34
        }
      ]
    }
  ]
}