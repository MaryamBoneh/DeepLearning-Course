{
  "nbformat": 4,
  "nbformat_minor": 0,
  "metadata": {
    "colab": {
      "name": "Fashion-MNIST.ipynb",
      "provenance": []
    },
    "kernelspec": {
      "name": "python3",
      "display_name": "Python 3"
    },
    "language_info": {
      "name": "python"
    },
    "accelerator": "GPU"
  },
  "cells": [
    {
      "cell_type": "code",
      "source": [
        "!pip install wandb"
      ],
      "metadata": {
        "id": "ex_y8VnZBhm2"
      },
      "execution_count": null,
      "outputs": []
    },
    {
      "cell_type": "code",
      "metadata": {
        "id": "ktwrEJluan72"
      },
      "source": [
        "import torch, torchvision, wandb"
      ],
      "execution_count": 3,
      "outputs": []
    },
    {
      "cell_type": "markdown",
      "source": [
        "🔸wandb config"
      ],
      "metadata": {
        "id": "GHVk7hVGSr41"
      }
    },
    {
      "cell_type": "code",
      "source": [
        "configs = {\n",
        "            \"learning_rate\": 0.001,\n",
        "            \"epochs\": 20,\n",
        "            \"batch_size\": 64,\n",
        "           }\n",
        "\n",
        "wandb.init(project=\"Fashion-MNIST-by-Torch\", config=configs)\n",
        "config = wandb.config\n"
      ],
      "metadata": {
        "id": "52uLIDiTCDDM",
        "colab": {
          "base_uri": "https://localhost:8080/",
          "height": 104
        },
        "outputId": "d14f78a7-cfec-4514-dd70-b2ec40cde612"
      },
      "execution_count": 4,
      "outputs": [
        {
          "output_type": "display_data",
          "data": {
            "application/javascript": [
              "\n",
              "        window._wandbApiKey = new Promise((resolve, reject) => {\n",
              "            function loadScript(url) {\n",
              "            return new Promise(function(resolve, reject) {\n",
              "                let newScript = document.createElement(\"script\");\n",
              "                newScript.onerror = reject;\n",
              "                newScript.onload = resolve;\n",
              "                document.body.appendChild(newScript);\n",
              "                newScript.src = url;\n",
              "            });\n",
              "            }\n",
              "            loadScript(\"https://cdn.jsdelivr.net/npm/postmate/build/postmate.min.js\").then(() => {\n",
              "            const iframe = document.createElement('iframe')\n",
              "            iframe.style.cssText = \"width:0;height:0;border:none\"\n",
              "            document.body.appendChild(iframe)\n",
              "            const handshake = new Postmate({\n",
              "                container: iframe,\n",
              "                url: 'https://wandb.ai/authorize'\n",
              "            });\n",
              "            const timeout = setTimeout(() => reject(\"Couldn't auto authenticate\"), 5000)\n",
              "            handshake.then(function(child) {\n",
              "                child.on('authorize', data => {\n",
              "                    clearTimeout(timeout)\n",
              "                    resolve(data)\n",
              "                });\n",
              "            });\n",
              "            })\n",
              "        });\n",
              "    "
            ],
            "text/plain": [
              "<IPython.core.display.Javascript object>"
            ]
          },
          "metadata": {}
        },
        {
          "output_type": "stream",
          "name": "stderr",
          "text": [
            "\u001b[34m\u001b[1mwandb\u001b[0m: You can find your API key in your browser here: https://wandb.ai/authorize\n"
          ]
        },
        {
          "name": "stdout",
          "output_type": "stream",
          "text": [
            "wandb: Paste an API key from your profile and hit enter, or press ctrl+c to quit: ··········\n"
          ]
        },
        {
          "output_type": "stream",
          "name": "stderr",
          "text": [
            "\u001b[34m\u001b[1mwandb\u001b[0m: Appending key for api.wandb.ai to your netrc file: /root/.netrc\n"
          ]
        },
        {
          "output_type": "display_data",
          "data": {
            "text/html": [
              "\n",
              "                    Syncing run <strong><a href=\"https://wandb.ai/maryamboneh/Fashion-MNIST-by-Torch/runs/1vutdfpb\" target=\"_blank\">scarlet-field-8</a></strong> to <a href=\"https://wandb.ai/maryamboneh/Fashion-MNIST-by-Torch\" target=\"_blank\">Weights & Biases</a> (<a href=\"https://docs.wandb.com/integrations/jupyter.html\" target=\"_blank\">docs</a>).<br/>\n",
              "\n",
              "                "
            ],
            "text/plain": [
              "<IPython.core.display.HTML object>"
            ]
          },
          "metadata": {}
        }
      ]
    },
    {
      "cell_type": "markdown",
      "source": [
        "🔸Class"
      ],
      "metadata": {
        "id": "doaPy7DdSySn"
      }
    },
    {
      "cell_type": "code",
      "metadata": {
        "id": "cXMzd2qDawlp"
      },
      "source": [
        "class mnist_classifire(torch.nn.Module):\n",
        "    def __init__(self):\n",
        "        super().__init__()\n",
        "        self.L1=torch.nn.Linear(784,256)\n",
        "        self.L2=torch.nn.Linear(256,64)\n",
        "        self.L3=torch.nn.Linear(64,10)\n",
        "        # self.L4=torch.nn.Linear(128,10)\n",
        "\n",
        "\n",
        "    def forward(self,x):\n",
        "        x = x.reshape((x.shape[0],784))\n",
        "\n",
        "        z = self.L1(x)\n",
        "        z = torch.relu(z)\n",
        "        z = torch.dropout(z,0.2,train = True)\n",
        "\n",
        "        z = self.L2(z)\n",
        "        z = torch.relu(z)\n",
        "        z = torch.dropout(z,0.2,train = True)\n",
        "        z = self.L3(z)\n",
        "        # z = torch.relu(z)\n",
        "        # z = torch.dropout(z,0.2,train = True)\n",
        "\n",
        "        y = torch.softmax(z,dim = 1)\n",
        "        return y\n"
      ],
      "execution_count": 5,
      "outputs": []
    },
    {
      "cell_type": "code",
      "metadata": {
        "colab": {
          "base_uri": "https://localhost:8080/"
        },
        "id": "njHcZCkkcoJw",
        "outputId": "c781cc38-a5b6-4da7-f09c-fed6d551bd22"
      },
      "source": [
        "device=torch.device(\"cuda\")\n",
        "model=mnist_classifire()\n",
        "model=model.to(device)\n",
        "model.train(True)"
      ],
      "execution_count": 6,
      "outputs": [
        {
          "output_type": "execute_result",
          "data": {
            "text/plain": [
              "mnist_classifire(\n",
              "  (L1): Linear(in_features=784, out_features=256, bias=True)\n",
              "  (L2): Linear(in_features=256, out_features=64, bias=True)\n",
              "  (L3): Linear(in_features=64, out_features=10, bias=True)\n",
              ")"
            ]
          },
          "metadata": {},
          "execution_count": 6
        }
      ]
    },
    {
      "cell_type": "code",
      "metadata": {
        "id": "YFcIKXlLd6eJ"
      },
      "source": [
        "batch=64\n",
        "epoch=20\n",
        "lr=0.001"
      ],
      "execution_count": 7,
      "outputs": []
    },
    {
      "cell_type": "code",
      "metadata": {
        "id": "Dv3e0LcOeKu0"
      },
      "source": [
        "data_transform=torchvision.transforms.Compose(\n",
        "    [torchvision.transforms.ToTensor(),\n",
        "     torchvision.transforms.Normalize((0),(1))]\n",
        ")\n",
        "dataset = torchvision.datasets.FashionMNIST(\"./dataset\",train=True,download=True,transform=data_transform)"
      ],
      "execution_count": null,
      "outputs": []
    },
    {
      "cell_type": "code",
      "metadata": {
        "id": "gvbYC94peue7"
      },
      "source": [
        "train_data = torch.utils.data.DataLoader(dataset,batch_size=batch,shuffle=True)"
      ],
      "execution_count": 9,
      "outputs": []
    },
    {
      "cell_type": "code",
      "metadata": {
        "id": "B1sgzzzKgfCZ"
      },
      "source": [
        "optimizer = torch.optim.Adam(model.parameters(),lr=lr)\n",
        "loss_func = torch.nn.CrossEntropyLoss()"
      ],
      "execution_count": 10,
      "outputs": []
    },
    {
      "cell_type": "code",
      "metadata": {
        "id": "crJ2a5c8m97z"
      },
      "source": [
        "def cal_acc(y_hat,labels):\n",
        "    _,y_hat_max=torch.max(y_hat,1)\n",
        "    acc=torch.sum(y_hat_max==labels.data,dtype=torch.float64)/len(y_hat)\n",
        "    return acc\n"
      ],
      "execution_count": 11,
      "outputs": []
    },
    {
      "cell_type": "markdown",
      "source": [
        "🔸Train"
      ],
      "metadata": {
        "id": "f4ZgZXurecbm"
      }
    },
    {
      "cell_type": "code",
      "metadata": {
        "colab": {
          "base_uri": "https://localhost:8080/"
        },
        "id": "Pu_jPhbwk9BE",
        "outputId": "825aec35-46c0-4144-a10e-322e113b1e5c"
      },
      "source": [
        "for ep in range(epoch):\n",
        "    train_loss = 0.0\n",
        "    train_acc = 0.0\n",
        "\n",
        "    for im,labels in train_data:\n",
        "        im = im.to(device)\n",
        "        labels = labels.to(device)\n",
        "        optimizer.zero_grad()\n",
        "        #forwarding\n",
        "        y_hat = model(im)\n",
        "\n",
        "        #backwarding\n",
        "        loss = loss_func(y_hat,labels)\n",
        "        loss.backward()\n",
        "\n",
        "        #update\n",
        "        optimizer.step()\n",
        "\n",
        "        train_loss += loss\n",
        "        train_acc += cal_acc(y_hat,labels)\n",
        "\n",
        "    total_loss  =  train_loss/len(train_data)\n",
        "    total_acc  =  train_acc/len(train_data)\n",
        "\n",
        "    print(f\"epoch:{ep} , Loss:{total_loss} , accuracy: {total_acc}\")\n",
        "\n",
        "    wandb.log({'epochs': ep,\n",
        "      'train_acc': total_acc,\n",
        "      'train_loss': total_loss})"
      ],
      "execution_count": 12,
      "outputs": [
        {
          "output_type": "stream",
          "name": "stdout",
          "text": [
            "epoch:0 , Loss:1.7531177997589111 , accuracy: 0.716667777185501\n",
            "epoch:1 , Loss:1.6879041194915771 , accuracy: 0.7742537313432836\n",
            "epoch:2 , Loss:1.676600456237793 , accuracy: 0.7850146588486141\n",
            "epoch:3 , Loss:1.67072331905365 , accuracy: 0.7903951226012793\n",
            "epoch:4 , Loss:1.6566162109375 , accuracy: 0.8045209221748401\n",
            "epoch:5 , Loss:1.6131056547164917 , accuracy: 0.8483808635394456\n",
            "epoch:6 , Loss:1.6024943590164185 , accuracy: 0.8587586620469083\n",
            "epoch:7 , Loss:1.599894642829895 , accuracy: 0.8608908582089552\n",
            "epoch:8 , Loss:1.5989927053451538 , accuracy: 0.8617903784648188\n",
            "epoch:9 , Loss:1.5939756631851196 , accuracy: 0.867070895522388\n",
            "epoch:10 , Loss:1.593204140663147 , accuracy: 0.8675373134328358\n",
            "epoch:11 , Loss:1.5915418863296509 , accuracy: 0.8695529051172708\n",
            "epoch:12 , Loss:1.5911359786987305 , accuracy: 0.8696028784648188\n",
            "epoch:13 , Loss:1.5882819890975952 , accuracy: 0.8728011727078892\n",
            "epoch:14 , Loss:1.5869977474212646 , accuracy: 0.8736340618336886\n",
            "epoch:15 , Loss:1.5863587856292725 , accuracy: 0.8745169243070362\n",
            "epoch:16 , Loss:1.5871267318725586 , accuracy: 0.8734508262260128\n",
            "epoch:17 , Loss:1.5858442783355713 , accuracy: 0.8747334754797441\n",
            "epoch:18 , Loss:1.5830879211425781 , accuracy: 0.8777318763326226\n",
            "epoch:19 , Loss:1.5838510990142822 , accuracy: 0.8767490671641791\n"
          ]
        }
      ]
    },
    {
      "cell_type": "markdown",
      "source": [
        "🔸Save weights"
      ],
      "metadata": {
        "id": "thx4D3-weica"
      }
    },
    {
      "cell_type": "code",
      "metadata": {
        "id": "td8o6472otgp"
      },
      "source": [
        "torch.save(model.state_dict(), \"fashion-mnist.pth\")"
      ],
      "execution_count": 13,
      "outputs": []
    },
    {
      "cell_type": "code",
      "metadata": {
        "id": "dprT4WW8pxRj"
      },
      "source": [
        "import cv2\n",
        "import numpy as np"
      ],
      "execution_count": 14,
      "outputs": []
    },
    {
      "cell_type": "markdown",
      "source": [
        "🔸Inference"
      ],
      "metadata": {
        "id": "vFwufs4nepti"
      }
    },
    {
      "cell_type": "code",
      "metadata": {
        "colab": {
          "base_uri": "https://localhost:8080/"
        },
        "id": "GbEbtfSCpE7Z",
        "outputId": "82ebb873-6a3c-4209-ae23-d5e9102c6a43"
      },
      "source": [
        "model.eval()\n",
        "\n",
        "img=cv2.imread(\"shirt.png\")\n",
        "img=cv2.cvtColor(img,cv2.COLOR_BGR2GRAY)\n",
        "img=cv2.resize(img,(28,28))\n",
        "tensor=data_transform(img).unsqueeze(0).to(device)\n",
        "\n",
        "y_hat=model(tensor)\n",
        "\n",
        "y_hat=y_hat.cpu().detach().numpy()\n",
        "output=np.argmax(y_hat)\n",
        "output"
      ],
      "execution_count": 15,
      "outputs": [
        {
          "output_type": "execute_result",
          "data": {
            "text/plain": [
              "2"
            ]
          },
          "metadata": {},
          "execution_count": 15
        }
      ]
    }
  ]
}